{
 "cells": [
  {
   "cell_type": "markdown",
   "metadata": {},
   "source": [
    "# Chapter 1\n",
    "\n",
    "<a target=\"_blank\" href=\"https://colab.research.google.com/github/wandb/edu/blob/main/rag-advanced/notebooks/Chapter01.ipynb\">\n",
    "  <img src=\"https://colab.research.google.com/assets/colab-badge.svg\" alt=\"Open In Colab\"/>\n",
    "</a>\n",
    "\n",
    "<!--- @wandbcode{rag-course-01} -->\n",
    "\n",
    "In this chapter, we will learn about building a simple RAG pipeline. We will mainly focus on how to preprocess and chunk the data followed by building a simple retrieval engine without using any fancy \"Vector Index\". The idea is to show the inner working of a retrieval pipeline and make you understand the workflow from a user query to a generated response using an LLM.\n",
    "\n",
    "For this chapter you will need a Cohere API key and a Weights & Biases account. Run the next cell to pull the github repo and install the dependencies."
   ]
  },
  {
   "cell_type": "code",
   "execution_count": 1,
   "metadata": {},
   "outputs": [],
   "source": [
    "from rich import print"
   ]
  },
  {
   "cell_type": "code",
   "execution_count": 2,
   "metadata": {},
   "outputs": [
    {
     "name": "stderr",
     "output_type": "stream",
     "text": [
      "[nltk_data] Downloading package wordnet to\n",
      "[nltk_data]     /home/elshehawy/nltk_data...\n",
      "[nltk_data]   Package wordnet is already up-to-date!\n"
     ]
    },
    {
     "data": {
      "text/plain": [
       "True"
      ]
     },
     "execution_count": 2,
     "metadata": {},
     "output_type": "execute_result"
    }
   ],
   "source": [
    "import nltk\n",
    "\n",
    "nltk.download(\"wordnet\")"
   ]
  },
  {
   "cell_type": "markdown",
   "metadata": {},
   "source": [
    "Now we are ready to start the chapter.\n",
    "\n",
    "We will start by logging into Weights & Biases and setup the API keys in the environment. You should be able to get your Cohere API key from [here](https://dashboard.cohere.com/api-keys)."
   ]
  },
  {
   "cell_type": "code",
   "execution_count": 3,
   "metadata": {},
   "outputs": [
    {
     "name": "stderr",
     "output_type": "stream",
     "text": [
      "\u001b[34m\u001b[1mwandb\u001b[0m: Using wandb-core as the SDK backend. Please refer to https://wandb.me/wandb-core for more information.\n",
      "\u001b[34m\u001b[1mwandb\u001b[0m: Currently logged in as: \u001b[33melshehawy\u001b[0m. Use \u001b[1m`wandb login --relogin`\u001b[0m to force relogin\n"
     ]
    },
    {
     "data": {
      "text/plain": [
       "True"
      ]
     },
     "execution_count": 3,
     "metadata": {},
     "output_type": "execute_result"
    }
   ],
   "source": [
    "import wandb\n",
    "\n",
    "wandb.login()"
   ]
  },
  {
   "cell_type": "code",
   "execution_count": 4,
   "metadata": {},
   "outputs": [
    {
     "name": "stdout",
     "output_type": "stream",
     "text": [
      "sagemaker.config INFO - Not applying SDK defaults from location: /etc/xdg/sagemaker/config.yaml\n",
      "sagemaker.config INFO - Not applying SDK defaults from location: /home/elshehawy/.config/sagemaker/config.yaml\n"
     ]
    }
   ],
   "source": [
    "import pathlib\n",
    "from typing import List\n",
    "\n",
    "import weave\n",
    "\n",
    "from scripts.utils import display_source"
   ]
  },
  {
   "cell_type": "markdown",
   "metadata": {},
   "source": [
    "Here, we will start a Weights & Biases run. We will be using this to download a [W&B Artifact](https://docs.wandb.ai/guides/artifacts) called `wandb_docs`. This is the raw Weights & Biases documentation. W&B Artifacts is suited for versiong different data sources which needs preprocessing/cleaning."
   ]
  },
  {
   "cell_type": "code",
   "execution_count": 5,
   "metadata": {},
   "outputs": [
    {
     "data": {
      "text/html": [
       "Tracking run with wandb version 0.18.5"
      ],
      "text/plain": [
       "<IPython.core.display.HTML object>"
      ]
     },
     "metadata": {},
     "output_type": "display_data"
    },
    {
     "data": {
      "text/html": [
       "Run data is saved locally in <code>/home/elshehawy/WORK/LEARN/RAG-Plus-Plus/notebooks/wandb/run-20241027_231847-ip5lj85c</code>"
      ],
      "text/plain": [
       "<IPython.core.display.HTML object>"
      ]
     },
     "metadata": {},
     "output_type": "display_data"
    },
    {
     "data": {
      "text/html": [
       "Syncing run <strong><a href='https://wandb.ai/elshehawy/rag-course/runs/ip5lj85c' target=\"_blank\">driven-serenity-4</a></strong> to <a href='https://wandb.ai/elshehawy/rag-course' target=\"_blank\">Weights & Biases</a> (<a href='https://wandb.me/run' target=\"_blank\">docs</a>)<br/>"
      ],
      "text/plain": [
       "<IPython.core.display.HTML object>"
      ]
     },
     "metadata": {},
     "output_type": "display_data"
    },
    {
     "data": {
      "text/html": [
       " View project at <a href='https://wandb.ai/elshehawy/rag-course' target=\"_blank\">https://wandb.ai/elshehawy/rag-course</a>"
      ],
      "text/plain": [
       "<IPython.core.display.HTML object>"
      ]
     },
     "metadata": {},
     "output_type": "display_data"
    },
    {
     "data": {
      "text/html": [
       " View run at <a href='https://wandb.ai/elshehawy/rag-course/runs/ip5lj85c' target=\"_blank\">https://wandb.ai/elshehawy/rag-course/runs/ip5lj85c</a>"
      ],
      "text/plain": [
       "<IPython.core.display.HTML object>"
      ]
     },
     "metadata": {},
     "output_type": "display_data"
    }
   ],
   "source": [
    "WANDB_PROJECT = \"rag-course\"\n",
    "\n",
    "run = wandb.init(\n",
    "    project=WANDB_PROJECT,\n",
    "    group=\"Chapter 1\",\n",
    ")"
   ]
  },
  {
   "cell_type": "markdown",
   "metadata": {},
   "source": [
    "## Data ingestion\n",
    "\n",
    "### Loading the data\n",
    "\n",
    "Use [W&B Artifacts](https://docs.wandb.ai/guides/artifacts) to track and version data as the inputs and outputs of your W&B Runs. For example, a model training run might take in a dataset as input and produce a trained model as output. W&B Artifacts is a powerful object storage with rich UI functionalities.\n",
    "\n",
    "Below we are downloading an artifact named `wandb_docs` which will download 400 odd markdown files in your `./data/wandb_docs` directory. This is will be our data source."
   ]
  },
  {
   "cell_type": "code",
   "execution_count": 6,
   "metadata": {},
   "outputs": [
    {
     "name": "stderr",
     "output_type": "stream",
     "text": [
      "\u001b[34m\u001b[1mwandb\u001b[0m:   406 of 406 files downloaded.  \n"
     ]
    }
   ],
   "source": [
    "documents_artifact = run.use_artifact(\n",
    "    f\"rag-course/dev/wandb_docs:latest\", type=\"dataset\"\n",
    ")\n",
    "data_dir = \"./data/wandb_docs\"\n",
    "\n",
    "docs_dir = documents_artifact.download(data_dir)"
   ]
  },
  {
   "cell_type": "markdown",
   "metadata": {},
   "source": [
    "Let's inspect the `./data/wandb_docs` directory and look at the names of the first 5 files. We should see that they are all in markdown (`.md`) file format."
   ]
  },
  {
   "cell_type": "code",
   "execution_count": 7,
   "metadata": {},
   "outputs": [
    {
     "data": {
      "text/html": [
       "<pre style=\"white-space:pre;overflow-x:auto;line-height:normal;font-family:Menlo,'DejaVu Sans Mono',consolas,'Courier New',monospace\">Number of files: <span style=\"color: #008080; text-decoration-color: #008080; font-weight: bold\">406</span>\n",
       "\n",
       "</pre>\n"
      ],
      "text/plain": [
       "Number of files: \u001b[1;36m406\u001b[0m\n",
       "\n"
      ]
     },
     "metadata": {},
     "output_type": "display_data"
    },
    {
     "data": {
      "text/html": [
       "<pre style=\"white-space:pre;overflow-x:auto;line-height:normal;font-family:Menlo,'DejaVu Sans Mono',consolas,'Courier New',monospace\">First <span style=\"color: #008080; text-decoration-color: #008080; font-weight: bold\">5</span> files:\n",
       "data/wandb_docs/guides/app/features/anon.md\n",
       "data/wandb_docs/guides/app/features/custom-charts/intro.md\n",
       "data/wandb_docs/guides/app/features/custom-charts/walkthrough.md\n",
       "data/wandb_docs/guides/app/features/intro.md\n",
       "data/wandb_docs/guides/app/features/notes.md\n",
       "</pre>\n"
      ],
      "text/plain": [
       "First \u001b[1;36m5\u001b[0m files:\n",
       "data/wandb_docs/guides/app/features/anon.md\n",
       "data/wandb_docs/guides/app/features/custom-charts/intro.md\n",
       "data/wandb_docs/guides/app/features/custom-charts/walkthrough.md\n",
       "data/wandb_docs/guides/app/features/intro.md\n",
       "data/wandb_docs/guides/app/features/notes.md\n"
      ]
     },
     "metadata": {},
     "output_type": "display_data"
    }
   ],
   "source": [
    "docs_dir = pathlib.Path(docs_dir)\n",
    "docs_files = sorted(docs_dir.rglob(\"*.md\"))\n",
    "\n",
    "print(f\"Number of files: {len(docs_files)}\\n\")\n",
    "print(\"First 5 files:\\n{files}\".format(files=\"\\n\".join(map(str, docs_files[:5]))))"
   ]
  },
  {
   "cell_type": "markdown",
   "metadata": {},
   "source": [
    "Lets look at an example file. We can take the first element of the list (`docs_files`) and use the `Path.read_text` method to get the decoded contents of the file as a string."
   ]
  },
  {
   "cell_type": "code",
   "execution_count": 8,
   "metadata": {},
   "outputs": [
    {
     "data": {
      "text/html": [
       "<pre style=\"white-space:pre;overflow-x:auto;line-height:normal;font-family:Menlo,'DejaVu Sans Mono',consolas,'Courier New',monospace\">---\n",
       "description: Log and visualize data without a W&amp;B account\n",
       "displayed_sidebar: default\n",
       "---\n",
       "\n",
       "# Anonymous Mode\n",
       "\n",
       "Are you publishing code that you want anyone to be able to run easily? Use Anonymous Mode to let someone run your \n",
       "code, see a W&amp;B dashboard, and visualize results without needing to create a W&amp;B account first.\n",
       "\n",
       "Allow results to be logged in Anonymous Mode with `<span style=\"color: #800080; text-decoration-color: #800080; font-weight: bold\">wandb.init</span><span style=\"font-weight: bold\">(</span>`**`<span style=\"color: #808000; text-decoration-color: #808000\">anonymous</span>=<span style=\"color: #008000; text-decoration-color: #008000\">\"allow\"</span>`**`<span style=\"font-weight: bold\">)</span>`\n",
       "\n",
       ":::info\n",
       "**Publishing a paper?** Please <span style=\"font-weight: bold\">(</span><span style=\"color: #0000ff; text-decoration-color: #0000ff; text-decoration: underline\">https://docs.wandb.ai/company/academics#bibtex-citation),</span> and if you have questions\n",
       "about how to make your code accessible while using W&amp;B, reach out to us at support@wandb.com.\n",
       ":::\n",
       "\n",
       "### How does someone without an account see results?\n",
       "\n",
       "If someone runs your script and you have to set `<span style=\"color: #808000; text-decoration-color: #808000\">anonymous</span>=<span style=\"color: #008000; text-decoration-color: #008000\">\"allow\"</span>`:\n",
       "\n",
       "<span style=\"color: #008080; text-decoration-color: #008080; font-weight: bold\">1</span>. **Auto-create temporary account:** W&amp;B checks for an account that's already signed in. If there's no account, we\n",
       "automatically create a new anonymous account and save that API key for the session.\n",
       "<span style=\"color: #008080; text-decoration-color: #008080; font-weight: bold\">2</span>. **Log results quickly:** The user can run and re-run the script, and automatically see results show up in the \n",
       "W&amp;B dashboard UI. These unclaimed anonymous runs will be available for <span style=\"color: #008080; text-decoration-color: #008080; font-weight: bold\">7</span> days.\n",
       "<span style=\"color: #008080; text-decoration-color: #008080; font-weight: bold\">3</span>. **Claim data when it's useful**: Once the user finds valuable results in W&amp;B, they can easily click a button in \n",
       "the banner at the top of the page to save their run data to a real account. If they don't claim a run, it will be \n",
       "deleted after <span style=\"color: #008080; text-decoration-color: #008080; font-weight: bold\">7</span> days.\n",
       "\n",
       ":::caution\n",
       "**Anonymous run links are sensitive**. These links allow anyone to view and claim the results of an experiment for \n",
       "<span style=\"color: #008080; text-decoration-color: #008080; font-weight: bold\">7</span> days, so make sure to only share links with people you trust. If you're trying to share results publicly, but \n",
       "hide the author's identity, please contact us at support@wandb.com to share more about your use case.\n",
       ":::\n",
       "\n",
       "### What happens to users with existing accounts?\n",
       "\n",
       "If you set `<span style=\"color: #808000; text-decoration-color: #808000\">anonymous</span>=<span style=\"color: #008000; text-decoration-color: #008000\">\"allow\"</span>` in your script, we will check to make sure there's not an existing account first, \n",
       "before creating an anonymous account. This means that if a W&amp;B user finds your script and runs it, their results \n",
       "will be logged correctly to their account, just like a normal run.\n",
       "\n",
       "### What are features that aren't available to anonymous users?\n",
       "\n",
       "*   **No persistent data**: Runs are only saved for <span style=\"color: #008080; text-decoration-color: #008080; font-weight: bold\">7</span> days in an anonymous account. Users can claim anonymous run \n",
       "data by saving it to a real account.\n",
       "\n",
       "\n",
       "!<span style=\"font-weight: bold\">[](</span>@site/static/images/app_ui/anon_mode_no_data.png<span style=\"font-weight: bold\">)</span>\n",
       "\n",
       "*   **No artifact logging**: Runs will print a warning on the command line that you can't log an artifact to an \n",
       "anonymous run.\n",
       "\n",
       "!<span style=\"font-weight: bold\">[](</span>@site/static/images/app_ui/anon_example_warning.png<span style=\"font-weight: bold\">)</span>\n",
       "\n",
       "* **No profile or settings pages**: Certain pages aren't available in the UI, because they're only useful for real \n",
       "accounts.\n",
       "\n",
       "## Example usage\n",
       "\n",
       "<span style=\"font-weight: bold\">[</span>Try the example notebook<span style=\"font-weight: bold\">](</span><span style=\"color: #0000ff; text-decoration-color: #0000ff; text-decoration: underline\">http://bit.ly/anon-mode)</span> to see how anonymous mode works.\n",
       "\n",
       "```python\n",
       "import wandb\n",
       "\n",
       "# Start a run allowing anonymous accounts\n",
       "<span style=\"color: #800080; text-decoration-color: #800080; font-weight: bold\">wandb.init</span><span style=\"font-weight: bold\">(</span><span style=\"color: #808000; text-decoration-color: #808000\">anonymous</span>=<span style=\"color: #008000; text-decoration-color: #008000\">\"allow\"</span><span style=\"font-weight: bold\">)</span>\n",
       "\n",
       "# Log results from your training loop\n",
       "<span style=\"color: #800080; text-decoration-color: #800080; font-weight: bold\">wandb.log</span><span style=\"font-weight: bold\">({</span><span style=\"color: #008000; text-decoration-color: #008000\">\"acc\"</span>: <span style=\"color: #008080; text-decoration-color: #008080; font-weight: bold\">0.91</span><span style=\"font-weight: bold\">})</span>\n",
       "\n",
       "# Mark the run as finished\n",
       "<span style=\"color: #800080; text-decoration-color: #800080; font-weight: bold\">wandb.finish</span><span style=\"font-weight: bold\">()</span>\n",
       "```\n",
       "\n",
       "</pre>\n"
      ],
      "text/plain": [
       "---\n",
       "description: Log and visualize data without a W&B account\n",
       "displayed_sidebar: default\n",
       "---\n",
       "\n",
       "# Anonymous Mode\n",
       "\n",
       "Are you publishing code that you want anyone to be able to run easily? Use Anonymous Mode to let someone run your \n",
       "code, see a W&B dashboard, and visualize results without needing to create a W&B account first.\n",
       "\n",
       "Allow results to be logged in Anonymous Mode with `\u001b[1;35mwandb.init\u001b[0m\u001b[1m(\u001b[0m`**`\u001b[33manonymous\u001b[0m=\u001b[32m\"allow\"\u001b[0m`**`\u001b[1m)\u001b[0m`\n",
       "\n",
       ":::info\n",
       "**Publishing a paper?** Please \u001b[1m(\u001b[0m\u001b[4;94mhttps://docs.wandb.ai/company/academics#bibtex-citation\u001b[0m\u001b[4;94m)\u001b[0m\u001b[4;94m,\u001b[0m and if you have questions\n",
       "about how to make your code accessible while using W&B, reach out to us at support@wandb.com.\n",
       ":::\n",
       "\n",
       "### How does someone without an account see results?\n",
       "\n",
       "If someone runs your script and you have to set `\u001b[33manonymous\u001b[0m=\u001b[32m\"allow\"\u001b[0m`:\n",
       "\n",
       "\u001b[1;36m1\u001b[0m. **Auto-create temporary account:** W&B checks for an account that's already signed in. If there's no account, we\n",
       "automatically create a new anonymous account and save that API key for the session.\n",
       "\u001b[1;36m2\u001b[0m. **Log results quickly:** The user can run and re-run the script, and automatically see results show up in the \n",
       "W&B dashboard UI. These unclaimed anonymous runs will be available for \u001b[1;36m7\u001b[0m days.\n",
       "\u001b[1;36m3\u001b[0m. **Claim data when it's useful**: Once the user finds valuable results in W&B, they can easily click a button in \n",
       "the banner at the top of the page to save their run data to a real account. If they don't claim a run, it will be \n",
       "deleted after \u001b[1;36m7\u001b[0m days.\n",
       "\n",
       ":::caution\n",
       "**Anonymous run links are sensitive**. These links allow anyone to view and claim the results of an experiment for \n",
       "\u001b[1;36m7\u001b[0m days, so make sure to only share links with people you trust. If you're trying to share results publicly, but \n",
       "hide the author's identity, please contact us at support@wandb.com to share more about your use case.\n",
       ":::\n",
       "\n",
       "### What happens to users with existing accounts?\n",
       "\n",
       "If you set `\u001b[33manonymous\u001b[0m=\u001b[32m\"allow\"\u001b[0m` in your script, we will check to make sure there's not an existing account first, \n",
       "before creating an anonymous account. This means that if a W&B user finds your script and runs it, their results \n",
       "will be logged correctly to their account, just like a normal run.\n",
       "\n",
       "### What are features that aren't available to anonymous users?\n",
       "\n",
       "*   **No persistent data**: Runs are only saved for \u001b[1;36m7\u001b[0m days in an anonymous account. Users can claim anonymous run \n",
       "data by saving it to a real account.\n",
       "\n",
       "\n",
       "!\u001b[1m[\u001b[0m\u001b[1m]\u001b[0m\u001b[1m(\u001b[0m@site/static/images/app_ui/anon_mode_no_data.png\u001b[1m)\u001b[0m\n",
       "\n",
       "*   **No artifact logging**: Runs will print a warning on the command line that you can't log an artifact to an \n",
       "anonymous run.\n",
       "\n",
       "!\u001b[1m[\u001b[0m\u001b[1m]\u001b[0m\u001b[1m(\u001b[0m@site/static/images/app_ui/anon_example_warning.png\u001b[1m)\u001b[0m\n",
       "\n",
       "* **No profile or settings pages**: Certain pages aren't available in the UI, because they're only useful for real \n",
       "accounts.\n",
       "\n",
       "## Example usage\n",
       "\n",
       "\u001b[1m[\u001b[0mTry the example notebook\u001b[1m]\u001b[0m\u001b[1m(\u001b[0m\u001b[4;94mhttp://bit.ly/anon-mode\u001b[0m\u001b[4;94m)\u001b[0m to see how anonymous mode works.\n",
       "\n",
       "```python\n",
       "import wandb\n",
       "\n",
       "# Start a run allowing anonymous accounts\n",
       "\u001b[1;35mwandb.init\u001b[0m\u001b[1m(\u001b[0m\u001b[33manonymous\u001b[0m=\u001b[32m\"allow\"\u001b[0m\u001b[1m)\u001b[0m\n",
       "\n",
       "# Log results from your training loop\n",
       "\u001b[1;35mwandb.log\u001b[0m\u001b[1m(\u001b[0m\u001b[1m{\u001b[0m\u001b[32m\"acc\"\u001b[0m: \u001b[1;36m0.91\u001b[0m\u001b[1m}\u001b[0m\u001b[1m)\u001b[0m\n",
       "\n",
       "# Mark the run as finished\n",
       "\u001b[1;35mwandb.finish\u001b[0m\u001b[1m(\u001b[0m\u001b[1m)\u001b[0m\n",
       "```\n",
       "\n"
      ]
     },
     "metadata": {},
     "output_type": "display_data"
    }
   ],
   "source": [
    "print(docs_files[0].read_text())"
   ]
  },
  {
   "cell_type": "markdown",
   "metadata": {},
   "source": [
    "💡 Looking at the example, we see some structure and format to it.\n",
    "\n",
    "It is always a good practice to look through few examples to see if there is any pattern to your data source.\n",
    "It helps to come up with better preprocessing steps and chunking strategies."
   ]
  },
  {
   "cell_type": "markdown",
   "metadata": {},
   "source": [
    "Now, let's store our documents as dictionaries with content (raw text) and metadata.\n",
    "\n",
    "Metadata is extra information for that data point which can be used to group together similar data points, or filter out a few data points.\n",
    "We will see in future chapters the importance of metadata and why it should not be ignored while building the ingestion pipeline.\n",
    "\n",
    "The metadata can be derived (`raw_tokens`) or is inherent (`source`) to the data point.\n",
    "\n",
    "Note that we are simply doing word counting and calling it `raw_tokens`.\n",
    "In practice we would be using a [tokenizer](https://docs.cohere.com/docs/tokens-and-tokenizers) to calculate the token counts but this naive calculation is an okay approximation for now."
   ]
  },
  {
   "cell_type": "code",
   "execution_count": 9,
   "metadata": {},
   "outputs": [
    {
     "data": {
      "text/html": [
       "<pre style=\"white-space:pre;overflow-x:auto;line-height:normal;font-family:Menlo,'DejaVu Sans Mono',consolas,'Courier New',monospace\"><span style=\"font-weight: bold\">{</span>\n",
       "    <span style=\"color: #008000; text-decoration-color: #008000\">'content'</span>: <span style=\"color: #008000; text-decoration-color: #008000\">'---\\ndescription: Log and visualize data without a W&amp;B account\\ndisplayed_sidebar: </span>\n",
       "<span style=\"color: #008000; text-decoration-color: #008000\">default\\n---\\n\\n# Anonymous Mode\\n\\nAre you publishing code that you want anyone to be able to run easily? Use </span>\n",
       "<span style=\"color: #008000; text-decoration-color: #008000\">Anonymous Mode to let someone run your code, see a W&amp;B dashboard, and visualize results without needing to create a</span>\n",
       "<span style=\"color: #008000; text-decoration-color: #008000\">W&amp;B account first.\\n\\nAllow results to be logged in Anonymous Mode with </span>\n",
       "<span style=\"color: #008000; text-decoration-color: #008000\">`wandb.init(`**`anonymous=\"allow\"`**`)`\\n\\n:::info\\n**Publishing a paper?** Please [cite </span>\n",
       "<span style=\"color: #008000; text-decoration-color: #008000\">W&amp;B](https://docs.wandb.ai/company/academics#bibtex-citation), and if you have questions about how to make your </span>\n",
       "<span style=\"color: #008000; text-decoration-color: #008000\">code accessible while using W&amp;B, reach out to us at support@wandb.com.\\n:::\\n\\n### How does someone without an </span>\n",
       "<span style=\"color: #008000; text-decoration-color: #008000\">account see results?\\n\\nIf someone runs your script and you have to set `anonymous=\"allow\"`:\\n\\n1. **Auto-create </span>\n",
       "<span style=\"color: #008000; text-decoration-color: #008000\">temporary account:** W&amp;B checks for an account that\\'s already signed in. If there\\'s no account, we automatically </span>\n",
       "<span style=\"color: #008000; text-decoration-color: #008000\">create a new anonymous account and save that API key for the session.\\n2. **Log results quickly:** The user can run</span>\n",
       "<span style=\"color: #008000; text-decoration-color: #008000\">and re-run the script, and automatically see results show up in the W&amp;B dashboard UI. These unclaimed anonymous </span>\n",
       "<span style=\"color: #008000; text-decoration-color: #008000\">runs will be available for 7 days.\\n3. **Claim data when it\\'s useful**: Once the user finds valuable results in </span>\n",
       "<span style=\"color: #008000; text-decoration-color: #008000\">W&amp;B, they can easily click a button in the banner at the top of the page to save their run data to a real account. </span>\n",
       "<span style=\"color: #008000; text-decoration-color: #008000\">If they don\\'t claim a run, it will be deleted after 7 days.\\n\\n:::caution\\n**Anonymous run links are sensitive**. </span>\n",
       "<span style=\"color: #008000; text-decoration-color: #008000\">These links allow anyone to view and claim the results of an experiment for 7 days, so make sure to only share </span>\n",
       "<span style=\"color: #008000; text-decoration-color: #008000\">links with people you trust. If you\\'re trying to share results publicly, but hide the author\\'s identity, please </span>\n",
       "<span style=\"color: #008000; text-decoration-color: #008000\">contact us at support@wandb.com to share more about your use case.\\n:::\\n\\n### What happens to users with existing </span>\n",
       "<span style=\"color: #008000; text-decoration-color: #008000\">accounts?\\n\\nIf you set `anonymous=\"allow\"` in your script, we will check to make sure there\\'s not an existing </span>\n",
       "<span style=\"color: #008000; text-decoration-color: #008000\">account first, before creating an anonymous account. This means that if a W&amp;B user finds your script and runs it, </span>\n",
       "<span style=\"color: #008000; text-decoration-color: #008000\">their results will be logged correctly to their account, just like a normal run.\\n\\n### What are features that </span>\n",
       "<span style=\"color: #008000; text-decoration-color: #008000\">aren\\'t available to anonymous users?\\n\\n*   **No persistent data**: Runs are only saved for 7 days in an anonymous</span>\n",
       "<span style=\"color: #008000; text-decoration-color: #008000\">account. Users can claim anonymous run data by saving it to a real </span>\n",
       "<span style=\"color: #008000; text-decoration-color: #008000\">account.\\n\\n\\n![](@site/static/images/app_ui/anon_mode_no_data.png)\\n\\n*   **No artifact logging**: Runs will print</span>\n",
       "<span style=\"color: #008000; text-decoration-color: #008000\">a warning on the command line that you can\\'t log an artifact to an anonymous </span>\n",
       "<span style=\"color: #008000; text-decoration-color: #008000\">run.\\n\\n![](@site/static/images/app_ui/anon_example_warning.png)\\n\\n* **No profile or settings pages**: Certain </span>\n",
       "<span style=\"color: #008000; text-decoration-color: #008000\">pages aren\\'t available in the UI, because they\\'re only useful for real accounts.\\n\\n## Example usage\\n\\n[Try the </span>\n",
       "<span style=\"color: #008000; text-decoration-color: #008000\">example notebook](http://bit.ly/anon-mode) to see how anonymous mode works.\\n\\n```python\\nimport wandb\\n\\n# Start a</span>\n",
       "<span style=\"color: #008000; text-decoration-color: #008000\">run allowing anonymous accounts\\nwandb.init(anonymous=\"allow\")\\n\\n# Log results from your training </span>\n",
       "<span style=\"color: #008000; text-decoration-color: #008000\">loop\\nwandb.log({\"acc\": 0.91})\\n\\n# Mark the run as finished\\nwandb.finish()\\n```\\n'</span>,\n",
       "    <span style=\"color: #008000; text-decoration-color: #008000\">'metadata'</span>: <span style=\"font-weight: bold\">{</span><span style=\"color: #008000; text-decoration-color: #008000\">'source'</span>: <span style=\"color: #008000; text-decoration-color: #008000\">'guides/app/features/anon.md'</span>, <span style=\"color: #008000; text-decoration-color: #008000\">'raw_tokens'</span>: <span style=\"color: #008080; text-decoration-color: #008080; font-weight: bold\">470</span><span style=\"font-weight: bold\">}</span>\n",
       "<span style=\"font-weight: bold\">}</span>\n",
       "</pre>\n"
      ],
      "text/plain": [
       "\u001b[1m{\u001b[0m\n",
       "    \u001b[32m'content'\u001b[0m: \u001b[32m'---\\ndescription: Log and visualize data without a W&B account\\ndisplayed_sidebar: \u001b[0m\n",
       "\u001b[32mdefault\\n---\\n\\n# Anonymous Mode\\n\\nAre you publishing code that you want anyone to be able to run easily? Use \u001b[0m\n",
       "\u001b[32mAnonymous Mode to let someone run your code, see a W&B dashboard, and visualize results without needing to create a\u001b[0m\n",
       "\u001b[32mW&B account first.\\n\\nAllow results to be logged in Anonymous Mode with \u001b[0m\n",
       "\u001b[32m`wandb.init\u001b[0m\u001b[32m(\u001b[0m\u001b[32m`**`\u001b[0m\u001b[32manonymous\u001b[0m\u001b[32m=\u001b[0m\u001b[32m\"allow\"\u001b[0m\u001b[32m`**`\u001b[0m\u001b[32m)\u001b[0m\u001b[32m`\\n\\n:::info\\n**Publishing a paper?** Please \u001b[0m\u001b[32m[\u001b[0m\u001b[32mcite \u001b[0m\n",
       "\u001b[32mW&B\u001b[0m\u001b[32m]\u001b[0m\u001b[32m(\u001b[0m\u001b[32mhttps://docs.wandb.ai/company/academics#bibtex-citation\u001b[0m\u001b[32m)\u001b[0m\u001b[32m, and if you have questions about how to make your \u001b[0m\n",
       "\u001b[32mcode accessible while using W&B, reach out to us at support@wandb.com.\\n:::\\n\\n### How does someone without an \u001b[0m\n",
       "\u001b[32maccount see results?\\n\\nIf someone runs your script and you have to set `\u001b[0m\u001b[32manonymous\u001b[0m\u001b[32m=\u001b[0m\u001b[32m\"allow\"\u001b[0m\u001b[32m`:\\n\\n1. **Auto-create \u001b[0m\n",
       "\u001b[32mtemporary account:** W&B checks for an account that\\'s already signed in. If there\\'s no account, we automatically \u001b[0m\n",
       "\u001b[32mcreate a new anonymous account and save that API key for the session.\\n2. **Log results quickly:** The user can run\u001b[0m\n",
       "\u001b[32mand re-run the script, and automatically see results show up in the W&B dashboard UI. These unclaimed anonymous \u001b[0m\n",
       "\u001b[32mruns will be available for 7 days.\\n3. **Claim data when it\\'s useful**: Once the user finds valuable results in \u001b[0m\n",
       "\u001b[32mW&B, they can easily click a button in the banner at the top of the page to save their run data to a real account. \u001b[0m\n",
       "\u001b[32mIf they don\\'t claim a run, it will be deleted after 7 days.\\n\\n:::caution\\n**Anonymous run links are sensitive**. \u001b[0m\n",
       "\u001b[32mThese links allow anyone to view and claim the results of an experiment for 7 days, so make sure to only share \u001b[0m\n",
       "\u001b[32mlinks with people you trust. If you\\'re trying to share results publicly, but hide the author\\'s identity, please \u001b[0m\n",
       "\u001b[32mcontact us at support@wandb.com to share more about your use case.\\n:::\\n\\n### What happens to users with existing \u001b[0m\n",
       "\u001b[32maccounts?\\n\\nIf you set `\u001b[0m\u001b[32manonymous\u001b[0m\u001b[32m=\u001b[0m\u001b[32m\"allow\"\u001b[0m\u001b[32m` in your script, we will check to make sure there\\'s not an existing \u001b[0m\n",
       "\u001b[32maccount first, before creating an anonymous account. This means that if a W&B user finds your script and runs it, \u001b[0m\n",
       "\u001b[32mtheir results will be logged correctly to their account, just like a normal run.\\n\\n### What are features that \u001b[0m\n",
       "\u001b[32maren\\'t available to anonymous users?\\n\\n*   **No persistent data**: Runs are only saved for 7 days in an anonymous\u001b[0m\n",
       "\u001b[32maccount. Users can claim anonymous run data by saving it to a real \u001b[0m\n",
       "\u001b[32maccount.\\n\\n\\n!\u001b[0m\u001b[32m[\u001b[0m\u001b[32m]\u001b[0m\u001b[32m(\u001b[0m\u001b[32m@site/static/images/app_ui/anon_mode_no_data.png\u001b[0m\u001b[32m)\u001b[0m\u001b[32m\\n\\n*   **No artifact logging**: Runs will print\u001b[0m\n",
       "\u001b[32ma warning on the command line that you can\\'t log an artifact to an anonymous \u001b[0m\n",
       "\u001b[32mrun.\\n\\n!\u001b[0m\u001b[32m[\u001b[0m\u001b[32m]\u001b[0m\u001b[32m(\u001b[0m\u001b[32m@site/static/images/app_ui/anon_example_warning.png\u001b[0m\u001b[32m)\u001b[0m\u001b[32m\\n\\n* **No profile or settings pages**: Certain \u001b[0m\n",
       "\u001b[32mpages aren\\'t available in the UI, because they\\'re only useful for real accounts.\\n\\n## Example usage\\n\\n\u001b[0m\u001b[32m[\u001b[0m\u001b[32mTry the \u001b[0m\n",
       "\u001b[32mexample notebook\u001b[0m\u001b[32m]\u001b[0m\u001b[32m(\u001b[0m\u001b[32mhttp://bit.ly/anon-mode\u001b[0m\u001b[32m)\u001b[0m\u001b[32m to see how anonymous mode works.\\n\\n```python\\nimport wandb\\n\\n# Start a\u001b[0m\n",
       "\u001b[32mrun allowing anonymous accounts\\nwandb.init\u001b[0m\u001b[32m(\u001b[0m\u001b[32manonymous\u001b[0m\u001b[32m=\u001b[0m\u001b[32m\"allow\"\u001b[0m\u001b[32m)\u001b[0m\u001b[32m\\n\\n# Log results from your training \u001b[0m\n",
       "\u001b[32mloop\\nwandb.log\u001b[0m\u001b[32m(\u001b[0m\u001b[32m{\u001b[0m\u001b[32m\"acc\": 0.91\u001b[0m\u001b[32m}\u001b[0m\u001b[32m)\u001b[0m\u001b[32m\\n\\n# Mark the run as finished\\nwandb.finish\u001b[0m\u001b[32m(\u001b[0m\u001b[32m)\u001b[0m\u001b[32m\\n```\\n'\u001b[0m,\n",
       "    \u001b[32m'metadata'\u001b[0m: \u001b[1m{\u001b[0m\u001b[32m'source'\u001b[0m: \u001b[32m'guides/app/features/anon.md'\u001b[0m, \u001b[32m'raw_tokens'\u001b[0m: \u001b[1;36m470\u001b[0m\u001b[1m}\u001b[0m\n",
       "\u001b[1m}\u001b[0m\n"
      ]
     },
     "metadata": {},
     "output_type": "display_data"
    }
   ],
   "source": [
    "# We'll store the files as dictionaries with some content and metadata\n",
    "data = []\n",
    "for file in docs_files:\n",
    "    content = file.read_text()\n",
    "    data.append(\n",
    "        {\n",
    "            \"content\": content,\n",
    "            \"metadata\": {\n",
    "                \"source\": str(file.relative_to(docs_dir)),\n",
    "                \"raw_tokens\": len(content.split()),\n",
    "            },\n",
    "        }\n",
    "    )\n",
    "print(data[0])"
   ]
  },
  {
   "cell_type": "markdown",
   "metadata": {},
   "source": [
    "Checking the total number of tokens of your data source is a good practice. In this case, the total tokens is more than 200k. Surely, most LLM providers cannot process this many tokens. Building a RAG is justified in such cases."
   ]
  },
  {
   "cell_type": "code",
   "execution_count": 10,
   "metadata": {},
   "outputs": [
    {
     "data": {
      "text/html": [
       "<pre style=\"white-space:pre;overflow-x:auto;line-height:normal;font-family:Menlo,'DejaVu Sans Mono',consolas,'Courier New',monospace\">Total Tokens in dataset: <span style=\"color: #008080; text-decoration-color: #008080; font-weight: bold\">260530</span>\n",
       "</pre>\n"
      ],
      "text/plain": [
       "Total Tokens in dataset: \u001b[1;36m260530\u001b[0m\n"
      ]
     },
     "metadata": {},
     "output_type": "display_data"
    }
   ],
   "source": [
    "total_tokens = sum(map(lambda x: x[\"metadata\"][\"raw_tokens\"], data))\n",
    "print(f\"Total Tokens in dataset: {total_tokens}\")"
   ]
  },
  {
   "cell_type": "markdown",
   "metadata": {},
   "source": [
    "## W&B Weave\n",
    "\n",
    "In the previous section we used W&B Artifacts to download the source documents.\n",
    "\n",
    "We could have used it to log our processed data but instead we will use W&B Weave for the task.\n",
    "\n",
    "Why?\n",
    "\n",
    "- W&B Weave is standalone and doesn't need backward compatibility with core Weights & Biases offerings.\n",
    "- W&B Weave is designed for modern LLMOps use case.\n",
    "- We would like to keep the data, \"models\" (function, API, collection of parser, extrators, and more) and evaluators in \"one single source of truth\" managed by W&B Weave.\n",
    "\n",
    "What?\n",
    "\n",
    "W&B Weave is a lightweight toolkit for tracking and evaluating LLM applications:\n",
    "\n",
    "- Log and debug language model inputs, outputs, and traces\n",
    "- Build rigorous, apples-to-apples evaluations for language model use cases\n",
    "- Organize all the information generated across the LLM workflow, from experimentation to evaluations to production\n",
    "\n",
    "\n",
    "The newly created list of dictionaries with `content` and `metadata` will now be logged as a W&B Weave Dataset called `raw_data`. Notice that our processed data is a list of dicts.\n",
    "\n",
    "Let's initialize W&B Weave. Once intialized, we will start tracking (more on it later) the inputs and the outputs along with underlying attributes (model name, top_k, etc.)."
   ]
  },
  {
   "cell_type": "code",
   "execution_count": 11,
   "metadata": {},
   "outputs": [
    {
     "name": "stdout",
     "output_type": "stream",
     "text": [
      "Logged in as Weights & Biases user: elshehawy.\n",
      "View Weave data at https://wandb.ai/elshehawy/rag-course/weave\n"
     ]
    }
   ],
   "source": [
    "WANDB_PROJECT = \"rag-course\"\n",
    "\n",
    "weave_client = weave.init(WANDB_PROJECT)"
   ]
  },
  {
   "cell_type": "code",
   "execution_count": 12,
   "metadata": {},
   "outputs": [
    {
     "name": "stdout",
     "output_type": "stream",
     "text": [
      "📦 Published to https://wandb.ai/elshehawy/rag-course/weave/objects/raw_data/versions/5gpOPHrLiBuPtOYa3bn1yKfcrYnxXCA8JtN9xYXkxkg\n"
     ]
    },
    {
     "data": {
      "text/plain": [
       "ObjectRef(entity='elshehawy', project='rag-course', name='raw_data', _digest='5gpOPHrLiBuPtOYa3bn1yKfcrYnxXCA8JtN9xYXkxkg', _extra=())"
      ]
     },
     "execution_count": 12,
     "metadata": {},
     "output_type": "execute_result"
    }
   ],
   "source": [
    "# build weave dataset\n",
    "raw_data = weave.Dataset(name=\"raw_data\", rows=data)\n",
    "\n",
    "# publish the dataset\n",
    "weave.publish(raw_data)"
   ]
  },
  {
   "cell_type": "markdown",
   "metadata": {},
   "source": [
    "![raw_data](../images/01_raw_data.png)"
   ]
  },
  {
   "cell_type": "markdown",
   "metadata": {},
   "source": [
    "### Chunking the data\n",
    "\n",
    "Each document contains a large number of tokens, so we need to split it into smaller chunks to manage the number of tokens per chunk. This approach serves three main purposes:\n",
    "\n",
    "* Most embedding models have a limit of 512 tokens per input (based on their training data and parameters).\n",
    "\n",
    "* Chunking allows us to retrieve and send only the most relevant portions to our LLM, significantly reducing the total token count. This helps keep the LLM's cost and processing time manageable.\n",
    "\n",
    "* When the text is small-sized, embedding models tend to generate better vectors as they can capture more fine-grained details and nuances in the text, resulting in more accurate representations.\n",
    "\n",
    "When choosing chunk size, consider these trade-offs:\n",
    "\n",
    "- Smaller chunks (100-200 tokens):\n",
    "  * More precise retrieval\n",
    "  * Better for finding specific details\n",
    "  * May lack broader context\n",
    "\n",
    "- Larger chunks (500-1000 tokens):\n",
    "  * Provide more context\n",
    "  * Capture more coherent ideas\n",
    "  * May introduce noise and reduce precision\n",
    "\n",
    "The optimal size depends on your data, expected queries, and model capabilities. Experiment with different sizes to find the best balance for your use case.\n",
    "\n",
    "Here we are chunking each content (text) to a maximum length of 300 tokens (`CHUNK_SIZE`).\n",
    "For now, we will not be overlapping (`CHUNK_OVERLAP`) the content of one chunk with another chunk."
   ]
  },
  {
   "cell_type": "code",
   "execution_count": 13,
   "metadata": {},
   "outputs": [],
   "source": [
    "# These are hyperparameters of our ingestion pipeline\n",
    "\n",
    "CHUNK_SIZE = 300\n",
    "CHUNK_OVERLAP = 0\n",
    "\n",
    "\n",
    "def split_into_chunks(\n",
    "    text: str, chunk_size: int = CHUNK_SIZE, chunk_overlap: int = CHUNK_OVERLAP\n",
    ") -> List[str]:\n",
    "    \"\"\"Function to split the text into chunks of a maximum number of tokens\n",
    "    ensure that the chunks are of size CHUNK_SIZE and overlap by chunk_overlap tokens\n",
    "    use the `tokenizer.encode` method to tokenize the text\n",
    "    \"\"\"\n",
    "    tokens = text.split()\n",
    "    chunks = []\n",
    "    start = 0\n",
    "    while start < len(tokens):\n",
    "        end = start + chunk_size\n",
    "        chunk = tokens[start:end]\n",
    "        chunks.append(\" \".join(chunk))\n",
    "        start = end - chunk_overlap\n",
    "    return chunks"
   ]
  },
  {
   "cell_type": "markdown",
   "metadata": {},
   "source": [
    "We will use the `raw_data` artifact we just published as W&B Weave Dataset as the input to the chunking function."
   ]
  },
  {
   "cell_type": "code",
   "execution_count": 14,
   "metadata": {},
   "outputs": [
    {
     "data": {
      "text/html": [
       "<pre style=\"white-space:pre;overflow-x:auto;line-height:normal;font-family:Menlo,'DejaVu Sans Mono',consolas,'Courier New',monospace\"><span style=\"color: #800080; text-decoration-color: #800080; font-weight: bold\">WeaveDict</span><span style=\"font-weight: bold\">({</span><span style=\"color: #008000; text-decoration-color: #008000\">'content'</span>: <span style=\"color: #008000; text-decoration-color: #008000\">'---\\ndescription: Log and visualize data without a W&amp;B account\\ndisplayed_sidebar: </span>\n",
       "<span style=\"color: #008000; text-decoration-color: #008000\">default\\n---\\n\\n# Anonymous Mode\\n\\nAre you publishing code that you want anyone to be able to run easily? Use </span>\n",
       "<span style=\"color: #008000; text-decoration-color: #008000\">Anonymous Mode to let someone run your code, see a W&amp;B dashboard, and visualize results without needing to create a</span>\n",
       "<span style=\"color: #008000; text-decoration-color: #008000\">W&amp;B account first.\\n\\nAllow results to be logged in Anonymous Mode with </span>\n",
       "<span style=\"color: #008000; text-decoration-color: #008000\">`wandb.init(`**`anonymous=\"allow\"`**`)`\\n\\n:::info\\n**Publishing a paper?** Please [cite </span>\n",
       "<span style=\"color: #008000; text-decoration-color: #008000\">W&amp;B](https://docs.wandb.ai/company/academics#bibtex-citation), and if you have questions about how to make your </span>\n",
       "<span style=\"color: #008000; text-decoration-color: #008000\">code accessible while using W&amp;B, reach out to us at support@wandb.com.\\n:::\\n\\n### How does someone without an </span>\n",
       "<span style=\"color: #008000; text-decoration-color: #008000\">account see results?\\n\\nIf someone runs your script and you have to set `anonymous=\"allow\"`:\\n\\n1. **Auto-create </span>\n",
       "<span style=\"color: #008000; text-decoration-color: #008000\">temporary account:** W&amp;B checks for an account that\\'s already signed in. If there\\'s no account, we automatically </span>\n",
       "<span style=\"color: #008000; text-decoration-color: #008000\">create a new anonymous account and save that API key for the session.\\n2. **Log results quickly:** The user can run</span>\n",
       "<span style=\"color: #008000; text-decoration-color: #008000\">and re-run the script, and automatically see results show up in the W&amp;B dashboard UI. These unclaimed anonymous </span>\n",
       "<span style=\"color: #008000; text-decoration-color: #008000\">runs will be available for 7 days.\\n3. **Claim data when it\\'s useful**: Once the user finds valuable results in </span>\n",
       "<span style=\"color: #008000; text-decoration-color: #008000\">W&amp;B, they can easily click a button in the banner at the top of the page to save their run data to a real account. </span>\n",
       "<span style=\"color: #008000; text-decoration-color: #008000\">If they don\\'t claim a run, it will be deleted after 7 days.\\n\\n:::caution\\n**Anonymous run links are sensitive**. </span>\n",
       "<span style=\"color: #008000; text-decoration-color: #008000\">These links allow anyone to view and claim the results of an experiment for 7 days, so make sure to only share </span>\n",
       "<span style=\"color: #008000; text-decoration-color: #008000\">links with people you trust. If you\\'re trying to share results publicly, but hide the author\\'s identity, please </span>\n",
       "<span style=\"color: #008000; text-decoration-color: #008000\">contact us at support@wandb.com to share more about your use case.\\n:::\\n\\n### What happens to users with existing </span>\n",
       "<span style=\"color: #008000; text-decoration-color: #008000\">accounts?\\n\\nIf you set `anonymous=\"allow\"` in your script, we will check to make sure there\\'s not an existing </span>\n",
       "<span style=\"color: #008000; text-decoration-color: #008000\">account first, before creating an anonymous account. This means that if a W&amp;B user finds your script and runs it, </span>\n",
       "<span style=\"color: #008000; text-decoration-color: #008000\">their results will be logged correctly to their account, just like a normal run.\\n\\n### What are features that </span>\n",
       "<span style=\"color: #008000; text-decoration-color: #008000\">aren\\'t available to anonymous users?\\n\\n*   **No persistent data**: Runs are only saved for 7 days in an anonymous</span>\n",
       "<span style=\"color: #008000; text-decoration-color: #008000\">account. Users can claim anonymous run data by saving it to a real </span>\n",
       "<span style=\"color: #008000; text-decoration-color: #008000\">account.\\n\\n\\n![](@site/static/images/app_ui/anon_mode_no_data.png)\\n\\n*   **No artifact logging**: Runs will print</span>\n",
       "<span style=\"color: #008000; text-decoration-color: #008000\">a warning on the command line that you can\\'t log an artifact to an anonymous </span>\n",
       "<span style=\"color: #008000; text-decoration-color: #008000\">run.\\n\\n![](@site/static/images/app_ui/anon_example_warning.png)\\n\\n* **No profile or settings pages**: Certain </span>\n",
       "<span style=\"color: #008000; text-decoration-color: #008000\">pages aren\\'t available in the UI, because they\\'re only useful for real accounts.\\n\\n## Example usage\\n\\n[Try the </span>\n",
       "<span style=\"color: #008000; text-decoration-color: #008000\">example notebook](http://bit.ly/anon-mode) to see how anonymous mode works.\\n\\n```python\\nimport wandb\\n\\n# Start a</span>\n",
       "<span style=\"color: #008000; text-decoration-color: #008000\">run allowing anonymous accounts\\nwandb.init(anonymous=\"allow\")\\n\\n# Log results from your training </span>\n",
       "<span style=\"color: #008000; text-decoration-color: #008000\">loop\\nwandb.log({\"acc\": 0.91})\\n\\n# Mark the run as finished\\nwandb.finish()\\n```\\n'</span>, <span style=\"color: #008000; text-decoration-color: #008000\">'metadata'</span>: <span style=\"font-weight: bold\">{</span><span style=\"color: #008000; text-decoration-color: #008000\">'source'</span>: \n",
       "<span style=\"color: #008000; text-decoration-color: #008000\">'guides/app/features/anon.md'</span>, <span style=\"color: #008000; text-decoration-color: #008000\">'raw_tokens'</span>: <span style=\"color: #008080; text-decoration-color: #008080; font-weight: bold\">470</span><span style=\"font-weight: bold\">}})</span>\n",
       "</pre>\n"
      ],
      "text/plain": [
       "\u001b[1;35mWeaveDict\u001b[0m\u001b[1m(\u001b[0m\u001b[1m{\u001b[0m\u001b[32m'content'\u001b[0m: \u001b[32m'---\\ndescription: Log and visualize data without a W&B account\\ndisplayed_sidebar: \u001b[0m\n",
       "\u001b[32mdefault\\n---\\n\\n# Anonymous Mode\\n\\nAre you publishing code that you want anyone to be able to run easily? Use \u001b[0m\n",
       "\u001b[32mAnonymous Mode to let someone run your code, see a W&B dashboard, and visualize results without needing to create a\u001b[0m\n",
       "\u001b[32mW&B account first.\\n\\nAllow results to be logged in Anonymous Mode with \u001b[0m\n",
       "\u001b[32m`wandb.init\u001b[0m\u001b[32m(\u001b[0m\u001b[32m`**`\u001b[0m\u001b[32manonymous\u001b[0m\u001b[32m=\u001b[0m\u001b[32m\"allow\"\u001b[0m\u001b[32m`**`\u001b[0m\u001b[32m)\u001b[0m\u001b[32m`\\n\\n:::info\\n**Publishing a paper?** Please \u001b[0m\u001b[32m[\u001b[0m\u001b[32mcite \u001b[0m\n",
       "\u001b[32mW&B\u001b[0m\u001b[32m]\u001b[0m\u001b[32m(\u001b[0m\u001b[32mhttps://docs.wandb.ai/company/academics#bibtex-citation\u001b[0m\u001b[32m)\u001b[0m\u001b[32m, and if you have questions about how to make your \u001b[0m\n",
       "\u001b[32mcode accessible while using W&B, reach out to us at support@wandb.com.\\n:::\\n\\n### How does someone without an \u001b[0m\n",
       "\u001b[32maccount see results?\\n\\nIf someone runs your script and you have to set `\u001b[0m\u001b[32manonymous\u001b[0m\u001b[32m=\u001b[0m\u001b[32m\"allow\"\u001b[0m\u001b[32m`:\\n\\n1. **Auto-create \u001b[0m\n",
       "\u001b[32mtemporary account:** W&B checks for an account that\\'s already signed in. If there\\'s no account, we automatically \u001b[0m\n",
       "\u001b[32mcreate a new anonymous account and save that API key for the session.\\n2. **Log results quickly:** The user can run\u001b[0m\n",
       "\u001b[32mand re-run the script, and automatically see results show up in the W&B dashboard UI. These unclaimed anonymous \u001b[0m\n",
       "\u001b[32mruns will be available for 7 days.\\n3. **Claim data when it\\'s useful**: Once the user finds valuable results in \u001b[0m\n",
       "\u001b[32mW&B, they can easily click a button in the banner at the top of the page to save their run data to a real account. \u001b[0m\n",
       "\u001b[32mIf they don\\'t claim a run, it will be deleted after 7 days.\\n\\n:::caution\\n**Anonymous run links are sensitive**. \u001b[0m\n",
       "\u001b[32mThese links allow anyone to view and claim the results of an experiment for 7 days, so make sure to only share \u001b[0m\n",
       "\u001b[32mlinks with people you trust. If you\\'re trying to share results publicly, but hide the author\\'s identity, please \u001b[0m\n",
       "\u001b[32mcontact us at support@wandb.com to share more about your use case.\\n:::\\n\\n### What happens to users with existing \u001b[0m\n",
       "\u001b[32maccounts?\\n\\nIf you set `\u001b[0m\u001b[32manonymous\u001b[0m\u001b[32m=\u001b[0m\u001b[32m\"allow\"\u001b[0m\u001b[32m` in your script, we will check to make sure there\\'s not an existing \u001b[0m\n",
       "\u001b[32maccount first, before creating an anonymous account. This means that if a W&B user finds your script and runs it, \u001b[0m\n",
       "\u001b[32mtheir results will be logged correctly to their account, just like a normal run.\\n\\n### What are features that \u001b[0m\n",
       "\u001b[32maren\\'t available to anonymous users?\\n\\n*   **No persistent data**: Runs are only saved for 7 days in an anonymous\u001b[0m\n",
       "\u001b[32maccount. Users can claim anonymous run data by saving it to a real \u001b[0m\n",
       "\u001b[32maccount.\\n\\n\\n!\u001b[0m\u001b[32m[\u001b[0m\u001b[32m]\u001b[0m\u001b[32m(\u001b[0m\u001b[32m@site/static/images/app_ui/anon_mode_no_data.png\u001b[0m\u001b[32m)\u001b[0m\u001b[32m\\n\\n*   **No artifact logging**: Runs will print\u001b[0m\n",
       "\u001b[32ma warning on the command line that you can\\'t log an artifact to an anonymous \u001b[0m\n",
       "\u001b[32mrun.\\n\\n!\u001b[0m\u001b[32m[\u001b[0m\u001b[32m]\u001b[0m\u001b[32m(\u001b[0m\u001b[32m@site/static/images/app_ui/anon_example_warning.png\u001b[0m\u001b[32m)\u001b[0m\u001b[32m\\n\\n* **No profile or settings pages**: Certain \u001b[0m\n",
       "\u001b[32mpages aren\\'t available in the UI, because they\\'re only useful for real accounts.\\n\\n## Example usage\\n\\n\u001b[0m\u001b[32m[\u001b[0m\u001b[32mTry the \u001b[0m\n",
       "\u001b[32mexample notebook\u001b[0m\u001b[32m]\u001b[0m\u001b[32m(\u001b[0m\u001b[32mhttp://bit.ly/anon-mode\u001b[0m\u001b[32m)\u001b[0m\u001b[32m to see how anonymous mode works.\\n\\n```python\\nimport wandb\\n\\n# Start a\u001b[0m\n",
       "\u001b[32mrun allowing anonymous accounts\\nwandb.init\u001b[0m\u001b[32m(\u001b[0m\u001b[32manonymous\u001b[0m\u001b[32m=\u001b[0m\u001b[32m\"allow\"\u001b[0m\u001b[32m)\u001b[0m\u001b[32m\\n\\n# Log results from your training \u001b[0m\n",
       "\u001b[32mloop\\nwandb.log\u001b[0m\u001b[32m(\u001b[0m\u001b[32m{\u001b[0m\u001b[32m\"acc\": 0.91\u001b[0m\u001b[32m}\u001b[0m\u001b[32m)\u001b[0m\u001b[32m\\n\\n# Mark the run as finished\\nwandb.finish\u001b[0m\u001b[32m(\u001b[0m\u001b[32m)\u001b[0m\u001b[32m\\n```\\n'\u001b[0m, \u001b[32m'metadata'\u001b[0m: \u001b[1m{\u001b[0m\u001b[32m'source'\u001b[0m: \n",
       "\u001b[32m'guides/app/features/anon.md'\u001b[0m, \u001b[32m'raw_tokens'\u001b[0m: \u001b[1;36m470\u001b[0m\u001b[1m}\u001b[0m\u001b[1m}\u001b[0m\u001b[1m)\u001b[0m\n"
      ]
     },
     "metadata": {},
     "output_type": "display_data"
    }
   ],
   "source": [
    "# download the `raw_data` Dataset\n",
    "# raw_data = weave.ref(\n",
    "#     \"weave:///rag-course/rag-course/object/raw_data:nuZosGsP58MXKxhluN2hzvKK9XB8xSxlTuOBmEzWzLo\"\n",
    "# ).get()\n",
    "# uncomment the next line to get the raw data from weave from your own project instead\n",
    "raw_data = weave.ref(\"raw_data:v0\").get()\n",
    "\n",
    "# this is how we index into the data\n",
    "print(raw_data.rows[0])"
   ]
  },
  {
   "cell_type": "markdown",
   "metadata": {},
   "source": [
    "A Weave Dataset is compatible with the rest of the Weave workflow and is pythonic."
   ]
  },
  {
   "cell_type": "markdown",
   "metadata": {},
   "source": [
    "Let us chunk each document in the raw data Artifact. We create a new list of dictionaries with the chuked text (`content`) and with `metadata`."
   ]
  },
  {
   "cell_type": "code",
   "execution_count": 15,
   "metadata": {},
   "outputs": [
    {
     "data": {
      "text/html": [
       "<pre style=\"white-space:pre;overflow-x:auto;line-height:normal;font-family:Menlo,'DejaVu Sans Mono',consolas,'Courier New',monospace\"><span style=\"font-weight: bold\">[</span>\n",
       "    <span style=\"font-weight: bold\">{</span>\n",
       "        <span style=\"color: #008000; text-decoration-color: #008000\">'content'</span>: <span style=\"color: #008000; text-decoration-color: #008000\">'--- description: Log and visualize data without a W&amp;B account displayed_sidebar: default --- # </span>\n",
       "<span style=\"color: #008000; text-decoration-color: #008000\">Anonymous Mode Are you publishing code that you want anyone to be able to run easily? Use Anonymous Mode to let </span>\n",
       "<span style=\"color: #008000; text-decoration-color: #008000\">someone run your code, see a W&amp;B dashboard, and visualize results without needing to create a W&amp;B account first. </span>\n",
       "<span style=\"color: #008000; text-decoration-color: #008000\">Allow results to be logged in Anonymous Mode with `wandb.init(`**`anonymous=\"allow\"`**`)` :::info **Publishing a </span>\n",
       "<span style=\"color: #008000; text-decoration-color: #008000\">paper?** Please [cite W&amp;B](https://docs.wandb.ai/company/academics#bibtex-citation), and if you have questions </span>\n",
       "<span style=\"color: #008000; text-decoration-color: #008000\">about how to make your code accessible while using W&amp;B, reach out to us at support@wandb.com. ::: ### How does </span>\n",
       "<span style=\"color: #008000; text-decoration-color: #008000\">someone without an account see results? If someone runs your script and you have to set `anonymous=\"allow\"`: 1. </span>\n",
       "<span style=\"color: #008000; text-decoration-color: #008000\">**Auto-create temporary account:** W&amp;B checks for an account that\\'s already signed in. If there\\'s no account, we </span>\n",
       "<span style=\"color: #008000; text-decoration-color: #008000\">automatically create a new anonymous account and save that API key for the session. 2. **Log results quickly:** The</span>\n",
       "<span style=\"color: #008000; text-decoration-color: #008000\">user can run and re-run the script, and automatically see results show up in the W&amp;B dashboard UI. These unclaimed </span>\n",
       "<span style=\"color: #008000; text-decoration-color: #008000\">anonymous runs will be available for 7 days. 3. **Claim data when it\\'s useful**: Once the user finds valuable </span>\n",
       "<span style=\"color: #008000; text-decoration-color: #008000\">results in W&amp;B, they can easily click a button in the banner at the top of the page to save their run data to a </span>\n",
       "<span style=\"color: #008000; text-decoration-color: #008000\">real account. If they don\\'t claim a run, it will be deleted after 7 days. :::caution **Anonymous run links are </span>\n",
       "<span style=\"color: #008000; text-decoration-color: #008000\">sensitive**. These links allow anyone to view and claim the results of an experiment for 7 days, so make sure to </span>\n",
       "<span style=\"color: #008000; text-decoration-color: #008000\">only share links with people you trust. If you\\'re trying to share results publicly, but hide the author\\'s </span>\n",
       "<span style=\"color: #008000; text-decoration-color: #008000\">identity, please contact us at support@wandb.com to share more about your use case. ::: ### What happens to users </span>\n",
       "<span style=\"color: #008000; text-decoration-color: #008000\">with existing accounts? If you set `anonymous=\"allow\"` in'</span>,\n",
       "        <span style=\"color: #008000; text-decoration-color: #008000\">'metadata'</span>: <span style=\"font-weight: bold\">{</span><span style=\"color: #008000; text-decoration-color: #008000\">'source'</span>: <span style=\"color: #008000; text-decoration-color: #008000\">'guides/app/features/anon.md'</span>, <span style=\"color: #008000; text-decoration-color: #008000\">'raw_tokens'</span>: <span style=\"color: #008080; text-decoration-color: #008080; font-weight: bold\">300</span><span style=\"font-weight: bold\">}</span>\n",
       "    <span style=\"font-weight: bold\">}</span>,\n",
       "    <span style=\"font-weight: bold\">{</span>\n",
       "        <span style=\"color: #008000; text-decoration-color: #008000\">'content'</span>: <span style=\"color: #008000; text-decoration-color: #008000\">'your script, we will check to make sure there\\'s not an existing account first, before creating</span>\n",
       "<span style=\"color: #008000; text-decoration-color: #008000\">an anonymous account. This means that if a W&amp;B user finds your script and runs it, their results will be logged </span>\n",
       "<span style=\"color: #008000; text-decoration-color: #008000\">correctly to their account, just like a normal run. ### What are features that aren\\'t available to anonymous </span>\n",
       "<span style=\"color: #008000; text-decoration-color: #008000\">users? * **No persistent data**: Runs are only saved for 7 days in an anonymous account. Users can claim anonymous </span>\n",
       "<span style=\"color: #008000; text-decoration-color: #008000\">run data by saving it to a real account. ![](@site/static/images/app_ui/anon_mode_no_data.png) * **No artifact </span>\n",
       "<span style=\"color: #008000; text-decoration-color: #008000\">logging**: Runs will print a warning on the command line that you can\\'t log an artifact to an anonymous run. </span>\n",
       "<span style=\"color: #008000; text-decoration-color: #008000\">![](@site/static/images/app_ui/anon_example_warning.png) * **No profile or settings pages**: Certain pages aren\\'t </span>\n",
       "<span style=\"color: #008000; text-decoration-color: #008000\">available in the UI, because they\\'re only useful for real accounts. ## Example usage [Try the example </span>\n",
       "<span style=\"color: #008000; text-decoration-color: #008000\">notebook](http://bit.ly/anon-mode) to see how anonymous mode works. ```python import wandb # Start a run allowing </span>\n",
       "<span style=\"color: #008000; text-decoration-color: #008000\">anonymous accounts wandb.init(anonymous=\"allow\") # Log results from your training loop wandb.log({\"acc\": 0.91}) # </span>\n",
       "<span style=\"color: #008000; text-decoration-color: #008000\">Mark the run as finished wandb.finish() ```'</span>,\n",
       "        <span style=\"color: #008000; text-decoration-color: #008000\">'metadata'</span>: <span style=\"font-weight: bold\">{</span><span style=\"color: #008000; text-decoration-color: #008000\">'source'</span>: <span style=\"color: #008000; text-decoration-color: #008000\">'guides/app/features/anon.md'</span>, <span style=\"color: #008000; text-decoration-color: #008000\">'raw_tokens'</span>: <span style=\"color: #008080; text-decoration-color: #008080; font-weight: bold\">170</span><span style=\"font-weight: bold\">}</span>\n",
       "    <span style=\"font-weight: bold\">}</span>\n",
       "<span style=\"font-weight: bold\">]</span>\n",
       "</pre>\n"
      ],
      "text/plain": [
       "\u001b[1m[\u001b[0m\n",
       "    \u001b[1m{\u001b[0m\n",
       "        \u001b[32m'content'\u001b[0m: \u001b[32m'--- description: Log and visualize data without a W&B account displayed_sidebar: default --- # \u001b[0m\n",
       "\u001b[32mAnonymous Mode Are you publishing code that you want anyone to be able to run easily? Use Anonymous Mode to let \u001b[0m\n",
       "\u001b[32msomeone run your code, see a W&B dashboard, and visualize results without needing to create a W&B account first. \u001b[0m\n",
       "\u001b[32mAllow results to be logged in Anonymous Mode with `wandb.init\u001b[0m\u001b[32m(\u001b[0m\u001b[32m`**`\u001b[0m\u001b[32manonymous\u001b[0m\u001b[32m=\u001b[0m\u001b[32m\"allow\"\u001b[0m\u001b[32m`**`\u001b[0m\u001b[32m)\u001b[0m\u001b[32m` :::info **Publishing a \u001b[0m\n",
       "\u001b[32mpaper?** Please \u001b[0m\u001b[32m[\u001b[0m\u001b[32mcite W&B\u001b[0m\u001b[32m]\u001b[0m\u001b[32m(\u001b[0m\u001b[32mhttps://docs.wandb.ai/company/academics#bibtex-citation\u001b[0m\u001b[32m)\u001b[0m\u001b[32m, and if you have questions \u001b[0m\n",
       "\u001b[32mabout how to make your code accessible while using W&B, reach out to us at support@wandb.com. ::: ### How does \u001b[0m\n",
       "\u001b[32msomeone without an account see results? If someone runs your script and you have to set `\u001b[0m\u001b[32manonymous\u001b[0m\u001b[32m=\u001b[0m\u001b[32m\"allow\"\u001b[0m\u001b[32m`: 1. \u001b[0m\n",
       "\u001b[32m**Auto-create temporary account:** W&B checks for an account that\\'s already signed in. If there\\'s no account, we \u001b[0m\n",
       "\u001b[32mautomatically create a new anonymous account and save that API key for the session. 2. **Log results quickly:** The\u001b[0m\n",
       "\u001b[32muser can run and re-run the script, and automatically see results show up in the W&B dashboard UI. These unclaimed \u001b[0m\n",
       "\u001b[32manonymous runs will be available for 7 days. 3. **Claim data when it\\'s useful**: Once the user finds valuable \u001b[0m\n",
       "\u001b[32mresults in W&B, they can easily click a button in the banner at the top of the page to save their run data to a \u001b[0m\n",
       "\u001b[32mreal account. If they don\\'t claim a run, it will be deleted after 7 days. :::caution **Anonymous run links are \u001b[0m\n",
       "\u001b[32msensitive**. These links allow anyone to view and claim the results of an experiment for 7 days, so make sure to \u001b[0m\n",
       "\u001b[32monly share links with people you trust. If you\\'re trying to share results publicly, but hide the author\\'s \u001b[0m\n",
       "\u001b[32midentity, please contact us at support@wandb.com to share more about your use case. ::: ### What happens to users \u001b[0m\n",
       "\u001b[32mwith existing accounts? If you set `\u001b[0m\u001b[32manonymous\u001b[0m\u001b[32m=\u001b[0m\u001b[32m\"allow\"\u001b[0m\u001b[32m` in'\u001b[0m,\n",
       "        \u001b[32m'metadata'\u001b[0m: \u001b[1m{\u001b[0m\u001b[32m'source'\u001b[0m: \u001b[32m'guides/app/features/anon.md'\u001b[0m, \u001b[32m'raw_tokens'\u001b[0m: \u001b[1;36m300\u001b[0m\u001b[1m}\u001b[0m\n",
       "    \u001b[1m}\u001b[0m,\n",
       "    \u001b[1m{\u001b[0m\n",
       "        \u001b[32m'content'\u001b[0m: \u001b[32m'your script, we will check to make sure there\\'s not an existing account first, before creating\u001b[0m\n",
       "\u001b[32man anonymous account. This means that if a W&B user finds your script and runs it, their results will be logged \u001b[0m\n",
       "\u001b[32mcorrectly to their account, just like a normal run. ### What are features that aren\\'t available to anonymous \u001b[0m\n",
       "\u001b[32musers? * **No persistent data**: Runs are only saved for 7 days in an anonymous account. Users can claim anonymous \u001b[0m\n",
       "\u001b[32mrun data by saving it to a real account. !\u001b[0m\u001b[32m[\u001b[0m\u001b[32m]\u001b[0m\u001b[32m(\u001b[0m\u001b[32m@site/static/images/app_ui/anon_mode_no_data.png\u001b[0m\u001b[32m)\u001b[0m\u001b[32m * **No artifact \u001b[0m\n",
       "\u001b[32mlogging**: Runs will print a warning on the command line that you can\\'t log an artifact to an anonymous run. \u001b[0m\n",
       "\u001b[32m!\u001b[0m\u001b[32m[\u001b[0m\u001b[32m]\u001b[0m\u001b[32m(\u001b[0m\u001b[32m@site/static/images/app_ui/anon_example_warning.png\u001b[0m\u001b[32m)\u001b[0m\u001b[32m * **No profile or settings pages**: Certain pages aren\\'t \u001b[0m\n",
       "\u001b[32mavailable in the UI, because they\\'re only useful for real accounts. ## Example usage \u001b[0m\u001b[32m[\u001b[0m\u001b[32mTry the example \u001b[0m\n",
       "\u001b[32mnotebook\u001b[0m\u001b[32m]\u001b[0m\u001b[32m(\u001b[0m\u001b[32mhttp://bit.ly/anon-mode\u001b[0m\u001b[32m)\u001b[0m\u001b[32m to see how anonymous mode works. ```python import wandb # Start a run allowing \u001b[0m\n",
       "\u001b[32manonymous accounts wandb.init\u001b[0m\u001b[32m(\u001b[0m\u001b[32manonymous\u001b[0m\u001b[32m=\u001b[0m\u001b[32m\"allow\"\u001b[0m\u001b[32m)\u001b[0m\u001b[32m # Log results from your training loop wandb.log\u001b[0m\u001b[32m(\u001b[0m\u001b[32m{\u001b[0m\u001b[32m\"acc\": 0.91\u001b[0m\u001b[32m}\u001b[0m\u001b[32m)\u001b[0m\u001b[32m # \u001b[0m\n",
       "\u001b[32mMark the run as finished wandb.finish\u001b[0m\u001b[32m(\u001b[0m\u001b[32m)\u001b[0m\u001b[32m ```'\u001b[0m,\n",
       "        \u001b[32m'metadata'\u001b[0m: \u001b[1m{\u001b[0m\u001b[32m'source'\u001b[0m: \u001b[32m'guides/app/features/anon.md'\u001b[0m, \u001b[32m'raw_tokens'\u001b[0m: \u001b[1;36m170\u001b[0m\u001b[1m}\u001b[0m\n",
       "    \u001b[1m}\u001b[0m\n",
       "\u001b[1m]\u001b[0m\n"
      ]
     },
     "metadata": {},
     "output_type": "display_data"
    }
   ],
   "source": [
    "chunked_data = []\n",
    "for doc in raw_data.rows:\n",
    "    chunks = split_into_chunks(doc[\"content\"])\n",
    "    for chunk in chunks:\n",
    "        chunked_data.append(\n",
    "            {\n",
    "                \"content\": chunk,\n",
    "                \"metadata\": {\n",
    "                    \"source\": doc[\"metadata\"][\"source\"],\n",
    "                    \"raw_tokens\": len(chunk.split()),\n",
    "                },\n",
    "            }\n",
    "        )\n",
    "\n",
    "print(chunked_data[:2])"
   ]
  },
  {
   "cell_type": "markdown",
   "metadata": {},
   "source": [
    "### Cleaning the data\n",
    "\n",
    "Cleaning up data is crucial for most AI pipelines and applies to a RAG/Agentic pipeline as well.\n",
    "Usually, higher quality chunks provided to an LLM generates a higher quality response.\n",
    "\n",
    "here, it is particularly important for several reasons:\n",
    "\n",
    "- **Tokenization issues**: Special tokens can interfere with the model's tokenization process, leading to unexpected interpretations of the text.\n",
    "- **Vocabulary pollution**: Unusual tokens can inflate the model's vocabulary, potentially diluting the importance of meaningful terms.\n",
    "- **Semantic distortion**: Special characters or formatting tokens (e.g., HTML tags) can alter the semantic meaning of sentences if not properly handled.\n",
    "- **Consistency**: Removing or standardizing special tokens ensures consistent representation across different data sources.\n",
    "- **Model efficiency**: Cleaner data often leads to more efficient model training and inference, as the model doesn't need to process irrelevant tokens.\n",
    "\n",
    "By cleaning the data, we ensure that our model focuses on the meaningful content rather than artifacts or noise in the text.\n",
    "\n",
    "We will use a simple function `make_text_tokenization_safe` to remove special tokens from the text.\n",
    "This is a good practice as most LLM providers do not like special tokens in the text."
   ]
  },
  {
   "cell_type": "code",
   "execution_count": 16,
   "metadata": {},
   "outputs": [
    {
     "data": {
      "text/html": [
       "<pre style=\"white-space:pre;overflow-x:auto;line-height:normal;font-family:Menlo,'DejaVu Sans Mono',consolas,'Courier New',monospace\"><span style=\"color: #e3e3dd; text-decoration-color: #e3e3dd; background-color: #272822; font-weight: bold\">  </span><span style=\"color: #656660; text-decoration-color: #656660; background-color: #272822\"> 1 </span><span style=\"color: #66d9ef; text-decoration-color: #66d9ef; background-color: #272822\">def</span><span style=\"color: #f8f8f2; text-decoration-color: #f8f8f2; background-color: #272822\"> </span><span style=\"color: #a6e22e; text-decoration-color: #a6e22e; background-color: #272822\">make_text_tokenization_safe</span><span style=\"color: #f8f8f2; text-decoration-color: #f8f8f2; background-color: #272822\">(</span><span style=\"background-color: #272822\">                                                                              </span>\n",
       "<span style=\"color: #e3e3dd; text-decoration-color: #e3e3dd; background-color: #272822; font-weight: bold\">  </span><span style=\"color: #656660; text-decoration-color: #656660; background-color: #272822\"> 2 </span><span style=\"color: #f8f8f2; text-decoration-color: #f8f8f2; background-color: #272822\">    content: str, special_tokens_set: set </span><span style=\"color: #ff4689; text-decoration-color: #ff4689; background-color: #272822\">=</span><span style=\"color: #f8f8f2; text-decoration-color: #f8f8f2; background-color: #272822\"> get_special_tokens_set()</span><span style=\"background-color: #272822\">                                          </span>\n",
       "<span style=\"color: #e3e3dd; text-decoration-color: #e3e3dd; background-color: #272822; font-weight: bold\">  </span><span style=\"color: #656660; text-decoration-color: #656660; background-color: #272822\"> 3 </span><span style=\"color: #f8f8f2; text-decoration-color: #f8f8f2; background-color: #272822\">) </span><span style=\"color: #ff4689; text-decoration-color: #ff4689; background-color: #272822\">-&gt;</span><span style=\"color: #f8f8f2; text-decoration-color: #f8f8f2; background-color: #272822\"> str:</span><span style=\"background-color: #272822\">                                                                                                     </span>\n",
       "<span style=\"color: #e3e3dd; text-decoration-color: #e3e3dd; background-color: #272822; font-weight: bold\">  </span><span style=\"color: #656660; text-decoration-color: #656660; background-color: #272822\"> 4 </span><span style=\"color: #f8f8f2; text-decoration-color: #f8f8f2; background-color: #272822\">    </span><span style=\"color: #e6db74; text-decoration-color: #e6db74; background-color: #272822\">\"\"\"</span><span style=\"background-color: #272822\">                                                                                                       </span>\n",
       "<span style=\"color: #e3e3dd; text-decoration-color: #e3e3dd; background-color: #272822; font-weight: bold\">  </span><span style=\"color: #656660; text-decoration-color: #656660; background-color: #272822\"> 5 </span><span style=\"color: #e6db74; text-decoration-color: #e6db74; background-color: #272822\">    Makes the text safe for tokenization by removing special tokens.</span><span style=\"background-color: #272822\">                                          </span>\n",
       "<span style=\"color: #e3e3dd; text-decoration-color: #e3e3dd; background-color: #272822; font-weight: bold\">  </span><span style=\"color: #656660; text-decoration-color: #656660; background-color: #272822\"> 6 </span><span style=\"background-color: #272822\">                                                                                                              </span>\n",
       "<span style=\"color: #e3e3dd; text-decoration-color: #e3e3dd; background-color: #272822; font-weight: bold\">  </span><span style=\"color: #656660; text-decoration-color: #656660; background-color: #272822\"> 7 </span><span style=\"color: #e6db74; text-decoration-color: #e6db74; background-color: #272822\">    Args:</span><span style=\"background-color: #272822\">                                                                                                     </span>\n",
       "<span style=\"color: #e3e3dd; text-decoration-color: #e3e3dd; background-color: #272822; font-weight: bold\">  </span><span style=\"color: #656660; text-decoration-color: #656660; background-color: #272822\"> 8 </span><span style=\"color: #e6db74; text-decoration-color: #e6db74; background-color: #272822\">        content: A string containing the text to be processed.</span><span style=\"background-color: #272822\">                                                </span>\n",
       "<span style=\"color: #e3e3dd; text-decoration-color: #e3e3dd; background-color: #272822; font-weight: bold\">  </span><span style=\"color: #656660; text-decoration-color: #656660; background-color: #272822\"> 9 </span><span style=\"color: #e6db74; text-decoration-color: #e6db74; background-color: #272822\">        special_tokens_set: A set of special tokens to be removed from the text.</span><span style=\"background-color: #272822\">                              </span>\n",
       "<span style=\"color: #e3e3dd; text-decoration-color: #e3e3dd; background-color: #272822; font-weight: bold\">  </span><span style=\"color: #656660; text-decoration-color: #656660; background-color: #272822\">10 </span><span style=\"background-color: #272822\">                                                                                                              </span>\n",
       "<span style=\"color: #e3e3dd; text-decoration-color: #e3e3dd; background-color: #272822; font-weight: bold\">  </span><span style=\"color: #656660; text-decoration-color: #656660; background-color: #272822\">11 </span><span style=\"color: #e6db74; text-decoration-color: #e6db74; background-color: #272822\">    Returns:</span><span style=\"background-color: #272822\">                                                                                                  </span>\n",
       "<span style=\"color: #e3e3dd; text-decoration-color: #e3e3dd; background-color: #272822; font-weight: bold\">  </span><span style=\"color: #656660; text-decoration-color: #656660; background-color: #272822\">12 </span><span style=\"color: #e6db74; text-decoration-color: #e6db74; background-color: #272822\">        A string with the special tokens removed.</span><span style=\"background-color: #272822\">                                                             </span>\n",
       "<span style=\"color: #e3e3dd; text-decoration-color: #e3e3dd; background-color: #272822; font-weight: bold\">  </span><span style=\"color: #656660; text-decoration-color: #656660; background-color: #272822\">13 </span><span style=\"color: #e6db74; text-decoration-color: #e6db74; background-color: #272822\">    \"\"\"</span><span style=\"background-color: #272822\">                                                                                                       </span>\n",
       "<span style=\"color: #e3e3dd; text-decoration-color: #e3e3dd; background-color: #272822; font-weight: bold\">  </span><span style=\"color: #656660; text-decoration-color: #656660; background-color: #272822\">14 </span><span style=\"background-color: #272822\">                                                                                                              </span>\n",
       "<span style=\"color: #e3e3dd; text-decoration-color: #e3e3dd; background-color: #272822; font-weight: bold\">  </span><span style=\"color: #656660; text-decoration-color: #656660; background-color: #272822\">15 </span><span style=\"color: #f8f8f2; text-decoration-color: #f8f8f2; background-color: #272822\">    </span><span style=\"color: #66d9ef; text-decoration-color: #66d9ef; background-color: #272822\">def</span><span style=\"color: #f8f8f2; text-decoration-color: #f8f8f2; background-color: #272822\"> </span><span style=\"color: #a6e22e; text-decoration-color: #a6e22e; background-color: #272822\">remove_special_tokens</span><span style=\"color: #f8f8f2; text-decoration-color: #f8f8f2; background-color: #272822\">(text: str) </span><span style=\"color: #ff4689; text-decoration-color: #ff4689; background-color: #272822\">-&gt;</span><span style=\"color: #f8f8f2; text-decoration-color: #f8f8f2; background-color: #272822\"> str:</span><span style=\"background-color: #272822\">                                                              </span>\n",
       "<span style=\"color: #e3e3dd; text-decoration-color: #e3e3dd; background-color: #272822; font-weight: bold\">  </span><span style=\"color: #656660; text-decoration-color: #656660; background-color: #272822\">16 </span><span style=\"color: #f8f8f2; text-decoration-color: #f8f8f2; background-color: #272822\">        </span><span style=\"color: #e6db74; text-decoration-color: #e6db74; background-color: #272822\">\"\"\"</span><span style=\"background-color: #272822\">                                                                                                   </span>\n",
       "<span style=\"color: #e3e3dd; text-decoration-color: #e3e3dd; background-color: #272822; font-weight: bold\">  </span><span style=\"color: #656660; text-decoration-color: #656660; background-color: #272822\">17 </span><span style=\"color: #e6db74; text-decoration-color: #e6db74; background-color: #272822\">        Removes special tokens from the given text.</span><span style=\"background-color: #272822\">                                                           </span>\n",
       "<span style=\"color: #e3e3dd; text-decoration-color: #e3e3dd; background-color: #272822; font-weight: bold\">  </span><span style=\"color: #656660; text-decoration-color: #656660; background-color: #272822\">18 </span><span style=\"background-color: #272822\">                                                                                                              </span>\n",
       "<span style=\"color: #e3e3dd; text-decoration-color: #e3e3dd; background-color: #272822; font-weight: bold\">  </span><span style=\"color: #656660; text-decoration-color: #656660; background-color: #272822\">19 </span><span style=\"color: #e6db74; text-decoration-color: #e6db74; background-color: #272822\">        Args:</span><span style=\"background-color: #272822\">                                                                                                 </span>\n",
       "<span style=\"color: #e3e3dd; text-decoration-color: #e3e3dd; background-color: #272822; font-weight: bold\">  </span><span style=\"color: #656660; text-decoration-color: #656660; background-color: #272822\">20 </span><span style=\"color: #e6db74; text-decoration-color: #e6db74; background-color: #272822\">            text: A string representing the text.</span><span style=\"background-color: #272822\">                                                             </span>\n",
       "<span style=\"color: #e3e3dd; text-decoration-color: #e3e3dd; background-color: #272822; font-weight: bold\">  </span><span style=\"color: #656660; text-decoration-color: #656660; background-color: #272822\">21 </span><span style=\"background-color: #272822\">                                                                                                              </span>\n",
       "<span style=\"color: #e3e3dd; text-decoration-color: #e3e3dd; background-color: #272822; font-weight: bold\">  </span><span style=\"color: #656660; text-decoration-color: #656660; background-color: #272822\">22 </span><span style=\"color: #e6db74; text-decoration-color: #e6db74; background-color: #272822\">        Returns:</span><span style=\"background-color: #272822\">                                                                                              </span>\n",
       "<span style=\"color: #e3e3dd; text-decoration-color: #e3e3dd; background-color: #272822; font-weight: bold\">  </span><span style=\"color: #656660; text-decoration-color: #656660; background-color: #272822\">23 </span><span style=\"color: #e6db74; text-decoration-color: #e6db74; background-color: #272822\">            The text with special tokens removed.</span><span style=\"background-color: #272822\">                                                             </span>\n",
       "<span style=\"color: #e3e3dd; text-decoration-color: #e3e3dd; background-color: #272822; font-weight: bold\">  </span><span style=\"color: #656660; text-decoration-color: #656660; background-color: #272822\">24 </span><span style=\"color: #e6db74; text-decoration-color: #e6db74; background-color: #272822\">        \"\"\"</span><span style=\"background-color: #272822\">                                                                                                   </span>\n",
       "<span style=\"color: #e3e3dd; text-decoration-color: #e3e3dd; background-color: #272822; font-weight: bold\">  </span><span style=\"color: #656660; text-decoration-color: #656660; background-color: #272822\">25 </span><span style=\"color: #f8f8f2; text-decoration-color: #f8f8f2; background-color: #272822\">        </span><span style=\"color: #66d9ef; text-decoration-color: #66d9ef; background-color: #272822\">for</span><span style=\"color: #f8f8f2; text-decoration-color: #f8f8f2; background-color: #272822\"> token </span><span style=\"color: #ff4689; text-decoration-color: #ff4689; background-color: #272822\">in</span><span style=\"color: #f8f8f2; text-decoration-color: #f8f8f2; background-color: #272822\"> special_tokens_set:</span><span style=\"background-color: #272822\">                                                                      </span>\n",
       "<span style=\"color: #e3e3dd; text-decoration-color: #e3e3dd; background-color: #272822; font-weight: bold\">  </span><span style=\"color: #656660; text-decoration-color: #656660; background-color: #272822\">26 </span><span style=\"color: #f8f8f2; text-decoration-color: #f8f8f2; background-color: #272822\">            text </span><span style=\"color: #ff4689; text-decoration-color: #ff4689; background-color: #272822\">=</span><span style=\"color: #f8f8f2; text-decoration-color: #f8f8f2; background-color: #272822\"> text</span><span style=\"color: #ff4689; text-decoration-color: #ff4689; background-color: #272822\">.</span><span style=\"color: #f8f8f2; text-decoration-color: #f8f8f2; background-color: #272822\">replace(token, </span><span style=\"color: #e6db74; text-decoration-color: #e6db74; background-color: #272822\">\"\"</span><span style=\"color: #f8f8f2; text-decoration-color: #f8f8f2; background-color: #272822\">)</span><span style=\"background-color: #272822\">                                                                    </span>\n",
       "<span style=\"color: #e3e3dd; text-decoration-color: #e3e3dd; background-color: #272822; font-weight: bold\">  </span><span style=\"color: #656660; text-decoration-color: #656660; background-color: #272822\">27 </span><span style=\"color: #f8f8f2; text-decoration-color: #f8f8f2; background-color: #272822\">        </span><span style=\"color: #66d9ef; text-decoration-color: #66d9ef; background-color: #272822\">return</span><span style=\"color: #f8f8f2; text-decoration-color: #f8f8f2; background-color: #272822\"> text</span><span style=\"background-color: #272822\">                                                                                           </span>\n",
       "<span style=\"color: #e3e3dd; text-decoration-color: #e3e3dd; background-color: #272822; font-weight: bold\">  </span><span style=\"color: #656660; text-decoration-color: #656660; background-color: #272822\">28 </span><span style=\"background-color: #272822\">                                                                                                              </span>\n",
       "<span style=\"color: #e3e3dd; text-decoration-color: #e3e3dd; background-color: #272822; font-weight: bold\">  </span><span style=\"color: #656660; text-decoration-color: #656660; background-color: #272822\">29 </span><span style=\"color: #f8f8f2; text-decoration-color: #f8f8f2; background-color: #272822\">    cleaned_content </span><span style=\"color: #ff4689; text-decoration-color: #ff4689; background-color: #272822\">=</span><span style=\"color: #f8f8f2; text-decoration-color: #f8f8f2; background-color: #272822\"> remove_special_tokens(content)</span><span style=\"background-color: #272822\">                                                          </span>\n",
       "<span style=\"color: #e3e3dd; text-decoration-color: #e3e3dd; background-color: #272822; font-weight: bold\">  </span><span style=\"color: #656660; text-decoration-color: #656660; background-color: #272822\">30 </span><span style=\"color: #f8f8f2; text-decoration-color: #f8f8f2; background-color: #272822\">    </span><span style=\"color: #66d9ef; text-decoration-color: #66d9ef; background-color: #272822\">return</span><span style=\"color: #f8f8f2; text-decoration-color: #f8f8f2; background-color: #272822\"> cleaned_content</span><span style=\"background-color: #272822\">                                                                                    </span>\n",
       "<span style=\"color: #e3e3dd; text-decoration-color: #e3e3dd; background-color: #272822; font-weight: bold\">  </span><span style=\"color: #656660; text-decoration-color: #656660; background-color: #272822\">31 </span><span style=\"background-color: #272822\">                                                                                                              </span>\n",
       "</pre>\n"
      ],
      "text/plain": [
       "\u001b[1;38;2;227;227;221;48;2;39;40;34m  \u001b[0m\u001b[38;2;101;102;96;48;2;39;40;34m 1 \u001b[0m\u001b[38;2;102;217;239;48;2;39;40;34mdef\u001b[0m\u001b[38;2;248;248;242;48;2;39;40;34m \u001b[0m\u001b[38;2;166;226;46;48;2;39;40;34mmake_text_tokenization_safe\u001b[0m\u001b[38;2;248;248;242;48;2;39;40;34m(\u001b[0m\u001b[48;2;39;40;34m                                                                              \u001b[0m\n",
       "\u001b[1;38;2;227;227;221;48;2;39;40;34m  \u001b[0m\u001b[38;2;101;102;96;48;2;39;40;34m 2 \u001b[0m\u001b[38;2;248;248;242;48;2;39;40;34m    \u001b[0m\u001b[38;2;248;248;242;48;2;39;40;34mcontent\u001b[0m\u001b[38;2;248;248;242;48;2;39;40;34m:\u001b[0m\u001b[38;2;248;248;242;48;2;39;40;34m \u001b[0m\u001b[38;2;248;248;242;48;2;39;40;34mstr\u001b[0m\u001b[38;2;248;248;242;48;2;39;40;34m,\u001b[0m\u001b[38;2;248;248;242;48;2;39;40;34m \u001b[0m\u001b[38;2;248;248;242;48;2;39;40;34mspecial_tokens_set\u001b[0m\u001b[38;2;248;248;242;48;2;39;40;34m:\u001b[0m\u001b[38;2;248;248;242;48;2;39;40;34m \u001b[0m\u001b[38;2;248;248;242;48;2;39;40;34mset\u001b[0m\u001b[38;2;248;248;242;48;2;39;40;34m \u001b[0m\u001b[38;2;255;70;137;48;2;39;40;34m=\u001b[0m\u001b[38;2;248;248;242;48;2;39;40;34m \u001b[0m\u001b[38;2;248;248;242;48;2;39;40;34mget_special_tokens_set\u001b[0m\u001b[38;2;248;248;242;48;2;39;40;34m(\u001b[0m\u001b[38;2;248;248;242;48;2;39;40;34m)\u001b[0m\u001b[48;2;39;40;34m                                          \u001b[0m\n",
       "\u001b[1;38;2;227;227;221;48;2;39;40;34m  \u001b[0m\u001b[38;2;101;102;96;48;2;39;40;34m 3 \u001b[0m\u001b[38;2;248;248;242;48;2;39;40;34m)\u001b[0m\u001b[38;2;248;248;242;48;2;39;40;34m \u001b[0m\u001b[38;2;255;70;137;48;2;39;40;34m-\u001b[0m\u001b[38;2;255;70;137;48;2;39;40;34m>\u001b[0m\u001b[38;2;248;248;242;48;2;39;40;34m \u001b[0m\u001b[38;2;248;248;242;48;2;39;40;34mstr\u001b[0m\u001b[38;2;248;248;242;48;2;39;40;34m:\u001b[0m\u001b[48;2;39;40;34m                                                                                                     \u001b[0m\n",
       "\u001b[1;38;2;227;227;221;48;2;39;40;34m  \u001b[0m\u001b[38;2;101;102;96;48;2;39;40;34m 4 \u001b[0m\u001b[38;2;248;248;242;48;2;39;40;34m    \u001b[0m\u001b[38;2;230;219;116;48;2;39;40;34m\"\"\"\u001b[0m\u001b[48;2;39;40;34m                                                                                                       \u001b[0m\n",
       "\u001b[1;38;2;227;227;221;48;2;39;40;34m  \u001b[0m\u001b[38;2;101;102;96;48;2;39;40;34m 5 \u001b[0m\u001b[38;2;230;219;116;48;2;39;40;34m    Makes the text safe for tokenization by removing special tokens.\u001b[0m\u001b[48;2;39;40;34m                                          \u001b[0m\n",
       "\u001b[1;38;2;227;227;221;48;2;39;40;34m  \u001b[0m\u001b[38;2;101;102;96;48;2;39;40;34m 6 \u001b[0m\u001b[48;2;39;40;34m                                                                                                              \u001b[0m\n",
       "\u001b[1;38;2;227;227;221;48;2;39;40;34m  \u001b[0m\u001b[38;2;101;102;96;48;2;39;40;34m 7 \u001b[0m\u001b[38;2;230;219;116;48;2;39;40;34m    Args:\u001b[0m\u001b[48;2;39;40;34m                                                                                                     \u001b[0m\n",
       "\u001b[1;38;2;227;227;221;48;2;39;40;34m  \u001b[0m\u001b[38;2;101;102;96;48;2;39;40;34m 8 \u001b[0m\u001b[38;2;230;219;116;48;2;39;40;34m        content: A string containing the text to be processed.\u001b[0m\u001b[48;2;39;40;34m                                                \u001b[0m\n",
       "\u001b[1;38;2;227;227;221;48;2;39;40;34m  \u001b[0m\u001b[38;2;101;102;96;48;2;39;40;34m 9 \u001b[0m\u001b[38;2;230;219;116;48;2;39;40;34m        special_tokens_set: A set of special tokens to be removed from the text.\u001b[0m\u001b[48;2;39;40;34m                              \u001b[0m\n",
       "\u001b[1;38;2;227;227;221;48;2;39;40;34m  \u001b[0m\u001b[38;2;101;102;96;48;2;39;40;34m10 \u001b[0m\u001b[48;2;39;40;34m                                                                                                              \u001b[0m\n",
       "\u001b[1;38;2;227;227;221;48;2;39;40;34m  \u001b[0m\u001b[38;2;101;102;96;48;2;39;40;34m11 \u001b[0m\u001b[38;2;230;219;116;48;2;39;40;34m    Returns:\u001b[0m\u001b[48;2;39;40;34m                                                                                                  \u001b[0m\n",
       "\u001b[1;38;2;227;227;221;48;2;39;40;34m  \u001b[0m\u001b[38;2;101;102;96;48;2;39;40;34m12 \u001b[0m\u001b[38;2;230;219;116;48;2;39;40;34m        A string with the special tokens removed.\u001b[0m\u001b[48;2;39;40;34m                                                             \u001b[0m\n",
       "\u001b[1;38;2;227;227;221;48;2;39;40;34m  \u001b[0m\u001b[38;2;101;102;96;48;2;39;40;34m13 \u001b[0m\u001b[38;2;230;219;116;48;2;39;40;34m    \"\"\"\u001b[0m\u001b[48;2;39;40;34m                                                                                                       \u001b[0m\n",
       "\u001b[1;38;2;227;227;221;48;2;39;40;34m  \u001b[0m\u001b[38;2;101;102;96;48;2;39;40;34m14 \u001b[0m\u001b[48;2;39;40;34m                                                                                                              \u001b[0m\n",
       "\u001b[1;38;2;227;227;221;48;2;39;40;34m  \u001b[0m\u001b[38;2;101;102;96;48;2;39;40;34m15 \u001b[0m\u001b[38;2;248;248;242;48;2;39;40;34m    \u001b[0m\u001b[38;2;102;217;239;48;2;39;40;34mdef\u001b[0m\u001b[38;2;248;248;242;48;2;39;40;34m \u001b[0m\u001b[38;2;166;226;46;48;2;39;40;34mremove_special_tokens\u001b[0m\u001b[38;2;248;248;242;48;2;39;40;34m(\u001b[0m\u001b[38;2;248;248;242;48;2;39;40;34mtext\u001b[0m\u001b[38;2;248;248;242;48;2;39;40;34m:\u001b[0m\u001b[38;2;248;248;242;48;2;39;40;34m \u001b[0m\u001b[38;2;248;248;242;48;2;39;40;34mstr\u001b[0m\u001b[38;2;248;248;242;48;2;39;40;34m)\u001b[0m\u001b[38;2;248;248;242;48;2;39;40;34m \u001b[0m\u001b[38;2;255;70;137;48;2;39;40;34m-\u001b[0m\u001b[38;2;255;70;137;48;2;39;40;34m>\u001b[0m\u001b[38;2;248;248;242;48;2;39;40;34m \u001b[0m\u001b[38;2;248;248;242;48;2;39;40;34mstr\u001b[0m\u001b[38;2;248;248;242;48;2;39;40;34m:\u001b[0m\u001b[48;2;39;40;34m                                                              \u001b[0m\n",
       "\u001b[1;38;2;227;227;221;48;2;39;40;34m  \u001b[0m\u001b[38;2;101;102;96;48;2;39;40;34m16 \u001b[0m\u001b[38;2;248;248;242;48;2;39;40;34m        \u001b[0m\u001b[38;2;230;219;116;48;2;39;40;34m\"\"\"\u001b[0m\u001b[48;2;39;40;34m                                                                                                   \u001b[0m\n",
       "\u001b[1;38;2;227;227;221;48;2;39;40;34m  \u001b[0m\u001b[38;2;101;102;96;48;2;39;40;34m17 \u001b[0m\u001b[38;2;230;219;116;48;2;39;40;34m        Removes special tokens from the given text.\u001b[0m\u001b[48;2;39;40;34m                                                           \u001b[0m\n",
       "\u001b[1;38;2;227;227;221;48;2;39;40;34m  \u001b[0m\u001b[38;2;101;102;96;48;2;39;40;34m18 \u001b[0m\u001b[48;2;39;40;34m                                                                                                              \u001b[0m\n",
       "\u001b[1;38;2;227;227;221;48;2;39;40;34m  \u001b[0m\u001b[38;2;101;102;96;48;2;39;40;34m19 \u001b[0m\u001b[38;2;230;219;116;48;2;39;40;34m        Args:\u001b[0m\u001b[48;2;39;40;34m                                                                                                 \u001b[0m\n",
       "\u001b[1;38;2;227;227;221;48;2;39;40;34m  \u001b[0m\u001b[38;2;101;102;96;48;2;39;40;34m20 \u001b[0m\u001b[38;2;230;219;116;48;2;39;40;34m            text: A string representing the text.\u001b[0m\u001b[48;2;39;40;34m                                                             \u001b[0m\n",
       "\u001b[1;38;2;227;227;221;48;2;39;40;34m  \u001b[0m\u001b[38;2;101;102;96;48;2;39;40;34m21 \u001b[0m\u001b[48;2;39;40;34m                                                                                                              \u001b[0m\n",
       "\u001b[1;38;2;227;227;221;48;2;39;40;34m  \u001b[0m\u001b[38;2;101;102;96;48;2;39;40;34m22 \u001b[0m\u001b[38;2;230;219;116;48;2;39;40;34m        Returns:\u001b[0m\u001b[48;2;39;40;34m                                                                                              \u001b[0m\n",
       "\u001b[1;38;2;227;227;221;48;2;39;40;34m  \u001b[0m\u001b[38;2;101;102;96;48;2;39;40;34m23 \u001b[0m\u001b[38;2;230;219;116;48;2;39;40;34m            The text with special tokens removed.\u001b[0m\u001b[48;2;39;40;34m                                                             \u001b[0m\n",
       "\u001b[1;38;2;227;227;221;48;2;39;40;34m  \u001b[0m\u001b[38;2;101;102;96;48;2;39;40;34m24 \u001b[0m\u001b[38;2;230;219;116;48;2;39;40;34m        \"\"\"\u001b[0m\u001b[48;2;39;40;34m                                                                                                   \u001b[0m\n",
       "\u001b[1;38;2;227;227;221;48;2;39;40;34m  \u001b[0m\u001b[38;2;101;102;96;48;2;39;40;34m25 \u001b[0m\u001b[38;2;248;248;242;48;2;39;40;34m        \u001b[0m\u001b[38;2;102;217;239;48;2;39;40;34mfor\u001b[0m\u001b[38;2;248;248;242;48;2;39;40;34m \u001b[0m\u001b[38;2;248;248;242;48;2;39;40;34mtoken\u001b[0m\u001b[38;2;248;248;242;48;2;39;40;34m \u001b[0m\u001b[38;2;255;70;137;48;2;39;40;34min\u001b[0m\u001b[38;2;248;248;242;48;2;39;40;34m \u001b[0m\u001b[38;2;248;248;242;48;2;39;40;34mspecial_tokens_set\u001b[0m\u001b[38;2;248;248;242;48;2;39;40;34m:\u001b[0m\u001b[48;2;39;40;34m                                                                      \u001b[0m\n",
       "\u001b[1;38;2;227;227;221;48;2;39;40;34m  \u001b[0m\u001b[38;2;101;102;96;48;2;39;40;34m26 \u001b[0m\u001b[38;2;248;248;242;48;2;39;40;34m            \u001b[0m\u001b[38;2;248;248;242;48;2;39;40;34mtext\u001b[0m\u001b[38;2;248;248;242;48;2;39;40;34m \u001b[0m\u001b[38;2;255;70;137;48;2;39;40;34m=\u001b[0m\u001b[38;2;248;248;242;48;2;39;40;34m \u001b[0m\u001b[38;2;248;248;242;48;2;39;40;34mtext\u001b[0m\u001b[38;2;255;70;137;48;2;39;40;34m.\u001b[0m\u001b[38;2;248;248;242;48;2;39;40;34mreplace\u001b[0m\u001b[38;2;248;248;242;48;2;39;40;34m(\u001b[0m\u001b[38;2;248;248;242;48;2;39;40;34mtoken\u001b[0m\u001b[38;2;248;248;242;48;2;39;40;34m,\u001b[0m\u001b[38;2;248;248;242;48;2;39;40;34m \u001b[0m\u001b[38;2;230;219;116;48;2;39;40;34m\"\u001b[0m\u001b[38;2;230;219;116;48;2;39;40;34m\"\u001b[0m\u001b[38;2;248;248;242;48;2;39;40;34m)\u001b[0m\u001b[48;2;39;40;34m                                                                    \u001b[0m\n",
       "\u001b[1;38;2;227;227;221;48;2;39;40;34m  \u001b[0m\u001b[38;2;101;102;96;48;2;39;40;34m27 \u001b[0m\u001b[38;2;248;248;242;48;2;39;40;34m        \u001b[0m\u001b[38;2;102;217;239;48;2;39;40;34mreturn\u001b[0m\u001b[38;2;248;248;242;48;2;39;40;34m \u001b[0m\u001b[38;2;248;248;242;48;2;39;40;34mtext\u001b[0m\u001b[48;2;39;40;34m                                                                                           \u001b[0m\n",
       "\u001b[1;38;2;227;227;221;48;2;39;40;34m  \u001b[0m\u001b[38;2;101;102;96;48;2;39;40;34m28 \u001b[0m\u001b[48;2;39;40;34m                                                                                                              \u001b[0m\n",
       "\u001b[1;38;2;227;227;221;48;2;39;40;34m  \u001b[0m\u001b[38;2;101;102;96;48;2;39;40;34m29 \u001b[0m\u001b[38;2;248;248;242;48;2;39;40;34m    \u001b[0m\u001b[38;2;248;248;242;48;2;39;40;34mcleaned_content\u001b[0m\u001b[38;2;248;248;242;48;2;39;40;34m \u001b[0m\u001b[38;2;255;70;137;48;2;39;40;34m=\u001b[0m\u001b[38;2;248;248;242;48;2;39;40;34m \u001b[0m\u001b[38;2;248;248;242;48;2;39;40;34mremove_special_tokens\u001b[0m\u001b[38;2;248;248;242;48;2;39;40;34m(\u001b[0m\u001b[38;2;248;248;242;48;2;39;40;34mcontent\u001b[0m\u001b[38;2;248;248;242;48;2;39;40;34m)\u001b[0m\u001b[48;2;39;40;34m                                                          \u001b[0m\n",
       "\u001b[1;38;2;227;227;221;48;2;39;40;34m  \u001b[0m\u001b[38;2;101;102;96;48;2;39;40;34m30 \u001b[0m\u001b[38;2;248;248;242;48;2;39;40;34m    \u001b[0m\u001b[38;2;102;217;239;48;2;39;40;34mreturn\u001b[0m\u001b[38;2;248;248;242;48;2;39;40;34m \u001b[0m\u001b[38;2;248;248;242;48;2;39;40;34mcleaned_content\u001b[0m\u001b[48;2;39;40;34m                                                                                    \u001b[0m\n",
       "\u001b[1;38;2;227;227;221;48;2;39;40;34m  \u001b[0m\u001b[38;2;101;102;96;48;2;39;40;34m31 \u001b[0m\u001b[48;2;39;40;34m                                                                                                              \u001b[0m\n"
      ]
     },
     "metadata": {},
     "output_type": "display_data"
    }
   ],
   "source": [
    "from scripts.preprocess import make_text_tokenization_safe\n",
    "\n",
    "display_source(make_text_tokenization_safe)"
   ]
  },
  {
   "cell_type": "code",
   "execution_count": 17,
   "metadata": {},
   "outputs": [
    {
     "data": {
      "text/html": [
       "<pre style=\"white-space:pre;overflow-x:auto;line-height:normal;font-family:Menlo,'DejaVu Sans Mono',consolas,'Courier New',monospace\"><span style=\"font-weight: bold\">[</span>\n",
       "    <span style=\"font-weight: bold\">{</span>\n",
       "        <span style=\"color: #008000; text-decoration-color: #008000\">'content'</span>: <span style=\"color: #008000; text-decoration-color: #008000\">'--- description: Log and visualize data without a W&amp;B account displayed_sidebar: default --- # </span>\n",
       "<span style=\"color: #008000; text-decoration-color: #008000\">Anonymous Mode Are you publishing code that you want anyone to be able to run easily? Use Anonymous Mode to let </span>\n",
       "<span style=\"color: #008000; text-decoration-color: #008000\">someone run your code, see a W&amp;B dashboard, and visualize results without needing to create a W&amp;B account first. </span>\n",
       "<span style=\"color: #008000; text-decoration-color: #008000\">Allow results to be logged in Anonymous Mode with `wandb.init(`**`anonymous=\"allow\"`**`)` :::info **Publishing a </span>\n",
       "<span style=\"color: #008000; text-decoration-color: #008000\">paper?** Please [cite W&amp;B](https://docs.wandb.ai/company/academics#bibtex-citation), and if you have questions </span>\n",
       "<span style=\"color: #008000; text-decoration-color: #008000\">about how to make your code accessible while using W&amp;B, reach out to us at support@wandb.com. ::: ### How does </span>\n",
       "<span style=\"color: #008000; text-decoration-color: #008000\">someone without an account see results? If someone runs your script and you have to set `anonymous=\"allow\"`: 1. </span>\n",
       "<span style=\"color: #008000; text-decoration-color: #008000\">**Auto-create temporary account:** W&amp;B checks for an account that\\'s already signed in. If there\\'s no account, we </span>\n",
       "<span style=\"color: #008000; text-decoration-color: #008000\">automatically create a new anonymous account and save that API key for the session. 2. **Log results quickly:** The</span>\n",
       "<span style=\"color: #008000; text-decoration-color: #008000\">user can run and re-run the script, and automatically see results show up in the W&amp;B dashboard UI. These unclaimed </span>\n",
       "<span style=\"color: #008000; text-decoration-color: #008000\">anonymous runs will be available for 7 days. 3. **Claim data when it\\'s useful**: Once the user finds valuable </span>\n",
       "<span style=\"color: #008000; text-decoration-color: #008000\">results in W&amp;B, they can easily click a button in the banner at the top of the page to save their run data to a </span>\n",
       "<span style=\"color: #008000; text-decoration-color: #008000\">real account. If they don\\'t claim a run, it will be deleted after 7 days. :::caution **Anonymous run links are </span>\n",
       "<span style=\"color: #008000; text-decoration-color: #008000\">sensitive**. These links allow anyone to view and claim the results of an experiment for 7 days, so make sure to </span>\n",
       "<span style=\"color: #008000; text-decoration-color: #008000\">only share links with people you trust. If you\\'re trying to share results publicly, but hide the author\\'s </span>\n",
       "<span style=\"color: #008000; text-decoration-color: #008000\">identity, please contact us at support@wandb.com to share more about your use case. ::: ### What happens to users </span>\n",
       "<span style=\"color: #008000; text-decoration-color: #008000\">with existing accounts? If you set `anonymous=\"allow\"` in'</span>,\n",
       "        <span style=\"color: #008000; text-decoration-color: #008000\">'metadata'</span>: <span style=\"font-weight: bold\">{</span><span style=\"color: #008000; text-decoration-color: #008000\">'source'</span>: <span style=\"color: #008000; text-decoration-color: #008000\">'guides/app/features/anon.md'</span>, <span style=\"color: #008000; text-decoration-color: #008000\">'raw_tokens'</span>: <span style=\"color: #008080; text-decoration-color: #008080; font-weight: bold\">300</span>, <span style=\"color: #008000; text-decoration-color: #008000\">'cleaned_tokens'</span>: <span style=\"color: #008080; text-decoration-color: #008080; font-weight: bold\">300</span><span style=\"font-weight: bold\">}</span>,\n",
       "        <span style=\"color: #008000; text-decoration-color: #008000\">'cleaned_content'</span>: <span style=\"color: #008000; text-decoration-color: #008000\">'--- description: Log and visualize data without a W&amp;B account displayed_sidebar: </span>\n",
       "<span style=\"color: #008000; text-decoration-color: #008000\">default --- # Anonymous Mode Are you publishing code that you want anyone to be able to run easily? Use Anonymous </span>\n",
       "<span style=\"color: #008000; text-decoration-color: #008000\">Mode to let someone run your code, see a W&amp;B dashboard, and visualize results without needing to create a W&amp;B </span>\n",
       "<span style=\"color: #008000; text-decoration-color: #008000\">account first. Allow results to be logged in Anonymous Mode with `wandb.init(`**`anonymous=\"allow\"`**`)` :::info </span>\n",
       "<span style=\"color: #008000; text-decoration-color: #008000\">**Publishing a paper?** Please [cite W&amp;B](https://docs.wandb.ai/company/academics#bibtex-citation), and if you have</span>\n",
       "<span style=\"color: #008000; text-decoration-color: #008000\">questions about how to make your code accessible while using W&amp;B, reach out to us at support@wandb.com. ::: ### How</span>\n",
       "<span style=\"color: #008000; text-decoration-color: #008000\">does someone without an account see results? If someone runs your script and you have to set `anonymous=\"allow\"`: </span>\n",
       "<span style=\"color: #008000; text-decoration-color: #008000\">1. **Auto-create temporary account:** W&amp;B checks for an account that\\'s already signed in. If there\\'s no account, </span>\n",
       "<span style=\"color: #008000; text-decoration-color: #008000\">we automatically create a new anonymous account and save that API key for the session. 2. **Log results quickly:** </span>\n",
       "<span style=\"color: #008000; text-decoration-color: #008000\">The user can run and re-run the script, and automatically see results show up in the W&amp;B dashboard UI. These </span>\n",
       "<span style=\"color: #008000; text-decoration-color: #008000\">unclaimed anonymous runs will be available for 7 days. 3. **Claim data when it\\'s useful**: Once the user finds </span>\n",
       "<span style=\"color: #008000; text-decoration-color: #008000\">valuable results in W&amp;B, they can easily click a button in the banner at the top of the page to save their run data</span>\n",
       "<span style=\"color: #008000; text-decoration-color: #008000\">to a real account. If they don\\'t claim a run, it will be deleted after 7 days. :::caution **Anonymous run links </span>\n",
       "<span style=\"color: #008000; text-decoration-color: #008000\">are sensitive**. These links allow anyone to view and claim the results of an experiment for 7 days, so make sure </span>\n",
       "<span style=\"color: #008000; text-decoration-color: #008000\">to only share links with people you trust. If you\\'re trying to share results publicly, but hide the author\\'s </span>\n",
       "<span style=\"color: #008000; text-decoration-color: #008000\">identity, please contact us at support@wandb.com to share more about your use case. ::: ### What happens to users </span>\n",
       "<span style=\"color: #008000; text-decoration-color: #008000\">with existing accounts? If you set `anonymous=\"allow\"` in'</span>\n",
       "    <span style=\"font-weight: bold\">}</span>,\n",
       "    <span style=\"font-weight: bold\">{</span>\n",
       "        <span style=\"color: #008000; text-decoration-color: #008000\">'content'</span>: <span style=\"color: #008000; text-decoration-color: #008000\">'your script, we will check to make sure there\\'s not an existing account first, before creating</span>\n",
       "<span style=\"color: #008000; text-decoration-color: #008000\">an anonymous account. This means that if a W&amp;B user finds your script and runs it, their results will be logged </span>\n",
       "<span style=\"color: #008000; text-decoration-color: #008000\">correctly to their account, just like a normal run. ### What are features that aren\\'t available to anonymous </span>\n",
       "<span style=\"color: #008000; text-decoration-color: #008000\">users? * **No persistent data**: Runs are only saved for 7 days in an anonymous account. Users can claim anonymous </span>\n",
       "<span style=\"color: #008000; text-decoration-color: #008000\">run data by saving it to a real account. ![](@site/static/images/app_ui/anon_mode_no_data.png) * **No artifact </span>\n",
       "<span style=\"color: #008000; text-decoration-color: #008000\">logging**: Runs will print a warning on the command line that you can\\'t log an artifact to an anonymous run. </span>\n",
       "<span style=\"color: #008000; text-decoration-color: #008000\">![](@site/static/images/app_ui/anon_example_warning.png) * **No profile or settings pages**: Certain pages aren\\'t </span>\n",
       "<span style=\"color: #008000; text-decoration-color: #008000\">available in the UI, because they\\'re only useful for real accounts. ## Example usage [Try the example </span>\n",
       "<span style=\"color: #008000; text-decoration-color: #008000\">notebook](http://bit.ly/anon-mode) to see how anonymous mode works. ```python import wandb # Start a run allowing </span>\n",
       "<span style=\"color: #008000; text-decoration-color: #008000\">anonymous accounts wandb.init(anonymous=\"allow\") # Log results from your training loop wandb.log({\"acc\": 0.91}) # </span>\n",
       "<span style=\"color: #008000; text-decoration-color: #008000\">Mark the run as finished wandb.finish() ```'</span>,\n",
       "        <span style=\"color: #008000; text-decoration-color: #008000\">'metadata'</span>: <span style=\"font-weight: bold\">{</span><span style=\"color: #008000; text-decoration-color: #008000\">'source'</span>: <span style=\"color: #008000; text-decoration-color: #008000\">'guides/app/features/anon.md'</span>, <span style=\"color: #008000; text-decoration-color: #008000\">'raw_tokens'</span>: <span style=\"color: #008080; text-decoration-color: #008080; font-weight: bold\">170</span>, <span style=\"color: #008000; text-decoration-color: #008000\">'cleaned_tokens'</span>: <span style=\"color: #008080; text-decoration-color: #008080; font-weight: bold\">170</span><span style=\"font-weight: bold\">}</span>,\n",
       "        <span style=\"color: #008000; text-decoration-color: #008000\">'cleaned_content'</span>: <span style=\"color: #008000; text-decoration-color: #008000\">'your script, we will check to make sure there\\'s not an existing account first, before </span>\n",
       "<span style=\"color: #008000; text-decoration-color: #008000\">creating an anonymous account. This means that if a W&amp;B user finds your script and runs it, their results will be </span>\n",
       "<span style=\"color: #008000; text-decoration-color: #008000\">logged correctly to their account, just like a normal run. ### What are features that aren\\'t available to </span>\n",
       "<span style=\"color: #008000; text-decoration-color: #008000\">anonymous users? * **No persistent data**: Runs are only saved for 7 days in an anonymous account. Users can claim </span>\n",
       "<span style=\"color: #008000; text-decoration-color: #008000\">anonymous run data by saving it to a real account. ![](@site/static/images/app_ui/anon_mode_no_data.png) * **No </span>\n",
       "<span style=\"color: #008000; text-decoration-color: #008000\">artifact logging**: Runs will print a warning on the command line that you can\\'t log an artifact to an anonymous </span>\n",
       "<span style=\"color: #008000; text-decoration-color: #008000\">run. ![](@site/static/images/app_ui/anon_example_warning.png) * **No profile or settings pages**: Certain pages </span>\n",
       "<span style=\"color: #008000; text-decoration-color: #008000\">aren\\'t available in the UI, because they\\'re only useful for real accounts. ## Example usage [Try the example </span>\n",
       "<span style=\"color: #008000; text-decoration-color: #008000\">notebook](http://bit.ly/anon-mode) to see how anonymous mode works. ```python import wandb # Start a run allowing </span>\n",
       "<span style=\"color: #008000; text-decoration-color: #008000\">anonymous accounts wandb.init(anonymous=\"allow\") # Log results from your training loop wandb.log({\"acc\": 0.91}) # </span>\n",
       "<span style=\"color: #008000; text-decoration-color: #008000\">Mark the run as finished wandb.finish() ```'</span>\n",
       "    <span style=\"font-weight: bold\">}</span>\n",
       "<span style=\"font-weight: bold\">]</span>\n",
       "</pre>\n"
      ],
      "text/plain": [
       "\u001b[1m[\u001b[0m\n",
       "    \u001b[1m{\u001b[0m\n",
       "        \u001b[32m'content'\u001b[0m: \u001b[32m'--- description: Log and visualize data without a W&B account displayed_sidebar: default --- # \u001b[0m\n",
       "\u001b[32mAnonymous Mode Are you publishing code that you want anyone to be able to run easily? Use Anonymous Mode to let \u001b[0m\n",
       "\u001b[32msomeone run your code, see a W&B dashboard, and visualize results without needing to create a W&B account first. \u001b[0m\n",
       "\u001b[32mAllow results to be logged in Anonymous Mode with `wandb.init\u001b[0m\u001b[32m(\u001b[0m\u001b[32m`**`\u001b[0m\u001b[32manonymous\u001b[0m\u001b[32m=\u001b[0m\u001b[32m\"allow\"\u001b[0m\u001b[32m`**`\u001b[0m\u001b[32m)\u001b[0m\u001b[32m` :::info **Publishing a \u001b[0m\n",
       "\u001b[32mpaper?** Please \u001b[0m\u001b[32m[\u001b[0m\u001b[32mcite W&B\u001b[0m\u001b[32m]\u001b[0m\u001b[32m(\u001b[0m\u001b[32mhttps://docs.wandb.ai/company/academics#bibtex-citation\u001b[0m\u001b[32m)\u001b[0m\u001b[32m, and if you have questions \u001b[0m\n",
       "\u001b[32mabout how to make your code accessible while using W&B, reach out to us at support@wandb.com. ::: ### How does \u001b[0m\n",
       "\u001b[32msomeone without an account see results? If someone runs your script and you have to set `\u001b[0m\u001b[32manonymous\u001b[0m\u001b[32m=\u001b[0m\u001b[32m\"allow\"\u001b[0m\u001b[32m`: 1. \u001b[0m\n",
       "\u001b[32m**Auto-create temporary account:** W&B checks for an account that\\'s already signed in. If there\\'s no account, we \u001b[0m\n",
       "\u001b[32mautomatically create a new anonymous account and save that API key for the session. 2. **Log results quickly:** The\u001b[0m\n",
       "\u001b[32muser can run and re-run the script, and automatically see results show up in the W&B dashboard UI. These unclaimed \u001b[0m\n",
       "\u001b[32manonymous runs will be available for 7 days. 3. **Claim data when it\\'s useful**: Once the user finds valuable \u001b[0m\n",
       "\u001b[32mresults in W&B, they can easily click a button in the banner at the top of the page to save their run data to a \u001b[0m\n",
       "\u001b[32mreal account. If they don\\'t claim a run, it will be deleted after 7 days. :::caution **Anonymous run links are \u001b[0m\n",
       "\u001b[32msensitive**. These links allow anyone to view and claim the results of an experiment for 7 days, so make sure to \u001b[0m\n",
       "\u001b[32monly share links with people you trust. If you\\'re trying to share results publicly, but hide the author\\'s \u001b[0m\n",
       "\u001b[32midentity, please contact us at support@wandb.com to share more about your use case. ::: ### What happens to users \u001b[0m\n",
       "\u001b[32mwith existing accounts? If you set `\u001b[0m\u001b[32manonymous\u001b[0m\u001b[32m=\u001b[0m\u001b[32m\"allow\"\u001b[0m\u001b[32m` in'\u001b[0m,\n",
       "        \u001b[32m'metadata'\u001b[0m: \u001b[1m{\u001b[0m\u001b[32m'source'\u001b[0m: \u001b[32m'guides/app/features/anon.md'\u001b[0m, \u001b[32m'raw_tokens'\u001b[0m: \u001b[1;36m300\u001b[0m, \u001b[32m'cleaned_tokens'\u001b[0m: \u001b[1;36m300\u001b[0m\u001b[1m}\u001b[0m,\n",
       "        \u001b[32m'cleaned_content'\u001b[0m: \u001b[32m'--- description: Log and visualize data without a W&B account displayed_sidebar: \u001b[0m\n",
       "\u001b[32mdefault --- # Anonymous Mode Are you publishing code that you want anyone to be able to run easily? Use Anonymous \u001b[0m\n",
       "\u001b[32mMode to let someone run your code, see a W&B dashboard, and visualize results without needing to create a W&B \u001b[0m\n",
       "\u001b[32maccount first. Allow results to be logged in Anonymous Mode with `wandb.init\u001b[0m\u001b[32m(\u001b[0m\u001b[32m`**`\u001b[0m\u001b[32manonymous\u001b[0m\u001b[32m=\u001b[0m\u001b[32m\"allow\"\u001b[0m\u001b[32m`**`\u001b[0m\u001b[32m)\u001b[0m\u001b[32m` :::info \u001b[0m\n",
       "\u001b[32m**Publishing a paper?** Please \u001b[0m\u001b[32m[\u001b[0m\u001b[32mcite W&B\u001b[0m\u001b[32m]\u001b[0m\u001b[32m(\u001b[0m\u001b[32mhttps://docs.wandb.ai/company/academics#bibtex-citation\u001b[0m\u001b[32m)\u001b[0m\u001b[32m, and if you have\u001b[0m\n",
       "\u001b[32mquestions about how to make your code accessible while using W&B, reach out to us at support@wandb.com. ::: ### How\u001b[0m\n",
       "\u001b[32mdoes someone without an account see results? If someone runs your script and you have to set `\u001b[0m\u001b[32manonymous\u001b[0m\u001b[32m=\u001b[0m\u001b[32m\"allow\"\u001b[0m\u001b[32m`: \u001b[0m\n",
       "\u001b[32m1. **Auto-create temporary account:** W&B checks for an account that\\'s already signed in. If there\\'s no account, \u001b[0m\n",
       "\u001b[32mwe automatically create a new anonymous account and save that API key for the session. 2. **Log results quickly:** \u001b[0m\n",
       "\u001b[32mThe user can run and re-run the script, and automatically see results show up in the W&B dashboard UI. These \u001b[0m\n",
       "\u001b[32munclaimed anonymous runs will be available for 7 days. 3. **Claim data when it\\'s useful**: Once the user finds \u001b[0m\n",
       "\u001b[32mvaluable results in W&B, they can easily click a button in the banner at the top of the page to save their run data\u001b[0m\n",
       "\u001b[32mto a real account. If they don\\'t claim a run, it will be deleted after 7 days. :::caution **Anonymous run links \u001b[0m\n",
       "\u001b[32mare sensitive**. These links allow anyone to view and claim the results of an experiment for 7 days, so make sure \u001b[0m\n",
       "\u001b[32mto only share links with people you trust. If you\\'re trying to share results publicly, but hide the author\\'s \u001b[0m\n",
       "\u001b[32midentity, please contact us at support@wandb.com to share more about your use case. ::: ### What happens to users \u001b[0m\n",
       "\u001b[32mwith existing accounts? If you set `\u001b[0m\u001b[32manonymous\u001b[0m\u001b[32m=\u001b[0m\u001b[32m\"allow\"\u001b[0m\u001b[32m` in'\u001b[0m\n",
       "    \u001b[1m}\u001b[0m,\n",
       "    \u001b[1m{\u001b[0m\n",
       "        \u001b[32m'content'\u001b[0m: \u001b[32m'your script, we will check to make sure there\\'s not an existing account first, before creating\u001b[0m\n",
       "\u001b[32man anonymous account. This means that if a W&B user finds your script and runs it, their results will be logged \u001b[0m\n",
       "\u001b[32mcorrectly to their account, just like a normal run. ### What are features that aren\\'t available to anonymous \u001b[0m\n",
       "\u001b[32musers? * **No persistent data**: Runs are only saved for 7 days in an anonymous account. Users can claim anonymous \u001b[0m\n",
       "\u001b[32mrun data by saving it to a real account. !\u001b[0m\u001b[32m[\u001b[0m\u001b[32m]\u001b[0m\u001b[32m(\u001b[0m\u001b[32m@site/static/images/app_ui/anon_mode_no_data.png\u001b[0m\u001b[32m)\u001b[0m\u001b[32m * **No artifact \u001b[0m\n",
       "\u001b[32mlogging**: Runs will print a warning on the command line that you can\\'t log an artifact to an anonymous run. \u001b[0m\n",
       "\u001b[32m!\u001b[0m\u001b[32m[\u001b[0m\u001b[32m]\u001b[0m\u001b[32m(\u001b[0m\u001b[32m@site/static/images/app_ui/anon_example_warning.png\u001b[0m\u001b[32m)\u001b[0m\u001b[32m * **No profile or settings pages**: Certain pages aren\\'t \u001b[0m\n",
       "\u001b[32mavailable in the UI, because they\\'re only useful for real accounts. ## Example usage \u001b[0m\u001b[32m[\u001b[0m\u001b[32mTry the example \u001b[0m\n",
       "\u001b[32mnotebook\u001b[0m\u001b[32m]\u001b[0m\u001b[32m(\u001b[0m\u001b[32mhttp://bit.ly/anon-mode\u001b[0m\u001b[32m)\u001b[0m\u001b[32m to see how anonymous mode works. ```python import wandb # Start a run allowing \u001b[0m\n",
       "\u001b[32manonymous accounts wandb.init\u001b[0m\u001b[32m(\u001b[0m\u001b[32manonymous\u001b[0m\u001b[32m=\u001b[0m\u001b[32m\"allow\"\u001b[0m\u001b[32m)\u001b[0m\u001b[32m # Log results from your training loop wandb.log\u001b[0m\u001b[32m(\u001b[0m\u001b[32m{\u001b[0m\u001b[32m\"acc\": 0.91\u001b[0m\u001b[32m}\u001b[0m\u001b[32m)\u001b[0m\u001b[32m # \u001b[0m\n",
       "\u001b[32mMark the run as finished wandb.finish\u001b[0m\u001b[32m(\u001b[0m\u001b[32m)\u001b[0m\u001b[32m ```'\u001b[0m,\n",
       "        \u001b[32m'metadata'\u001b[0m: \u001b[1m{\u001b[0m\u001b[32m'source'\u001b[0m: \u001b[32m'guides/app/features/anon.md'\u001b[0m, \u001b[32m'raw_tokens'\u001b[0m: \u001b[1;36m170\u001b[0m, \u001b[32m'cleaned_tokens'\u001b[0m: \u001b[1;36m170\u001b[0m\u001b[1m}\u001b[0m,\n",
       "        \u001b[32m'cleaned_content'\u001b[0m: \u001b[32m'your script, we will check to make sure there\\'s not an existing account first, before \u001b[0m\n",
       "\u001b[32mcreating an anonymous account. This means that if a W&B user finds your script and runs it, their results will be \u001b[0m\n",
       "\u001b[32mlogged correctly to their account, just like a normal run. ### What are features that aren\\'t available to \u001b[0m\n",
       "\u001b[32manonymous users? * **No persistent data**: Runs are only saved for 7 days in an anonymous account. Users can claim \u001b[0m\n",
       "\u001b[32manonymous run data by saving it to a real account. !\u001b[0m\u001b[32m[\u001b[0m\u001b[32m]\u001b[0m\u001b[32m(\u001b[0m\u001b[32m@site/static/images/app_ui/anon_mode_no_data.png\u001b[0m\u001b[32m)\u001b[0m\u001b[32m * **No \u001b[0m\n",
       "\u001b[32martifact logging**: Runs will print a warning on the command line that you can\\'t log an artifact to an anonymous \u001b[0m\n",
       "\u001b[32mrun. !\u001b[0m\u001b[32m[\u001b[0m\u001b[32m]\u001b[0m\u001b[32m(\u001b[0m\u001b[32m@site/static/images/app_ui/anon_example_warning.png\u001b[0m\u001b[32m)\u001b[0m\u001b[32m * **No profile or settings pages**: Certain pages \u001b[0m\n",
       "\u001b[32maren\\'t available in the UI, because they\\'re only useful for real accounts. ## Example usage \u001b[0m\u001b[32m[\u001b[0m\u001b[32mTry the example \u001b[0m\n",
       "\u001b[32mnotebook\u001b[0m\u001b[32m]\u001b[0m\u001b[32m(\u001b[0m\u001b[32mhttp://bit.ly/anon-mode\u001b[0m\u001b[32m)\u001b[0m\u001b[32m to see how anonymous mode works. ```python import wandb # Start a run allowing \u001b[0m\n",
       "\u001b[32manonymous accounts wandb.init\u001b[0m\u001b[32m(\u001b[0m\u001b[32manonymous\u001b[0m\u001b[32m=\u001b[0m\u001b[32m\"allow\"\u001b[0m\u001b[32m)\u001b[0m\u001b[32m # Log results from your training loop wandb.log\u001b[0m\u001b[32m(\u001b[0m\u001b[32m{\u001b[0m\u001b[32m\"acc\": 0.91\u001b[0m\u001b[32m}\u001b[0m\u001b[32m)\u001b[0m\u001b[32m # \u001b[0m\n",
       "\u001b[32mMark the run as finished wandb.finish\u001b[0m\u001b[32m(\u001b[0m\u001b[32m)\u001b[0m\u001b[32m ```'\u001b[0m\n",
       "    \u001b[1m}\u001b[0m\n",
       "\u001b[1m]\u001b[0m\n"
      ]
     },
     "metadata": {},
     "output_type": "display_data"
    }
   ],
   "source": [
    "cleaned_data = []\n",
    "for doc in chunked_data:\n",
    "    cleaned_doc = doc.copy()\n",
    "    cleaned_doc[\"cleaned_content\"] = make_text_tokenization_safe(doc[\"content\"])\n",
    "    cleaned_doc[\"metadata\"][\"cleaned_tokens\"] = len(\n",
    "        cleaned_doc[\"cleaned_content\"].split()\n",
    "    )\n",
    "    cleaned_data.append(cleaned_doc)\n",
    "print(cleaned_data[:2])"
   ]
  },
  {
   "cell_type": "markdown",
   "metadata": {},
   "source": [
    "Again we will store the cleaned data as a Weave Dataset named `chunked_data`."
   ]
  },
  {
   "cell_type": "code",
   "execution_count": 18,
   "metadata": {},
   "outputs": [
    {
     "name": "stdout",
     "output_type": "stream",
     "text": [
      "📦 Published to https://wandb.ai/elshehawy/rag-course/weave/objects/chunked_data/versions/grMsWPBotYOknW2YYt6PnO9131x9766BTQ3KrhAHcpk\n"
     ]
    },
    {
     "data": {
      "text/plain": [
       "ObjectRef(entity='elshehawy', project='rag-course', name='chunked_data', _digest='grMsWPBotYOknW2YYt6PnO9131x9766BTQ3KrhAHcpk', _extra=())"
      ]
     },
     "execution_count": 18,
     "metadata": {},
     "output_type": "execute_result"
    }
   ],
   "source": [
    "dataset = weave.Dataset(name=\"chunked_data\", rows=cleaned_data)\n",
    "weave.publish(dataset)"
   ]
  },
  {
   "cell_type": "markdown",
   "metadata": {},
   "source": [
    "![chunked_data](../images/01_chunked_data.png)"
   ]
  },
  {
   "cell_type": "markdown",
   "metadata": {},
   "source": [
    "## Vectorizing the data\n",
    "\n",
    "One of the key ingredient of most retrieval systems is to represent the given modality (text in our case) as a vector.\n",
    "\n",
    "This vector is a numerical representation representing the \"content\" of that modality (text).\n",
    "\n",
    "Text vectorization (text to vector) can be done using various techniques like [bag-of-words](https://en.wikipedia.org/wiki/Bag-of-words_model), [TF-IDF](https://en.wikipedia.org/wiki/Tf–idf) (Term Frequency-Inverse Document Frequency), and embeddings like [Word2Vec](https://en.wikipedia.org/wiki/Word2vec), [GloVe](https://nlp.stanford.edu/projects/glove/), and transformer based architectures like BERT and more, which capture the semantic meaning and relationships between words or sentences.\n",
    "\n",
    "\n",
    "In this chapter, we'll use TF-IDF (Term Frequency-Inverse Document Frequency) for vectorizing our contents. Here's why:\n",
    "\n",
    "- **Simplicity**: TF-IDF is straightforward to implement and understand, making it an excellent starting point for RAG systems.\n",
    "- **Efficiency**: It's computationally lightweight, allowing for quick processing of large document collections.\n",
    "- **No training required**: Unlike embedding models, TF-IDF doesn't need pre-training, making it easy to get started quickly.\n",
    "- **Interpretability**: The resulting vectors are directly related to word frequencies, making them easy to interpret.\n",
    "\n",
    "While more advanced methods like embeddings often provide better performance, especially for semantic understanding, we'll explore these in later chapters as we progress through the course.\n",
    "\n",
    "Let's download the `cleaned_data` artifact and use it to generate vectors for our chunks."
   ]
  },
  {
   "cell_type": "code",
   "execution_count": 19,
   "metadata": {},
   "outputs": [
    {
     "data": {
      "text/html": [
       "<pre style=\"white-space:pre;overflow-x:auto;line-height:normal;font-family:Menlo,'DejaVu Sans Mono',consolas,'Courier New',monospace\"><span style=\"font-weight: bold\">[</span>\n",
       "    <span style=\"color: #800080; text-decoration-color: #800080; font-weight: bold\">WeaveDict</span><span style=\"font-weight: bold\">({</span><span style=\"color: #008000; text-decoration-color: #008000\">'content'</span>: <span style=\"color: #008000; text-decoration-color: #008000\">'--- description: Log and visualize data without a W&amp;B account displayed_sidebar: default</span>\n",
       "<span style=\"color: #008000; text-decoration-color: #008000\">--- # Anonymous Mode Are you publishing code that you want anyone to be able to run easily? Use Anonymous Mode to </span>\n",
       "<span style=\"color: #008000; text-decoration-color: #008000\">let someone run your code, see a W&amp;B dashboard, and visualize results without needing to create a W&amp;B account </span>\n",
       "<span style=\"color: #008000; text-decoration-color: #008000\">first. Allow results to be logged in Anonymous Mode with `wandb.init(`**`anonymous=\"allow\"`**`)` :::info </span>\n",
       "<span style=\"color: #008000; text-decoration-color: #008000\">**Publishing a paper?** Please [cite W&amp;B](https://docs.wandb.ai/company/academics#bibtex-citation), and if you have</span>\n",
       "<span style=\"color: #008000; text-decoration-color: #008000\">questions about how to make your code accessible while using W&amp;B, reach out to us at support@wandb.com. ::: ### How</span>\n",
       "<span style=\"color: #008000; text-decoration-color: #008000\">does someone without an account see results? If someone runs your script and you have to set `anonymous=\"allow\"`: </span>\n",
       "<span style=\"color: #008000; text-decoration-color: #008000\">1. **Auto-create temporary account:** W&amp;B checks for an account that\\'s already signed in. If there\\'s no account, </span>\n",
       "<span style=\"color: #008000; text-decoration-color: #008000\">we automatically create a new anonymous account and save that API key for the session. 2. **Log results quickly:** </span>\n",
       "<span style=\"color: #008000; text-decoration-color: #008000\">The user can run and re-run the script, and automatically see results show up in the W&amp;B dashboard UI. These </span>\n",
       "<span style=\"color: #008000; text-decoration-color: #008000\">unclaimed anonymous runs will be available for 7 days. 3. **Claim data when it\\'s useful**: Once the user finds </span>\n",
       "<span style=\"color: #008000; text-decoration-color: #008000\">valuable results in W&amp;B, they can easily click a button in the banner at the top of the page to save their run data</span>\n",
       "<span style=\"color: #008000; text-decoration-color: #008000\">to a real account. If they don\\'t claim a run, it will be deleted after 7 days. :::caution **Anonymous run links </span>\n",
       "<span style=\"color: #008000; text-decoration-color: #008000\">are sensitive**. These links allow anyone to view and claim the results of an experiment for 7 days, so make sure </span>\n",
       "<span style=\"color: #008000; text-decoration-color: #008000\">to only share links with people you trust. If you\\'re trying to share results publicly, but hide the author\\'s </span>\n",
       "<span style=\"color: #008000; text-decoration-color: #008000\">identity, please contact us at support@wandb.com to share more about your use case. ::: ### What happens to users </span>\n",
       "<span style=\"color: #008000; text-decoration-color: #008000\">with existing accounts? If you set `anonymous=\"allow\"` in'</span>, <span style=\"color: #008000; text-decoration-color: #008000\">'metadata'</span>: <span style=\"font-weight: bold\">{</span><span style=\"color: #008000; text-decoration-color: #008000\">'source'</span>: <span style=\"color: #008000; text-decoration-color: #008000\">'guides/app/features/anon.md'</span>, \n",
       "<span style=\"color: #008000; text-decoration-color: #008000\">'raw_tokens'</span>: <span style=\"color: #008080; text-decoration-color: #008080; font-weight: bold\">300</span>, <span style=\"color: #008000; text-decoration-color: #008000\">'cleaned_tokens'</span>: <span style=\"color: #008080; text-decoration-color: #008080; font-weight: bold\">300</span><span style=\"font-weight: bold\">}</span>, <span style=\"color: #008000; text-decoration-color: #008000\">'cleaned_content'</span>: <span style=\"color: #008000; text-decoration-color: #008000\">'--- description: Log and visualize data without a </span>\n",
       "<span style=\"color: #008000; text-decoration-color: #008000\">W&amp;B account displayed_sidebar: default --- # Anonymous Mode Are you publishing code that you want anyone to be able</span>\n",
       "<span style=\"color: #008000; text-decoration-color: #008000\">to run easily? Use Anonymous Mode to let someone run your code, see a W&amp;B dashboard, and visualize results without </span>\n",
       "<span style=\"color: #008000; text-decoration-color: #008000\">needing to create a W&amp;B account first. Allow results to be logged in Anonymous Mode with </span>\n",
       "<span style=\"color: #008000; text-decoration-color: #008000\">`wandb.init(`**`anonymous=\"allow\"`**`)` :::info **Publishing a paper?** Please [cite </span>\n",
       "<span style=\"color: #008000; text-decoration-color: #008000\">W&amp;B](https://docs.wandb.ai/company/academics#bibtex-citation), and if you have questions about how to make your </span>\n",
       "<span style=\"color: #008000; text-decoration-color: #008000\">code accessible while using W&amp;B, reach out to us at support@wandb.com. ::: ### How does someone without an account </span>\n",
       "<span style=\"color: #008000; text-decoration-color: #008000\">see results? If someone runs your script and you have to set `anonymous=\"allow\"`: 1. **Auto-create temporary </span>\n",
       "<span style=\"color: #008000; text-decoration-color: #008000\">account:** W&amp;B checks for an account that\\'s already signed in. If there\\'s no account, we automatically create a </span>\n",
       "<span style=\"color: #008000; text-decoration-color: #008000\">new anonymous account and save that API key for the session. 2. **Log results quickly:** The user can run and </span>\n",
       "<span style=\"color: #008000; text-decoration-color: #008000\">re-run the script, and automatically see results show up in the W&amp;B dashboard UI. These unclaimed anonymous runs </span>\n",
       "<span style=\"color: #008000; text-decoration-color: #008000\">will be available for 7 days. 3. **Claim data when it\\'s useful**: Once the user finds valuable results in W&amp;B, </span>\n",
       "<span style=\"color: #008000; text-decoration-color: #008000\">they can easily click a button in the banner at the top of the page to save their run data to a real account. If </span>\n",
       "<span style=\"color: #008000; text-decoration-color: #008000\">they don\\'t claim a run, it will be deleted after 7 days. :::caution **Anonymous run links are sensitive**. These </span>\n",
       "<span style=\"color: #008000; text-decoration-color: #008000\">links allow anyone to view and claim the results of an experiment for 7 days, so make sure to only share links with</span>\n",
       "<span style=\"color: #008000; text-decoration-color: #008000\">people you trust. If you\\'re trying to share results publicly, but hide the author\\'s identity, please contact us </span>\n",
       "<span style=\"color: #008000; text-decoration-color: #008000\">at support@wandb.com to share more about your use case. ::: ### What happens to users with existing accounts? If </span>\n",
       "<span style=\"color: #008000; text-decoration-color: #008000\">you set `anonymous=\"allow\"` in'</span><span style=\"font-weight: bold\">})</span>,\n",
       "    <span style=\"color: #800080; text-decoration-color: #800080; font-weight: bold\">WeaveDict</span><span style=\"font-weight: bold\">({</span><span style=\"color: #008000; text-decoration-color: #008000\">'content'</span>: <span style=\"color: #008000; text-decoration-color: #008000\">'your script, we will check to make sure there\\'s not an existing account first, before </span>\n",
       "<span style=\"color: #008000; text-decoration-color: #008000\">creating an anonymous account. This means that if a W&amp;B user finds your script and runs it, their results will be </span>\n",
       "<span style=\"color: #008000; text-decoration-color: #008000\">logged correctly to their account, just like a normal run. ### What are features that aren\\'t available to </span>\n",
       "<span style=\"color: #008000; text-decoration-color: #008000\">anonymous users? * **No persistent data**: Runs are only saved for 7 days in an anonymous account. Users can claim </span>\n",
       "<span style=\"color: #008000; text-decoration-color: #008000\">anonymous run data by saving it to a real account. ![](@site/static/images/app_ui/anon_mode_no_data.png) * **No </span>\n",
       "<span style=\"color: #008000; text-decoration-color: #008000\">artifact logging**: Runs will print a warning on the command line that you can\\'t log an artifact to an anonymous </span>\n",
       "<span style=\"color: #008000; text-decoration-color: #008000\">run. ![](@site/static/images/app_ui/anon_example_warning.png) * **No profile or settings pages**: Certain pages </span>\n",
       "<span style=\"color: #008000; text-decoration-color: #008000\">aren\\'t available in the UI, because they\\'re only useful for real accounts. ## Example usage [Try the example </span>\n",
       "<span style=\"color: #008000; text-decoration-color: #008000\">notebook](http://bit.ly/anon-mode) to see how anonymous mode works. ```python import wandb # Start a run allowing </span>\n",
       "<span style=\"color: #008000; text-decoration-color: #008000\">anonymous accounts wandb.init(anonymous=\"allow\") # Log results from your training loop wandb.log({\"acc\": 0.91}) # </span>\n",
       "<span style=\"color: #008000; text-decoration-color: #008000\">Mark the run as finished wandb.finish() ```'</span>, <span style=\"color: #008000; text-decoration-color: #008000\">'metadata'</span>: <span style=\"font-weight: bold\">{</span><span style=\"color: #008000; text-decoration-color: #008000\">'source'</span>: <span style=\"color: #008000; text-decoration-color: #008000\">'guides/app/features/anon.md'</span>, <span style=\"color: #008000; text-decoration-color: #008000\">'raw_tokens'</span>: \n",
       "<span style=\"color: #008080; text-decoration-color: #008080; font-weight: bold\">170</span>, <span style=\"color: #008000; text-decoration-color: #008000\">'cleaned_tokens'</span>: <span style=\"color: #008080; text-decoration-color: #008080; font-weight: bold\">170</span><span style=\"font-weight: bold\">}</span>, <span style=\"color: #008000; text-decoration-color: #008000\">'cleaned_content'</span>: <span style=\"color: #008000; text-decoration-color: #008000\">'your script, we will check to make sure there\\'s not an existing </span>\n",
       "<span style=\"color: #008000; text-decoration-color: #008000\">account first, before creating an anonymous account. This means that if a W&amp;B user finds your script and runs it, </span>\n",
       "<span style=\"color: #008000; text-decoration-color: #008000\">their results will be logged correctly to their account, just like a normal run. ### What are features that aren\\'t</span>\n",
       "<span style=\"color: #008000; text-decoration-color: #008000\">available to anonymous users? * **No persistent data**: Runs are only saved for 7 days in an anonymous account. </span>\n",
       "<span style=\"color: #008000; text-decoration-color: #008000\">Users can claim anonymous run data by saving it to a real account. </span>\n",
       "<span style=\"color: #008000; text-decoration-color: #008000\">![](@site/static/images/app_ui/anon_mode_no_data.png) * **No artifact logging**: Runs will print a warning on the </span>\n",
       "<span style=\"color: #008000; text-decoration-color: #008000\">command line that you can\\'t log an artifact to an anonymous run. </span>\n",
       "<span style=\"color: #008000; text-decoration-color: #008000\">![](@site/static/images/app_ui/anon_example_warning.png) * **No profile or settings pages**: Certain pages aren\\'t </span>\n",
       "<span style=\"color: #008000; text-decoration-color: #008000\">available in the UI, because they\\'re only useful for real accounts. ## Example usage [Try the example </span>\n",
       "<span style=\"color: #008000; text-decoration-color: #008000\">notebook](http://bit.ly/anon-mode) to see how anonymous mode works. ```python import wandb # Start a run allowing </span>\n",
       "<span style=\"color: #008000; text-decoration-color: #008000\">anonymous accounts wandb.init(anonymous=\"allow\") # Log results from your training loop wandb.log({\"acc\": 0.91}) # </span>\n",
       "<span style=\"color: #008000; text-decoration-color: #008000\">Mark the run as finished wandb.finish() ```'</span><span style=\"font-weight: bold\">})</span>\n",
       "<span style=\"font-weight: bold\">]</span>\n",
       "</pre>\n"
      ],
      "text/plain": [
       "\u001b[1m[\u001b[0m\n",
       "    \u001b[1;35mWeaveDict\u001b[0m\u001b[1m(\u001b[0m\u001b[1m{\u001b[0m\u001b[32m'content'\u001b[0m: \u001b[32m'--- description: Log and visualize data without a W&B account displayed_sidebar: default\u001b[0m\n",
       "\u001b[32m--- # Anonymous Mode Are you publishing code that you want anyone to be able to run easily? Use Anonymous Mode to \u001b[0m\n",
       "\u001b[32mlet someone run your code, see a W&B dashboard, and visualize results without needing to create a W&B account \u001b[0m\n",
       "\u001b[32mfirst. Allow results to be logged in Anonymous Mode with `wandb.init\u001b[0m\u001b[32m(\u001b[0m\u001b[32m`**`\u001b[0m\u001b[32manonymous\u001b[0m\u001b[32m=\u001b[0m\u001b[32m\"allow\"\u001b[0m\u001b[32m`**`\u001b[0m\u001b[32m)\u001b[0m\u001b[32m` :::info \u001b[0m\n",
       "\u001b[32m**Publishing a paper?** Please \u001b[0m\u001b[32m[\u001b[0m\u001b[32mcite W&B\u001b[0m\u001b[32m]\u001b[0m\u001b[32m(\u001b[0m\u001b[32mhttps://docs.wandb.ai/company/academics#bibtex-citation\u001b[0m\u001b[32m)\u001b[0m\u001b[32m, and if you have\u001b[0m\n",
       "\u001b[32mquestions about how to make your code accessible while using W&B, reach out to us at support@wandb.com. ::: ### How\u001b[0m\n",
       "\u001b[32mdoes someone without an account see results? If someone runs your script and you have to set `\u001b[0m\u001b[32manonymous\u001b[0m\u001b[32m=\u001b[0m\u001b[32m\"allow\"\u001b[0m\u001b[32m`: \u001b[0m\n",
       "\u001b[32m1. **Auto-create temporary account:** W&B checks for an account that\\'s already signed in. If there\\'s no account, \u001b[0m\n",
       "\u001b[32mwe automatically create a new anonymous account and save that API key for the session. 2. **Log results quickly:** \u001b[0m\n",
       "\u001b[32mThe user can run and re-run the script, and automatically see results show up in the W&B dashboard UI. These \u001b[0m\n",
       "\u001b[32munclaimed anonymous runs will be available for 7 days. 3. **Claim data when it\\'s useful**: Once the user finds \u001b[0m\n",
       "\u001b[32mvaluable results in W&B, they can easily click a button in the banner at the top of the page to save their run data\u001b[0m\n",
       "\u001b[32mto a real account. If they don\\'t claim a run, it will be deleted after 7 days. :::caution **Anonymous run links \u001b[0m\n",
       "\u001b[32mare sensitive**. These links allow anyone to view and claim the results of an experiment for 7 days, so make sure \u001b[0m\n",
       "\u001b[32mto only share links with people you trust. If you\\'re trying to share results publicly, but hide the author\\'s \u001b[0m\n",
       "\u001b[32midentity, please contact us at support@wandb.com to share more about your use case. ::: ### What happens to users \u001b[0m\n",
       "\u001b[32mwith existing accounts? If you set `\u001b[0m\u001b[32manonymous\u001b[0m\u001b[32m=\u001b[0m\u001b[32m\"allow\"\u001b[0m\u001b[32m` in'\u001b[0m, \u001b[32m'metadata'\u001b[0m: \u001b[1m{\u001b[0m\u001b[32m'source'\u001b[0m: \u001b[32m'guides/app/features/anon.md'\u001b[0m, \n",
       "\u001b[32m'raw_tokens'\u001b[0m: \u001b[1;36m300\u001b[0m, \u001b[32m'cleaned_tokens'\u001b[0m: \u001b[1;36m300\u001b[0m\u001b[1m}\u001b[0m, \u001b[32m'cleaned_content'\u001b[0m: \u001b[32m'--- description: Log and visualize data without a \u001b[0m\n",
       "\u001b[32mW&B account displayed_sidebar: default --- # Anonymous Mode Are you publishing code that you want anyone to be able\u001b[0m\n",
       "\u001b[32mto run easily? Use Anonymous Mode to let someone run your code, see a W&B dashboard, and visualize results without \u001b[0m\n",
       "\u001b[32mneeding to create a W&B account first. Allow results to be logged in Anonymous Mode with \u001b[0m\n",
       "\u001b[32m`wandb.init\u001b[0m\u001b[32m(\u001b[0m\u001b[32m`**`\u001b[0m\u001b[32manonymous\u001b[0m\u001b[32m=\u001b[0m\u001b[32m\"allow\"\u001b[0m\u001b[32m`**`\u001b[0m\u001b[32m)\u001b[0m\u001b[32m` :::info **Publishing a paper?** Please \u001b[0m\u001b[32m[\u001b[0m\u001b[32mcite \u001b[0m\n",
       "\u001b[32mW&B\u001b[0m\u001b[32m]\u001b[0m\u001b[32m(\u001b[0m\u001b[32mhttps://docs.wandb.ai/company/academics#bibtex-citation\u001b[0m\u001b[32m)\u001b[0m\u001b[32m, and if you have questions about how to make your \u001b[0m\n",
       "\u001b[32mcode accessible while using W&B, reach out to us at support@wandb.com. ::: ### How does someone without an account \u001b[0m\n",
       "\u001b[32msee results? If someone runs your script and you have to set `\u001b[0m\u001b[32manonymous\u001b[0m\u001b[32m=\u001b[0m\u001b[32m\"allow\"\u001b[0m\u001b[32m`: 1. **Auto-create temporary \u001b[0m\n",
       "\u001b[32maccount:** W&B checks for an account that\\'s already signed in. If there\\'s no account, we automatically create a \u001b[0m\n",
       "\u001b[32mnew anonymous account and save that API key for the session. 2. **Log results quickly:** The user can run and \u001b[0m\n",
       "\u001b[32mre-run the script, and automatically see results show up in the W&B dashboard UI. These unclaimed anonymous runs \u001b[0m\n",
       "\u001b[32mwill be available for 7 days. 3. **Claim data when it\\'s useful**: Once the user finds valuable results in W&B, \u001b[0m\n",
       "\u001b[32mthey can easily click a button in the banner at the top of the page to save their run data to a real account. If \u001b[0m\n",
       "\u001b[32mthey don\\'t claim a run, it will be deleted after 7 days. :::caution **Anonymous run links are sensitive**. These \u001b[0m\n",
       "\u001b[32mlinks allow anyone to view and claim the results of an experiment for 7 days, so make sure to only share links with\u001b[0m\n",
       "\u001b[32mpeople you trust. If you\\'re trying to share results publicly, but hide the author\\'s identity, please contact us \u001b[0m\n",
       "\u001b[32mat support@wandb.com to share more about your use case. ::: ### What happens to users with existing accounts? If \u001b[0m\n",
       "\u001b[32myou set `\u001b[0m\u001b[32manonymous\u001b[0m\u001b[32m=\u001b[0m\u001b[32m\"allow\"\u001b[0m\u001b[32m` in'\u001b[0m\u001b[1m}\u001b[0m\u001b[1m)\u001b[0m,\n",
       "    \u001b[1;35mWeaveDict\u001b[0m\u001b[1m(\u001b[0m\u001b[1m{\u001b[0m\u001b[32m'content'\u001b[0m: \u001b[32m'your script, we will check to make sure there\\'s not an existing account first, before \u001b[0m\n",
       "\u001b[32mcreating an anonymous account. This means that if a W&B user finds your script and runs it, their results will be \u001b[0m\n",
       "\u001b[32mlogged correctly to their account, just like a normal run. ### What are features that aren\\'t available to \u001b[0m\n",
       "\u001b[32manonymous users? * **No persistent data**: Runs are only saved for 7 days in an anonymous account. Users can claim \u001b[0m\n",
       "\u001b[32manonymous run data by saving it to a real account. !\u001b[0m\u001b[32m[\u001b[0m\u001b[32m]\u001b[0m\u001b[32m(\u001b[0m\u001b[32m@site/static/images/app_ui/anon_mode_no_data.png\u001b[0m\u001b[32m)\u001b[0m\u001b[32m * **No \u001b[0m\n",
       "\u001b[32martifact logging**: Runs will print a warning on the command line that you can\\'t log an artifact to an anonymous \u001b[0m\n",
       "\u001b[32mrun. !\u001b[0m\u001b[32m[\u001b[0m\u001b[32m]\u001b[0m\u001b[32m(\u001b[0m\u001b[32m@site/static/images/app_ui/anon_example_warning.png\u001b[0m\u001b[32m)\u001b[0m\u001b[32m * **No profile or settings pages**: Certain pages \u001b[0m\n",
       "\u001b[32maren\\'t available in the UI, because they\\'re only useful for real accounts. ## Example usage \u001b[0m\u001b[32m[\u001b[0m\u001b[32mTry the example \u001b[0m\n",
       "\u001b[32mnotebook\u001b[0m\u001b[32m]\u001b[0m\u001b[32m(\u001b[0m\u001b[32mhttp://bit.ly/anon-mode\u001b[0m\u001b[32m)\u001b[0m\u001b[32m to see how anonymous mode works. ```python import wandb # Start a run allowing \u001b[0m\n",
       "\u001b[32manonymous accounts wandb.init\u001b[0m\u001b[32m(\u001b[0m\u001b[32manonymous\u001b[0m\u001b[32m=\u001b[0m\u001b[32m\"allow\"\u001b[0m\u001b[32m)\u001b[0m\u001b[32m # Log results from your training loop wandb.log\u001b[0m\u001b[32m(\u001b[0m\u001b[32m{\u001b[0m\u001b[32m\"acc\": 0.91\u001b[0m\u001b[32m}\u001b[0m\u001b[32m)\u001b[0m\u001b[32m # \u001b[0m\n",
       "\u001b[32mMark the run as finished wandb.finish\u001b[0m\u001b[32m(\u001b[0m\u001b[32m)\u001b[0m\u001b[32m ```'\u001b[0m, \u001b[32m'metadata'\u001b[0m: \u001b[1m{\u001b[0m\u001b[32m'source'\u001b[0m: \u001b[32m'guides/app/features/anon.md'\u001b[0m, \u001b[32m'raw_tokens'\u001b[0m: \n",
       "\u001b[1;36m170\u001b[0m, \u001b[32m'cleaned_tokens'\u001b[0m: \u001b[1;36m170\u001b[0m\u001b[1m}\u001b[0m, \u001b[32m'cleaned_content'\u001b[0m: \u001b[32m'your script, we will check to make sure there\\'s not an existing \u001b[0m\n",
       "\u001b[32maccount first, before creating an anonymous account. This means that if a W&B user finds your script and runs it, \u001b[0m\n",
       "\u001b[32mtheir results will be logged correctly to their account, just like a normal run. ### What are features that aren\\'t\u001b[0m\n",
       "\u001b[32mavailable to anonymous users? * **No persistent data**: Runs are only saved for 7 days in an anonymous account. \u001b[0m\n",
       "\u001b[32mUsers can claim anonymous run data by saving it to a real account. \u001b[0m\n",
       "\u001b[32m!\u001b[0m\u001b[32m[\u001b[0m\u001b[32m]\u001b[0m\u001b[32m(\u001b[0m\u001b[32m@site/static/images/app_ui/anon_mode_no_data.png\u001b[0m\u001b[32m)\u001b[0m\u001b[32m * **No artifact logging**: Runs will print a warning on the \u001b[0m\n",
       "\u001b[32mcommand line that you can\\'t log an artifact to an anonymous run. \u001b[0m\n",
       "\u001b[32m!\u001b[0m\u001b[32m[\u001b[0m\u001b[32m]\u001b[0m\u001b[32m(\u001b[0m\u001b[32m@site/static/images/app_ui/anon_example_warning.png\u001b[0m\u001b[32m)\u001b[0m\u001b[32m * **No profile or settings pages**: Certain pages aren\\'t \u001b[0m\n",
       "\u001b[32mavailable in the UI, because they\\'re only useful for real accounts. ## Example usage \u001b[0m\u001b[32m[\u001b[0m\u001b[32mTry the example \u001b[0m\n",
       "\u001b[32mnotebook\u001b[0m\u001b[32m]\u001b[0m\u001b[32m(\u001b[0m\u001b[32mhttp://bit.ly/anon-mode\u001b[0m\u001b[32m)\u001b[0m\u001b[32m to see how anonymous mode works. ```python import wandb # Start a run allowing \u001b[0m\n",
       "\u001b[32manonymous accounts wandb.init\u001b[0m\u001b[32m(\u001b[0m\u001b[32manonymous\u001b[0m\u001b[32m=\u001b[0m\u001b[32m\"allow\"\u001b[0m\u001b[32m)\u001b[0m\u001b[32m # Log results from your training loop wandb.log\u001b[0m\u001b[32m(\u001b[0m\u001b[32m{\u001b[0m\u001b[32m\"acc\": 0.91\u001b[0m\u001b[32m}\u001b[0m\u001b[32m)\u001b[0m\u001b[32m # \u001b[0m\n",
       "\u001b[32mMark the run as finished wandb.finish\u001b[0m\u001b[32m(\u001b[0m\u001b[32m)\u001b[0m\u001b[32m ```'\u001b[0m\u001b[1m}\u001b[0m\u001b[1m)\u001b[0m\n",
       "\u001b[1m]\u001b[0m\n"
      ]
     },
     "metadata": {},
     "output_type": "display_data"
    }
   ],
   "source": [
    "# chunked_data = weave.ref(\n",
    "#     \"weave:///rag-course/rag-course/object/chunked_data:Lt6M8qCUICD1JZTlMYzuDLTVtvFYESxvj3tcAIoPrtE\"\n",
    "# ).get()\n",
    "# uncomment the next line to get the chunked data from weave from your own project instead\n",
    "chunked_data = weave.ref(\"chunked_data:v0\").get()\n",
    "print(chunked_data.rows[:2])"
   ]
  },
  {
   "cell_type": "markdown",
   "metadata": {},
   "source": [
    "Next, we will create a simple `Retriever` class. This class is responsible for vectorizing the chunks using the `index_data` method and provides a convenient method `search`, for querying the vector index using cosine distance similarity.\n",
    "\n",
    "- `index_data` will take a list of chunks and vectorize it using TF-IDF and store it as `index`.\n",
    "\n",
    "- `search` will take a `query` (question) and vectorize it using the same technique (TF-IDF in our case). It then computes the cosine distance between the query vector and the index (list of vectors) and pick the top `k` vectors from the index. These top `k` vectors represent the chunks that are closest (most relevant) to the `query`.\n",
    "\n",
    "---\n",
    "\n",
    "Note that the `Retriever` class is inherited from `weave.Model`.\n",
    "\n",
    "A Model is a combination of data (which can include configuration, trained model weights, or other information) and code that defines how the model operates. By structuring your code to be compatible with this API, you benefit from a structured way to version your application so you can more systematically keep track of your experiments.\n",
    "\n",
    "To create a model in Weave, you need the following:\n",
    "\n",
    "- a class that inherits from weave.Model\n",
    "- type definitions on all attributes\n",
    "- a typed `predict`, `infer` or `forward` method with `@weave.op()` decorator.\n",
    "\n",
    "Imagine `weave.op()` to be a drop in replacement for `print` or logging statement.\n",
    "However, it does a lot more than just printing and logging by tracking the inputs and outputs of the function and storing them as Weave objects. In addition to state tracking you also get a nice weave UI to inspect the inputs, outputs, and other metadata.\n",
    "\n",
    "If you have not initialized a weave run by doing `weave.init`, the code will work as it is without any tracking.\n",
    "\n",
    "The `predict` method decorated with `weave.op()` will track the model settings along with the inputs and outputs anytime you call it."
   ]
  },
  {
   "cell_type": "code",
   "execution_count": 20,
   "metadata": {},
   "outputs": [
    {
     "name": "stderr",
     "output_type": "stream",
     "text": [
      "/home/elshehawy/anaconda3/envs/ragpp/lib/python3.10/site-packages/tqdm/auto.py:21: TqdmWarning: IProgress not found. Please update jupyter and ipywidgets. See https://ipywidgets.readthedocs.io/en/stable/user_install.html\n",
      "  from .autonotebook import tqdm as notebook_tqdm\n"
     ]
    },
    {
     "data": {
      "text/html": [
       "<pre style=\"white-space:pre;overflow-x:auto;line-height:normal;font-family:Menlo,'DejaVu Sans Mono',consolas,'Courier New',monospace\"><span style=\"color: #e3e3dd; text-decoration-color: #e3e3dd; background-color: #272822; font-weight: bold\">  </span><span style=\"color: #656660; text-decoration-color: #656660; background-color: #272822\"> 1 </span><span style=\"color: #66d9ef; text-decoration-color: #66d9ef; background-color: #272822\">class</span><span style=\"color: #f8f8f2; text-decoration-color: #f8f8f2; background-color: #272822\"> </span><span style=\"color: #a6e22e; text-decoration-color: #a6e22e; background-color: #272822\">TFIDFRetriever</span><span style=\"color: #f8f8f2; text-decoration-color: #f8f8f2; background-color: #272822\">(weave</span><span style=\"color: #ff4689; text-decoration-color: #ff4689; background-color: #272822\">.</span><span style=\"color: #f8f8f2; text-decoration-color: #f8f8f2; background-color: #272822\">Model):</span><span style=\"background-color: #272822\">                                                                            </span>\n",
       "<span style=\"color: #e3e3dd; text-decoration-color: #e3e3dd; background-color: #272822; font-weight: bold\">  </span><span style=\"color: #656660; text-decoration-color: #656660; background-color: #272822\"> 2 </span><span style=\"color: #f8f8f2; text-decoration-color: #f8f8f2; background-color: #272822\">    </span><span style=\"color: #e6db74; text-decoration-color: #e6db74; background-color: #272822\">\"\"\"</span><span style=\"background-color: #272822\">                                                                                                       </span>\n",
       "<span style=\"color: #e3e3dd; text-decoration-color: #e3e3dd; background-color: #272822; font-weight: bold\">  </span><span style=\"color: #656660; text-decoration-color: #656660; background-color: #272822\"> 3 </span><span style=\"color: #e6db74; text-decoration-color: #e6db74; background-color: #272822\">    A retriever model that uses TF-IDF for indexing and searching documents.</span><span style=\"background-color: #272822\">                                  </span>\n",
       "<span style=\"color: #e3e3dd; text-decoration-color: #e3e3dd; background-color: #272822; font-weight: bold\">  </span><span style=\"color: #656660; text-decoration-color: #656660; background-color: #272822\"> 4 </span><span style=\"background-color: #272822\">                                                                                                              </span>\n",
       "<span style=\"color: #e3e3dd; text-decoration-color: #e3e3dd; background-color: #272822; font-weight: bold\">  </span><span style=\"color: #656660; text-decoration-color: #656660; background-color: #272822\"> 5 </span><span style=\"color: #e6db74; text-decoration-color: #e6db74; background-color: #272822\">    Attributes:</span><span style=\"background-color: #272822\">                                                                                               </span>\n",
       "<span style=\"color: #e3e3dd; text-decoration-color: #e3e3dd; background-color: #272822; font-weight: bold\">  </span><span style=\"color: #656660; text-decoration-color: #656660; background-color: #272822\"> 6 </span><span style=\"color: #e6db74; text-decoration-color: #e6db74; background-color: #272822\">        vectorizer (TfidfVectorizer): The TF-IDF vectorizer.</span><span style=\"background-color: #272822\">                                                  </span>\n",
       "<span style=\"color: #e3e3dd; text-decoration-color: #e3e3dd; background-color: #272822; font-weight: bold\">  </span><span style=\"color: #656660; text-decoration-color: #656660; background-color: #272822\"> 7 </span><span style=\"color: #e6db74; text-decoration-color: #e6db74; background-color: #272822\">        index (list): The indexed data.</span><span style=\"background-color: #272822\">                                                                       </span>\n",
       "<span style=\"color: #e3e3dd; text-decoration-color: #e3e3dd; background-color: #272822; font-weight: bold\">  </span><span style=\"color: #656660; text-decoration-color: #656660; background-color: #272822\"> 8 </span><span style=\"color: #e6db74; text-decoration-color: #e6db74; background-color: #272822\">        data (list): The data to be indexed.</span><span style=\"background-color: #272822\">                                                                  </span>\n",
       "<span style=\"color: #e3e3dd; text-decoration-color: #e3e3dd; background-color: #272822; font-weight: bold\">  </span><span style=\"color: #656660; text-decoration-color: #656660; background-color: #272822\"> 9 </span><span style=\"color: #e6db74; text-decoration-color: #e6db74; background-color: #272822\">    \"\"\"</span><span style=\"background-color: #272822\">                                                                                                       </span>\n",
       "<span style=\"color: #e3e3dd; text-decoration-color: #e3e3dd; background-color: #272822; font-weight: bold\">  </span><span style=\"color: #656660; text-decoration-color: #656660; background-color: #272822\">10 </span><span style=\"background-color: #272822\">                                                                                                              </span>\n",
       "<span style=\"color: #e3e3dd; text-decoration-color: #e3e3dd; background-color: #272822; font-weight: bold\">  </span><span style=\"color: #656660; text-decoration-color: #656660; background-color: #272822\">11 </span><span style=\"color: #f8f8f2; text-decoration-color: #f8f8f2; background-color: #272822\">    vectorizer: TfidfVectorizer </span><span style=\"color: #ff4689; text-decoration-color: #ff4689; background-color: #272822\">=</span><span style=\"color: #f8f8f2; text-decoration-color: #f8f8f2; background-color: #272822\"> TfidfVectorizer()</span><span style=\"background-color: #272822\">                                                           </span>\n",
       "<span style=\"color: #e3e3dd; text-decoration-color: #e3e3dd; background-color: #272822; font-weight: bold\">  </span><span style=\"color: #656660; text-decoration-color: #656660; background-color: #272822\">12 </span><span style=\"color: #f8f8f2; text-decoration-color: #f8f8f2; background-color: #272822\">    index: list </span><span style=\"color: #ff4689; text-decoration-color: #ff4689; background-color: #272822\">=</span><span style=\"color: #f8f8f2; text-decoration-color: #f8f8f2; background-color: #272822\"> </span><span style=\"color: #66d9ef; text-decoration-color: #66d9ef; background-color: #272822\">None</span><span style=\"background-color: #272822\">                                                                                        </span>\n",
       "<span style=\"color: #e3e3dd; text-decoration-color: #e3e3dd; background-color: #272822; font-weight: bold\">  </span><span style=\"color: #656660; text-decoration-color: #656660; background-color: #272822\">13 </span><span style=\"color: #f8f8f2; text-decoration-color: #f8f8f2; background-color: #272822\">    data: list </span><span style=\"color: #ff4689; text-decoration-color: #ff4689; background-color: #272822\">=</span><span style=\"color: #f8f8f2; text-decoration-color: #f8f8f2; background-color: #272822\"> </span><span style=\"color: #66d9ef; text-decoration-color: #66d9ef; background-color: #272822\">None</span><span style=\"background-color: #272822\">                                                                                         </span>\n",
       "<span style=\"color: #e3e3dd; text-decoration-color: #e3e3dd; background-color: #272822; font-weight: bold\">  </span><span style=\"color: #656660; text-decoration-color: #656660; background-color: #272822\">14 </span><span style=\"background-color: #272822\">                                                                                                              </span>\n",
       "<span style=\"color: #e3e3dd; text-decoration-color: #e3e3dd; background-color: #272822; font-weight: bold\">  </span><span style=\"color: #656660; text-decoration-color: #656660; background-color: #272822\">15 </span><span style=\"color: #f8f8f2; text-decoration-color: #f8f8f2; background-color: #272822\">    </span><span style=\"color: #66d9ef; text-decoration-color: #66d9ef; background-color: #272822\">def</span><span style=\"color: #f8f8f2; text-decoration-color: #f8f8f2; background-color: #272822\"> </span><span style=\"color: #a6e22e; text-decoration-color: #a6e22e; background-color: #272822\">index_data</span><span style=\"color: #f8f8f2; text-decoration-color: #f8f8f2; background-color: #272822\">(self, data):</span><span style=\"background-color: #272822\">                                                                               </span>\n",
       "<span style=\"color: #e3e3dd; text-decoration-color: #e3e3dd; background-color: #272822; font-weight: bold\">  </span><span style=\"color: #656660; text-decoration-color: #656660; background-color: #272822\">16 </span><span style=\"color: #f8f8f2; text-decoration-color: #f8f8f2; background-color: #272822\">        </span><span style=\"color: #e6db74; text-decoration-color: #e6db74; background-color: #272822\">\"\"\"</span><span style=\"background-color: #272822\">                                                                                                   </span>\n",
       "<span style=\"color: #e3e3dd; text-decoration-color: #e3e3dd; background-color: #272822; font-weight: bold\">  </span><span style=\"color: #656660; text-decoration-color: #656660; background-color: #272822\">17 </span><span style=\"color: #e6db74; text-decoration-color: #e6db74; background-color: #272822\">        Indexes the provided data using TF-IDF.</span><span style=\"background-color: #272822\">                                                               </span>\n",
       "<span style=\"color: #e3e3dd; text-decoration-color: #e3e3dd; background-color: #272822; font-weight: bold\">  </span><span style=\"color: #656660; text-decoration-color: #656660; background-color: #272822\">18 </span><span style=\"background-color: #272822\">                                                                                                              </span>\n",
       "<span style=\"color: #e3e3dd; text-decoration-color: #e3e3dd; background-color: #272822; font-weight: bold\">  </span><span style=\"color: #656660; text-decoration-color: #656660; background-color: #272822\">19 </span><span style=\"color: #e6db74; text-decoration-color: #e6db74; background-color: #272822\">        Args:</span><span style=\"background-color: #272822\">                                                                                                 </span>\n",
       "<span style=\"color: #e3e3dd; text-decoration-color: #e3e3dd; background-color: #272822; font-weight: bold\">  </span><span style=\"color: #656660; text-decoration-color: #656660; background-color: #272822\">20 </span><span style=\"color: #e6db74; text-decoration-color: #e6db74; background-color: #272822\">            data (list): A list of documents to be indexed. Each document should be a dictionary</span><span style=\"background-color: #272822\">              </span>\n",
       "<span style=\"color: #e3e3dd; text-decoration-color: #e3e3dd; background-color: #272822; font-weight: bold\">  </span><span style=\"color: #656660; text-decoration-color: #656660; background-color: #272822\">21 </span><span style=\"color: #e6db74; text-decoration-color: #e6db74; background-color: #272822\">                         containing a key 'cleaned_content' with the text to be indexed.</span><span style=\"background-color: #272822\">                      </span>\n",
       "<span style=\"color: #e3e3dd; text-decoration-color: #e3e3dd; background-color: #272822; font-weight: bold\">  </span><span style=\"color: #656660; text-decoration-color: #656660; background-color: #272822\">22 </span><span style=\"color: #e6db74; text-decoration-color: #e6db74; background-color: #272822\">        \"\"\"</span><span style=\"background-color: #272822\">                                                                                                   </span>\n",
       "<span style=\"color: #e3e3dd; text-decoration-color: #e3e3dd; background-color: #272822; font-weight: bold\">  </span><span style=\"color: #656660; text-decoration-color: #656660; background-color: #272822\">23 </span><span style=\"color: #f8f8f2; text-decoration-color: #f8f8f2; background-color: #272822\">        self</span><span style=\"color: #ff4689; text-decoration-color: #ff4689; background-color: #272822\">.</span><span style=\"color: #f8f8f2; text-decoration-color: #f8f8f2; background-color: #272822\">data </span><span style=\"color: #ff4689; text-decoration-color: #ff4689; background-color: #272822\">=</span><span style=\"color: #f8f8f2; text-decoration-color: #f8f8f2; background-color: #272822\"> data</span><span style=\"background-color: #272822\">                                                                                      </span>\n",
       "<span style=\"color: #e3e3dd; text-decoration-color: #e3e3dd; background-color: #272822; font-weight: bold\">  </span><span style=\"color: #656660; text-decoration-color: #656660; background-color: #272822\">24 </span><span style=\"color: #f8f8f2; text-decoration-color: #f8f8f2; background-color: #272822\">        docs </span><span style=\"color: #ff4689; text-decoration-color: #ff4689; background-color: #272822\">=</span><span style=\"color: #f8f8f2; text-decoration-color: #f8f8f2; background-color: #272822\"> [doc[</span><span style=\"color: #e6db74; text-decoration-color: #e6db74; background-color: #272822\">\"cleaned_content\"</span><span style=\"color: #f8f8f2; text-decoration-color: #f8f8f2; background-color: #272822\">] </span><span style=\"color: #66d9ef; text-decoration-color: #66d9ef; background-color: #272822\">for</span><span style=\"color: #f8f8f2; text-decoration-color: #f8f8f2; background-color: #272822\"> doc </span><span style=\"color: #ff4689; text-decoration-color: #ff4689; background-color: #272822\">in</span><span style=\"color: #f8f8f2; text-decoration-color: #f8f8f2; background-color: #272822\"> data]</span><span style=\"background-color: #272822\">                                                       </span>\n",
       "<span style=\"color: #e3e3dd; text-decoration-color: #e3e3dd; background-color: #272822; font-weight: bold\">  </span><span style=\"color: #656660; text-decoration-color: #656660; background-color: #272822\">25 </span><span style=\"color: #f8f8f2; text-decoration-color: #f8f8f2; background-color: #272822\">        self</span><span style=\"color: #ff4689; text-decoration-color: #ff4689; background-color: #272822\">.</span><span style=\"color: #f8f8f2; text-decoration-color: #f8f8f2; background-color: #272822\">index </span><span style=\"color: #ff4689; text-decoration-color: #ff4689; background-color: #272822\">=</span><span style=\"color: #f8f8f2; text-decoration-color: #f8f8f2; background-color: #272822\"> self</span><span style=\"color: #ff4689; text-decoration-color: #ff4689; background-color: #272822\">.</span><span style=\"color: #f8f8f2; text-decoration-color: #f8f8f2; background-color: #272822\">vectorizer</span><span style=\"color: #ff4689; text-decoration-color: #ff4689; background-color: #272822\">.</span><span style=\"color: #f8f8f2; text-decoration-color: #f8f8f2; background-color: #272822\">fit_transform(docs)</span><span style=\"background-color: #272822\">                                                      </span>\n",
       "<span style=\"color: #e3e3dd; text-decoration-color: #e3e3dd; background-color: #272822; font-weight: bold\">  </span><span style=\"color: #656660; text-decoration-color: #656660; background-color: #272822\">26 </span><span style=\"background-color: #272822\">                                                                                                              </span>\n",
       "<span style=\"color: #e3e3dd; text-decoration-color: #e3e3dd; background-color: #272822; font-weight: bold\">  </span><span style=\"color: #656660; text-decoration-color: #656660; background-color: #272822\">27 </span><span style=\"color: #f8f8f2; text-decoration-color: #f8f8f2; background-color: #272822\">    </span><span style=\"color: #a6e22e; text-decoration-color: #a6e22e; background-color: #272822\">@weave</span><span style=\"color: #ff4689; text-decoration-color: #ff4689; background-color: #272822\">.</span><span style=\"color: #f8f8f2; text-decoration-color: #f8f8f2; background-color: #272822\">op()</span><span style=\"background-color: #272822\">                                                                                               </span>\n",
       "<span style=\"color: #e3e3dd; text-decoration-color: #e3e3dd; background-color: #272822; font-weight: bold\">  </span><span style=\"color: #656660; text-decoration-color: #656660; background-color: #272822\">28 </span><span style=\"color: #f8f8f2; text-decoration-color: #f8f8f2; background-color: #272822\">    </span><span style=\"color: #66d9ef; text-decoration-color: #66d9ef; background-color: #272822\">def</span><span style=\"color: #f8f8f2; text-decoration-color: #f8f8f2; background-color: #272822\"> </span><span style=\"color: #a6e22e; text-decoration-color: #a6e22e; background-color: #272822\">search</span><span style=\"color: #f8f8f2; text-decoration-color: #f8f8f2; background-color: #272822\">(self, query, k</span><span style=\"color: #ff4689; text-decoration-color: #ff4689; background-color: #272822\">=</span><span style=\"color: #ae81ff; text-decoration-color: #ae81ff; background-color: #272822\">5</span><span style=\"color: #f8f8f2; text-decoration-color: #f8f8f2; background-color: #272822\">):</span><span style=\"background-color: #272822\">                                                                             </span>\n",
       "<span style=\"color: #e3e3dd; text-decoration-color: #e3e3dd; background-color: #272822; font-weight: bold\">  </span><span style=\"color: #656660; text-decoration-color: #656660; background-color: #272822\">29 </span><span style=\"color: #f8f8f2; text-decoration-color: #f8f8f2; background-color: #272822\">        </span><span style=\"color: #e6db74; text-decoration-color: #e6db74; background-color: #272822\">\"\"\"</span><span style=\"background-color: #272822\">                                                                                                   </span>\n",
       "<span style=\"color: #e3e3dd; text-decoration-color: #e3e3dd; background-color: #272822; font-weight: bold\">  </span><span style=\"color: #656660; text-decoration-color: #656660; background-color: #272822\">30 </span><span style=\"color: #e6db74; text-decoration-color: #e6db74; background-color: #272822\">        Searches the indexed data for the given query using cosine similarity.</span><span style=\"background-color: #272822\">                                </span>\n",
       "<span style=\"color: #e3e3dd; text-decoration-color: #e3e3dd; background-color: #272822; font-weight: bold\">  </span><span style=\"color: #656660; text-decoration-color: #656660; background-color: #272822\">31 </span><span style=\"background-color: #272822\">                                                                                                              </span>\n",
       "<span style=\"color: #e3e3dd; text-decoration-color: #e3e3dd; background-color: #272822; font-weight: bold\">  </span><span style=\"color: #656660; text-decoration-color: #656660; background-color: #272822\">32 </span><span style=\"color: #e6db74; text-decoration-color: #e6db74; background-color: #272822\">        Args:</span><span style=\"background-color: #272822\">                                                                                                 </span>\n",
       "<span style=\"color: #e3e3dd; text-decoration-color: #e3e3dd; background-color: #272822; font-weight: bold\">  </span><span style=\"color: #656660; text-decoration-color: #656660; background-color: #272822\">33 </span><span style=\"color: #e6db74; text-decoration-color: #e6db74; background-color: #272822\">            query (str): The search query.</span><span style=\"background-color: #272822\">                                                                    </span>\n",
       "<span style=\"color: #e3e3dd; text-decoration-color: #e3e3dd; background-color: #272822; font-weight: bold\">  </span><span style=\"color: #656660; text-decoration-color: #656660; background-color: #272822\">34 </span><span style=\"color: #e6db74; text-decoration-color: #e6db74; background-color: #272822\">            k (int): The number of top results to return. Default is 5.</span><span style=\"background-color: #272822\">                                       </span>\n",
       "<span style=\"color: #e3e3dd; text-decoration-color: #e3e3dd; background-color: #272822; font-weight: bold\">  </span><span style=\"color: #656660; text-decoration-color: #656660; background-color: #272822\">35 </span><span style=\"background-color: #272822\">                                                                                                              </span>\n",
       "<span style=\"color: #e3e3dd; text-decoration-color: #e3e3dd; background-color: #272822; font-weight: bold\">  </span><span style=\"color: #656660; text-decoration-color: #656660; background-color: #272822\">36 </span><span style=\"color: #e6db74; text-decoration-color: #e6db74; background-color: #272822\">        Returns:</span><span style=\"background-color: #272822\">                                                                                              </span>\n",
       "<span style=\"color: #e3e3dd; text-decoration-color: #e3e3dd; background-color: #272822; font-weight: bold\">  </span><span style=\"color: #656660; text-decoration-color: #656660; background-color: #272822\">37 </span><span style=\"color: #e6db74; text-decoration-color: #e6db74; background-color: #272822\">            list: A list of dictionaries containing the source, text, and score of the top-k results.</span><span style=\"background-color: #272822\">         </span>\n",
       "<span style=\"color: #e3e3dd; text-decoration-color: #e3e3dd; background-color: #272822; font-weight: bold\">  </span><span style=\"color: #656660; text-decoration-color: #656660; background-color: #272822\">38 </span><span style=\"color: #e6db74; text-decoration-color: #e6db74; background-color: #272822\">        \"\"\"</span><span style=\"background-color: #272822\">                                                                                                   </span>\n",
       "<span style=\"color: #e3e3dd; text-decoration-color: #e3e3dd; background-color: #272822; font-weight: bold\">  </span><span style=\"color: #656660; text-decoration-color: #656660; background-color: #272822\">39 </span><span style=\"color: #f8f8f2; text-decoration-color: #f8f8f2; background-color: #272822\">        query_vec </span><span style=\"color: #ff4689; text-decoration-color: #ff4689; background-color: #272822\">=</span><span style=\"color: #f8f8f2; text-decoration-color: #f8f8f2; background-color: #272822\"> self</span><span style=\"color: #ff4689; text-decoration-color: #ff4689; background-color: #272822\">.</span><span style=\"color: #f8f8f2; text-decoration-color: #f8f8f2; background-color: #272822\">vectorizer</span><span style=\"color: #ff4689; text-decoration-color: #ff4689; background-color: #272822\">.</span><span style=\"color: #f8f8f2; text-decoration-color: #f8f8f2; background-color: #272822\">transform([query])</span><span style=\"background-color: #272822\">                                                        </span>\n",
       "<span style=\"color: #e3e3dd; text-decoration-color: #e3e3dd; background-color: #272822; font-weight: bold\">  </span><span style=\"color: #656660; text-decoration-color: #656660; background-color: #272822\">40 </span><span style=\"color: #f8f8f2; text-decoration-color: #f8f8f2; background-color: #272822\">        cosine_distances </span><span style=\"color: #ff4689; text-decoration-color: #ff4689; background-color: #272822\">=</span><span style=\"color: #f8f8f2; text-decoration-color: #f8f8f2; background-color: #272822\"> cdist(</span><span style=\"background-color: #272822\">                                                                             </span>\n",
       "<span style=\"color: #e3e3dd; text-decoration-color: #e3e3dd; background-color: #272822; font-weight: bold\">  </span><span style=\"color: #656660; text-decoration-color: #656660; background-color: #272822\">41 </span><span style=\"color: #f8f8f2; text-decoration-color: #f8f8f2; background-color: #272822\">            query_vec</span><span style=\"color: #ff4689; text-decoration-color: #ff4689; background-color: #272822\">.</span><span style=\"color: #f8f8f2; text-decoration-color: #f8f8f2; background-color: #272822\">todense(), self</span><span style=\"color: #ff4689; text-decoration-color: #ff4689; background-color: #272822\">.</span><span style=\"color: #f8f8f2; text-decoration-color: #f8f8f2; background-color: #272822\">index</span><span style=\"color: #ff4689; text-decoration-color: #ff4689; background-color: #272822\">.</span><span style=\"color: #f8f8f2; text-decoration-color: #f8f8f2; background-color: #272822\">todense(), metric</span><span style=\"color: #ff4689; text-decoration-color: #ff4689; background-color: #272822\">=</span><span style=\"color: #e6db74; text-decoration-color: #e6db74; background-color: #272822\">\"cosine\"</span><span style=\"background-color: #272822\">                                        </span>\n",
       "<span style=\"color: #e3e3dd; text-decoration-color: #e3e3dd; background-color: #272822; font-weight: bold\">  </span><span style=\"color: #656660; text-decoration-color: #656660; background-color: #272822\">42 </span><span style=\"color: #f8f8f2; text-decoration-color: #f8f8f2; background-color: #272822\">        )[</span><span style=\"color: #ae81ff; text-decoration-color: #ae81ff; background-color: #272822\">0</span><span style=\"color: #f8f8f2; text-decoration-color: #f8f8f2; background-color: #272822\">]</span><span style=\"background-color: #272822\">                                                                                                  </span>\n",
       "<span style=\"color: #e3e3dd; text-decoration-color: #e3e3dd; background-color: #272822; font-weight: bold\">  </span><span style=\"color: #656660; text-decoration-color: #656660; background-color: #272822\">43 </span><span style=\"color: #f8f8f2; text-decoration-color: #f8f8f2; background-color: #272822\">        top_k_indices </span><span style=\"color: #ff4689; text-decoration-color: #ff4689; background-color: #272822\">=</span><span style=\"color: #f8f8f2; text-decoration-color: #f8f8f2; background-color: #272822\"> cosine_distances</span><span style=\"color: #ff4689; text-decoration-color: #ff4689; background-color: #272822\">.</span><span style=\"color: #f8f8f2; text-decoration-color: #f8f8f2; background-color: #272822\">argsort()[:k]</span><span style=\"background-color: #272822\">                                                        </span>\n",
       "<span style=\"color: #e3e3dd; text-decoration-color: #e3e3dd; background-color: #272822; font-weight: bold\">  </span><span style=\"color: #656660; text-decoration-color: #656660; background-color: #272822\">44 </span><span style=\"color: #f8f8f2; text-decoration-color: #f8f8f2; background-color: #272822\">        output </span><span style=\"color: #ff4689; text-decoration-color: #ff4689; background-color: #272822\">=</span><span style=\"color: #f8f8f2; text-decoration-color: #f8f8f2; background-color: #272822\"> []</span><span style=\"background-color: #272822\">                                                                                           </span>\n",
       "<span style=\"color: #e3e3dd; text-decoration-color: #e3e3dd; background-color: #272822; font-weight: bold\">  </span><span style=\"color: #656660; text-decoration-color: #656660; background-color: #272822\">45 </span><span style=\"color: #f8f8f2; text-decoration-color: #f8f8f2; background-color: #272822\">        </span><span style=\"color: #66d9ef; text-decoration-color: #66d9ef; background-color: #272822\">for</span><span style=\"color: #f8f8f2; text-decoration-color: #f8f8f2; background-color: #272822\"> idx </span><span style=\"color: #ff4689; text-decoration-color: #ff4689; background-color: #272822\">in</span><span style=\"color: #f8f8f2; text-decoration-color: #f8f8f2; background-color: #272822\"> top_k_indices:</span><span style=\"background-color: #272822\">                                                                             </span>\n",
       "<span style=\"color: #e3e3dd; text-decoration-color: #e3e3dd; background-color: #272822; font-weight: bold\">  </span><span style=\"color: #656660; text-decoration-color: #656660; background-color: #272822\">46 </span><span style=\"color: #f8f8f2; text-decoration-color: #f8f8f2; background-color: #272822\">            output</span><span style=\"color: #ff4689; text-decoration-color: #ff4689; background-color: #272822\">.</span><span style=\"color: #f8f8f2; text-decoration-color: #f8f8f2; background-color: #272822\">append(</span><span style=\"background-color: #272822\">                                                                                    </span>\n",
       "<span style=\"color: #e3e3dd; text-decoration-color: #e3e3dd; background-color: #272822; font-weight: bold\">  </span><span style=\"color: #656660; text-decoration-color: #656660; background-color: #272822\">47 </span><span style=\"color: #f8f8f2; text-decoration-color: #f8f8f2; background-color: #272822\">                {</span><span style=\"background-color: #272822\">                                                                                             </span>\n",
       "<span style=\"color: #e3e3dd; text-decoration-color: #e3e3dd; background-color: #272822; font-weight: bold\">  </span><span style=\"color: #656660; text-decoration-color: #656660; background-color: #272822\">48 </span><span style=\"color: #f8f8f2; text-decoration-color: #f8f8f2; background-color: #272822\">                    </span><span style=\"color: #e6db74; text-decoration-color: #e6db74; background-color: #272822\">\"source\"</span><span style=\"color: #f8f8f2; text-decoration-color: #f8f8f2; background-color: #272822\">: self</span><span style=\"color: #ff4689; text-decoration-color: #ff4689; background-color: #272822\">.</span><span style=\"color: #f8f8f2; text-decoration-color: #f8f8f2; background-color: #272822\">data[idx][</span><span style=\"color: #e6db74; text-decoration-color: #e6db74; background-color: #272822\">\"metadata\"</span><span style=\"color: #f8f8f2; text-decoration-color: #f8f8f2; background-color: #272822\">][</span><span style=\"color: #e6db74; text-decoration-color: #e6db74; background-color: #272822\">\"source\"</span><span style=\"color: #f8f8f2; text-decoration-color: #f8f8f2; background-color: #272822\">],</span><span style=\"background-color: #272822\">                                           </span>\n",
       "<span style=\"color: #e3e3dd; text-decoration-color: #e3e3dd; background-color: #272822; font-weight: bold\">  </span><span style=\"color: #656660; text-decoration-color: #656660; background-color: #272822\">49 </span><span style=\"color: #f8f8f2; text-decoration-color: #f8f8f2; background-color: #272822\">                    </span><span style=\"color: #e6db74; text-decoration-color: #e6db74; background-color: #272822\">\"text\"</span><span style=\"color: #f8f8f2; text-decoration-color: #f8f8f2; background-color: #272822\">: self</span><span style=\"color: #ff4689; text-decoration-color: #ff4689; background-color: #272822\">.</span><span style=\"color: #f8f8f2; text-decoration-color: #f8f8f2; background-color: #272822\">data[idx][</span><span style=\"color: #e6db74; text-decoration-color: #e6db74; background-color: #272822\">\"cleaned_content\"</span><span style=\"color: #f8f8f2; text-decoration-color: #f8f8f2; background-color: #272822\">],</span><span style=\"background-color: #272822\">                                                </span>\n",
       "<span style=\"color: #e3e3dd; text-decoration-color: #e3e3dd; background-color: #272822; font-weight: bold\">  </span><span style=\"color: #656660; text-decoration-color: #656660; background-color: #272822\">50 </span><span style=\"color: #f8f8f2; text-decoration-color: #f8f8f2; background-color: #272822\">                    </span><span style=\"color: #e6db74; text-decoration-color: #e6db74; background-color: #272822\">\"score\"</span><span style=\"color: #f8f8f2; text-decoration-color: #f8f8f2; background-color: #272822\">: </span><span style=\"color: #ae81ff; text-decoration-color: #ae81ff; background-color: #272822\">1</span><span style=\"color: #f8f8f2; text-decoration-color: #f8f8f2; background-color: #272822\"> </span><span style=\"color: #ff4689; text-decoration-color: #ff4689; background-color: #272822\">-</span><span style=\"color: #f8f8f2; text-decoration-color: #f8f8f2; background-color: #272822\"> cosine_distances[idx],</span><span style=\"background-color: #272822\">                                                       </span>\n",
       "<span style=\"color: #e3e3dd; text-decoration-color: #e3e3dd; background-color: #272822; font-weight: bold\">  </span><span style=\"color: #656660; text-decoration-color: #656660; background-color: #272822\">51 </span><span style=\"color: #f8f8f2; text-decoration-color: #f8f8f2; background-color: #272822\">                }</span><span style=\"background-color: #272822\">                                                                                             </span>\n",
       "<span style=\"color: #e3e3dd; text-decoration-color: #e3e3dd; background-color: #272822; font-weight: bold\">  </span><span style=\"color: #656660; text-decoration-color: #656660; background-color: #272822\">52 </span><span style=\"color: #f8f8f2; text-decoration-color: #f8f8f2; background-color: #272822\">            )</span><span style=\"background-color: #272822\">                                                                                                 </span>\n",
       "<span style=\"color: #e3e3dd; text-decoration-color: #e3e3dd; background-color: #272822; font-weight: bold\">  </span><span style=\"color: #656660; text-decoration-color: #656660; background-color: #272822\">53 </span><span style=\"color: #f8f8f2; text-decoration-color: #f8f8f2; background-color: #272822\">        </span><span style=\"color: #66d9ef; text-decoration-color: #66d9ef; background-color: #272822\">return</span><span style=\"color: #f8f8f2; text-decoration-color: #f8f8f2; background-color: #272822\"> output</span><span style=\"background-color: #272822\">                                                                                         </span>\n",
       "<span style=\"color: #e3e3dd; text-decoration-color: #e3e3dd; background-color: #272822; font-weight: bold\">  </span><span style=\"color: #656660; text-decoration-color: #656660; background-color: #272822\">54 </span><span style=\"background-color: #272822\">                                                                                                              </span>\n",
       "<span style=\"color: #e3e3dd; text-decoration-color: #e3e3dd; background-color: #272822; font-weight: bold\">  </span><span style=\"color: #656660; text-decoration-color: #656660; background-color: #272822\">55 </span><span style=\"color: #f8f8f2; text-decoration-color: #f8f8f2; background-color: #272822\">    </span><span style=\"color: #a6e22e; text-decoration-color: #a6e22e; background-color: #272822\">@weave</span><span style=\"color: #ff4689; text-decoration-color: #ff4689; background-color: #272822\">.</span><span style=\"color: #f8f8f2; text-decoration-color: #f8f8f2; background-color: #272822\">op()</span><span style=\"background-color: #272822\">                                                                                               </span>\n",
       "<span style=\"color: #e3e3dd; text-decoration-color: #e3e3dd; background-color: #272822; font-weight: bold\">  </span><span style=\"color: #656660; text-decoration-color: #656660; background-color: #272822\">56 </span><span style=\"color: #f8f8f2; text-decoration-color: #f8f8f2; background-color: #272822\">    </span><span style=\"color: #66d9ef; text-decoration-color: #66d9ef; background-color: #272822\">def</span><span style=\"color: #f8f8f2; text-decoration-color: #f8f8f2; background-color: #272822\"> </span><span style=\"color: #a6e22e; text-decoration-color: #a6e22e; background-color: #272822\">predict</span><span style=\"color: #f8f8f2; text-decoration-color: #f8f8f2; background-color: #272822\">(self, query: str, k: int):</span><span style=\"background-color: #272822\">                                                                    </span>\n",
       "<span style=\"color: #e3e3dd; text-decoration-color: #e3e3dd; background-color: #272822; font-weight: bold\">  </span><span style=\"color: #656660; text-decoration-color: #656660; background-color: #272822\">57 </span><span style=\"color: #f8f8f2; text-decoration-color: #f8f8f2; background-color: #272822\">        </span><span style=\"color: #e6db74; text-decoration-color: #e6db74; background-color: #272822\">\"\"\"</span><span style=\"background-color: #272822\">                                                                                                   </span>\n",
       "<span style=\"color: #e3e3dd; text-decoration-color: #e3e3dd; background-color: #272822; font-weight: bold\">  </span><span style=\"color: #656660; text-decoration-color: #656660; background-color: #272822\">58 </span><span style=\"color: #e6db74; text-decoration-color: #e6db74; background-color: #272822\">        Predicts the top-k results for the given query.</span><span style=\"background-color: #272822\">                                                       </span>\n",
       "<span style=\"color: #e3e3dd; text-decoration-color: #e3e3dd; background-color: #272822; font-weight: bold\">  </span><span style=\"color: #656660; text-decoration-color: #656660; background-color: #272822\">59 </span><span style=\"background-color: #272822\">                                                                                                              </span>\n",
       "<span style=\"color: #e3e3dd; text-decoration-color: #e3e3dd; background-color: #272822; font-weight: bold\">  </span><span style=\"color: #656660; text-decoration-color: #656660; background-color: #272822\">60 </span><span style=\"color: #e6db74; text-decoration-color: #e6db74; background-color: #272822\">        Args:</span><span style=\"background-color: #272822\">                                                                                                 </span>\n",
       "<span style=\"color: #e3e3dd; text-decoration-color: #e3e3dd; background-color: #272822; font-weight: bold\">  </span><span style=\"color: #656660; text-decoration-color: #656660; background-color: #272822\">61 </span><span style=\"color: #e6db74; text-decoration-color: #e6db74; background-color: #272822\">            query (str): The search query.</span><span style=\"background-color: #272822\">                                                                    </span>\n",
       "<span style=\"color: #e3e3dd; text-decoration-color: #e3e3dd; background-color: #272822; font-weight: bold\">  </span><span style=\"color: #656660; text-decoration-color: #656660; background-color: #272822\">62 </span><span style=\"color: #e6db74; text-decoration-color: #e6db74; background-color: #272822\">            k (int): The number of top results to return.</span><span style=\"background-color: #272822\">                                                     </span>\n",
       "<span style=\"color: #e3e3dd; text-decoration-color: #e3e3dd; background-color: #272822; font-weight: bold\">  </span><span style=\"color: #656660; text-decoration-color: #656660; background-color: #272822\">63 </span><span style=\"background-color: #272822\">                                                                                                              </span>\n",
       "<span style=\"color: #e3e3dd; text-decoration-color: #e3e3dd; background-color: #272822; font-weight: bold\">  </span><span style=\"color: #656660; text-decoration-color: #656660; background-color: #272822\">64 </span><span style=\"color: #e6db74; text-decoration-color: #e6db74; background-color: #272822\">        Returns:</span><span style=\"background-color: #272822\">                                                                                              </span>\n",
       "<span style=\"color: #e3e3dd; text-decoration-color: #e3e3dd; background-color: #272822; font-weight: bold\">  </span><span style=\"color: #656660; text-decoration-color: #656660; background-color: #272822\">65 </span><span style=\"color: #e6db74; text-decoration-color: #e6db74; background-color: #272822\">            list: A list of dictionaries containing the source, text, and score of the top-k results.</span><span style=\"background-color: #272822\">         </span>\n",
       "<span style=\"color: #e3e3dd; text-decoration-color: #e3e3dd; background-color: #272822; font-weight: bold\">  </span><span style=\"color: #656660; text-decoration-color: #656660; background-color: #272822\">66 </span><span style=\"color: #e6db74; text-decoration-color: #e6db74; background-color: #272822\">        \"\"\"</span><span style=\"background-color: #272822\">                                                                                                   </span>\n",
       "<span style=\"color: #e3e3dd; text-decoration-color: #e3e3dd; background-color: #272822; font-weight: bold\">  </span><span style=\"color: #656660; text-decoration-color: #656660; background-color: #272822\">67 </span><span style=\"color: #f8f8f2; text-decoration-color: #f8f8f2; background-color: #272822\">        </span><span style=\"color: #66d9ef; text-decoration-color: #66d9ef; background-color: #272822\">return</span><span style=\"color: #f8f8f2; text-decoration-color: #f8f8f2; background-color: #272822\"> self</span><span style=\"color: #ff4689; text-decoration-color: #ff4689; background-color: #272822\">.</span><span style=\"color: #f8f8f2; text-decoration-color: #f8f8f2; background-color: #272822\">search(query, k)</span><span style=\"background-color: #272822\">                                                                          </span>\n",
       "<span style=\"color: #e3e3dd; text-decoration-color: #e3e3dd; background-color: #272822; font-weight: bold\">  </span><span style=\"color: #656660; text-decoration-color: #656660; background-color: #272822\">68 </span><span style=\"background-color: #272822\">                                                                                                              </span>\n",
       "</pre>\n"
      ],
      "text/plain": [
       "\u001b[1;38;2;227;227;221;48;2;39;40;34m  \u001b[0m\u001b[38;2;101;102;96;48;2;39;40;34m 1 \u001b[0m\u001b[38;2;102;217;239;48;2;39;40;34mclass\u001b[0m\u001b[38;2;248;248;242;48;2;39;40;34m \u001b[0m\u001b[38;2;166;226;46;48;2;39;40;34mTFIDFRetriever\u001b[0m\u001b[38;2;248;248;242;48;2;39;40;34m(\u001b[0m\u001b[38;2;248;248;242;48;2;39;40;34mweave\u001b[0m\u001b[38;2;255;70;137;48;2;39;40;34m.\u001b[0m\u001b[38;2;248;248;242;48;2;39;40;34mModel\u001b[0m\u001b[38;2;248;248;242;48;2;39;40;34m)\u001b[0m\u001b[38;2;248;248;242;48;2;39;40;34m:\u001b[0m\u001b[48;2;39;40;34m                                                                            \u001b[0m\n",
       "\u001b[1;38;2;227;227;221;48;2;39;40;34m  \u001b[0m\u001b[38;2;101;102;96;48;2;39;40;34m 2 \u001b[0m\u001b[38;2;248;248;242;48;2;39;40;34m    \u001b[0m\u001b[38;2;230;219;116;48;2;39;40;34m\"\"\"\u001b[0m\u001b[48;2;39;40;34m                                                                                                       \u001b[0m\n",
       "\u001b[1;38;2;227;227;221;48;2;39;40;34m  \u001b[0m\u001b[38;2;101;102;96;48;2;39;40;34m 3 \u001b[0m\u001b[38;2;230;219;116;48;2;39;40;34m    A retriever model that uses TF-IDF for indexing and searching documents.\u001b[0m\u001b[48;2;39;40;34m                                  \u001b[0m\n",
       "\u001b[1;38;2;227;227;221;48;2;39;40;34m  \u001b[0m\u001b[38;2;101;102;96;48;2;39;40;34m 4 \u001b[0m\u001b[48;2;39;40;34m                                                                                                              \u001b[0m\n",
       "\u001b[1;38;2;227;227;221;48;2;39;40;34m  \u001b[0m\u001b[38;2;101;102;96;48;2;39;40;34m 5 \u001b[0m\u001b[38;2;230;219;116;48;2;39;40;34m    Attributes:\u001b[0m\u001b[48;2;39;40;34m                                                                                               \u001b[0m\n",
       "\u001b[1;38;2;227;227;221;48;2;39;40;34m  \u001b[0m\u001b[38;2;101;102;96;48;2;39;40;34m 6 \u001b[0m\u001b[38;2;230;219;116;48;2;39;40;34m        vectorizer (TfidfVectorizer): The TF-IDF vectorizer.\u001b[0m\u001b[48;2;39;40;34m                                                  \u001b[0m\n",
       "\u001b[1;38;2;227;227;221;48;2;39;40;34m  \u001b[0m\u001b[38;2;101;102;96;48;2;39;40;34m 7 \u001b[0m\u001b[38;2;230;219;116;48;2;39;40;34m        index (list): The indexed data.\u001b[0m\u001b[48;2;39;40;34m                                                                       \u001b[0m\n",
       "\u001b[1;38;2;227;227;221;48;2;39;40;34m  \u001b[0m\u001b[38;2;101;102;96;48;2;39;40;34m 8 \u001b[0m\u001b[38;2;230;219;116;48;2;39;40;34m        data (list): The data to be indexed.\u001b[0m\u001b[48;2;39;40;34m                                                                  \u001b[0m\n",
       "\u001b[1;38;2;227;227;221;48;2;39;40;34m  \u001b[0m\u001b[38;2;101;102;96;48;2;39;40;34m 9 \u001b[0m\u001b[38;2;230;219;116;48;2;39;40;34m    \"\"\"\u001b[0m\u001b[48;2;39;40;34m                                                                                                       \u001b[0m\n",
       "\u001b[1;38;2;227;227;221;48;2;39;40;34m  \u001b[0m\u001b[38;2;101;102;96;48;2;39;40;34m10 \u001b[0m\u001b[48;2;39;40;34m                                                                                                              \u001b[0m\n",
       "\u001b[1;38;2;227;227;221;48;2;39;40;34m  \u001b[0m\u001b[38;2;101;102;96;48;2;39;40;34m11 \u001b[0m\u001b[38;2;248;248;242;48;2;39;40;34m    \u001b[0m\u001b[38;2;248;248;242;48;2;39;40;34mvectorizer\u001b[0m\u001b[38;2;248;248;242;48;2;39;40;34m:\u001b[0m\u001b[38;2;248;248;242;48;2;39;40;34m \u001b[0m\u001b[38;2;248;248;242;48;2;39;40;34mTfidfVectorizer\u001b[0m\u001b[38;2;248;248;242;48;2;39;40;34m \u001b[0m\u001b[38;2;255;70;137;48;2;39;40;34m=\u001b[0m\u001b[38;2;248;248;242;48;2;39;40;34m \u001b[0m\u001b[38;2;248;248;242;48;2;39;40;34mTfidfVectorizer\u001b[0m\u001b[38;2;248;248;242;48;2;39;40;34m(\u001b[0m\u001b[38;2;248;248;242;48;2;39;40;34m)\u001b[0m\u001b[48;2;39;40;34m                                                           \u001b[0m\n",
       "\u001b[1;38;2;227;227;221;48;2;39;40;34m  \u001b[0m\u001b[38;2;101;102;96;48;2;39;40;34m12 \u001b[0m\u001b[38;2;248;248;242;48;2;39;40;34m    \u001b[0m\u001b[38;2;248;248;242;48;2;39;40;34mindex\u001b[0m\u001b[38;2;248;248;242;48;2;39;40;34m:\u001b[0m\u001b[38;2;248;248;242;48;2;39;40;34m \u001b[0m\u001b[38;2;248;248;242;48;2;39;40;34mlist\u001b[0m\u001b[38;2;248;248;242;48;2;39;40;34m \u001b[0m\u001b[38;2;255;70;137;48;2;39;40;34m=\u001b[0m\u001b[38;2;248;248;242;48;2;39;40;34m \u001b[0m\u001b[38;2;102;217;239;48;2;39;40;34mNone\u001b[0m\u001b[48;2;39;40;34m                                                                                        \u001b[0m\n",
       "\u001b[1;38;2;227;227;221;48;2;39;40;34m  \u001b[0m\u001b[38;2;101;102;96;48;2;39;40;34m13 \u001b[0m\u001b[38;2;248;248;242;48;2;39;40;34m    \u001b[0m\u001b[38;2;248;248;242;48;2;39;40;34mdata\u001b[0m\u001b[38;2;248;248;242;48;2;39;40;34m:\u001b[0m\u001b[38;2;248;248;242;48;2;39;40;34m \u001b[0m\u001b[38;2;248;248;242;48;2;39;40;34mlist\u001b[0m\u001b[38;2;248;248;242;48;2;39;40;34m \u001b[0m\u001b[38;2;255;70;137;48;2;39;40;34m=\u001b[0m\u001b[38;2;248;248;242;48;2;39;40;34m \u001b[0m\u001b[38;2;102;217;239;48;2;39;40;34mNone\u001b[0m\u001b[48;2;39;40;34m                                                                                         \u001b[0m\n",
       "\u001b[1;38;2;227;227;221;48;2;39;40;34m  \u001b[0m\u001b[38;2;101;102;96;48;2;39;40;34m14 \u001b[0m\u001b[48;2;39;40;34m                                                                                                              \u001b[0m\n",
       "\u001b[1;38;2;227;227;221;48;2;39;40;34m  \u001b[0m\u001b[38;2;101;102;96;48;2;39;40;34m15 \u001b[0m\u001b[38;2;248;248;242;48;2;39;40;34m    \u001b[0m\u001b[38;2;102;217;239;48;2;39;40;34mdef\u001b[0m\u001b[38;2;248;248;242;48;2;39;40;34m \u001b[0m\u001b[38;2;166;226;46;48;2;39;40;34mindex_data\u001b[0m\u001b[38;2;248;248;242;48;2;39;40;34m(\u001b[0m\u001b[38;2;248;248;242;48;2;39;40;34mself\u001b[0m\u001b[38;2;248;248;242;48;2;39;40;34m,\u001b[0m\u001b[38;2;248;248;242;48;2;39;40;34m \u001b[0m\u001b[38;2;248;248;242;48;2;39;40;34mdata\u001b[0m\u001b[38;2;248;248;242;48;2;39;40;34m)\u001b[0m\u001b[38;2;248;248;242;48;2;39;40;34m:\u001b[0m\u001b[48;2;39;40;34m                                                                               \u001b[0m\n",
       "\u001b[1;38;2;227;227;221;48;2;39;40;34m  \u001b[0m\u001b[38;2;101;102;96;48;2;39;40;34m16 \u001b[0m\u001b[38;2;248;248;242;48;2;39;40;34m        \u001b[0m\u001b[38;2;230;219;116;48;2;39;40;34m\"\"\"\u001b[0m\u001b[48;2;39;40;34m                                                                                                   \u001b[0m\n",
       "\u001b[1;38;2;227;227;221;48;2;39;40;34m  \u001b[0m\u001b[38;2;101;102;96;48;2;39;40;34m17 \u001b[0m\u001b[38;2;230;219;116;48;2;39;40;34m        Indexes the provided data using TF-IDF.\u001b[0m\u001b[48;2;39;40;34m                                                               \u001b[0m\n",
       "\u001b[1;38;2;227;227;221;48;2;39;40;34m  \u001b[0m\u001b[38;2;101;102;96;48;2;39;40;34m18 \u001b[0m\u001b[48;2;39;40;34m                                                                                                              \u001b[0m\n",
       "\u001b[1;38;2;227;227;221;48;2;39;40;34m  \u001b[0m\u001b[38;2;101;102;96;48;2;39;40;34m19 \u001b[0m\u001b[38;2;230;219;116;48;2;39;40;34m        Args:\u001b[0m\u001b[48;2;39;40;34m                                                                                                 \u001b[0m\n",
       "\u001b[1;38;2;227;227;221;48;2;39;40;34m  \u001b[0m\u001b[38;2;101;102;96;48;2;39;40;34m20 \u001b[0m\u001b[38;2;230;219;116;48;2;39;40;34m            data (list): A list of documents to be indexed. Each document should be a dictionary\u001b[0m\u001b[48;2;39;40;34m              \u001b[0m\n",
       "\u001b[1;38;2;227;227;221;48;2;39;40;34m  \u001b[0m\u001b[38;2;101;102;96;48;2;39;40;34m21 \u001b[0m\u001b[38;2;230;219;116;48;2;39;40;34m                         containing a key 'cleaned_content' with the text to be indexed.\u001b[0m\u001b[48;2;39;40;34m                      \u001b[0m\n",
       "\u001b[1;38;2;227;227;221;48;2;39;40;34m  \u001b[0m\u001b[38;2;101;102;96;48;2;39;40;34m22 \u001b[0m\u001b[38;2;230;219;116;48;2;39;40;34m        \"\"\"\u001b[0m\u001b[48;2;39;40;34m                                                                                                   \u001b[0m\n",
       "\u001b[1;38;2;227;227;221;48;2;39;40;34m  \u001b[0m\u001b[38;2;101;102;96;48;2;39;40;34m23 \u001b[0m\u001b[38;2;248;248;242;48;2;39;40;34m        \u001b[0m\u001b[38;2;248;248;242;48;2;39;40;34mself\u001b[0m\u001b[38;2;255;70;137;48;2;39;40;34m.\u001b[0m\u001b[38;2;248;248;242;48;2;39;40;34mdata\u001b[0m\u001b[38;2;248;248;242;48;2;39;40;34m \u001b[0m\u001b[38;2;255;70;137;48;2;39;40;34m=\u001b[0m\u001b[38;2;248;248;242;48;2;39;40;34m \u001b[0m\u001b[38;2;248;248;242;48;2;39;40;34mdata\u001b[0m\u001b[48;2;39;40;34m                                                                                      \u001b[0m\n",
       "\u001b[1;38;2;227;227;221;48;2;39;40;34m  \u001b[0m\u001b[38;2;101;102;96;48;2;39;40;34m24 \u001b[0m\u001b[38;2;248;248;242;48;2;39;40;34m        \u001b[0m\u001b[38;2;248;248;242;48;2;39;40;34mdocs\u001b[0m\u001b[38;2;248;248;242;48;2;39;40;34m \u001b[0m\u001b[38;2;255;70;137;48;2;39;40;34m=\u001b[0m\u001b[38;2;248;248;242;48;2;39;40;34m \u001b[0m\u001b[38;2;248;248;242;48;2;39;40;34m[\u001b[0m\u001b[38;2;248;248;242;48;2;39;40;34mdoc\u001b[0m\u001b[38;2;248;248;242;48;2;39;40;34m[\u001b[0m\u001b[38;2;230;219;116;48;2;39;40;34m\"\u001b[0m\u001b[38;2;230;219;116;48;2;39;40;34mcleaned_content\u001b[0m\u001b[38;2;230;219;116;48;2;39;40;34m\"\u001b[0m\u001b[38;2;248;248;242;48;2;39;40;34m]\u001b[0m\u001b[38;2;248;248;242;48;2;39;40;34m \u001b[0m\u001b[38;2;102;217;239;48;2;39;40;34mfor\u001b[0m\u001b[38;2;248;248;242;48;2;39;40;34m \u001b[0m\u001b[38;2;248;248;242;48;2;39;40;34mdoc\u001b[0m\u001b[38;2;248;248;242;48;2;39;40;34m \u001b[0m\u001b[38;2;255;70;137;48;2;39;40;34min\u001b[0m\u001b[38;2;248;248;242;48;2;39;40;34m \u001b[0m\u001b[38;2;248;248;242;48;2;39;40;34mdata\u001b[0m\u001b[38;2;248;248;242;48;2;39;40;34m]\u001b[0m\u001b[48;2;39;40;34m                                                       \u001b[0m\n",
       "\u001b[1;38;2;227;227;221;48;2;39;40;34m  \u001b[0m\u001b[38;2;101;102;96;48;2;39;40;34m25 \u001b[0m\u001b[38;2;248;248;242;48;2;39;40;34m        \u001b[0m\u001b[38;2;248;248;242;48;2;39;40;34mself\u001b[0m\u001b[38;2;255;70;137;48;2;39;40;34m.\u001b[0m\u001b[38;2;248;248;242;48;2;39;40;34mindex\u001b[0m\u001b[38;2;248;248;242;48;2;39;40;34m \u001b[0m\u001b[38;2;255;70;137;48;2;39;40;34m=\u001b[0m\u001b[38;2;248;248;242;48;2;39;40;34m \u001b[0m\u001b[38;2;248;248;242;48;2;39;40;34mself\u001b[0m\u001b[38;2;255;70;137;48;2;39;40;34m.\u001b[0m\u001b[38;2;248;248;242;48;2;39;40;34mvectorizer\u001b[0m\u001b[38;2;255;70;137;48;2;39;40;34m.\u001b[0m\u001b[38;2;248;248;242;48;2;39;40;34mfit_transform\u001b[0m\u001b[38;2;248;248;242;48;2;39;40;34m(\u001b[0m\u001b[38;2;248;248;242;48;2;39;40;34mdocs\u001b[0m\u001b[38;2;248;248;242;48;2;39;40;34m)\u001b[0m\u001b[48;2;39;40;34m                                                      \u001b[0m\n",
       "\u001b[1;38;2;227;227;221;48;2;39;40;34m  \u001b[0m\u001b[38;2;101;102;96;48;2;39;40;34m26 \u001b[0m\u001b[48;2;39;40;34m                                                                                                              \u001b[0m\n",
       "\u001b[1;38;2;227;227;221;48;2;39;40;34m  \u001b[0m\u001b[38;2;101;102;96;48;2;39;40;34m27 \u001b[0m\u001b[38;2;248;248;242;48;2;39;40;34m    \u001b[0m\u001b[38;2;166;226;46;48;2;39;40;34m@weave\u001b[0m\u001b[38;2;255;70;137;48;2;39;40;34m.\u001b[0m\u001b[38;2;248;248;242;48;2;39;40;34mop\u001b[0m\u001b[38;2;248;248;242;48;2;39;40;34m(\u001b[0m\u001b[38;2;248;248;242;48;2;39;40;34m)\u001b[0m\u001b[48;2;39;40;34m                                                                                               \u001b[0m\n",
       "\u001b[1;38;2;227;227;221;48;2;39;40;34m  \u001b[0m\u001b[38;2;101;102;96;48;2;39;40;34m28 \u001b[0m\u001b[38;2;248;248;242;48;2;39;40;34m    \u001b[0m\u001b[38;2;102;217;239;48;2;39;40;34mdef\u001b[0m\u001b[38;2;248;248;242;48;2;39;40;34m \u001b[0m\u001b[38;2;166;226;46;48;2;39;40;34msearch\u001b[0m\u001b[38;2;248;248;242;48;2;39;40;34m(\u001b[0m\u001b[38;2;248;248;242;48;2;39;40;34mself\u001b[0m\u001b[38;2;248;248;242;48;2;39;40;34m,\u001b[0m\u001b[38;2;248;248;242;48;2;39;40;34m \u001b[0m\u001b[38;2;248;248;242;48;2;39;40;34mquery\u001b[0m\u001b[38;2;248;248;242;48;2;39;40;34m,\u001b[0m\u001b[38;2;248;248;242;48;2;39;40;34m \u001b[0m\u001b[38;2;248;248;242;48;2;39;40;34mk\u001b[0m\u001b[38;2;255;70;137;48;2;39;40;34m=\u001b[0m\u001b[38;2;174;129;255;48;2;39;40;34m5\u001b[0m\u001b[38;2;248;248;242;48;2;39;40;34m)\u001b[0m\u001b[38;2;248;248;242;48;2;39;40;34m:\u001b[0m\u001b[48;2;39;40;34m                                                                             \u001b[0m\n",
       "\u001b[1;38;2;227;227;221;48;2;39;40;34m  \u001b[0m\u001b[38;2;101;102;96;48;2;39;40;34m29 \u001b[0m\u001b[38;2;248;248;242;48;2;39;40;34m        \u001b[0m\u001b[38;2;230;219;116;48;2;39;40;34m\"\"\"\u001b[0m\u001b[48;2;39;40;34m                                                                                                   \u001b[0m\n",
       "\u001b[1;38;2;227;227;221;48;2;39;40;34m  \u001b[0m\u001b[38;2;101;102;96;48;2;39;40;34m30 \u001b[0m\u001b[38;2;230;219;116;48;2;39;40;34m        Searches the indexed data for the given query using cosine similarity.\u001b[0m\u001b[48;2;39;40;34m                                \u001b[0m\n",
       "\u001b[1;38;2;227;227;221;48;2;39;40;34m  \u001b[0m\u001b[38;2;101;102;96;48;2;39;40;34m31 \u001b[0m\u001b[48;2;39;40;34m                                                                                                              \u001b[0m\n",
       "\u001b[1;38;2;227;227;221;48;2;39;40;34m  \u001b[0m\u001b[38;2;101;102;96;48;2;39;40;34m32 \u001b[0m\u001b[38;2;230;219;116;48;2;39;40;34m        Args:\u001b[0m\u001b[48;2;39;40;34m                                                                                                 \u001b[0m\n",
       "\u001b[1;38;2;227;227;221;48;2;39;40;34m  \u001b[0m\u001b[38;2;101;102;96;48;2;39;40;34m33 \u001b[0m\u001b[38;2;230;219;116;48;2;39;40;34m            query (str): The search query.\u001b[0m\u001b[48;2;39;40;34m                                                                    \u001b[0m\n",
       "\u001b[1;38;2;227;227;221;48;2;39;40;34m  \u001b[0m\u001b[38;2;101;102;96;48;2;39;40;34m34 \u001b[0m\u001b[38;2;230;219;116;48;2;39;40;34m            k (int): The number of top results to return. Default is 5.\u001b[0m\u001b[48;2;39;40;34m                                       \u001b[0m\n",
       "\u001b[1;38;2;227;227;221;48;2;39;40;34m  \u001b[0m\u001b[38;2;101;102;96;48;2;39;40;34m35 \u001b[0m\u001b[48;2;39;40;34m                                                                                                              \u001b[0m\n",
       "\u001b[1;38;2;227;227;221;48;2;39;40;34m  \u001b[0m\u001b[38;2;101;102;96;48;2;39;40;34m36 \u001b[0m\u001b[38;2;230;219;116;48;2;39;40;34m        Returns:\u001b[0m\u001b[48;2;39;40;34m                                                                                              \u001b[0m\n",
       "\u001b[1;38;2;227;227;221;48;2;39;40;34m  \u001b[0m\u001b[38;2;101;102;96;48;2;39;40;34m37 \u001b[0m\u001b[38;2;230;219;116;48;2;39;40;34m            list: A list of dictionaries containing the source, text, and score of the top-k results.\u001b[0m\u001b[48;2;39;40;34m         \u001b[0m\n",
       "\u001b[1;38;2;227;227;221;48;2;39;40;34m  \u001b[0m\u001b[38;2;101;102;96;48;2;39;40;34m38 \u001b[0m\u001b[38;2;230;219;116;48;2;39;40;34m        \"\"\"\u001b[0m\u001b[48;2;39;40;34m                                                                                                   \u001b[0m\n",
       "\u001b[1;38;2;227;227;221;48;2;39;40;34m  \u001b[0m\u001b[38;2;101;102;96;48;2;39;40;34m39 \u001b[0m\u001b[38;2;248;248;242;48;2;39;40;34m        \u001b[0m\u001b[38;2;248;248;242;48;2;39;40;34mquery_vec\u001b[0m\u001b[38;2;248;248;242;48;2;39;40;34m \u001b[0m\u001b[38;2;255;70;137;48;2;39;40;34m=\u001b[0m\u001b[38;2;248;248;242;48;2;39;40;34m \u001b[0m\u001b[38;2;248;248;242;48;2;39;40;34mself\u001b[0m\u001b[38;2;255;70;137;48;2;39;40;34m.\u001b[0m\u001b[38;2;248;248;242;48;2;39;40;34mvectorizer\u001b[0m\u001b[38;2;255;70;137;48;2;39;40;34m.\u001b[0m\u001b[38;2;248;248;242;48;2;39;40;34mtransform\u001b[0m\u001b[38;2;248;248;242;48;2;39;40;34m(\u001b[0m\u001b[38;2;248;248;242;48;2;39;40;34m[\u001b[0m\u001b[38;2;248;248;242;48;2;39;40;34mquery\u001b[0m\u001b[38;2;248;248;242;48;2;39;40;34m]\u001b[0m\u001b[38;2;248;248;242;48;2;39;40;34m)\u001b[0m\u001b[48;2;39;40;34m                                                        \u001b[0m\n",
       "\u001b[1;38;2;227;227;221;48;2;39;40;34m  \u001b[0m\u001b[38;2;101;102;96;48;2;39;40;34m40 \u001b[0m\u001b[38;2;248;248;242;48;2;39;40;34m        \u001b[0m\u001b[38;2;248;248;242;48;2;39;40;34mcosine_distances\u001b[0m\u001b[38;2;248;248;242;48;2;39;40;34m \u001b[0m\u001b[38;2;255;70;137;48;2;39;40;34m=\u001b[0m\u001b[38;2;248;248;242;48;2;39;40;34m \u001b[0m\u001b[38;2;248;248;242;48;2;39;40;34mcdist\u001b[0m\u001b[38;2;248;248;242;48;2;39;40;34m(\u001b[0m\u001b[48;2;39;40;34m                                                                             \u001b[0m\n",
       "\u001b[1;38;2;227;227;221;48;2;39;40;34m  \u001b[0m\u001b[38;2;101;102;96;48;2;39;40;34m41 \u001b[0m\u001b[38;2;248;248;242;48;2;39;40;34m            \u001b[0m\u001b[38;2;248;248;242;48;2;39;40;34mquery_vec\u001b[0m\u001b[38;2;255;70;137;48;2;39;40;34m.\u001b[0m\u001b[38;2;248;248;242;48;2;39;40;34mtodense\u001b[0m\u001b[38;2;248;248;242;48;2;39;40;34m(\u001b[0m\u001b[38;2;248;248;242;48;2;39;40;34m)\u001b[0m\u001b[38;2;248;248;242;48;2;39;40;34m,\u001b[0m\u001b[38;2;248;248;242;48;2;39;40;34m \u001b[0m\u001b[38;2;248;248;242;48;2;39;40;34mself\u001b[0m\u001b[38;2;255;70;137;48;2;39;40;34m.\u001b[0m\u001b[38;2;248;248;242;48;2;39;40;34mindex\u001b[0m\u001b[38;2;255;70;137;48;2;39;40;34m.\u001b[0m\u001b[38;2;248;248;242;48;2;39;40;34mtodense\u001b[0m\u001b[38;2;248;248;242;48;2;39;40;34m(\u001b[0m\u001b[38;2;248;248;242;48;2;39;40;34m)\u001b[0m\u001b[38;2;248;248;242;48;2;39;40;34m,\u001b[0m\u001b[38;2;248;248;242;48;2;39;40;34m \u001b[0m\u001b[38;2;248;248;242;48;2;39;40;34mmetric\u001b[0m\u001b[38;2;255;70;137;48;2;39;40;34m=\u001b[0m\u001b[38;2;230;219;116;48;2;39;40;34m\"\u001b[0m\u001b[38;2;230;219;116;48;2;39;40;34mcosine\u001b[0m\u001b[38;2;230;219;116;48;2;39;40;34m\"\u001b[0m\u001b[48;2;39;40;34m                                        \u001b[0m\n",
       "\u001b[1;38;2;227;227;221;48;2;39;40;34m  \u001b[0m\u001b[38;2;101;102;96;48;2;39;40;34m42 \u001b[0m\u001b[38;2;248;248;242;48;2;39;40;34m        \u001b[0m\u001b[38;2;248;248;242;48;2;39;40;34m)\u001b[0m\u001b[38;2;248;248;242;48;2;39;40;34m[\u001b[0m\u001b[38;2;174;129;255;48;2;39;40;34m0\u001b[0m\u001b[38;2;248;248;242;48;2;39;40;34m]\u001b[0m\u001b[48;2;39;40;34m                                                                                                  \u001b[0m\n",
       "\u001b[1;38;2;227;227;221;48;2;39;40;34m  \u001b[0m\u001b[38;2;101;102;96;48;2;39;40;34m43 \u001b[0m\u001b[38;2;248;248;242;48;2;39;40;34m        \u001b[0m\u001b[38;2;248;248;242;48;2;39;40;34mtop_k_indices\u001b[0m\u001b[38;2;248;248;242;48;2;39;40;34m \u001b[0m\u001b[38;2;255;70;137;48;2;39;40;34m=\u001b[0m\u001b[38;2;248;248;242;48;2;39;40;34m \u001b[0m\u001b[38;2;248;248;242;48;2;39;40;34mcosine_distances\u001b[0m\u001b[38;2;255;70;137;48;2;39;40;34m.\u001b[0m\u001b[38;2;248;248;242;48;2;39;40;34margsort\u001b[0m\u001b[38;2;248;248;242;48;2;39;40;34m(\u001b[0m\u001b[38;2;248;248;242;48;2;39;40;34m)\u001b[0m\u001b[38;2;248;248;242;48;2;39;40;34m[\u001b[0m\u001b[38;2;248;248;242;48;2;39;40;34m:\u001b[0m\u001b[38;2;248;248;242;48;2;39;40;34mk\u001b[0m\u001b[38;2;248;248;242;48;2;39;40;34m]\u001b[0m\u001b[48;2;39;40;34m                                                        \u001b[0m\n",
       "\u001b[1;38;2;227;227;221;48;2;39;40;34m  \u001b[0m\u001b[38;2;101;102;96;48;2;39;40;34m44 \u001b[0m\u001b[38;2;248;248;242;48;2;39;40;34m        \u001b[0m\u001b[38;2;248;248;242;48;2;39;40;34moutput\u001b[0m\u001b[38;2;248;248;242;48;2;39;40;34m \u001b[0m\u001b[38;2;255;70;137;48;2;39;40;34m=\u001b[0m\u001b[38;2;248;248;242;48;2;39;40;34m \u001b[0m\u001b[38;2;248;248;242;48;2;39;40;34m[\u001b[0m\u001b[38;2;248;248;242;48;2;39;40;34m]\u001b[0m\u001b[48;2;39;40;34m                                                                                           \u001b[0m\n",
       "\u001b[1;38;2;227;227;221;48;2;39;40;34m  \u001b[0m\u001b[38;2;101;102;96;48;2;39;40;34m45 \u001b[0m\u001b[38;2;248;248;242;48;2;39;40;34m        \u001b[0m\u001b[38;2;102;217;239;48;2;39;40;34mfor\u001b[0m\u001b[38;2;248;248;242;48;2;39;40;34m \u001b[0m\u001b[38;2;248;248;242;48;2;39;40;34midx\u001b[0m\u001b[38;2;248;248;242;48;2;39;40;34m \u001b[0m\u001b[38;2;255;70;137;48;2;39;40;34min\u001b[0m\u001b[38;2;248;248;242;48;2;39;40;34m \u001b[0m\u001b[38;2;248;248;242;48;2;39;40;34mtop_k_indices\u001b[0m\u001b[38;2;248;248;242;48;2;39;40;34m:\u001b[0m\u001b[48;2;39;40;34m                                                                             \u001b[0m\n",
       "\u001b[1;38;2;227;227;221;48;2;39;40;34m  \u001b[0m\u001b[38;2;101;102;96;48;2;39;40;34m46 \u001b[0m\u001b[38;2;248;248;242;48;2;39;40;34m            \u001b[0m\u001b[38;2;248;248;242;48;2;39;40;34moutput\u001b[0m\u001b[38;2;255;70;137;48;2;39;40;34m.\u001b[0m\u001b[38;2;248;248;242;48;2;39;40;34mappend\u001b[0m\u001b[38;2;248;248;242;48;2;39;40;34m(\u001b[0m\u001b[48;2;39;40;34m                                                                                    \u001b[0m\n",
       "\u001b[1;38;2;227;227;221;48;2;39;40;34m  \u001b[0m\u001b[38;2;101;102;96;48;2;39;40;34m47 \u001b[0m\u001b[38;2;248;248;242;48;2;39;40;34m                \u001b[0m\u001b[38;2;248;248;242;48;2;39;40;34m{\u001b[0m\u001b[48;2;39;40;34m                                                                                             \u001b[0m\n",
       "\u001b[1;38;2;227;227;221;48;2;39;40;34m  \u001b[0m\u001b[38;2;101;102;96;48;2;39;40;34m48 \u001b[0m\u001b[38;2;248;248;242;48;2;39;40;34m                    \u001b[0m\u001b[38;2;230;219;116;48;2;39;40;34m\"\u001b[0m\u001b[38;2;230;219;116;48;2;39;40;34msource\u001b[0m\u001b[38;2;230;219;116;48;2;39;40;34m\"\u001b[0m\u001b[38;2;248;248;242;48;2;39;40;34m:\u001b[0m\u001b[38;2;248;248;242;48;2;39;40;34m \u001b[0m\u001b[38;2;248;248;242;48;2;39;40;34mself\u001b[0m\u001b[38;2;255;70;137;48;2;39;40;34m.\u001b[0m\u001b[38;2;248;248;242;48;2;39;40;34mdata\u001b[0m\u001b[38;2;248;248;242;48;2;39;40;34m[\u001b[0m\u001b[38;2;248;248;242;48;2;39;40;34midx\u001b[0m\u001b[38;2;248;248;242;48;2;39;40;34m]\u001b[0m\u001b[38;2;248;248;242;48;2;39;40;34m[\u001b[0m\u001b[38;2;230;219;116;48;2;39;40;34m\"\u001b[0m\u001b[38;2;230;219;116;48;2;39;40;34mmetadata\u001b[0m\u001b[38;2;230;219;116;48;2;39;40;34m\"\u001b[0m\u001b[38;2;248;248;242;48;2;39;40;34m]\u001b[0m\u001b[38;2;248;248;242;48;2;39;40;34m[\u001b[0m\u001b[38;2;230;219;116;48;2;39;40;34m\"\u001b[0m\u001b[38;2;230;219;116;48;2;39;40;34msource\u001b[0m\u001b[38;2;230;219;116;48;2;39;40;34m\"\u001b[0m\u001b[38;2;248;248;242;48;2;39;40;34m]\u001b[0m\u001b[38;2;248;248;242;48;2;39;40;34m,\u001b[0m\u001b[48;2;39;40;34m                                           \u001b[0m\n",
       "\u001b[1;38;2;227;227;221;48;2;39;40;34m  \u001b[0m\u001b[38;2;101;102;96;48;2;39;40;34m49 \u001b[0m\u001b[38;2;248;248;242;48;2;39;40;34m                    \u001b[0m\u001b[38;2;230;219;116;48;2;39;40;34m\"\u001b[0m\u001b[38;2;230;219;116;48;2;39;40;34mtext\u001b[0m\u001b[38;2;230;219;116;48;2;39;40;34m\"\u001b[0m\u001b[38;2;248;248;242;48;2;39;40;34m:\u001b[0m\u001b[38;2;248;248;242;48;2;39;40;34m \u001b[0m\u001b[38;2;248;248;242;48;2;39;40;34mself\u001b[0m\u001b[38;2;255;70;137;48;2;39;40;34m.\u001b[0m\u001b[38;2;248;248;242;48;2;39;40;34mdata\u001b[0m\u001b[38;2;248;248;242;48;2;39;40;34m[\u001b[0m\u001b[38;2;248;248;242;48;2;39;40;34midx\u001b[0m\u001b[38;2;248;248;242;48;2;39;40;34m]\u001b[0m\u001b[38;2;248;248;242;48;2;39;40;34m[\u001b[0m\u001b[38;2;230;219;116;48;2;39;40;34m\"\u001b[0m\u001b[38;2;230;219;116;48;2;39;40;34mcleaned_content\u001b[0m\u001b[38;2;230;219;116;48;2;39;40;34m\"\u001b[0m\u001b[38;2;248;248;242;48;2;39;40;34m]\u001b[0m\u001b[38;2;248;248;242;48;2;39;40;34m,\u001b[0m\u001b[48;2;39;40;34m                                                \u001b[0m\n",
       "\u001b[1;38;2;227;227;221;48;2;39;40;34m  \u001b[0m\u001b[38;2;101;102;96;48;2;39;40;34m50 \u001b[0m\u001b[38;2;248;248;242;48;2;39;40;34m                    \u001b[0m\u001b[38;2;230;219;116;48;2;39;40;34m\"\u001b[0m\u001b[38;2;230;219;116;48;2;39;40;34mscore\u001b[0m\u001b[38;2;230;219;116;48;2;39;40;34m\"\u001b[0m\u001b[38;2;248;248;242;48;2;39;40;34m:\u001b[0m\u001b[38;2;248;248;242;48;2;39;40;34m \u001b[0m\u001b[38;2;174;129;255;48;2;39;40;34m1\u001b[0m\u001b[38;2;248;248;242;48;2;39;40;34m \u001b[0m\u001b[38;2;255;70;137;48;2;39;40;34m-\u001b[0m\u001b[38;2;248;248;242;48;2;39;40;34m \u001b[0m\u001b[38;2;248;248;242;48;2;39;40;34mcosine_distances\u001b[0m\u001b[38;2;248;248;242;48;2;39;40;34m[\u001b[0m\u001b[38;2;248;248;242;48;2;39;40;34midx\u001b[0m\u001b[38;2;248;248;242;48;2;39;40;34m]\u001b[0m\u001b[38;2;248;248;242;48;2;39;40;34m,\u001b[0m\u001b[48;2;39;40;34m                                                       \u001b[0m\n",
       "\u001b[1;38;2;227;227;221;48;2;39;40;34m  \u001b[0m\u001b[38;2;101;102;96;48;2;39;40;34m51 \u001b[0m\u001b[38;2;248;248;242;48;2;39;40;34m                \u001b[0m\u001b[38;2;248;248;242;48;2;39;40;34m}\u001b[0m\u001b[48;2;39;40;34m                                                                                             \u001b[0m\n",
       "\u001b[1;38;2;227;227;221;48;2;39;40;34m  \u001b[0m\u001b[38;2;101;102;96;48;2;39;40;34m52 \u001b[0m\u001b[38;2;248;248;242;48;2;39;40;34m            \u001b[0m\u001b[38;2;248;248;242;48;2;39;40;34m)\u001b[0m\u001b[48;2;39;40;34m                                                                                                 \u001b[0m\n",
       "\u001b[1;38;2;227;227;221;48;2;39;40;34m  \u001b[0m\u001b[38;2;101;102;96;48;2;39;40;34m53 \u001b[0m\u001b[38;2;248;248;242;48;2;39;40;34m        \u001b[0m\u001b[38;2;102;217;239;48;2;39;40;34mreturn\u001b[0m\u001b[38;2;248;248;242;48;2;39;40;34m \u001b[0m\u001b[38;2;248;248;242;48;2;39;40;34moutput\u001b[0m\u001b[48;2;39;40;34m                                                                                         \u001b[0m\n",
       "\u001b[1;38;2;227;227;221;48;2;39;40;34m  \u001b[0m\u001b[38;2;101;102;96;48;2;39;40;34m54 \u001b[0m\u001b[48;2;39;40;34m                                                                                                              \u001b[0m\n",
       "\u001b[1;38;2;227;227;221;48;2;39;40;34m  \u001b[0m\u001b[38;2;101;102;96;48;2;39;40;34m55 \u001b[0m\u001b[38;2;248;248;242;48;2;39;40;34m    \u001b[0m\u001b[38;2;166;226;46;48;2;39;40;34m@weave\u001b[0m\u001b[38;2;255;70;137;48;2;39;40;34m.\u001b[0m\u001b[38;2;248;248;242;48;2;39;40;34mop\u001b[0m\u001b[38;2;248;248;242;48;2;39;40;34m(\u001b[0m\u001b[38;2;248;248;242;48;2;39;40;34m)\u001b[0m\u001b[48;2;39;40;34m                                                                                               \u001b[0m\n",
       "\u001b[1;38;2;227;227;221;48;2;39;40;34m  \u001b[0m\u001b[38;2;101;102;96;48;2;39;40;34m56 \u001b[0m\u001b[38;2;248;248;242;48;2;39;40;34m    \u001b[0m\u001b[38;2;102;217;239;48;2;39;40;34mdef\u001b[0m\u001b[38;2;248;248;242;48;2;39;40;34m \u001b[0m\u001b[38;2;166;226;46;48;2;39;40;34mpredict\u001b[0m\u001b[38;2;248;248;242;48;2;39;40;34m(\u001b[0m\u001b[38;2;248;248;242;48;2;39;40;34mself\u001b[0m\u001b[38;2;248;248;242;48;2;39;40;34m,\u001b[0m\u001b[38;2;248;248;242;48;2;39;40;34m \u001b[0m\u001b[38;2;248;248;242;48;2;39;40;34mquery\u001b[0m\u001b[38;2;248;248;242;48;2;39;40;34m:\u001b[0m\u001b[38;2;248;248;242;48;2;39;40;34m \u001b[0m\u001b[38;2;248;248;242;48;2;39;40;34mstr\u001b[0m\u001b[38;2;248;248;242;48;2;39;40;34m,\u001b[0m\u001b[38;2;248;248;242;48;2;39;40;34m \u001b[0m\u001b[38;2;248;248;242;48;2;39;40;34mk\u001b[0m\u001b[38;2;248;248;242;48;2;39;40;34m:\u001b[0m\u001b[38;2;248;248;242;48;2;39;40;34m \u001b[0m\u001b[38;2;248;248;242;48;2;39;40;34mint\u001b[0m\u001b[38;2;248;248;242;48;2;39;40;34m)\u001b[0m\u001b[38;2;248;248;242;48;2;39;40;34m:\u001b[0m\u001b[48;2;39;40;34m                                                                    \u001b[0m\n",
       "\u001b[1;38;2;227;227;221;48;2;39;40;34m  \u001b[0m\u001b[38;2;101;102;96;48;2;39;40;34m57 \u001b[0m\u001b[38;2;248;248;242;48;2;39;40;34m        \u001b[0m\u001b[38;2;230;219;116;48;2;39;40;34m\"\"\"\u001b[0m\u001b[48;2;39;40;34m                                                                                                   \u001b[0m\n",
       "\u001b[1;38;2;227;227;221;48;2;39;40;34m  \u001b[0m\u001b[38;2;101;102;96;48;2;39;40;34m58 \u001b[0m\u001b[38;2;230;219;116;48;2;39;40;34m        Predicts the top-k results for the given query.\u001b[0m\u001b[48;2;39;40;34m                                                       \u001b[0m\n",
       "\u001b[1;38;2;227;227;221;48;2;39;40;34m  \u001b[0m\u001b[38;2;101;102;96;48;2;39;40;34m59 \u001b[0m\u001b[48;2;39;40;34m                                                                                                              \u001b[0m\n",
       "\u001b[1;38;2;227;227;221;48;2;39;40;34m  \u001b[0m\u001b[38;2;101;102;96;48;2;39;40;34m60 \u001b[0m\u001b[38;2;230;219;116;48;2;39;40;34m        Args:\u001b[0m\u001b[48;2;39;40;34m                                                                                                 \u001b[0m\n",
       "\u001b[1;38;2;227;227;221;48;2;39;40;34m  \u001b[0m\u001b[38;2;101;102;96;48;2;39;40;34m61 \u001b[0m\u001b[38;2;230;219;116;48;2;39;40;34m            query (str): The search query.\u001b[0m\u001b[48;2;39;40;34m                                                                    \u001b[0m\n",
       "\u001b[1;38;2;227;227;221;48;2;39;40;34m  \u001b[0m\u001b[38;2;101;102;96;48;2;39;40;34m62 \u001b[0m\u001b[38;2;230;219;116;48;2;39;40;34m            k (int): The number of top results to return.\u001b[0m\u001b[48;2;39;40;34m                                                     \u001b[0m\n",
       "\u001b[1;38;2;227;227;221;48;2;39;40;34m  \u001b[0m\u001b[38;2;101;102;96;48;2;39;40;34m63 \u001b[0m\u001b[48;2;39;40;34m                                                                                                              \u001b[0m\n",
       "\u001b[1;38;2;227;227;221;48;2;39;40;34m  \u001b[0m\u001b[38;2;101;102;96;48;2;39;40;34m64 \u001b[0m\u001b[38;2;230;219;116;48;2;39;40;34m        Returns:\u001b[0m\u001b[48;2;39;40;34m                                                                                              \u001b[0m\n",
       "\u001b[1;38;2;227;227;221;48;2;39;40;34m  \u001b[0m\u001b[38;2;101;102;96;48;2;39;40;34m65 \u001b[0m\u001b[38;2;230;219;116;48;2;39;40;34m            list: A list of dictionaries containing the source, text, and score of the top-k results.\u001b[0m\u001b[48;2;39;40;34m         \u001b[0m\n",
       "\u001b[1;38;2;227;227;221;48;2;39;40;34m  \u001b[0m\u001b[38;2;101;102;96;48;2;39;40;34m66 \u001b[0m\u001b[38;2;230;219;116;48;2;39;40;34m        \"\"\"\u001b[0m\u001b[48;2;39;40;34m                                                                                                   \u001b[0m\n",
       "\u001b[1;38;2;227;227;221;48;2;39;40;34m  \u001b[0m\u001b[38;2;101;102;96;48;2;39;40;34m67 \u001b[0m\u001b[38;2;248;248;242;48;2;39;40;34m        \u001b[0m\u001b[38;2;102;217;239;48;2;39;40;34mreturn\u001b[0m\u001b[38;2;248;248;242;48;2;39;40;34m \u001b[0m\u001b[38;2;248;248;242;48;2;39;40;34mself\u001b[0m\u001b[38;2;255;70;137;48;2;39;40;34m.\u001b[0m\u001b[38;2;248;248;242;48;2;39;40;34msearch\u001b[0m\u001b[38;2;248;248;242;48;2;39;40;34m(\u001b[0m\u001b[38;2;248;248;242;48;2;39;40;34mquery\u001b[0m\u001b[38;2;248;248;242;48;2;39;40;34m,\u001b[0m\u001b[38;2;248;248;242;48;2;39;40;34m \u001b[0m\u001b[38;2;248;248;242;48;2;39;40;34mk\u001b[0m\u001b[38;2;248;248;242;48;2;39;40;34m)\u001b[0m\u001b[48;2;39;40;34m                                                                          \u001b[0m\n",
       "\u001b[1;38;2;227;227;221;48;2;39;40;34m  \u001b[0m\u001b[38;2;101;102;96;48;2;39;40;34m68 \u001b[0m\u001b[48;2;39;40;34m                                                                                                              \u001b[0m\n"
      ]
     },
     "metadata": {},
     "output_type": "display_data"
    }
   ],
   "source": [
    "from scripts.retriever import TFIDFRetriever\n",
    "\n",
    "display_source(TFIDFRetriever)"
   ]
  },
  {
   "cell_type": "markdown",
   "metadata": {},
   "source": [
    "This simple TF-IDF based retriever serves as a good starting point, but for more complex applications, it can be extended or improved in several ways:\n",
    "\n",
    "- **Semantic search**: Implement embedding-based retrieval using dense vectors for better semantic understanding.\n",
    "- **Hybrid retrieval**: Combine TF-IDF with embedding-based methods to balance lexical and semantic matching.\n",
    "- **Query expansion**: Incorporate techniques like automatic query expansion to improve recall.\n",
    "- **Document ranking**: Implement more sophisticated ranking algorithms, such as BM25 and re-ranking models.\n",
    "- **Scalability**: For larger datasets, consider using approximate nearest neighbor search techniques or vector databases.\n",
    "\n",
    "As we progress through the course, we'll explore some of these concepts and gradually enhance our retriever to make it more robust and efficient for real-world applications."
   ]
  },
  {
   "cell_type": "markdown",
   "metadata": {},
   "source": [
    "Now, let's see our `TFIDFRetriever` in action. We will index our chunked data and then query the retriever to fetch related chunks from the index."
   ]
  },
  {
   "cell_type": "code",
   "execution_count": 21,
   "metadata": {},
   "outputs": [],
   "source": [
    "retriever = TFIDFRetriever()\n",
    "retriever.index_data(list(map(dict, chunked_data.rows)))"
   ]
  },
  {
   "cell_type": "code",
   "execution_count": 22,
   "metadata": {},
   "outputs": [
    {
     "name": "stdout",
     "output_type": "stream",
     "text": [
      "🍩 https://wandb.ai/elshehawy/rag-course/r/call/0192cfa3-326d-7a60-aa26-7035e5f3be94\n"
     ]
    },
    {
     "data": {
      "text/html": [
       "<pre style=\"white-space:pre;overflow-x:auto;line-height:normal;font-family:Menlo,'DejaVu Sans Mono',consolas,'Courier New',monospace\"><span style=\"font-weight: bold\">{</span>\n",
       "    <span style=\"color: #008000; text-decoration-color: #008000\">'source'</span>: <span style=\"color: #008000; text-decoration-color: #008000\">'guides/technical-faq/general.md'</span>,\n",
       "    <span style=\"color: #008000; text-decoration-color: #008000\">'text'</span>: <span style=\"color: #008000; text-decoration-color: #008000\">'--- displayed_sidebar: default --- # General ### What does `wandb.init` do to my training process? </span>\n",
       "<span style=\"color: #008000; text-decoration-color: #008000\">When `wandb.init()` is called from your training script an API call is made to create a run object on our servers. </span>\n",
       "<span style=\"color: #008000; text-decoration-color: #008000\">A new process is started to stream and collect metrics, thereby keeping all threads and logic out of your primary </span>\n",
       "<span style=\"color: #008000; text-decoration-color: #008000\">process. Your script runs normally and writes to local files, while the separate process streams them to our </span>\n",
       "<span style=\"color: #008000; text-decoration-color: #008000\">servers along with system metrics. You can always turn off streaming by running `wandb off` from your training </span>\n",
       "<span style=\"color: #008000; text-decoration-color: #008000\">directory, or setting the `WANDB_MODE` environment variable to `offline`. ### Does your tool track or store </span>\n",
       "<span style=\"color: #008000; text-decoration-color: #008000\">training data? You can pass a SHA or other unique identifier to `wandb.config.update(...)` to associate a dataset </span>\n",
       "<span style=\"color: #008000; text-decoration-color: #008000\">with a training run. W&amp;B does not store any data unless `wandb.save` is called with the local file name. ### What </span>\n",
       "<span style=\"color: #008000; text-decoration-color: #008000\">formula do you use for your smoothing algorithm? We use the same exponential moving average formula as TensorBoard.</span>\n",
       "<span style=\"color: #008000; text-decoration-color: #008000\">You can find an [explanation </span>\n",
       "<span style=\"color: #008000; text-decoration-color: #008000\">here](https://stackoverflow.com/questions/42281844/what-is-the-mathematics-behind-the-smoothing-parameter-in-tensor</span>\n",
       "<span style=\"color: #008000; text-decoration-color: #008000\">boards-scalar). ### How do I get the random run name in my script? Call `wandb.run.save()` and then get the name </span>\n",
       "<span style=\"color: #008000; text-decoration-color: #008000\">with `wandb.run.name` . ### What is the difference between `.log()` and `.summary`? The summary is the value that </span>\n",
       "<span style=\"color: #008000; text-decoration-color: #008000\">shows in the table while the log will save all the values for plotting later. For example, you might want to call </span>\n",
       "<span style=\"color: #008000; text-decoration-color: #008000\">`wandb.log` every time the accuracy changes. Usually, you can just use .log. `wandb.log()` will also update the </span>\n",
       "<span style=\"color: #008000; text-decoration-color: #008000\">summary value by default unless you have set the summary manually for that metric The scatterplot and parallel </span>\n",
       "<span style=\"color: #008000; text-decoration-color: #008000\">coordinate plots will also use the summary value while the line plot plots all of the values set by .log The reason</span>\n",
       "<span style=\"color: #008000; text-decoration-color: #008000\">we have both is that some people like to set the summary manually because'</span>,\n",
       "    <span style=\"color: #008000; text-decoration-color: #008000\">'score'</span>: <span style=\"color: #008080; text-decoration-color: #008080; font-weight: bold\">0.28870928597000667</span>\n",
       "<span style=\"font-weight: bold\">}</span>\n",
       "</pre>\n"
      ],
      "text/plain": [
       "\u001b[1m{\u001b[0m\n",
       "    \u001b[32m'source'\u001b[0m: \u001b[32m'guides/technical-faq/general.md'\u001b[0m,\n",
       "    \u001b[32m'text'\u001b[0m: \u001b[32m'--- displayed_sidebar: default --- # General ### What does `wandb.init` do to my training process? \u001b[0m\n",
       "\u001b[32mWhen `wandb.init\u001b[0m\u001b[32m(\u001b[0m\u001b[32m)\u001b[0m\u001b[32m` is called from your training script an API call is made to create a run object on our servers. \u001b[0m\n",
       "\u001b[32mA new process is started to stream and collect metrics, thereby keeping all threads and logic out of your primary \u001b[0m\n",
       "\u001b[32mprocess. Your script runs normally and writes to local files, while the separate process streams them to our \u001b[0m\n",
       "\u001b[32mservers along with system metrics. You can always turn off streaming by running `wandb off` from your training \u001b[0m\n",
       "\u001b[32mdirectory, or setting the `WANDB_MODE` environment variable to `offline`. ### Does your tool track or store \u001b[0m\n",
       "\u001b[32mtraining data? You can pass a SHA or other unique identifier to `wandb.config.update\u001b[0m\u001b[32m(\u001b[0m\u001b[32m...\u001b[0m\u001b[32m)\u001b[0m\u001b[32m` to associate a dataset \u001b[0m\n",
       "\u001b[32mwith a training run. W&B does not store any data unless `wandb.save` is called with the local file name. ### What \u001b[0m\n",
       "\u001b[32mformula do you use for your smoothing algorithm? We use the same exponential moving average formula as TensorBoard.\u001b[0m\n",
       "\u001b[32mYou can find an \u001b[0m\u001b[32m[\u001b[0m\u001b[32mexplanation \u001b[0m\n",
       "\u001b[32mhere\u001b[0m\u001b[32m]\u001b[0m\u001b[32m(\u001b[0m\u001b[32mhttps://stackoverflow.com/questions/42281844/what-is-the-mathematics-behind-the-smoothing-parameter-in-tensor\u001b[0m\n",
       "\u001b[32mboards-scalar\u001b[0m\u001b[32m)\u001b[0m\u001b[32m. ### How do I get the random run name in my script? Call `wandb.run.save\u001b[0m\u001b[32m(\u001b[0m\u001b[32m)\u001b[0m\u001b[32m` and then get the name \u001b[0m\n",
       "\u001b[32mwith `wandb.run.name` . ### What is the difference between `.log\u001b[0m\u001b[32m(\u001b[0m\u001b[32m)\u001b[0m\u001b[32m` and `.summary`? The summary is the value that \u001b[0m\n",
       "\u001b[32mshows in the table while the log will save all the values for plotting later. For example, you might want to call \u001b[0m\n",
       "\u001b[32m`wandb.log` every time the accuracy changes. Usually, you can just use .log. `wandb.log\u001b[0m\u001b[32m(\u001b[0m\u001b[32m)\u001b[0m\u001b[32m` will also update the \u001b[0m\n",
       "\u001b[32msummary value by default unless you have set the summary manually for that metric The scatterplot and parallel \u001b[0m\n",
       "\u001b[32mcoordinate plots will also use the summary value while the line plot plots all of the values set by .log The reason\u001b[0m\n",
       "\u001b[32mwe have both is that some people like to set the summary manually because'\u001b[0m,\n",
       "    \u001b[32m'score'\u001b[0m: \u001b[1;36m0.28870928597000667\u001b[0m\n",
       "\u001b[1m}\u001b[0m\n"
      ]
     },
     "metadata": {},
     "output_type": "display_data"
    },
    {
     "data": {
      "text/html": [
       "<pre style=\"white-space:pre;overflow-x:auto;line-height:normal;font-family:Menlo,'DejaVu Sans Mono',consolas,'Courier New',monospace\"><span style=\"font-weight: bold\">{</span>\n",
       "    <span style=\"color: #008000; text-decoration-color: #008000\">'source'</span>: <span style=\"color: #008000; text-decoration-color: #008000\">'guides/technical-faq/troubleshooting.md'</span>,\n",
       "    <span style=\"color: #008000; text-decoration-color: #008000\">'text'</span>: <span style=\"color: #008000; text-decoration-color: #008000\">'--- displayed_sidebar: default --- import Tabs from \\'@theme/Tabs\\'; import TabItem from </span>\n",
       "<span style=\"color: #008000; text-decoration-color: #008000\">\\'@theme/TabItem\\'; # Troubleshooting ### If wandb crashes, will it possibly crash my training run? It is extremely</span>\n",
       "<span style=\"color: #008000; text-decoration-color: #008000\">important to us that we never interfere with your training runs. We run wandb in a separate process to make sure </span>\n",
       "<span style=\"color: #008000; text-decoration-color: #008000\">that if wandb somehow crashes, your training will continue to run. If the internet goes out, wandb will continue to</span>\n",
       "<span style=\"color: #008000; text-decoration-color: #008000\">retry sending data to [wandb.ai](https://wandb.ai). ### Why is a run marked crashed in W&amp;B when it’s training fine </span>\n",
       "<span style=\"color: #008000; text-decoration-color: #008000\">locally? This is likely a connection problem — if your server loses internet access and data stops syncing to W&amp;B, </span>\n",
       "<span style=\"color: #008000; text-decoration-color: #008000\">we mark the run as crashed after a short period of retrying. ### Does logging block my training? \"Is the logging </span>\n",
       "<span style=\"color: #008000; text-decoration-color: #008000\">function lazy? I don\\'t want to be dependent on the network to send the results to your servers and then carry on </span>\n",
       "<span style=\"color: #008000; text-decoration-color: #008000\">with my local operations.\" Calling `wandb.log` writes a line to a local file; it does not block any network calls. </span>\n",
       "<span style=\"color: #008000; text-decoration-color: #008000\">When you call `wandb.init` we launch a new process on the same machine that listens for filesystem changes and </span>\n",
       "<span style=\"color: #008000; text-decoration-color: #008000\">talks to our web service asynchronously from your training process. ### How do I stop wandb from writing to my </span>\n",
       "<span style=\"color: #008000; text-decoration-color: #008000\">terminal or my jupyter notebook output? Set the environment variable </span>\n",
       "<span style=\"color: #008000; text-decoration-color: #008000\">[`WANDB_SILENT`](../track/environment-variables.md) to `true`. &lt;Tabs defaultValue=\"python\" values={[ {label: </span>\n",
       "<span style=\"color: #008000; text-decoration-color: #008000\">\\'Python\\', value: \\'python\\'}, {label: \\'Jupyter Notebook\\', value: \\'notebook\\'}, {label: \\'Command Line\\', </span>\n",
       "<span style=\"color: #008000; text-decoration-color: #008000\">value: \\'command-line\\'}, ]}&gt; &lt;TabItem value=\"python\"&gt; ```python os.environ[\"WANDB_SILENT\"] = \"true\" ``` &lt;/TabItem&gt;</span>\n",
       "<span style=\"color: #008000; text-decoration-color: #008000\">&lt;TabItem value=\"notebook\"&gt; ```python %env WANDB_SILENT=true ``` &lt;/TabItem&gt; &lt;TabItem value=\"command-line\"&gt; ```python</span>\n",
       "<span style=\"color: #008000; text-decoration-color: #008000\">WANDB_SILENT=true ``` &lt;/TabItem&gt; &lt;/Tabs&gt; ### How do I kill a job with wandb? Press `Ctrl+D` on your keyboard to </span>\n",
       "<span style=\"color: #008000; text-decoration-color: #008000\">stop a script that is instrumented with wandb. ### How do I deal with network issues? If you\\'re seeing SSL or </span>\n",
       "<span style=\"color: #008000; text-decoration-color: #008000\">network errors:`wandb:'</span>,\n",
       "    <span style=\"color: #008000; text-decoration-color: #008000\">'score'</span>: <span style=\"color: #008080; text-decoration-color: #008080; font-weight: bold\">0.25915729952187805</span>\n",
       "<span style=\"font-weight: bold\">}</span>\n",
       "</pre>\n"
      ],
      "text/plain": [
       "\u001b[1m{\u001b[0m\n",
       "    \u001b[32m'source'\u001b[0m: \u001b[32m'guides/technical-faq/troubleshooting.md'\u001b[0m,\n",
       "    \u001b[32m'text'\u001b[0m: \u001b[32m'--- displayed_sidebar: default --- import Tabs from \\'@theme/Tabs\\'; import TabItem from \u001b[0m\n",
       "\u001b[32m\\'@theme/TabItem\\'; # Troubleshooting ### If wandb crashes, will it possibly crash my training run? It is extremely\u001b[0m\n",
       "\u001b[32mimportant to us that we never interfere with your training runs. We run wandb in a separate process to make sure \u001b[0m\n",
       "\u001b[32mthat if wandb somehow crashes, your training will continue to run. If the internet goes out, wandb will continue to\u001b[0m\n",
       "\u001b[32mretry sending data to \u001b[0m\u001b[32m[\u001b[0m\u001b[32mwandb.ai\u001b[0m\u001b[32m]\u001b[0m\u001b[32m(\u001b[0m\u001b[32mhttps://wandb.ai\u001b[0m\u001b[32m)\u001b[0m\u001b[32m. ### Why is a run marked crashed in W&B when it’s training fine \u001b[0m\n",
       "\u001b[32mlocally? This is likely a connection problem — if your server loses internet access and data stops syncing to W&B, \u001b[0m\n",
       "\u001b[32mwe mark the run as crashed after a short period of retrying. ### Does logging block my training? \"Is the logging \u001b[0m\n",
       "\u001b[32mfunction lazy? I don\\'t want to be dependent on the network to send the results to your servers and then carry on \u001b[0m\n",
       "\u001b[32mwith my local operations.\" Calling `wandb.log` writes a line to a local file; it does not block any network calls. \u001b[0m\n",
       "\u001b[32mWhen you call `wandb.init` we launch a new process on the same machine that listens for filesystem changes and \u001b[0m\n",
       "\u001b[32mtalks to our web service asynchronously from your training process. ### How do I stop wandb from writing to my \u001b[0m\n",
       "\u001b[32mterminal or my jupyter notebook output? Set the environment variable \u001b[0m\n",
       "\u001b[32m[\u001b[0m\u001b[32m`WANDB_SILENT`\u001b[0m\u001b[32m]\u001b[0m\u001b[32m(\u001b[0m\u001b[32m../track/environment-variables.md\u001b[0m\u001b[32m)\u001b[0m\u001b[32m to `true`. \u001b[0m\u001b[32m<\u001b[0m\u001b[32mTabs\u001b[0m\u001b[32m \u001b[0m\u001b[32mdefaultValue\u001b[0m\u001b[32m=\u001b[0m\u001b[32m\"python\"\u001b[0m\u001b[32m \u001b[0m\u001b[32mvalues\u001b[0m\u001b[32m=\u001b[0m\u001b[32m{\u001b[0m\u001b[32m[\u001b[0m\u001b[32m \u001b[0m\u001b[32m{\u001b[0m\u001b[32mlabel: \u001b[0m\n",
       "\u001b[32m\\'Python\\', value: \\'python\\'\u001b[0m\u001b[32m}\u001b[0m\u001b[32m, \u001b[0m\u001b[32m{\u001b[0m\u001b[32mlabel: \\'Jupyter Notebook\\', value: \\'notebook\\'\u001b[0m\u001b[32m}\u001b[0m\u001b[32m, \u001b[0m\u001b[32m{\u001b[0m\u001b[32mlabel: \\'Command Line\\', \u001b[0m\n",
       "\u001b[32mvalue: \\'command-line\\'\u001b[0m\u001b[32m}\u001b[0m\u001b[32m, \u001b[0m\u001b[32m]\u001b[0m\u001b[32m}\u001b[0m\u001b[32m> <TabItem \u001b[0m\u001b[32mvalue\u001b[0m\u001b[32m=\u001b[0m\u001b[32m\"python\"\u001b[0m\u001b[32m> ```python os.environ\u001b[0m\u001b[32m[\u001b[0m\u001b[32m\"WANDB_SILENT\"\u001b[0m\u001b[32m]\u001b[0m\u001b[32m = \"true\" ``` </TabItem>\u001b[0m\n",
       "\u001b[32m<TabItem \u001b[0m\u001b[32mvalue\u001b[0m\u001b[32m=\u001b[0m\u001b[32m\"notebook\"\u001b[0m\u001b[32m> ```python %env \u001b[0m\u001b[32mWANDB_SILENT\u001b[0m\u001b[32m=\u001b[0m\u001b[32mtrue\u001b[0m\u001b[32m ``` </TabItem> <TabItem \u001b[0m\u001b[32mvalue\u001b[0m\u001b[32m=\u001b[0m\u001b[32m\"command\u001b[0m\u001b[32m-line\"> ```python\u001b[0m\n",
       "\u001b[32mWANDB_SILENT\u001b[0m\u001b[32m=\u001b[0m\u001b[32mtrue\u001b[0m\u001b[32m ``` </TabItem> </Tabs\u001b[0m\u001b[32m>\u001b[0m\u001b[32m ### How do I kill a job with wandb? Press `Ctrl+D` on your keyboard to \u001b[0m\n",
       "\u001b[32mstop a script that is instrumented with wandb. ### How do I deal with network issues? If you\\'re seeing SSL or \u001b[0m\n",
       "\u001b[32mnetwork errors:`wandb:'\u001b[0m,\n",
       "    \u001b[32m'score'\u001b[0m: \u001b[1;36m0.25915729952187805\u001b[0m\n",
       "\u001b[1m}\u001b[0m\n"
      ]
     },
     "metadata": {},
     "output_type": "display_data"
    },
    {
     "data": {
      "text/html": [
       "<pre style=\"white-space:pre;overflow-x:auto;line-height:normal;font-family:Menlo,'DejaVu Sans Mono',consolas,'Courier New',monospace\"><span style=\"font-weight: bold\">{</span>\n",
       "    <span style=\"color: #008000; text-decoration-color: #008000\">'source'</span>: <span style=\"color: #008000; text-decoration-color: #008000\">'guides/track/log/logging-faqs.md'</span>,\n",
       "    <span style=\"color: #008000; text-decoration-color: #008000\">'text'</span>: <span style=\"color: #008000; text-decoration-color: #008000\">'--- description: &gt;- Answers to frequently asked questions about tracking data from machine learning </span>\n",
       "<span style=\"color: #008000; text-decoration-color: #008000\">experiments with W&amp;B Experiments. displayed_sidebar: default --- import Tabs from \\'@theme/Tabs\\'; import TabItem </span>\n",
       "<span style=\"color: #008000; text-decoration-color: #008000\">from \\'@theme/TabItem\\'; # Logging FAQs &lt;head&gt; &lt;title&gt;Frequently Asked Questions About Logging Data from </span>\n",
       "<span style=\"color: #008000; text-decoration-color: #008000\">Experiments&lt;/title&gt; &lt;/head&gt; ### How can I organize my logged charts and media in the W&amp;B UI? We treat `/` as a </span>\n",
       "<span style=\"color: #008000; text-decoration-color: #008000\">separator for organizing logged panels in the W&amp;B UI. By default, the component of the logged item\\'s name before a</span>\n",
       "<span style=\"color: #008000; text-decoration-color: #008000\">`/` is used to define a group of panel called a \"Panel Section\". ```python wandb.log({\"val/loss\": 1.1, \"val/acc\": </span>\n",
       "<span style=\"color: #008000; text-decoration-color: #008000\">0.3}) wandb.log({\"train/loss\": 0.1, \"train/acc\": 0.94}) ``` In the [Workspace](../../app/pages/workspaces.md) </span>\n",
       "<span style=\"color: #008000; text-decoration-color: #008000\">settings, you can change whether panels are grouped by just the first component or by all components separated by </span>\n",
       "<span style=\"color: #008000; text-decoration-color: #008000\">`/`. ### How can I compare images or media across epochs or steps? Each time you log images from a step, we save </span>\n",
       "<span style=\"color: #008000; text-decoration-color: #008000\">them to show in the UI. Expand the image panel, and use the step slider to look at images from different steps. </span>\n",
       "<span style=\"color: #008000; text-decoration-color: #008000\">This makes it easy to compare how a model\\'s output changes during training. ### What if I want to log some metrics</span>\n",
       "<span style=\"color: #008000; text-decoration-color: #008000\">on batches and some metrics only on epochs? If you\\'d like to log certain metrics in every batch and standardize </span>\n",
       "<span style=\"color: #008000; text-decoration-color: #008000\">plots, you can log x axis values that you want to plot with your metrics. Then in the custom plots, click edit and </span>\n",
       "<span style=\"color: #008000; text-decoration-color: #008000\">select a custom x-axis. ```python wandb.log({\"batch\": batch_idx, \"loss\": 0.3}) wandb.log({\"epoch\": epoch, </span>\n",
       "<span style=\"color: #008000; text-decoration-color: #008000\">\"val_acc\": 0.94}) ``` ### How do I log a list of values? &lt;!-- Logging lists directly is not supported. Instead, </span>\n",
       "<span style=\"color: #008000; text-decoration-color: #008000\">list-like collections of numerical data are converted to [histograms](../../../ref/python/data-types/histogram.md).</span>\n",
       "<span style=\"color: #008000; text-decoration-color: #008000\">To log all of the entries in a list, give a name to each entry in the list and use those names as keys'</span>,\n",
       "    <span style=\"color: #008000; text-decoration-color: #008000\">'score'</span>: <span style=\"color: #008080; text-decoration-color: #008080; font-weight: bold\">0.25378170864192895</span>\n",
       "<span style=\"font-weight: bold\">}</span>\n",
       "</pre>\n"
      ],
      "text/plain": [
       "\u001b[1m{\u001b[0m\n",
       "    \u001b[32m'source'\u001b[0m: \u001b[32m'guides/track/log/logging-faqs.md'\u001b[0m,\n",
       "    \u001b[32m'text'\u001b[0m: \u001b[32m'--- description: >- Answers to frequently asked questions about tracking data from machine learning \u001b[0m\n",
       "\u001b[32mexperiments with W&B Experiments. displayed_sidebar: default --- import Tabs from \\'@theme/Tabs\\'; import TabItem \u001b[0m\n",
       "\u001b[32mfrom \\'@theme/TabItem\\'; # Logging FAQs \u001b[0m\u001b[32m<\u001b[0m\u001b[32mhead\u001b[0m\u001b[32m> <title>Frequently Asked Questions About Logging Data from \u001b[0m\n",
       "\u001b[32mExperiments</title> </head\u001b[0m\u001b[32m>\u001b[0m\u001b[32m ### How can I organize my logged charts and media in the W&B UI? We treat `/` as a \u001b[0m\n",
       "\u001b[32mseparator for organizing logged panels in the W&B UI. By default, the component of the logged item\\'s name before a\u001b[0m\n",
       "\u001b[32m`/` is used to define a group of panel called a \"Panel Section\". ```python wandb.log\u001b[0m\u001b[32m(\u001b[0m\u001b[32m{\u001b[0m\u001b[32m\"val/loss\": 1.1, \"val/acc\": \u001b[0m\n",
       "\u001b[32m0.3\u001b[0m\u001b[32m}\u001b[0m\u001b[32m)\u001b[0m\u001b[32m wandb.log\u001b[0m\u001b[32m(\u001b[0m\u001b[32m{\u001b[0m\u001b[32m\"train/loss\": 0.1, \"train/acc\": 0.94\u001b[0m\u001b[32m}\u001b[0m\u001b[32m)\u001b[0m\u001b[32m ``` In the \u001b[0m\u001b[32m[\u001b[0m\u001b[32mWorkspace\u001b[0m\u001b[32m]\u001b[0m\u001b[32m(\u001b[0m\u001b[32m../../app/pages/workspaces.md\u001b[0m\u001b[32m)\u001b[0m\u001b[32m \u001b[0m\n",
       "\u001b[32msettings, you can change whether panels are grouped by just the first component or by all components separated by \u001b[0m\n",
       "\u001b[32m`/`. ### How can I compare images or media across epochs or steps? Each time you log images from a step, we save \u001b[0m\n",
       "\u001b[32mthem to show in the UI. Expand the image panel, and use the step slider to look at images from different steps. \u001b[0m\n",
       "\u001b[32mThis makes it easy to compare how a model\\'s output changes during training. ### What if I want to log some metrics\u001b[0m\n",
       "\u001b[32mon batches and some metrics only on epochs? If you\\'d like to log certain metrics in every batch and standardize \u001b[0m\n",
       "\u001b[32mplots, you can log x axis values that you want to plot with your metrics. Then in the custom plots, click edit and \u001b[0m\n",
       "\u001b[32mselect a custom x-axis. ```python wandb.log\u001b[0m\u001b[32m(\u001b[0m\u001b[32m{\u001b[0m\u001b[32m\"batch\": batch_idx, \"loss\": 0.3\u001b[0m\u001b[32m}\u001b[0m\u001b[32m)\u001b[0m\u001b[32m wandb.log\u001b[0m\u001b[32m(\u001b[0m\u001b[32m{\u001b[0m\u001b[32m\"epoch\": epoch, \u001b[0m\n",
       "\u001b[32m\"val_acc\": 0.94\u001b[0m\u001b[32m}\u001b[0m\u001b[32m)\u001b[0m\u001b[32m ``` ### How do I log a list of values? <!-- Logging lists directly is not supported. Instead, \u001b[0m\n",
       "\u001b[32mlist-like collections of numerical data are converted to \u001b[0m\u001b[32m[\u001b[0m\u001b[32mhistograms\u001b[0m\u001b[32m]\u001b[0m\u001b[32m(\u001b[0m\u001b[32m../../../ref/python/data-types/histogram.md\u001b[0m\u001b[32m)\u001b[0m\u001b[32m.\u001b[0m\n",
       "\u001b[32mTo log all of the entries in a list, give a name to each entry in the list and use those names as keys'\u001b[0m,\n",
       "    \u001b[32m'score'\u001b[0m: \u001b[1;36m0.25378170864192895\u001b[0m\n",
       "\u001b[1m}\u001b[0m\n"
      ]
     },
     "metadata": {},
     "output_type": "display_data"
    },
    {
     "data": {
      "text/html": [
       "<pre style=\"white-space:pre;overflow-x:auto;line-height:normal;font-family:Menlo,'DejaVu Sans Mono',consolas,'Courier New',monospace\"><span style=\"font-weight: bold\">{</span>\n",
       "    <span style=\"color: #008000; text-decoration-color: #008000\">'source'</span>: <span style=\"color: #008000; text-decoration-color: #008000\">'guides/track/log/media.md'</span>,\n",
       "    <span style=\"color: #008000; text-decoration-color: #008000\">'text'</span>: <span style=\"color: #008000; text-decoration-color: #008000\">'table = wandb.Table(columns=columns) table.add_data(\"I love my phone\", \"1\", \"1\") table.add_data(\"My </span>\n",
       "<span style=\"color: #008000; text-decoration-color: #008000\">phone sucks\", \"0\", \"-1\") wandb.log({\"examples\": table}) ``` You can also pass a pandas `DataFrame` object. </span>\n",
       "<span style=\"color: #008000; text-decoration-color: #008000\">```python table = wandb.Table(dataframe=my_dataframe) ``` &lt;/TabItem&gt; &lt;TabItem value=\"html\"&gt; ```python </span>\n",
       "<span style=\"color: #008000; text-decoration-color: #008000\">wandb.log({\"custom_file\": wandb.Html(open(\"some.html\"))}) wandb.log({\"custom_string\": wandb.Html(\\'&lt;a </span>\n",
       "<span style=\"color: #008000; text-decoration-color: #008000\">href=\"https://mysite\"&gt;Link&lt;/a&gt;\\')}) ``` Custom html can be logged at any key, and this exposes an HTML panel on the</span>\n",
       "<span style=\"color: #008000; text-decoration-color: #008000\">run page. By default we inject default styles, you can disable default styles by passing `inject=False`. ```python </span>\n",
       "<span style=\"color: #008000; text-decoration-color: #008000\">wandb.log({\"custom_file\": wandb.Html(open(\"some.html\"), inject=False)}) ``` &lt;/TabItem&gt; &lt;/Tabs&gt; ## Frequently Asked </span>\n",
       "<span style=\"color: #008000; text-decoration-color: #008000\">Questions ### How can I compare images or media across epochs or steps? Each time you log images from a step, we </span>\n",
       "<span style=\"color: #008000; text-decoration-color: #008000\">save them to show in the UI. Expand the image panel, and use the step slider to look at images from different </span>\n",
       "<span style=\"color: #008000; text-decoration-color: #008000\">steps. This makes it easy to compare how a model\\'s output changes during training. ### What if I want to integrate</span>\n",
       "<span style=\"color: #008000; text-decoration-color: #008000\">W&amp;B into my project, but I don\\'t want to upload any images or media? W&amp;B can be used even for projects that only </span>\n",
       "<span style=\"color: #008000; text-decoration-color: #008000\">log scalars — you specify any files or data you\\'d like to upload explicitly. Here\\'s [a quick example in </span>\n",
       "<span style=\"color: #008000; text-decoration-color: #008000\">PyTorch](http://wandb.me/pytorch-colab) that does not log images. ### How do I log a PNG? </span>\n",
       "<span style=\"color: #008000; text-decoration-color: #008000\">[`wandb.Image`](../../../ref/python/data-types/image.md) converts `numpy` arrays or instances of `PILImage` to PNGs</span>\n",
       "<span style=\"color: #008000; text-decoration-color: #008000\">by default. ```python wandb.log({\"example\": wandb.Image(...)}) # Or multiple images wandb.log({\"example\": </span>\n",
       "<span style=\"color: #008000; text-decoration-color: #008000\">[wandb.Image(...) for img in images]}) ``` ### How do I log a video? Videos are logged using the </span>\n",
       "<span style=\"color: #008000; text-decoration-color: #008000\">[`wandb.Video`](../../../ref/python/data-types/video.md) data type: ```python wandb.log({\"example\": </span>\n",
       "<span style=\"color: #008000; text-decoration-color: #008000\">wandb.Video(\"myvideo.mp4\")}) ``` Now you can view videos in the media browser. Go to your project workspace, run </span>\n",
       "<span style=\"color: #008000; text-decoration-color: #008000\">workspace, or report and click \"Add visualization\" to add a rich media panel. ### How do I navigate and zoom in </span>\n",
       "<span style=\"color: #008000; text-decoration-color: #008000\">point clouds? You can hold control and use the mouse to move around inside the space. ###'</span>,\n",
       "    <span style=\"color: #008000; text-decoration-color: #008000\">'score'</span>: <span style=\"color: #008080; text-decoration-color: #008080; font-weight: bold\">0.23904511486347035</span>\n",
       "<span style=\"font-weight: bold\">}</span>\n",
       "</pre>\n"
      ],
      "text/plain": [
       "\u001b[1m{\u001b[0m\n",
       "    \u001b[32m'source'\u001b[0m: \u001b[32m'guides/track/log/media.md'\u001b[0m,\n",
       "    \u001b[32m'text'\u001b[0m: \u001b[32m'table = wandb.Table\u001b[0m\u001b[32m(\u001b[0m\u001b[32mcolumns\u001b[0m\u001b[32m=\u001b[0m\u001b[32mcolumns\u001b[0m\u001b[32m)\u001b[0m\u001b[32m table.add_data\u001b[0m\u001b[32m(\u001b[0m\u001b[32m\"I love my phone\", \"1\", \"1\"\u001b[0m\u001b[32m)\u001b[0m\u001b[32m table.add_data\u001b[0m\u001b[32m(\u001b[0m\u001b[32m\"My \u001b[0m\n",
       "\u001b[32mphone sucks\", \"0\", \"-1\"\u001b[0m\u001b[32m)\u001b[0m\u001b[32m wandb.log\u001b[0m\u001b[32m(\u001b[0m\u001b[32m{\u001b[0m\u001b[32m\"examples\": table\u001b[0m\u001b[32m}\u001b[0m\u001b[32m)\u001b[0m\u001b[32m ``` You can also pass a pandas `DataFrame` object. \u001b[0m\n",
       "\u001b[32m```python table = wandb.Table\u001b[0m\u001b[32m(\u001b[0m\u001b[32mdataframe\u001b[0m\u001b[32m=\u001b[0m\u001b[32mmy_dataframe\u001b[0m\u001b[32m)\u001b[0m\u001b[32m ``` \u001b[0m\u001b[32m<\u001b[0m\u001b[32m/TabItem> <TabItem \u001b[0m\u001b[32mvalue\u001b[0m\u001b[32m=\u001b[0m\u001b[32m\"html\"\u001b[0m\u001b[32m> ```python \u001b[0m\n",
       "\u001b[32mwandb.log\u001b[0m\u001b[32m(\u001b[0m\u001b[32m{\u001b[0m\u001b[32m\"custom_file\": wandb.Html\u001b[0m\u001b[32m(\u001b[0m\u001b[32mopen\u001b[0m\u001b[32m(\u001b[0m\u001b[32m\"some.html\"\u001b[0m\u001b[32m)\u001b[0m\u001b[32m)\u001b[0m\u001b[32m}\u001b[0m\u001b[32m)\u001b[0m\u001b[32m wandb.log\u001b[0m\u001b[32m(\u001b[0m\u001b[32m{\u001b[0m\u001b[32m\"custom_string\": wandb.Html\u001b[0m\u001b[32m(\u001b[0m\u001b[32m\\'<a \u001b[0m\n",
       "\u001b[32mhref\u001b[0m\u001b[32m=\u001b[0m\u001b[32m\"https\u001b[0m\u001b[32m://mysite\">Link</a>\\'\u001b[0m\u001b[32m)\u001b[0m\u001b[32m}\u001b[0m\u001b[32m)\u001b[0m\u001b[32m ``` Custom html can be logged at any key, and this exposes an HTML panel on the\u001b[0m\n",
       "\u001b[32mrun page. By default we inject default styles, you can disable default styles by passing `\u001b[0m\u001b[32minject\u001b[0m\u001b[32m=\u001b[0m\u001b[32mFalse\u001b[0m\u001b[32m`. ```python \u001b[0m\n",
       "\u001b[32mwandb.log\u001b[0m\u001b[32m(\u001b[0m\u001b[32m{\u001b[0m\u001b[32m\"custom_file\": wandb.Html\u001b[0m\u001b[32m(\u001b[0m\u001b[32mopen\u001b[0m\u001b[32m(\u001b[0m\u001b[32m\"some.html\"\u001b[0m\u001b[32m)\u001b[0m\u001b[32m, \u001b[0m\u001b[32minject\u001b[0m\u001b[32m=\u001b[0m\u001b[32mFalse\u001b[0m\u001b[32m)\u001b[0m\u001b[32m}\u001b[0m\u001b[32m)\u001b[0m\u001b[32m ``` </TabItem> </Tabs\u001b[0m\u001b[32m>\u001b[0m\u001b[32m ## Frequently Asked \u001b[0m\n",
       "\u001b[32mQuestions ### How can I compare images or media across epochs or steps? Each time you log images from a step, we \u001b[0m\n",
       "\u001b[32msave them to show in the UI. Expand the image panel, and use the step slider to look at images from different \u001b[0m\n",
       "\u001b[32msteps. This makes it easy to compare how a model\\'s output changes during training. ### What if I want to integrate\u001b[0m\n",
       "\u001b[32mW&B into my project, but I don\\'t want to upload any images or media? W&B can be used even for projects that only \u001b[0m\n",
       "\u001b[32mlog scalars — you specify any files or data you\\'d like to upload explicitly. Here\\'s \u001b[0m\u001b[32m[\u001b[0m\u001b[32ma quick example in \u001b[0m\n",
       "\u001b[32mPyTorch\u001b[0m\u001b[32m]\u001b[0m\u001b[32m(\u001b[0m\u001b[32mhttp://wandb.me/pytorch-colab\u001b[0m\u001b[32m)\u001b[0m\u001b[32m that does not log images. ### How do I log a PNG? \u001b[0m\n",
       "\u001b[32m[\u001b[0m\u001b[32m`wandb.Image`\u001b[0m\u001b[32m]\u001b[0m\u001b[32m(\u001b[0m\u001b[32m../../../ref/python/data-types/image.md\u001b[0m\u001b[32m)\u001b[0m\u001b[32m converts `numpy` arrays or instances of `PILImage` to PNGs\u001b[0m\n",
       "\u001b[32mby default. ```python wandb.log\u001b[0m\u001b[32m(\u001b[0m\u001b[32m{\u001b[0m\u001b[32m\"example\": wandb.Image\u001b[0m\u001b[32m(\u001b[0m\u001b[32m...\u001b[0m\u001b[32m)\u001b[0m\u001b[32m}\u001b[0m\u001b[32m)\u001b[0m\u001b[32m # Or multiple images wandb.log\u001b[0m\u001b[32m(\u001b[0m\u001b[32m{\u001b[0m\u001b[32m\"example\": \u001b[0m\n",
       "\u001b[32m[\u001b[0m\u001b[32mwandb.Image\u001b[0m\u001b[32m(\u001b[0m\u001b[32m...\u001b[0m\u001b[32m)\u001b[0m\u001b[32m for img in images\u001b[0m\u001b[32m]\u001b[0m\u001b[32m}\u001b[0m\u001b[32m)\u001b[0m\u001b[32m ``` ### How do I log a video? Videos are logged using the \u001b[0m\n",
       "\u001b[32m[\u001b[0m\u001b[32m`wandb.Video`\u001b[0m\u001b[32m]\u001b[0m\u001b[32m(\u001b[0m\u001b[32m../../../ref/python/data-types/video.md\u001b[0m\u001b[32m)\u001b[0m\u001b[32m data type: ```python wandb.log\u001b[0m\u001b[32m(\u001b[0m\u001b[32m{\u001b[0m\u001b[32m\"example\": \u001b[0m\n",
       "\u001b[32mwandb.Video\u001b[0m\u001b[32m(\u001b[0m\u001b[32m\"myvideo.mp4\"\u001b[0m\u001b[32m)\u001b[0m\u001b[32m}\u001b[0m\u001b[32m)\u001b[0m\u001b[32m ``` Now you can view videos in the media browser. Go to your project workspace, run \u001b[0m\n",
       "\u001b[32mworkspace, or report and click \"Add visualization\" to add a rich media panel. ### How do I navigate and zoom in \u001b[0m\n",
       "\u001b[32mpoint clouds? You can hold control and use the mouse to move around inside the space. ###'\u001b[0m,\n",
       "    \u001b[32m'score'\u001b[0m: \u001b[1;36m0.23904511486347035\u001b[0m\n",
       "\u001b[1m}\u001b[0m\n"
      ]
     },
     "metadata": {},
     "output_type": "display_data"
    },
    {
     "data": {
      "text/html": [
       "<pre style=\"white-space:pre;overflow-x:auto;line-height:normal;font-family:Menlo,'DejaVu Sans Mono',consolas,'Courier New',monospace\"><span style=\"font-weight: bold\">{</span>\n",
       "    <span style=\"color: #008000; text-decoration-color: #008000\">'source'</span>: <span style=\"color: #008000; text-decoration-color: #008000\">'guides/integrations/huggingface.md'</span>,\n",
       "    <span style=\"color: #008000; text-decoration-color: #008000\">'text'</span>: <span style=\"color: #008000; text-decoration-color: #008000\">\"manage model lifecycle, facilitate easy tracking and auditing throughout the ML lifecyle, and </span>\n",
       "<span style=\"color: #008000; text-decoration-color: #008000\">[automate](https://docs.wandb.ai/guides/models/automation) downstream actions with webhooks or jobs. See the [Model</span>\n",
       "<span style=\"color: #008000; text-decoration-color: #008000\">Registry](../model_registry) documentation for how to link a model Artifact to the Model Registry. ### 5) Visualise</span>\n",
       "<span style=\"color: #008000; text-decoration-color: #008000\">evaluation outputs during training Visualing your model outputs during training or evaluation is often essential to</span>\n",
       "<span style=\"color: #008000; text-decoration-color: #008000\">really understand how your model is training. By using the callbacks system in the Transformers Trainer, you can </span>\n",
       "<span style=\"color: #008000; text-decoration-color: #008000\">log additional helpful data to W&amp;B such as your models' text generation outputs or other predictions to W&amp;B Tables.</span>\n",
       "<span style=\"color: #008000; text-decoration-color: #008000\">See the **[Custom logging section](#custom-logging-log-and-view-evaluation-samples-during-training)** below for a </span>\n",
       "<span style=\"color: #008000; text-decoration-color: #008000\">full guide on how to log evaluation outupts while training to log to a W&amp;B Table like this: ![Shows a W&amp;B Table </span>\n",
       "<span style=\"color: #008000; text-decoration-color: #008000\">with evaluation outputs](/images/integrations/huggingface_eval_tables.png) ### 6) Finish your W&amp;B Run (Notebook </span>\n",
       "<span style=\"color: #008000; text-decoration-color: #008000\">only) If your training is encapsulated in a Python script, the W&amp;B run will end when your script finishes. If you </span>\n",
       "<span style=\"color: #008000; text-decoration-color: #008000\">are using a Jupyter or Google Colab notebook, you'll need to tell us when you're done with training by calling </span>\n",
       "<span style=\"color: #008000; text-decoration-color: #008000\">`wandb.finish()`. ```python trainer.train() # start training and logging to W&amp;B # post-training analysis, testing, </span>\n",
       "<span style=\"color: #008000; text-decoration-color: #008000\">other logged code wandb.finish() ``` ### 7) Visualize your results Once you have logged your training results you </span>\n",
       "<span style=\"color: #008000; text-decoration-color: #008000\">can explore your results dynamically in the [W&amp;B Dashboard](../track/app.md). It's easy to compare across dozens of</span>\n",
       "<span style=\"color: #008000; text-decoration-color: #008000\">runs at once, zoom in on interesting findings, and coax insights out of complex data with flexible, interactive </span>\n",
       "<span style=\"color: #008000; text-decoration-color: #008000\">visualizations. ## Advanced features and FAQs ### How do I save the best model? If `load_best_model_at_end=True` is</span>\n",
       "<span style=\"color: #008000; text-decoration-color: #008000\">set in the `TrainingArguments` that are passed to the `Trainer`, then W&amp;B will save the best performing model </span>\n",
       "<span style=\"color: #008000; text-decoration-color: #008000\">checkpoint to Artifacts. If you'd like to centralize all your best model versions across your team to organize them</span>\n",
       "<span style=\"color: #008000; text-decoration-color: #008000\">by ML task, stage them for production,\"</span>,\n",
       "    <span style=\"color: #008000; text-decoration-color: #008000\">'score'</span>: <span style=\"color: #008080; text-decoration-color: #008080; font-weight: bold\">0.2328486885623663</span>\n",
       "<span style=\"font-weight: bold\">}</span>\n",
       "</pre>\n"
      ],
      "text/plain": [
       "\u001b[1m{\u001b[0m\n",
       "    \u001b[32m'source'\u001b[0m: \u001b[32m'guides/integrations/huggingface.md'\u001b[0m,\n",
       "    \u001b[32m'text'\u001b[0m: \u001b[32m\"manage model lifecycle, facilitate easy tracking and auditing throughout the ML lifecyle, and \u001b[0m\n",
       "\u001b[32m[\u001b[0m\u001b[32mautomate\u001b[0m\u001b[32m]\u001b[0m\u001b[32m(\u001b[0m\u001b[32mhttps://docs.wandb.ai/guides/models/automation\u001b[0m\u001b[32m)\u001b[0m\u001b[32m downstream actions with webhooks or jobs. See the \u001b[0m\u001b[32m[\u001b[0m\u001b[32mModel\u001b[0m\n",
       "\u001b[32mRegistry\u001b[0m\u001b[32m]\u001b[0m\u001b[32m(\u001b[0m\u001b[32m../model_registry\u001b[0m\u001b[32m)\u001b[0m\u001b[32m documentation for how to link a model Artifact to the Model Registry. ### 5\u001b[0m\u001b[32m)\u001b[0m\u001b[32m Visualise\u001b[0m\n",
       "\u001b[32mevaluation outputs during training Visualing your model outputs during training or evaluation is often essential to\u001b[0m\n",
       "\u001b[32mreally understand how your model is training. By using the callbacks system in the Transformers Trainer, you can \u001b[0m\n",
       "\u001b[32mlog additional helpful data to W&B such as your models' text generation outputs or other predictions to W&B Tables.\u001b[0m\n",
       "\u001b[32mSee the **\u001b[0m\u001b[32m[\u001b[0m\u001b[32mCustom logging section\u001b[0m\u001b[32m]\u001b[0m\u001b[32m(\u001b[0m\u001b[32m#custom-logging-log-and-view-evaluation-samples-during-training\u001b[0m\u001b[32m)\u001b[0m\u001b[32m** below for a \u001b[0m\n",
       "\u001b[32mfull guide on how to log evaluation outupts while training to log to a W&B Table like this: !\u001b[0m\u001b[32m[\u001b[0m\u001b[32mShows a W&B Table \u001b[0m\n",
       "\u001b[32mwith evaluation outputs\u001b[0m\u001b[32m]\u001b[0m\u001b[32m(\u001b[0m\u001b[32m/images/integrations/huggingface_eval_tables.png\u001b[0m\u001b[32m)\u001b[0m\u001b[32m ### 6\u001b[0m\u001b[32m)\u001b[0m\u001b[32m Finish your W&B Run \u001b[0m\u001b[32m(\u001b[0m\u001b[32mNotebook \u001b[0m\n",
       "\u001b[32monly\u001b[0m\u001b[32m)\u001b[0m\u001b[32m If your training is encapsulated in a Python script, the W&B run will end when your script finishes. If you \u001b[0m\n",
       "\u001b[32mare using a Jupyter or Google Colab notebook, you'll need to tell us when you're done with training by calling \u001b[0m\n",
       "\u001b[32m`wandb.finish\u001b[0m\u001b[32m(\u001b[0m\u001b[32m)\u001b[0m\u001b[32m`. ```python trainer.train\u001b[0m\u001b[32m(\u001b[0m\u001b[32m)\u001b[0m\u001b[32m # start training and logging to W&B # post-training analysis, testing, \u001b[0m\n",
       "\u001b[32mother logged code wandb.finish\u001b[0m\u001b[32m(\u001b[0m\u001b[32m)\u001b[0m\u001b[32m ``` ### 7\u001b[0m\u001b[32m)\u001b[0m\u001b[32m Visualize your results Once you have logged your training results you \u001b[0m\n",
       "\u001b[32mcan explore your results dynamically in the \u001b[0m\u001b[32m[\u001b[0m\u001b[32mW&B Dashboard\u001b[0m\u001b[32m]\u001b[0m\u001b[32m(\u001b[0m\u001b[32m../track/app.md\u001b[0m\u001b[32m)\u001b[0m\u001b[32m. It's easy to compare across dozens of\u001b[0m\n",
       "\u001b[32mruns at once, zoom in on interesting findings, and coax insights out of complex data with flexible, interactive \u001b[0m\n",
       "\u001b[32mvisualizations. ## Advanced features and FAQs ### How do I save the best model? If `\u001b[0m\u001b[32mload_best_model_at_end\u001b[0m\u001b[32m=\u001b[0m\u001b[32mTrue\u001b[0m\u001b[32m` is\u001b[0m\n",
       "\u001b[32mset in the `TrainingArguments` that are passed to the `Trainer`, then W&B will save the best performing model \u001b[0m\n",
       "\u001b[32mcheckpoint to Artifacts. If you'd like to centralize all your best model versions across your team to organize them\u001b[0m\n",
       "\u001b[32mby ML task, stage them for production,\"\u001b[0m,\n",
       "    \u001b[32m'score'\u001b[0m: \u001b[1;36m0.2328486885623663\u001b[0m\n",
       "\u001b[1m}\u001b[0m\n"
      ]
     },
     "metadata": {},
     "output_type": "display_data"
    }
   ],
   "source": [
    "query = \"How do I use W&B to log metrics in my training script?\"\n",
    "search_results = retriever.search(query)\n",
    "for result in search_results:\n",
    "    print(result)"
   ]
  },
  {
   "cell_type": "markdown",
   "metadata": {},
   "source": [
    "## Generating a response\n",
    "\n",
    "There are two components of any RAG pipeline - a `Retriever` and a `ResponseGenerator`. Earlier, we designed a simple retriever. Here we are designing a simple `ResponseGenerator`.\n",
    "\n",
    "The `generate_response` method takes the user question along with the retrieved context (chunks) as inputs and makes a LLM call using the `model` and `prompt` (system prompt). This way the generated answer is grounded on the documentation (our usecase). In this course we are using Cohere's `command-r` model.\n",
    "\n",
    "As earlier, we have wrapped this `ResponseGenerator` class with weave for tracking the inputs and the output."
   ]
  },
  {
   "cell_type": "code",
   "execution_count": 23,
   "metadata": {},
   "outputs": [
    {
     "data": {
      "text/html": [
       "<pre style=\"white-space:pre;overflow-x:auto;line-height:normal;font-family:Menlo,'DejaVu Sans Mono',consolas,'Courier New',monospace\"><span style=\"color: #e3e3dd; text-decoration-color: #e3e3dd; background-color: #272822; font-weight: bold\">  </span><span style=\"color: #656660; text-decoration-color: #656660; background-color: #272822\"> 1 </span><span style=\"color: #66d9ef; text-decoration-color: #66d9ef; background-color: #272822\">class</span><span style=\"color: #f8f8f2; text-decoration-color: #f8f8f2; background-color: #272822\"> </span><span style=\"color: #a6e22e; text-decoration-color: #a6e22e; background-color: #272822\">SimpleResponseGenerator</span><span style=\"color: #f8f8f2; text-decoration-color: #f8f8f2; background-color: #272822\">(weave</span><span style=\"color: #ff4689; text-decoration-color: #ff4689; background-color: #272822\">.</span><span style=\"color: #f8f8f2; text-decoration-color: #f8f8f2; background-color: #272822\">Model):</span><span style=\"background-color: #272822\">                                                                   </span>\n",
       "<span style=\"color: #e3e3dd; text-decoration-color: #e3e3dd; background-color: #272822; font-weight: bold\">  </span><span style=\"color: #656660; text-decoration-color: #656660; background-color: #272822\"> 2 </span><span style=\"color: #f8f8f2; text-decoration-color: #f8f8f2; background-color: #272822\">    </span><span style=\"color: #e6db74; text-decoration-color: #e6db74; background-color: #272822\">\"\"\"</span><span style=\"background-color: #272822\">                                                                                                       </span>\n",
       "<span style=\"color: #e3e3dd; text-decoration-color: #e3e3dd; background-color: #272822; font-weight: bold\">  </span><span style=\"color: #656660; text-decoration-color: #656660; background-color: #272822\"> 3 </span><span style=\"color: #e6db74; text-decoration-color: #e6db74; background-color: #272822\">    A simple response generator model using Cohere's API.</span><span style=\"background-color: #272822\">                                                     </span>\n",
       "<span style=\"color: #e3e3dd; text-decoration-color: #e3e3dd; background-color: #272822; font-weight: bold\">  </span><span style=\"color: #656660; text-decoration-color: #656660; background-color: #272822\"> 4 </span><span style=\"background-color: #272822\">                                                                                                              </span>\n",
       "<span style=\"color: #e3e3dd; text-decoration-color: #e3e3dd; background-color: #272822; font-weight: bold\">  </span><span style=\"color: #656660; text-decoration-color: #656660; background-color: #272822\"> 5 </span><span style=\"color: #e6db74; text-decoration-color: #e6db74; background-color: #272822\">    Attributes:</span><span style=\"background-color: #272822\">                                                                                               </span>\n",
       "<span style=\"color: #e3e3dd; text-decoration-color: #e3e3dd; background-color: #272822; font-weight: bold\">  </span><span style=\"color: #656660; text-decoration-color: #656660; background-color: #272822\"> 6 </span><span style=\"color: #e6db74; text-decoration-color: #e6db74; background-color: #272822\">        model (str): The model name to be used for generating responses.</span><span style=\"background-color: #272822\">                                      </span>\n",
       "<span style=\"color: #e3e3dd; text-decoration-color: #e3e3dd; background-color: #272822; font-weight: bold\">  </span><span style=\"color: #656660; text-decoration-color: #656660; background-color: #272822\"> 7 </span><span style=\"color: #e6db74; text-decoration-color: #e6db74; background-color: #272822\">        prompt (str): The prompt to be used for generating responses.</span><span style=\"background-color: #272822\">                                         </span>\n",
       "<span style=\"color: #e3e3dd; text-decoration-color: #e3e3dd; background-color: #272822; font-weight: bold\">  </span><span style=\"color: #656660; text-decoration-color: #656660; background-color: #272822\"> 8 </span><span style=\"color: #e6db74; text-decoration-color: #e6db74; background-color: #272822\">        client (cohere.ClientV2): The Cohere client for interacting with the Cohere API.</span><span style=\"background-color: #272822\">                      </span>\n",
       "<span style=\"color: #e3e3dd; text-decoration-color: #e3e3dd; background-color: #272822; font-weight: bold\">  </span><span style=\"color: #656660; text-decoration-color: #656660; background-color: #272822\"> 9 </span><span style=\"color: #e6db74; text-decoration-color: #e6db74; background-color: #272822\">    \"\"\"</span><span style=\"background-color: #272822\">                                                                                                       </span>\n",
       "<span style=\"color: #e3e3dd; text-decoration-color: #e3e3dd; background-color: #272822; font-weight: bold\">  </span><span style=\"color: #656660; text-decoration-color: #656660; background-color: #272822\">10 </span><span style=\"background-color: #272822\">                                                                                                              </span>\n",
       "<span style=\"color: #e3e3dd; text-decoration-color: #e3e3dd; background-color: #272822; font-weight: bold\">  </span><span style=\"color: #656660; text-decoration-color: #656660; background-color: #272822\">11 </span><span style=\"color: #f8f8f2; text-decoration-color: #f8f8f2; background-color: #272822\">    model: str</span><span style=\"background-color: #272822\">                                                                                                </span>\n",
       "<span style=\"color: #e3e3dd; text-decoration-color: #e3e3dd; background-color: #272822; font-weight: bold\">  </span><span style=\"color: #656660; text-decoration-color: #656660; background-color: #272822\">12 </span><span style=\"color: #f8f8f2; text-decoration-color: #f8f8f2; background-color: #272822\">    prompt: str</span><span style=\"background-color: #272822\">                                                                                               </span>\n",
       "<span style=\"color: #e3e3dd; text-decoration-color: #e3e3dd; background-color: #272822; font-weight: bold\">  </span><span style=\"color: #656660; text-decoration-color: #656660; background-color: #272822\">13 </span><span style=\"color: #f8f8f2; text-decoration-color: #f8f8f2; background-color: #272822\">    client: cohere</span><span style=\"color: #ff4689; text-decoration-color: #ff4689; background-color: #272822\">.</span><span style=\"color: #f8f8f2; text-decoration-color: #f8f8f2; background-color: #272822\">ClientV2 </span><span style=\"color: #ff4689; text-decoration-color: #ff4689; background-color: #272822\">=</span><span style=\"color: #f8f8f2; text-decoration-color: #f8f8f2; background-color: #272822\"> </span><span style=\"color: #66d9ef; text-decoration-color: #66d9ef; background-color: #272822\">None</span><span style=\"background-color: #272822\">                                                                            </span>\n",
       "<span style=\"color: #e3e3dd; text-decoration-color: #e3e3dd; background-color: #272822; font-weight: bold\">  </span><span style=\"color: #656660; text-decoration-color: #656660; background-color: #272822\">14 </span><span style=\"background-color: #272822\">                                                                                                              </span>\n",
       "<span style=\"color: #e3e3dd; text-decoration-color: #e3e3dd; background-color: #272822; font-weight: bold\">  </span><span style=\"color: #656660; text-decoration-color: #656660; background-color: #272822\">15 </span><span style=\"color: #f8f8f2; text-decoration-color: #f8f8f2; background-color: #272822\">    </span><span style=\"color: #66d9ef; text-decoration-color: #66d9ef; background-color: #272822\">def</span><span style=\"color: #f8f8f2; text-decoration-color: #f8f8f2; background-color: #272822\"> </span><span style=\"color: #a6e22e; text-decoration-color: #a6e22e; background-color: #272822\">__init__</span><span style=\"color: #f8f8f2; text-decoration-color: #f8f8f2; background-color: #272822\">(self, </span><span style=\"color: #ff4689; text-decoration-color: #ff4689; background-color: #272822\">**</span><span style=\"color: #f8f8f2; text-decoration-color: #f8f8f2; background-color: #272822\">kwargs):</span><span style=\"background-color: #272822\">                                                                             </span>\n",
       "<span style=\"color: #e3e3dd; text-decoration-color: #e3e3dd; background-color: #272822; font-weight: bold\">  </span><span style=\"color: #656660; text-decoration-color: #656660; background-color: #272822\">16 </span><span style=\"color: #f8f8f2; text-decoration-color: #f8f8f2; background-color: #272822\">        </span><span style=\"color: #e6db74; text-decoration-color: #e6db74; background-color: #272822\">\"\"\"</span><span style=\"background-color: #272822\">                                                                                                   </span>\n",
       "<span style=\"color: #e3e3dd; text-decoration-color: #e3e3dd; background-color: #272822; font-weight: bold\">  </span><span style=\"color: #656660; text-decoration-color: #656660; background-color: #272822\">17 </span><span style=\"color: #e6db74; text-decoration-color: #e6db74; background-color: #272822\">        Initialize the SimpleResponseGenerator with the provided keyword arguments.</span><span style=\"background-color: #272822\">                           </span>\n",
       "<span style=\"color: #e3e3dd; text-decoration-color: #e3e3dd; background-color: #272822; font-weight: bold\">  </span><span style=\"color: #656660; text-decoration-color: #656660; background-color: #272822\">18 </span><span style=\"color: #e6db74; text-decoration-color: #e6db74; background-color: #272822\">        Sets up the Cohere client using the API key from environment variables.</span><span style=\"background-color: #272822\">                               </span>\n",
       "<span style=\"color: #e3e3dd; text-decoration-color: #e3e3dd; background-color: #272822; font-weight: bold\">  </span><span style=\"color: #656660; text-decoration-color: #656660; background-color: #272822\">19 </span><span style=\"color: #e6db74; text-decoration-color: #e6db74; background-color: #272822\">        \"\"\"</span><span style=\"background-color: #272822\">                                                                                                   </span>\n",
       "<span style=\"color: #e3e3dd; text-decoration-color: #e3e3dd; background-color: #272822; font-weight: bold\">  </span><span style=\"color: #656660; text-decoration-color: #656660; background-color: #272822\">20 </span><span style=\"color: #f8f8f2; text-decoration-color: #f8f8f2; background-color: #272822\">        super()</span><span style=\"color: #ff4689; text-decoration-color: #ff4689; background-color: #272822\">.</span><span style=\"color: #a6e22e; text-decoration-color: #a6e22e; background-color: #272822\">__init__</span><span style=\"color: #f8f8f2; text-decoration-color: #f8f8f2; background-color: #272822\">(</span><span style=\"color: #ff4689; text-decoration-color: #ff4689; background-color: #272822\">**</span><span style=\"color: #f8f8f2; text-decoration-color: #f8f8f2; background-color: #272822\">kwargs)</span><span style=\"background-color: #272822\">                                                                            </span>\n",
       "<span style=\"color: #e3e3dd; text-decoration-color: #e3e3dd; background-color: #272822; font-weight: bold\">  </span><span style=\"color: #656660; text-decoration-color: #656660; background-color: #272822\">21 </span><span style=\"color: #f8f8f2; text-decoration-color: #f8f8f2; background-color: #272822\">        self</span><span style=\"color: #ff4689; text-decoration-color: #ff4689; background-color: #272822\">.</span><span style=\"color: #f8f8f2; text-decoration-color: #f8f8f2; background-color: #272822\">client </span><span style=\"color: #ff4689; text-decoration-color: #ff4689; background-color: #272822\">=</span><span style=\"color: #f8f8f2; text-decoration-color: #f8f8f2; background-color: #272822\"> cohere</span><span style=\"color: #ff4689; text-decoration-color: #ff4689; background-color: #272822\">.</span><span style=\"color: #f8f8f2; text-decoration-color: #f8f8f2; background-color: #272822\">ClientV2(</span><span style=\"background-color: #272822\">                                                                        </span>\n",
       "<span style=\"color: #e3e3dd; text-decoration-color: #e3e3dd; background-color: #272822; font-weight: bold\">  </span><span style=\"color: #656660; text-decoration-color: #656660; background-color: #272822\">22 </span><span style=\"color: #f8f8f2; text-decoration-color: #f8f8f2; background-color: #272822\">            api_key</span><span style=\"color: #ff4689; text-decoration-color: #ff4689; background-color: #272822\">=</span><span style=\"color: #f8f8f2; text-decoration-color: #f8f8f2; background-color: #272822\">os</span><span style=\"color: #ff4689; text-decoration-color: #ff4689; background-color: #272822\">.</span><span style=\"color: #f8f8f2; text-decoration-color: #f8f8f2; background-color: #272822\">environ[</span><span style=\"color: #e6db74; text-decoration-color: #e6db74; background-color: #272822\">\"CO_API_KEY\"</span><span style=\"color: #f8f8f2; text-decoration-color: #f8f8f2; background-color: #272822\">],</span><span style=\"background-color: #272822\">                                                                 </span>\n",
       "<span style=\"color: #e3e3dd; text-decoration-color: #e3e3dd; background-color: #272822; font-weight: bold\">  </span><span style=\"color: #656660; text-decoration-color: #656660; background-color: #272822\">23 </span><span style=\"color: #f8f8f2; text-decoration-color: #f8f8f2; background-color: #272822\">        )</span><span style=\"background-color: #272822\">                                                                                                     </span>\n",
       "<span style=\"color: #e3e3dd; text-decoration-color: #e3e3dd; background-color: #272822; font-weight: bold\">  </span><span style=\"color: #656660; text-decoration-color: #656660; background-color: #272822\">24 </span><span style=\"background-color: #272822\">                                                                                                              </span>\n",
       "<span style=\"color: #e3e3dd; text-decoration-color: #e3e3dd; background-color: #272822; font-weight: bold\">  </span><span style=\"color: #656660; text-decoration-color: #656660; background-color: #272822\">25 </span><span style=\"color: #f8f8f2; text-decoration-color: #f8f8f2; background-color: #272822\">    </span><span style=\"color: #a6e22e; text-decoration-color: #a6e22e; background-color: #272822\">@weave</span><span style=\"color: #ff4689; text-decoration-color: #ff4689; background-color: #272822\">.</span><span style=\"color: #f8f8f2; text-decoration-color: #f8f8f2; background-color: #272822\">op()</span><span style=\"background-color: #272822\">                                                                                               </span>\n",
       "<span style=\"color: #e3e3dd; text-decoration-color: #e3e3dd; background-color: #272822; font-weight: bold\">  </span><span style=\"color: #656660; text-decoration-color: #656660; background-color: #272822\">26 </span><span style=\"color: #f8f8f2; text-decoration-color: #f8f8f2; background-color: #272822\">    </span><span style=\"color: #66d9ef; text-decoration-color: #66d9ef; background-color: #272822\">def</span><span style=\"color: #f8f8f2; text-decoration-color: #f8f8f2; background-color: #272822\"> </span><span style=\"color: #a6e22e; text-decoration-color: #a6e22e; background-color: #272822\">generate_context</span><span style=\"color: #f8f8f2; text-decoration-color: #f8f8f2; background-color: #272822\">(self, context: List[Dict[str, any]]) </span><span style=\"color: #ff4689; text-decoration-color: #ff4689; background-color: #272822\">-&gt;</span><span style=\"color: #f8f8f2; text-decoration-color: #f8f8f2; background-color: #272822\"> List[Dict[str, any]]:</span><span style=\"background-color: #272822\">                        </span>\n",
       "<span style=\"color: #e3e3dd; text-decoration-color: #e3e3dd; background-color: #272822; font-weight: bold\">  </span><span style=\"color: #656660; text-decoration-color: #656660; background-color: #272822\">27 </span><span style=\"color: #f8f8f2; text-decoration-color: #f8f8f2; background-color: #272822\">        </span><span style=\"color: #e6db74; text-decoration-color: #e6db74; background-color: #272822\">\"\"\"</span><span style=\"background-color: #272822\">                                                                                                   </span>\n",
       "<span style=\"color: #e3e3dd; text-decoration-color: #e3e3dd; background-color: #272822; font-weight: bold\">  </span><span style=\"color: #656660; text-decoration-color: #656660; background-color: #272822\">28 </span><span style=\"color: #e6db74; text-decoration-color: #e6db74; background-color: #272822\">        Generate a list of contexts from the provided context list.</span><span style=\"background-color: #272822\">                                           </span>\n",
       "<span style=\"color: #e3e3dd; text-decoration-color: #e3e3dd; background-color: #272822; font-weight: bold\">  </span><span style=\"color: #656660; text-decoration-color: #656660; background-color: #272822\">29 </span><span style=\"background-color: #272822\">                                                                                                              </span>\n",
       "<span style=\"color: #e3e3dd; text-decoration-color: #e3e3dd; background-color: #272822; font-weight: bold\">  </span><span style=\"color: #656660; text-decoration-color: #656660; background-color: #272822\">30 </span><span style=\"color: #e6db74; text-decoration-color: #e6db74; background-color: #272822\">        Args:</span><span style=\"background-color: #272822\">                                                                                                 </span>\n",
       "<span style=\"color: #e3e3dd; text-decoration-color: #e3e3dd; background-color: #272822; font-weight: bold\">  </span><span style=\"color: #656660; text-decoration-color: #656660; background-color: #272822\">31 </span><span style=\"color: #e6db74; text-decoration-color: #e6db74; background-color: #272822\">            context (List[Dict[str, any]]): A list of dictionaries containing context data.</span><span style=\"background-color: #272822\">                   </span>\n",
       "<span style=\"color: #e3e3dd; text-decoration-color: #e3e3dd; background-color: #272822; font-weight: bold\">  </span><span style=\"color: #656660; text-decoration-color: #656660; background-color: #272822\">32 </span><span style=\"background-color: #272822\">                                                                                                              </span>\n",
       "<span style=\"color: #e3e3dd; text-decoration-color: #e3e3dd; background-color: #272822; font-weight: bold\">  </span><span style=\"color: #656660; text-decoration-color: #656660; background-color: #272822\">33 </span><span style=\"color: #e6db74; text-decoration-color: #e6db74; background-color: #272822\">        Returns:</span><span style=\"background-color: #272822\">                                                                                              </span>\n",
       "<span style=\"color: #e3e3dd; text-decoration-color: #e3e3dd; background-color: #272822; font-weight: bold\">  </span><span style=\"color: #656660; text-decoration-color: #656660; background-color: #272822\">34 </span><span style=\"color: #e6db74; text-decoration-color: #e6db74; background-color: #272822\">            List[Dict[str, any]]: A list of dictionaries with 'source' and 'text' keys.</span><span style=\"background-color: #272822\">                       </span>\n",
       "<span style=\"color: #e3e3dd; text-decoration-color: #e3e3dd; background-color: #272822; font-weight: bold\">  </span><span style=\"color: #656660; text-decoration-color: #656660; background-color: #272822\">35 </span><span style=\"color: #e6db74; text-decoration-color: #e6db74; background-color: #272822\">        \"\"\"</span><span style=\"background-color: #272822\">                                                                                                   </span>\n",
       "<span style=\"color: #e3e3dd; text-decoration-color: #e3e3dd; background-color: #272822; font-weight: bold\">  </span><span style=\"color: #656660; text-decoration-color: #656660; background-color: #272822\">36 </span><span style=\"color: #f8f8f2; text-decoration-color: #f8f8f2; background-color: #272822\">        contexts </span><span style=\"color: #ff4689; text-decoration-color: #ff4689; background-color: #272822\">=</span><span style=\"color: #f8f8f2; text-decoration-color: #f8f8f2; background-color: #272822\"> [</span><span style=\"background-color: #272822\">                                                                                          </span>\n",
       "<span style=\"color: #e3e3dd; text-decoration-color: #e3e3dd; background-color: #272822; font-weight: bold\">  </span><span style=\"color: #656660; text-decoration-color: #656660; background-color: #272822\">37 </span><span style=\"color: #f8f8f2; text-decoration-color: #f8f8f2; background-color: #272822\">            {</span><span style=\"color: #e6db74; text-decoration-color: #e6db74; background-color: #272822\">\"data\"</span><span style=\"color: #f8f8f2; text-decoration-color: #f8f8f2; background-color: #272822\">: {</span><span style=\"color: #e6db74; text-decoration-color: #e6db74; background-color: #272822\">\"source\"</span><span style=\"color: #f8f8f2; text-decoration-color: #f8f8f2; background-color: #272822\">: item[</span><span style=\"color: #e6db74; text-decoration-color: #e6db74; background-color: #272822\">\"source\"</span><span style=\"color: #f8f8f2; text-decoration-color: #f8f8f2; background-color: #272822\">], </span><span style=\"color: #e6db74; text-decoration-color: #e6db74; background-color: #272822\">\"text\"</span><span style=\"color: #f8f8f2; text-decoration-color: #f8f8f2; background-color: #272822\">: item[</span><span style=\"color: #e6db74; text-decoration-color: #e6db74; background-color: #272822\">\"text\"</span><span style=\"color: #f8f8f2; text-decoration-color: #f8f8f2; background-color: #272822\">]}}</span><span style=\"background-color: #272822\">                                        </span>\n",
       "<span style=\"color: #e3e3dd; text-decoration-color: #e3e3dd; background-color: #272822; font-weight: bold\">  </span><span style=\"color: #656660; text-decoration-color: #656660; background-color: #272822\">38 </span><span style=\"color: #f8f8f2; text-decoration-color: #f8f8f2; background-color: #272822\">            </span><span style=\"color: #66d9ef; text-decoration-color: #66d9ef; background-color: #272822\">for</span><span style=\"color: #f8f8f2; text-decoration-color: #f8f8f2; background-color: #272822\"> item </span><span style=\"color: #ff4689; text-decoration-color: #ff4689; background-color: #272822\">in</span><span style=\"color: #f8f8f2; text-decoration-color: #f8f8f2; background-color: #272822\"> context</span><span style=\"background-color: #272822\">                                                                               </span>\n",
       "<span style=\"color: #e3e3dd; text-decoration-color: #e3e3dd; background-color: #272822; font-weight: bold\">  </span><span style=\"color: #656660; text-decoration-color: #656660; background-color: #272822\">39 </span><span style=\"color: #f8f8f2; text-decoration-color: #f8f8f2; background-color: #272822\">        ]</span><span style=\"background-color: #272822\">                                                                                                     </span>\n",
       "<span style=\"color: #e3e3dd; text-decoration-color: #e3e3dd; background-color: #272822; font-weight: bold\">  </span><span style=\"color: #656660; text-decoration-color: #656660; background-color: #272822\">40 </span><span style=\"color: #f8f8f2; text-decoration-color: #f8f8f2; background-color: #272822\">        </span><span style=\"color: #66d9ef; text-decoration-color: #66d9ef; background-color: #272822\">return</span><span style=\"color: #f8f8f2; text-decoration-color: #f8f8f2; background-color: #272822\"> contexts</span><span style=\"background-color: #272822\">                                                                                       </span>\n",
       "<span style=\"color: #e3e3dd; text-decoration-color: #e3e3dd; background-color: #272822; font-weight: bold\">  </span><span style=\"color: #656660; text-decoration-color: #656660; background-color: #272822\">41 </span><span style=\"background-color: #272822\">                                                                                                              </span>\n",
       "<span style=\"color: #e3e3dd; text-decoration-color: #e3e3dd; background-color: #272822; font-weight: bold\">  </span><span style=\"color: #656660; text-decoration-color: #656660; background-color: #272822\">42 </span><span style=\"color: #f8f8f2; text-decoration-color: #f8f8f2; background-color: #272822\">    </span><span style=\"color: #66d9ef; text-decoration-color: #66d9ef; background-color: #272822\">def</span><span style=\"color: #f8f8f2; text-decoration-color: #f8f8f2; background-color: #272822\"> </span><span style=\"color: #a6e22e; text-decoration-color: #a6e22e; background-color: #272822\">create_messages</span><span style=\"color: #f8f8f2; text-decoration-color: #f8f8f2; background-color: #272822\">(self, query: str):</span><span style=\"background-color: #272822\">                                                                    </span>\n",
       "<span style=\"color: #e3e3dd; text-decoration-color: #e3e3dd; background-color: #272822; font-weight: bold\">  </span><span style=\"color: #656660; text-decoration-color: #656660; background-color: #272822\">43 </span><span style=\"color: #f8f8f2; text-decoration-color: #f8f8f2; background-color: #272822\">        </span><span style=\"color: #e6db74; text-decoration-color: #e6db74; background-color: #272822\">\"\"\"</span><span style=\"background-color: #272822\">                                                                                                   </span>\n",
       "<span style=\"color: #e3e3dd; text-decoration-color: #e3e3dd; background-color: #272822; font-weight: bold\">  </span><span style=\"color: #656660; text-decoration-color: #656660; background-color: #272822\">44 </span><span style=\"color: #e6db74; text-decoration-color: #e6db74; background-color: #272822\">        Create a list of messages for the chat model based on the query.</span><span style=\"background-color: #272822\">                                      </span>\n",
       "<span style=\"color: #e3e3dd; text-decoration-color: #e3e3dd; background-color: #272822; font-weight: bold\">  </span><span style=\"color: #656660; text-decoration-color: #656660; background-color: #272822\">45 </span><span style=\"background-color: #272822\">                                                                                                              </span>\n",
       "<span style=\"color: #e3e3dd; text-decoration-color: #e3e3dd; background-color: #272822; font-weight: bold\">  </span><span style=\"color: #656660; text-decoration-color: #656660; background-color: #272822\">46 </span><span style=\"color: #e6db74; text-decoration-color: #e6db74; background-color: #272822\">        Args:</span><span style=\"background-color: #272822\">                                                                                                 </span>\n",
       "<span style=\"color: #e3e3dd; text-decoration-color: #e3e3dd; background-color: #272822; font-weight: bold\">  </span><span style=\"color: #656660; text-decoration-color: #656660; background-color: #272822\">47 </span><span style=\"color: #e6db74; text-decoration-color: #e6db74; background-color: #272822\">            query (str): The user's query.</span><span style=\"background-color: #272822\">                                                                    </span>\n",
       "<span style=\"color: #e3e3dd; text-decoration-color: #e3e3dd; background-color: #272822; font-weight: bold\">  </span><span style=\"color: #656660; text-decoration-color: #656660; background-color: #272822\">48 </span><span style=\"background-color: #272822\">                                                                                                              </span>\n",
       "<span style=\"color: #e3e3dd; text-decoration-color: #e3e3dd; background-color: #272822; font-weight: bold\">  </span><span style=\"color: #656660; text-decoration-color: #656660; background-color: #272822\">49 </span><span style=\"color: #e6db74; text-decoration-color: #e6db74; background-color: #272822\">        Returns:</span><span style=\"background-color: #272822\">                                                                                              </span>\n",
       "<span style=\"color: #e3e3dd; text-decoration-color: #e3e3dd; background-color: #272822; font-weight: bold\">  </span><span style=\"color: #656660; text-decoration-color: #656660; background-color: #272822\">50 </span><span style=\"color: #e6db74; text-decoration-color: #e6db74; background-color: #272822\">            List[Dict[str, any]]: A list of messages formatted for the chat model.</span><span style=\"background-color: #272822\">                            </span>\n",
       "<span style=\"color: #e3e3dd; text-decoration-color: #e3e3dd; background-color: #272822; font-weight: bold\">  </span><span style=\"color: #656660; text-decoration-color: #656660; background-color: #272822\">51 </span><span style=\"color: #e6db74; text-decoration-color: #e6db74; background-color: #272822\">        \"\"\"</span><span style=\"background-color: #272822\">                                                                                                   </span>\n",
       "<span style=\"color: #e3e3dd; text-decoration-color: #e3e3dd; background-color: #272822; font-weight: bold\">  </span><span style=\"color: #656660; text-decoration-color: #656660; background-color: #272822\">52 </span><span style=\"color: #f8f8f2; text-decoration-color: #f8f8f2; background-color: #272822\">        messages </span><span style=\"color: #ff4689; text-decoration-color: #ff4689; background-color: #272822\">=</span><span style=\"color: #f8f8f2; text-decoration-color: #f8f8f2; background-color: #272822\"> [</span><span style=\"background-color: #272822\">                                                                                          </span>\n",
       "<span style=\"color: #e3e3dd; text-decoration-color: #e3e3dd; background-color: #272822; font-weight: bold\">  </span><span style=\"color: #656660; text-decoration-color: #656660; background-color: #272822\">53 </span><span style=\"color: #f8f8f2; text-decoration-color: #f8f8f2; background-color: #272822\">            {</span><span style=\"color: #e6db74; text-decoration-color: #e6db74; background-color: #272822\">\"role\"</span><span style=\"color: #f8f8f2; text-decoration-color: #f8f8f2; background-color: #272822\">: </span><span style=\"color: #e6db74; text-decoration-color: #e6db74; background-color: #272822\">\"system\"</span><span style=\"color: #f8f8f2; text-decoration-color: #f8f8f2; background-color: #272822\">, </span><span style=\"color: #e6db74; text-decoration-color: #e6db74; background-color: #272822\">\"content\"</span><span style=\"color: #f8f8f2; text-decoration-color: #f8f8f2; background-color: #272822\">: self</span><span style=\"color: #ff4689; text-decoration-color: #ff4689; background-color: #272822\">.</span><span style=\"color: #f8f8f2; text-decoration-color: #f8f8f2; background-color: #272822\">prompt},</span><span style=\"background-color: #272822\">                                                       </span>\n",
       "<span style=\"color: #e3e3dd; text-decoration-color: #e3e3dd; background-color: #272822; font-weight: bold\">  </span><span style=\"color: #656660; text-decoration-color: #656660; background-color: #272822\">54 </span><span style=\"color: #f8f8f2; text-decoration-color: #f8f8f2; background-color: #272822\">            {</span><span style=\"color: #e6db74; text-decoration-color: #e6db74; background-color: #272822\">\"role\"</span><span style=\"color: #f8f8f2; text-decoration-color: #f8f8f2; background-color: #272822\">: </span><span style=\"color: #e6db74; text-decoration-color: #e6db74; background-color: #272822\">\"user\"</span><span style=\"color: #f8f8f2; text-decoration-color: #f8f8f2; background-color: #272822\">, </span><span style=\"color: #e6db74; text-decoration-color: #e6db74; background-color: #272822\">\"content\"</span><span style=\"color: #f8f8f2; text-decoration-color: #f8f8f2; background-color: #272822\">: query},</span><span style=\"background-color: #272822\">                                                               </span>\n",
       "<span style=\"color: #e3e3dd; text-decoration-color: #e3e3dd; background-color: #272822; font-weight: bold\">  </span><span style=\"color: #656660; text-decoration-color: #656660; background-color: #272822\">55 </span><span style=\"color: #f8f8f2; text-decoration-color: #f8f8f2; background-color: #272822\">        ]</span><span style=\"background-color: #272822\">                                                                                                     </span>\n",
       "<span style=\"color: #e3e3dd; text-decoration-color: #e3e3dd; background-color: #272822; font-weight: bold\">  </span><span style=\"color: #656660; text-decoration-color: #656660; background-color: #272822\">56 </span><span style=\"color: #f8f8f2; text-decoration-color: #f8f8f2; background-color: #272822\">        </span><span style=\"color: #66d9ef; text-decoration-color: #66d9ef; background-color: #272822\">return</span><span style=\"color: #f8f8f2; text-decoration-color: #f8f8f2; background-color: #272822\"> messages</span><span style=\"background-color: #272822\">                                                                                       </span>\n",
       "<span style=\"color: #e3e3dd; text-decoration-color: #e3e3dd; background-color: #272822; font-weight: bold\">  </span><span style=\"color: #656660; text-decoration-color: #656660; background-color: #272822\">57 </span><span style=\"background-color: #272822\">                                                                                                              </span>\n",
       "<span style=\"color: #e3e3dd; text-decoration-color: #e3e3dd; background-color: #272822; font-weight: bold\">  </span><span style=\"color: #656660; text-decoration-color: #656660; background-color: #272822\">58 </span><span style=\"color: #f8f8f2; text-decoration-color: #f8f8f2; background-color: #272822\">    </span><span style=\"color: #a6e22e; text-decoration-color: #a6e22e; background-color: #272822\">@weave</span><span style=\"color: #ff4689; text-decoration-color: #ff4689; background-color: #272822\">.</span><span style=\"color: #f8f8f2; text-decoration-color: #f8f8f2; background-color: #272822\">op()</span><span style=\"background-color: #272822\">                                                                                               </span>\n",
       "<span style=\"color: #e3e3dd; text-decoration-color: #e3e3dd; background-color: #272822; font-weight: bold\">  </span><span style=\"color: #656660; text-decoration-color: #656660; background-color: #272822\">59 </span><span style=\"color: #f8f8f2; text-decoration-color: #f8f8f2; background-color: #272822\">    </span><span style=\"color: #66d9ef; text-decoration-color: #66d9ef; background-color: #272822\">def</span><span style=\"color: #f8f8f2; text-decoration-color: #f8f8f2; background-color: #272822\"> </span><span style=\"color: #a6e22e; text-decoration-color: #a6e22e; background-color: #272822\">generate_response</span><span style=\"color: #f8f8f2; text-decoration-color: #f8f8f2; background-color: #272822\">(self, query: str, context: List[Dict[str, any]]) </span><span style=\"color: #ff4689; text-decoration-color: #ff4689; background-color: #272822\">-&gt;</span><span style=\"color: #f8f8f2; text-decoration-color: #f8f8f2; background-color: #272822\"> str:</span><span style=\"background-color: #272822\">                            </span>\n",
       "<span style=\"color: #e3e3dd; text-decoration-color: #e3e3dd; background-color: #272822; font-weight: bold\">  </span><span style=\"color: #656660; text-decoration-color: #656660; background-color: #272822\">60 </span><span style=\"color: #f8f8f2; text-decoration-color: #f8f8f2; background-color: #272822\">        </span><span style=\"color: #e6db74; text-decoration-color: #e6db74; background-color: #272822\">\"\"\"</span><span style=\"background-color: #272822\">                                                                                                   </span>\n",
       "<span style=\"color: #e3e3dd; text-decoration-color: #e3e3dd; background-color: #272822; font-weight: bold\">  </span><span style=\"color: #656660; text-decoration-color: #656660; background-color: #272822\">61 </span><span style=\"color: #e6db74; text-decoration-color: #e6db74; background-color: #272822\">        Generate a response from the chat model based on the query and context.</span><span style=\"background-color: #272822\">                               </span>\n",
       "<span style=\"color: #e3e3dd; text-decoration-color: #e3e3dd; background-color: #272822; font-weight: bold\">  </span><span style=\"color: #656660; text-decoration-color: #656660; background-color: #272822\">62 </span><span style=\"background-color: #272822\">                                                                                                              </span>\n",
       "<span style=\"color: #e3e3dd; text-decoration-color: #e3e3dd; background-color: #272822; font-weight: bold\">  </span><span style=\"color: #656660; text-decoration-color: #656660; background-color: #272822\">63 </span><span style=\"color: #e6db74; text-decoration-color: #e6db74; background-color: #272822\">        Args:</span><span style=\"background-color: #272822\">                                                                                                 </span>\n",
       "<span style=\"color: #e3e3dd; text-decoration-color: #e3e3dd; background-color: #272822; font-weight: bold\">  </span><span style=\"color: #656660; text-decoration-color: #656660; background-color: #272822\">64 </span><span style=\"color: #e6db74; text-decoration-color: #e6db74; background-color: #272822\">            query (str): The user's query.</span><span style=\"background-color: #272822\">                                                                    </span>\n",
       "<span style=\"color: #e3e3dd; text-decoration-color: #e3e3dd; background-color: #272822; font-weight: bold\">  </span><span style=\"color: #656660; text-decoration-color: #656660; background-color: #272822\">65 </span><span style=\"color: #e6db74; text-decoration-color: #e6db74; background-color: #272822\">            context (List[Dict[str, any]]): A list of dictionaries containing context data.</span><span style=\"background-color: #272822\">                   </span>\n",
       "<span style=\"color: #e3e3dd; text-decoration-color: #e3e3dd; background-color: #272822; font-weight: bold\">  </span><span style=\"color: #656660; text-decoration-color: #656660; background-color: #272822\">66 </span><span style=\"background-color: #272822\">                                                                                                              </span>\n",
       "<span style=\"color: #e3e3dd; text-decoration-color: #e3e3dd; background-color: #272822; font-weight: bold\">  </span><span style=\"color: #656660; text-decoration-color: #656660; background-color: #272822\">67 </span><span style=\"color: #e6db74; text-decoration-color: #e6db74; background-color: #272822\">        Returns:</span><span style=\"background-color: #272822\">                                                                                              </span>\n",
       "<span style=\"color: #e3e3dd; text-decoration-color: #e3e3dd; background-color: #272822; font-weight: bold\">  </span><span style=\"color: #656660; text-decoration-color: #656660; background-color: #272822\">68 </span><span style=\"color: #e6db74; text-decoration-color: #e6db74; background-color: #272822\">            str: The generated response from the chat model.</span><span style=\"background-color: #272822\">                                                  </span>\n",
       "<span style=\"color: #e3e3dd; text-decoration-color: #e3e3dd; background-color: #272822; font-weight: bold\">  </span><span style=\"color: #656660; text-decoration-color: #656660; background-color: #272822\">69 </span><span style=\"color: #e6db74; text-decoration-color: #e6db74; background-color: #272822\">        \"\"\"</span><span style=\"background-color: #272822\">                                                                                                   </span>\n",
       "<span style=\"color: #e3e3dd; text-decoration-color: #e3e3dd; background-color: #272822; font-weight: bold\">  </span><span style=\"color: #656660; text-decoration-color: #656660; background-color: #272822\">70 </span><span style=\"color: #f8f8f2; text-decoration-color: #f8f8f2; background-color: #272822\">        documents </span><span style=\"color: #ff4689; text-decoration-color: #ff4689; background-color: #272822\">=</span><span style=\"color: #f8f8f2; text-decoration-color: #f8f8f2; background-color: #272822\"> self</span><span style=\"color: #ff4689; text-decoration-color: #ff4689; background-color: #272822\">.</span><span style=\"color: #f8f8f2; text-decoration-color: #f8f8f2; background-color: #272822\">generate_context(context)</span><span style=\"background-color: #272822\">                                                            </span>\n",
       "<span style=\"color: #e3e3dd; text-decoration-color: #e3e3dd; background-color: #272822; font-weight: bold\">  </span><span style=\"color: #656660; text-decoration-color: #656660; background-color: #272822\">71 </span><span style=\"color: #f8f8f2; text-decoration-color: #f8f8f2; background-color: #272822\">        messages </span><span style=\"color: #ff4689; text-decoration-color: #ff4689; background-color: #272822\">=</span><span style=\"color: #f8f8f2; text-decoration-color: #f8f8f2; background-color: #272822\"> self</span><span style=\"color: #ff4689; text-decoration-color: #ff4689; background-color: #272822\">.</span><span style=\"color: #f8f8f2; text-decoration-color: #f8f8f2; background-color: #272822\">create_messages(query)</span><span style=\"background-color: #272822\">                                                                </span>\n",
       "<span style=\"color: #e3e3dd; text-decoration-color: #e3e3dd; background-color: #272822; font-weight: bold\">  </span><span style=\"color: #656660; text-decoration-color: #656660; background-color: #272822\">72 </span><span style=\"color: #f8f8f2; text-decoration-color: #f8f8f2; background-color: #272822\">        response </span><span style=\"color: #ff4689; text-decoration-color: #ff4689; background-color: #272822\">=</span><span style=\"color: #f8f8f2; text-decoration-color: #f8f8f2; background-color: #272822\"> self</span><span style=\"color: #ff4689; text-decoration-color: #ff4689; background-color: #272822\">.</span><span style=\"color: #f8f8f2; text-decoration-color: #f8f8f2; background-color: #272822\">client</span><span style=\"color: #ff4689; text-decoration-color: #ff4689; background-color: #272822\">.</span><span style=\"color: #f8f8f2; text-decoration-color: #f8f8f2; background-color: #272822\">chat(</span><span style=\"background-color: #272822\">                                                                          </span>\n",
       "<span style=\"color: #e3e3dd; text-decoration-color: #e3e3dd; background-color: #272822; font-weight: bold\">  </span><span style=\"color: #656660; text-decoration-color: #656660; background-color: #272822\">73 </span><span style=\"color: #f8f8f2; text-decoration-color: #f8f8f2; background-color: #272822\">            messages</span><span style=\"color: #ff4689; text-decoration-color: #ff4689; background-color: #272822\">=</span><span style=\"color: #f8f8f2; text-decoration-color: #f8f8f2; background-color: #272822\">messages,</span><span style=\"background-color: #272822\">                                                                                </span>\n",
       "<span style=\"color: #e3e3dd; text-decoration-color: #e3e3dd; background-color: #272822; font-weight: bold\">  </span><span style=\"color: #656660; text-decoration-color: #656660; background-color: #272822\">74 </span><span style=\"color: #f8f8f2; text-decoration-color: #f8f8f2; background-color: #272822\">            model</span><span style=\"color: #ff4689; text-decoration-color: #ff4689; background-color: #272822\">=</span><span style=\"color: #f8f8f2; text-decoration-color: #f8f8f2; background-color: #272822\">self</span><span style=\"color: #ff4689; text-decoration-color: #ff4689; background-color: #272822\">.</span><span style=\"color: #f8f8f2; text-decoration-color: #f8f8f2; background-color: #272822\">model,</span><span style=\"background-color: #272822\">                                                                                 </span>\n",
       "<span style=\"color: #e3e3dd; text-decoration-color: #e3e3dd; background-color: #272822; font-weight: bold\">  </span><span style=\"color: #656660; text-decoration-color: #656660; background-color: #272822\">75 </span><span style=\"color: #f8f8f2; text-decoration-color: #f8f8f2; background-color: #272822\">            temperature</span><span style=\"color: #ff4689; text-decoration-color: #ff4689; background-color: #272822\">=</span><span style=\"color: #ae81ff; text-decoration-color: #ae81ff; background-color: #272822\">0.1</span><span style=\"color: #f8f8f2; text-decoration-color: #f8f8f2; background-color: #272822\">,</span><span style=\"background-color: #272822\">                                                                                  </span>\n",
       "<span style=\"color: #e3e3dd; text-decoration-color: #e3e3dd; background-color: #272822; font-weight: bold\">  </span><span style=\"color: #656660; text-decoration-color: #656660; background-color: #272822\">76 </span><span style=\"color: #f8f8f2; text-decoration-color: #f8f8f2; background-color: #272822\">            max_tokens</span><span style=\"color: #ff4689; text-decoration-color: #ff4689; background-color: #272822\">=</span><span style=\"color: #ae81ff; text-decoration-color: #ae81ff; background-color: #272822\">2000</span><span style=\"color: #f8f8f2; text-decoration-color: #f8f8f2; background-color: #272822\">,</span><span style=\"background-color: #272822\">                                                                                  </span>\n",
       "<span style=\"color: #e3e3dd; text-decoration-color: #e3e3dd; background-color: #272822; font-weight: bold\">  </span><span style=\"color: #656660; text-decoration-color: #656660; background-color: #272822\">77 </span><span style=\"color: #f8f8f2; text-decoration-color: #f8f8f2; background-color: #272822\">            documents</span><span style=\"color: #ff4689; text-decoration-color: #ff4689; background-color: #272822\">=</span><span style=\"color: #f8f8f2; text-decoration-color: #f8f8f2; background-color: #272822\">documents,</span><span style=\"background-color: #272822\">                                                                              </span>\n",
       "<span style=\"color: #e3e3dd; text-decoration-color: #e3e3dd; background-color: #272822; font-weight: bold\">  </span><span style=\"color: #656660; text-decoration-color: #656660; background-color: #272822\">78 </span><span style=\"color: #f8f8f2; text-decoration-color: #f8f8f2; background-color: #272822\">        )</span><span style=\"background-color: #272822\">                                                                                                     </span>\n",
       "<span style=\"color: #e3e3dd; text-decoration-color: #e3e3dd; background-color: #272822; font-weight: bold\">  </span><span style=\"color: #656660; text-decoration-color: #656660; background-color: #272822\">79 </span><span style=\"color: #f8f8f2; text-decoration-color: #f8f8f2; background-color: #272822\">        </span><span style=\"color: #66d9ef; text-decoration-color: #66d9ef; background-color: #272822\">return</span><span style=\"color: #f8f8f2; text-decoration-color: #f8f8f2; background-color: #272822\"> response</span><span style=\"color: #ff4689; text-decoration-color: #ff4689; background-color: #272822\">.</span><span style=\"color: #f8f8f2; text-decoration-color: #f8f8f2; background-color: #272822\">message</span><span style=\"color: #ff4689; text-decoration-color: #ff4689; background-color: #272822\">.</span><span style=\"color: #f8f8f2; text-decoration-color: #f8f8f2; background-color: #272822\">content[</span><span style=\"color: #ae81ff; text-decoration-color: #ae81ff; background-color: #272822\">0</span><span style=\"color: #f8f8f2; text-decoration-color: #f8f8f2; background-color: #272822\">]</span><span style=\"color: #ff4689; text-decoration-color: #ff4689; background-color: #272822\">.</span><span style=\"color: #f8f8f2; text-decoration-color: #f8f8f2; background-color: #272822\">text</span><span style=\"background-color: #272822\">                                                               </span>\n",
       "<span style=\"color: #e3e3dd; text-decoration-color: #e3e3dd; background-color: #272822; font-weight: bold\">  </span><span style=\"color: #656660; text-decoration-color: #656660; background-color: #272822\">80 </span><span style=\"background-color: #272822\">                                                                                                              </span>\n",
       "<span style=\"color: #e3e3dd; text-decoration-color: #e3e3dd; background-color: #272822; font-weight: bold\">  </span><span style=\"color: #656660; text-decoration-color: #656660; background-color: #272822\">81 </span><span style=\"color: #f8f8f2; text-decoration-color: #f8f8f2; background-color: #272822\">    </span><span style=\"color: #a6e22e; text-decoration-color: #a6e22e; background-color: #272822\">@weave</span><span style=\"color: #ff4689; text-decoration-color: #ff4689; background-color: #272822\">.</span><span style=\"color: #f8f8f2; text-decoration-color: #f8f8f2; background-color: #272822\">op()</span><span style=\"background-color: #272822\">                                                                                               </span>\n",
       "<span style=\"color: #e3e3dd; text-decoration-color: #e3e3dd; background-color: #272822; font-weight: bold\">  </span><span style=\"color: #656660; text-decoration-color: #656660; background-color: #272822\">82 </span><span style=\"color: #f8f8f2; text-decoration-color: #f8f8f2; background-color: #272822\">    </span><span style=\"color: #66d9ef; text-decoration-color: #66d9ef; background-color: #272822\">def</span><span style=\"color: #f8f8f2; text-decoration-color: #f8f8f2; background-color: #272822\"> </span><span style=\"color: #a6e22e; text-decoration-color: #a6e22e; background-color: #272822\">predict</span><span style=\"color: #f8f8f2; text-decoration-color: #f8f8f2; background-color: #272822\">(self, query: str, context: List[Dict[str, any]]):</span><span style=\"background-color: #272822\">                                             </span>\n",
       "<span style=\"color: #e3e3dd; text-decoration-color: #e3e3dd; background-color: #272822; font-weight: bold\">  </span><span style=\"color: #656660; text-decoration-color: #656660; background-color: #272822\">83 </span><span style=\"color: #f8f8f2; text-decoration-color: #f8f8f2; background-color: #272822\">        </span><span style=\"color: #e6db74; text-decoration-color: #e6db74; background-color: #272822\">\"\"\"</span><span style=\"background-color: #272822\">                                                                                                   </span>\n",
       "<span style=\"color: #e3e3dd; text-decoration-color: #e3e3dd; background-color: #272822; font-weight: bold\">  </span><span style=\"color: #656660; text-decoration-color: #656660; background-color: #272822\">84 </span><span style=\"color: #e6db74; text-decoration-color: #e6db74; background-color: #272822\">        Predict the response for the given query and context.</span><span style=\"background-color: #272822\">                                                 </span>\n",
       "<span style=\"color: #e3e3dd; text-decoration-color: #e3e3dd; background-color: #272822; font-weight: bold\">  </span><span style=\"color: #656660; text-decoration-color: #656660; background-color: #272822\">85 </span><span style=\"background-color: #272822\">                                                                                                              </span>\n",
       "<span style=\"color: #e3e3dd; text-decoration-color: #e3e3dd; background-color: #272822; font-weight: bold\">  </span><span style=\"color: #656660; text-decoration-color: #656660; background-color: #272822\">86 </span><span style=\"color: #e6db74; text-decoration-color: #e6db74; background-color: #272822\">        Args:</span><span style=\"background-color: #272822\">                                                                                                 </span>\n",
       "<span style=\"color: #e3e3dd; text-decoration-color: #e3e3dd; background-color: #272822; font-weight: bold\">  </span><span style=\"color: #656660; text-decoration-color: #656660; background-color: #272822\">87 </span><span style=\"color: #e6db74; text-decoration-color: #e6db74; background-color: #272822\">            query (str): The user's query.</span><span style=\"background-color: #272822\">                                                                    </span>\n",
       "<span style=\"color: #e3e3dd; text-decoration-color: #e3e3dd; background-color: #272822; font-weight: bold\">  </span><span style=\"color: #656660; text-decoration-color: #656660; background-color: #272822\">88 </span><span style=\"color: #e6db74; text-decoration-color: #e6db74; background-color: #272822\">            context (List[Dict[str, any]]): A list of dictionaries containing context data.</span><span style=\"background-color: #272822\">                   </span>\n",
       "<span style=\"color: #e3e3dd; text-decoration-color: #e3e3dd; background-color: #272822; font-weight: bold\">  </span><span style=\"color: #656660; text-decoration-color: #656660; background-color: #272822\">89 </span><span style=\"background-color: #272822\">                                                                                                              </span>\n",
       "<span style=\"color: #e3e3dd; text-decoration-color: #e3e3dd; background-color: #272822; font-weight: bold\">  </span><span style=\"color: #656660; text-decoration-color: #656660; background-color: #272822\">90 </span><span style=\"color: #e6db74; text-decoration-color: #e6db74; background-color: #272822\">        Returns:</span><span style=\"background-color: #272822\">                                                                                              </span>\n",
       "<span style=\"color: #e3e3dd; text-decoration-color: #e3e3dd; background-color: #272822; font-weight: bold\">  </span><span style=\"color: #656660; text-decoration-color: #656660; background-color: #272822\">91 </span><span style=\"color: #e6db74; text-decoration-color: #e6db74; background-color: #272822\">            str: The predicted response from the chat model.</span><span style=\"background-color: #272822\">                                                  </span>\n",
       "<span style=\"color: #e3e3dd; text-decoration-color: #e3e3dd; background-color: #272822; font-weight: bold\">  </span><span style=\"color: #656660; text-decoration-color: #656660; background-color: #272822\">92 </span><span style=\"color: #e6db74; text-decoration-color: #e6db74; background-color: #272822\">        \"\"\"</span><span style=\"background-color: #272822\">                                                                                                   </span>\n",
       "<span style=\"color: #e3e3dd; text-decoration-color: #e3e3dd; background-color: #272822; font-weight: bold\">  </span><span style=\"color: #656660; text-decoration-color: #656660; background-color: #272822\">93 </span><span style=\"color: #f8f8f2; text-decoration-color: #f8f8f2; background-color: #272822\">        </span><span style=\"color: #66d9ef; text-decoration-color: #66d9ef; background-color: #272822\">return</span><span style=\"color: #f8f8f2; text-decoration-color: #f8f8f2; background-color: #272822\"> self</span><span style=\"color: #ff4689; text-decoration-color: #ff4689; background-color: #272822\">.</span><span style=\"color: #f8f8f2; text-decoration-color: #f8f8f2; background-color: #272822\">generate_response(query, context)</span><span style=\"background-color: #272822\">                                                         </span>\n",
       "<span style=\"color: #e3e3dd; text-decoration-color: #e3e3dd; background-color: #272822; font-weight: bold\">  </span><span style=\"color: #656660; text-decoration-color: #656660; background-color: #272822\">94 </span><span style=\"background-color: #272822\">                                                                                                              </span>\n",
       "</pre>\n"
      ],
      "text/plain": [
       "\u001b[1;38;2;227;227;221;48;2;39;40;34m  \u001b[0m\u001b[38;2;101;102;96;48;2;39;40;34m 1 \u001b[0m\u001b[38;2;102;217;239;48;2;39;40;34mclass\u001b[0m\u001b[38;2;248;248;242;48;2;39;40;34m \u001b[0m\u001b[38;2;166;226;46;48;2;39;40;34mSimpleResponseGenerator\u001b[0m\u001b[38;2;248;248;242;48;2;39;40;34m(\u001b[0m\u001b[38;2;248;248;242;48;2;39;40;34mweave\u001b[0m\u001b[38;2;255;70;137;48;2;39;40;34m.\u001b[0m\u001b[38;2;248;248;242;48;2;39;40;34mModel\u001b[0m\u001b[38;2;248;248;242;48;2;39;40;34m)\u001b[0m\u001b[38;2;248;248;242;48;2;39;40;34m:\u001b[0m\u001b[48;2;39;40;34m                                                                   \u001b[0m\n",
       "\u001b[1;38;2;227;227;221;48;2;39;40;34m  \u001b[0m\u001b[38;2;101;102;96;48;2;39;40;34m 2 \u001b[0m\u001b[38;2;248;248;242;48;2;39;40;34m    \u001b[0m\u001b[38;2;230;219;116;48;2;39;40;34m\"\"\"\u001b[0m\u001b[48;2;39;40;34m                                                                                                       \u001b[0m\n",
       "\u001b[1;38;2;227;227;221;48;2;39;40;34m  \u001b[0m\u001b[38;2;101;102;96;48;2;39;40;34m 3 \u001b[0m\u001b[38;2;230;219;116;48;2;39;40;34m    A simple response generator model using Cohere's API.\u001b[0m\u001b[48;2;39;40;34m                                                     \u001b[0m\n",
       "\u001b[1;38;2;227;227;221;48;2;39;40;34m  \u001b[0m\u001b[38;2;101;102;96;48;2;39;40;34m 4 \u001b[0m\u001b[48;2;39;40;34m                                                                                                              \u001b[0m\n",
       "\u001b[1;38;2;227;227;221;48;2;39;40;34m  \u001b[0m\u001b[38;2;101;102;96;48;2;39;40;34m 5 \u001b[0m\u001b[38;2;230;219;116;48;2;39;40;34m    Attributes:\u001b[0m\u001b[48;2;39;40;34m                                                                                               \u001b[0m\n",
       "\u001b[1;38;2;227;227;221;48;2;39;40;34m  \u001b[0m\u001b[38;2;101;102;96;48;2;39;40;34m 6 \u001b[0m\u001b[38;2;230;219;116;48;2;39;40;34m        model (str): The model name to be used for generating responses.\u001b[0m\u001b[48;2;39;40;34m                                      \u001b[0m\n",
       "\u001b[1;38;2;227;227;221;48;2;39;40;34m  \u001b[0m\u001b[38;2;101;102;96;48;2;39;40;34m 7 \u001b[0m\u001b[38;2;230;219;116;48;2;39;40;34m        prompt (str): The prompt to be used for generating responses.\u001b[0m\u001b[48;2;39;40;34m                                         \u001b[0m\n",
       "\u001b[1;38;2;227;227;221;48;2;39;40;34m  \u001b[0m\u001b[38;2;101;102;96;48;2;39;40;34m 8 \u001b[0m\u001b[38;2;230;219;116;48;2;39;40;34m        client (cohere.ClientV2): The Cohere client for interacting with the Cohere API.\u001b[0m\u001b[48;2;39;40;34m                      \u001b[0m\n",
       "\u001b[1;38;2;227;227;221;48;2;39;40;34m  \u001b[0m\u001b[38;2;101;102;96;48;2;39;40;34m 9 \u001b[0m\u001b[38;2;230;219;116;48;2;39;40;34m    \"\"\"\u001b[0m\u001b[48;2;39;40;34m                                                                                                       \u001b[0m\n",
       "\u001b[1;38;2;227;227;221;48;2;39;40;34m  \u001b[0m\u001b[38;2;101;102;96;48;2;39;40;34m10 \u001b[0m\u001b[48;2;39;40;34m                                                                                                              \u001b[0m\n",
       "\u001b[1;38;2;227;227;221;48;2;39;40;34m  \u001b[0m\u001b[38;2;101;102;96;48;2;39;40;34m11 \u001b[0m\u001b[38;2;248;248;242;48;2;39;40;34m    \u001b[0m\u001b[38;2;248;248;242;48;2;39;40;34mmodel\u001b[0m\u001b[38;2;248;248;242;48;2;39;40;34m:\u001b[0m\u001b[38;2;248;248;242;48;2;39;40;34m \u001b[0m\u001b[38;2;248;248;242;48;2;39;40;34mstr\u001b[0m\u001b[48;2;39;40;34m                                                                                                \u001b[0m\n",
       "\u001b[1;38;2;227;227;221;48;2;39;40;34m  \u001b[0m\u001b[38;2;101;102;96;48;2;39;40;34m12 \u001b[0m\u001b[38;2;248;248;242;48;2;39;40;34m    \u001b[0m\u001b[38;2;248;248;242;48;2;39;40;34mprompt\u001b[0m\u001b[38;2;248;248;242;48;2;39;40;34m:\u001b[0m\u001b[38;2;248;248;242;48;2;39;40;34m \u001b[0m\u001b[38;2;248;248;242;48;2;39;40;34mstr\u001b[0m\u001b[48;2;39;40;34m                                                                                               \u001b[0m\n",
       "\u001b[1;38;2;227;227;221;48;2;39;40;34m  \u001b[0m\u001b[38;2;101;102;96;48;2;39;40;34m13 \u001b[0m\u001b[38;2;248;248;242;48;2;39;40;34m    \u001b[0m\u001b[38;2;248;248;242;48;2;39;40;34mclient\u001b[0m\u001b[38;2;248;248;242;48;2;39;40;34m:\u001b[0m\u001b[38;2;248;248;242;48;2;39;40;34m \u001b[0m\u001b[38;2;248;248;242;48;2;39;40;34mcohere\u001b[0m\u001b[38;2;255;70;137;48;2;39;40;34m.\u001b[0m\u001b[38;2;248;248;242;48;2;39;40;34mClientV2\u001b[0m\u001b[38;2;248;248;242;48;2;39;40;34m \u001b[0m\u001b[38;2;255;70;137;48;2;39;40;34m=\u001b[0m\u001b[38;2;248;248;242;48;2;39;40;34m \u001b[0m\u001b[38;2;102;217;239;48;2;39;40;34mNone\u001b[0m\u001b[48;2;39;40;34m                                                                            \u001b[0m\n",
       "\u001b[1;38;2;227;227;221;48;2;39;40;34m  \u001b[0m\u001b[38;2;101;102;96;48;2;39;40;34m14 \u001b[0m\u001b[48;2;39;40;34m                                                                                                              \u001b[0m\n",
       "\u001b[1;38;2;227;227;221;48;2;39;40;34m  \u001b[0m\u001b[38;2;101;102;96;48;2;39;40;34m15 \u001b[0m\u001b[38;2;248;248;242;48;2;39;40;34m    \u001b[0m\u001b[38;2;102;217;239;48;2;39;40;34mdef\u001b[0m\u001b[38;2;248;248;242;48;2;39;40;34m \u001b[0m\u001b[38;2;166;226;46;48;2;39;40;34m__init__\u001b[0m\u001b[38;2;248;248;242;48;2;39;40;34m(\u001b[0m\u001b[38;2;248;248;242;48;2;39;40;34mself\u001b[0m\u001b[38;2;248;248;242;48;2;39;40;34m,\u001b[0m\u001b[38;2;248;248;242;48;2;39;40;34m \u001b[0m\u001b[38;2;255;70;137;48;2;39;40;34m*\u001b[0m\u001b[38;2;255;70;137;48;2;39;40;34m*\u001b[0m\u001b[38;2;248;248;242;48;2;39;40;34mkwargs\u001b[0m\u001b[38;2;248;248;242;48;2;39;40;34m)\u001b[0m\u001b[38;2;248;248;242;48;2;39;40;34m:\u001b[0m\u001b[48;2;39;40;34m                                                                             \u001b[0m\n",
       "\u001b[1;38;2;227;227;221;48;2;39;40;34m  \u001b[0m\u001b[38;2;101;102;96;48;2;39;40;34m16 \u001b[0m\u001b[38;2;248;248;242;48;2;39;40;34m        \u001b[0m\u001b[38;2;230;219;116;48;2;39;40;34m\"\"\"\u001b[0m\u001b[48;2;39;40;34m                                                                                                   \u001b[0m\n",
       "\u001b[1;38;2;227;227;221;48;2;39;40;34m  \u001b[0m\u001b[38;2;101;102;96;48;2;39;40;34m17 \u001b[0m\u001b[38;2;230;219;116;48;2;39;40;34m        Initialize the SimpleResponseGenerator with the provided keyword arguments.\u001b[0m\u001b[48;2;39;40;34m                           \u001b[0m\n",
       "\u001b[1;38;2;227;227;221;48;2;39;40;34m  \u001b[0m\u001b[38;2;101;102;96;48;2;39;40;34m18 \u001b[0m\u001b[38;2;230;219;116;48;2;39;40;34m        Sets up the Cohere client using the API key from environment variables.\u001b[0m\u001b[48;2;39;40;34m                               \u001b[0m\n",
       "\u001b[1;38;2;227;227;221;48;2;39;40;34m  \u001b[0m\u001b[38;2;101;102;96;48;2;39;40;34m19 \u001b[0m\u001b[38;2;230;219;116;48;2;39;40;34m        \"\"\"\u001b[0m\u001b[48;2;39;40;34m                                                                                                   \u001b[0m\n",
       "\u001b[1;38;2;227;227;221;48;2;39;40;34m  \u001b[0m\u001b[38;2;101;102;96;48;2;39;40;34m20 \u001b[0m\u001b[38;2;248;248;242;48;2;39;40;34m        \u001b[0m\u001b[38;2;248;248;242;48;2;39;40;34msuper\u001b[0m\u001b[38;2;248;248;242;48;2;39;40;34m(\u001b[0m\u001b[38;2;248;248;242;48;2;39;40;34m)\u001b[0m\u001b[38;2;255;70;137;48;2;39;40;34m.\u001b[0m\u001b[38;2;166;226;46;48;2;39;40;34m__init__\u001b[0m\u001b[38;2;248;248;242;48;2;39;40;34m(\u001b[0m\u001b[38;2;255;70;137;48;2;39;40;34m*\u001b[0m\u001b[38;2;255;70;137;48;2;39;40;34m*\u001b[0m\u001b[38;2;248;248;242;48;2;39;40;34mkwargs\u001b[0m\u001b[38;2;248;248;242;48;2;39;40;34m)\u001b[0m\u001b[48;2;39;40;34m                                                                            \u001b[0m\n",
       "\u001b[1;38;2;227;227;221;48;2;39;40;34m  \u001b[0m\u001b[38;2;101;102;96;48;2;39;40;34m21 \u001b[0m\u001b[38;2;248;248;242;48;2;39;40;34m        \u001b[0m\u001b[38;2;248;248;242;48;2;39;40;34mself\u001b[0m\u001b[38;2;255;70;137;48;2;39;40;34m.\u001b[0m\u001b[38;2;248;248;242;48;2;39;40;34mclient\u001b[0m\u001b[38;2;248;248;242;48;2;39;40;34m \u001b[0m\u001b[38;2;255;70;137;48;2;39;40;34m=\u001b[0m\u001b[38;2;248;248;242;48;2;39;40;34m \u001b[0m\u001b[38;2;248;248;242;48;2;39;40;34mcohere\u001b[0m\u001b[38;2;255;70;137;48;2;39;40;34m.\u001b[0m\u001b[38;2;248;248;242;48;2;39;40;34mClientV2\u001b[0m\u001b[38;2;248;248;242;48;2;39;40;34m(\u001b[0m\u001b[48;2;39;40;34m                                                                        \u001b[0m\n",
       "\u001b[1;38;2;227;227;221;48;2;39;40;34m  \u001b[0m\u001b[38;2;101;102;96;48;2;39;40;34m22 \u001b[0m\u001b[38;2;248;248;242;48;2;39;40;34m            \u001b[0m\u001b[38;2;248;248;242;48;2;39;40;34mapi_key\u001b[0m\u001b[38;2;255;70;137;48;2;39;40;34m=\u001b[0m\u001b[38;2;248;248;242;48;2;39;40;34mos\u001b[0m\u001b[38;2;255;70;137;48;2;39;40;34m.\u001b[0m\u001b[38;2;248;248;242;48;2;39;40;34menviron\u001b[0m\u001b[38;2;248;248;242;48;2;39;40;34m[\u001b[0m\u001b[38;2;230;219;116;48;2;39;40;34m\"\u001b[0m\u001b[38;2;230;219;116;48;2;39;40;34mCO_API_KEY\u001b[0m\u001b[38;2;230;219;116;48;2;39;40;34m\"\u001b[0m\u001b[38;2;248;248;242;48;2;39;40;34m]\u001b[0m\u001b[38;2;248;248;242;48;2;39;40;34m,\u001b[0m\u001b[48;2;39;40;34m                                                                 \u001b[0m\n",
       "\u001b[1;38;2;227;227;221;48;2;39;40;34m  \u001b[0m\u001b[38;2;101;102;96;48;2;39;40;34m23 \u001b[0m\u001b[38;2;248;248;242;48;2;39;40;34m        \u001b[0m\u001b[38;2;248;248;242;48;2;39;40;34m)\u001b[0m\u001b[48;2;39;40;34m                                                                                                     \u001b[0m\n",
       "\u001b[1;38;2;227;227;221;48;2;39;40;34m  \u001b[0m\u001b[38;2;101;102;96;48;2;39;40;34m24 \u001b[0m\u001b[48;2;39;40;34m                                                                                                              \u001b[0m\n",
       "\u001b[1;38;2;227;227;221;48;2;39;40;34m  \u001b[0m\u001b[38;2;101;102;96;48;2;39;40;34m25 \u001b[0m\u001b[38;2;248;248;242;48;2;39;40;34m    \u001b[0m\u001b[38;2;166;226;46;48;2;39;40;34m@weave\u001b[0m\u001b[38;2;255;70;137;48;2;39;40;34m.\u001b[0m\u001b[38;2;248;248;242;48;2;39;40;34mop\u001b[0m\u001b[38;2;248;248;242;48;2;39;40;34m(\u001b[0m\u001b[38;2;248;248;242;48;2;39;40;34m)\u001b[0m\u001b[48;2;39;40;34m                                                                                               \u001b[0m\n",
       "\u001b[1;38;2;227;227;221;48;2;39;40;34m  \u001b[0m\u001b[38;2;101;102;96;48;2;39;40;34m26 \u001b[0m\u001b[38;2;248;248;242;48;2;39;40;34m    \u001b[0m\u001b[38;2;102;217;239;48;2;39;40;34mdef\u001b[0m\u001b[38;2;248;248;242;48;2;39;40;34m \u001b[0m\u001b[38;2;166;226;46;48;2;39;40;34mgenerate_context\u001b[0m\u001b[38;2;248;248;242;48;2;39;40;34m(\u001b[0m\u001b[38;2;248;248;242;48;2;39;40;34mself\u001b[0m\u001b[38;2;248;248;242;48;2;39;40;34m,\u001b[0m\u001b[38;2;248;248;242;48;2;39;40;34m \u001b[0m\u001b[38;2;248;248;242;48;2;39;40;34mcontext\u001b[0m\u001b[38;2;248;248;242;48;2;39;40;34m:\u001b[0m\u001b[38;2;248;248;242;48;2;39;40;34m \u001b[0m\u001b[38;2;248;248;242;48;2;39;40;34mList\u001b[0m\u001b[38;2;248;248;242;48;2;39;40;34m[\u001b[0m\u001b[38;2;248;248;242;48;2;39;40;34mDict\u001b[0m\u001b[38;2;248;248;242;48;2;39;40;34m[\u001b[0m\u001b[38;2;248;248;242;48;2;39;40;34mstr\u001b[0m\u001b[38;2;248;248;242;48;2;39;40;34m,\u001b[0m\u001b[38;2;248;248;242;48;2;39;40;34m \u001b[0m\u001b[38;2;248;248;242;48;2;39;40;34many\u001b[0m\u001b[38;2;248;248;242;48;2;39;40;34m]\u001b[0m\u001b[38;2;248;248;242;48;2;39;40;34m]\u001b[0m\u001b[38;2;248;248;242;48;2;39;40;34m)\u001b[0m\u001b[38;2;248;248;242;48;2;39;40;34m \u001b[0m\u001b[38;2;255;70;137;48;2;39;40;34m-\u001b[0m\u001b[38;2;255;70;137;48;2;39;40;34m>\u001b[0m\u001b[38;2;248;248;242;48;2;39;40;34m \u001b[0m\u001b[38;2;248;248;242;48;2;39;40;34mList\u001b[0m\u001b[38;2;248;248;242;48;2;39;40;34m[\u001b[0m\u001b[38;2;248;248;242;48;2;39;40;34mDict\u001b[0m\u001b[38;2;248;248;242;48;2;39;40;34m[\u001b[0m\u001b[38;2;248;248;242;48;2;39;40;34mstr\u001b[0m\u001b[38;2;248;248;242;48;2;39;40;34m,\u001b[0m\u001b[38;2;248;248;242;48;2;39;40;34m \u001b[0m\u001b[38;2;248;248;242;48;2;39;40;34many\u001b[0m\u001b[38;2;248;248;242;48;2;39;40;34m]\u001b[0m\u001b[38;2;248;248;242;48;2;39;40;34m]\u001b[0m\u001b[38;2;248;248;242;48;2;39;40;34m:\u001b[0m\u001b[48;2;39;40;34m                        \u001b[0m\n",
       "\u001b[1;38;2;227;227;221;48;2;39;40;34m  \u001b[0m\u001b[38;2;101;102;96;48;2;39;40;34m27 \u001b[0m\u001b[38;2;248;248;242;48;2;39;40;34m        \u001b[0m\u001b[38;2;230;219;116;48;2;39;40;34m\"\"\"\u001b[0m\u001b[48;2;39;40;34m                                                                                                   \u001b[0m\n",
       "\u001b[1;38;2;227;227;221;48;2;39;40;34m  \u001b[0m\u001b[38;2;101;102;96;48;2;39;40;34m28 \u001b[0m\u001b[38;2;230;219;116;48;2;39;40;34m        Generate a list of contexts from the provided context list.\u001b[0m\u001b[48;2;39;40;34m                                           \u001b[0m\n",
       "\u001b[1;38;2;227;227;221;48;2;39;40;34m  \u001b[0m\u001b[38;2;101;102;96;48;2;39;40;34m29 \u001b[0m\u001b[48;2;39;40;34m                                                                                                              \u001b[0m\n",
       "\u001b[1;38;2;227;227;221;48;2;39;40;34m  \u001b[0m\u001b[38;2;101;102;96;48;2;39;40;34m30 \u001b[0m\u001b[38;2;230;219;116;48;2;39;40;34m        Args:\u001b[0m\u001b[48;2;39;40;34m                                                                                                 \u001b[0m\n",
       "\u001b[1;38;2;227;227;221;48;2;39;40;34m  \u001b[0m\u001b[38;2;101;102;96;48;2;39;40;34m31 \u001b[0m\u001b[38;2;230;219;116;48;2;39;40;34m            context (List[Dict[str, any]]): A list of dictionaries containing context data.\u001b[0m\u001b[48;2;39;40;34m                   \u001b[0m\n",
       "\u001b[1;38;2;227;227;221;48;2;39;40;34m  \u001b[0m\u001b[38;2;101;102;96;48;2;39;40;34m32 \u001b[0m\u001b[48;2;39;40;34m                                                                                                              \u001b[0m\n",
       "\u001b[1;38;2;227;227;221;48;2;39;40;34m  \u001b[0m\u001b[38;2;101;102;96;48;2;39;40;34m33 \u001b[0m\u001b[38;2;230;219;116;48;2;39;40;34m        Returns:\u001b[0m\u001b[48;2;39;40;34m                                                                                              \u001b[0m\n",
       "\u001b[1;38;2;227;227;221;48;2;39;40;34m  \u001b[0m\u001b[38;2;101;102;96;48;2;39;40;34m34 \u001b[0m\u001b[38;2;230;219;116;48;2;39;40;34m            List[Dict[str, any]]: A list of dictionaries with 'source' and 'text' keys.\u001b[0m\u001b[48;2;39;40;34m                       \u001b[0m\n",
       "\u001b[1;38;2;227;227;221;48;2;39;40;34m  \u001b[0m\u001b[38;2;101;102;96;48;2;39;40;34m35 \u001b[0m\u001b[38;2;230;219;116;48;2;39;40;34m        \"\"\"\u001b[0m\u001b[48;2;39;40;34m                                                                                                   \u001b[0m\n",
       "\u001b[1;38;2;227;227;221;48;2;39;40;34m  \u001b[0m\u001b[38;2;101;102;96;48;2;39;40;34m36 \u001b[0m\u001b[38;2;248;248;242;48;2;39;40;34m        \u001b[0m\u001b[38;2;248;248;242;48;2;39;40;34mcontexts\u001b[0m\u001b[38;2;248;248;242;48;2;39;40;34m \u001b[0m\u001b[38;2;255;70;137;48;2;39;40;34m=\u001b[0m\u001b[38;2;248;248;242;48;2;39;40;34m \u001b[0m\u001b[38;2;248;248;242;48;2;39;40;34m[\u001b[0m\u001b[48;2;39;40;34m                                                                                          \u001b[0m\n",
       "\u001b[1;38;2;227;227;221;48;2;39;40;34m  \u001b[0m\u001b[38;2;101;102;96;48;2;39;40;34m37 \u001b[0m\u001b[38;2;248;248;242;48;2;39;40;34m            \u001b[0m\u001b[38;2;248;248;242;48;2;39;40;34m{\u001b[0m\u001b[38;2;230;219;116;48;2;39;40;34m\"\u001b[0m\u001b[38;2;230;219;116;48;2;39;40;34mdata\u001b[0m\u001b[38;2;230;219;116;48;2;39;40;34m\"\u001b[0m\u001b[38;2;248;248;242;48;2;39;40;34m:\u001b[0m\u001b[38;2;248;248;242;48;2;39;40;34m \u001b[0m\u001b[38;2;248;248;242;48;2;39;40;34m{\u001b[0m\u001b[38;2;230;219;116;48;2;39;40;34m\"\u001b[0m\u001b[38;2;230;219;116;48;2;39;40;34msource\u001b[0m\u001b[38;2;230;219;116;48;2;39;40;34m\"\u001b[0m\u001b[38;2;248;248;242;48;2;39;40;34m:\u001b[0m\u001b[38;2;248;248;242;48;2;39;40;34m \u001b[0m\u001b[38;2;248;248;242;48;2;39;40;34mitem\u001b[0m\u001b[38;2;248;248;242;48;2;39;40;34m[\u001b[0m\u001b[38;2;230;219;116;48;2;39;40;34m\"\u001b[0m\u001b[38;2;230;219;116;48;2;39;40;34msource\u001b[0m\u001b[38;2;230;219;116;48;2;39;40;34m\"\u001b[0m\u001b[38;2;248;248;242;48;2;39;40;34m]\u001b[0m\u001b[38;2;248;248;242;48;2;39;40;34m,\u001b[0m\u001b[38;2;248;248;242;48;2;39;40;34m \u001b[0m\u001b[38;2;230;219;116;48;2;39;40;34m\"\u001b[0m\u001b[38;2;230;219;116;48;2;39;40;34mtext\u001b[0m\u001b[38;2;230;219;116;48;2;39;40;34m\"\u001b[0m\u001b[38;2;248;248;242;48;2;39;40;34m:\u001b[0m\u001b[38;2;248;248;242;48;2;39;40;34m \u001b[0m\u001b[38;2;248;248;242;48;2;39;40;34mitem\u001b[0m\u001b[38;2;248;248;242;48;2;39;40;34m[\u001b[0m\u001b[38;2;230;219;116;48;2;39;40;34m\"\u001b[0m\u001b[38;2;230;219;116;48;2;39;40;34mtext\u001b[0m\u001b[38;2;230;219;116;48;2;39;40;34m\"\u001b[0m\u001b[38;2;248;248;242;48;2;39;40;34m]\u001b[0m\u001b[38;2;248;248;242;48;2;39;40;34m}\u001b[0m\u001b[38;2;248;248;242;48;2;39;40;34m}\u001b[0m\u001b[48;2;39;40;34m                                        \u001b[0m\n",
       "\u001b[1;38;2;227;227;221;48;2;39;40;34m  \u001b[0m\u001b[38;2;101;102;96;48;2;39;40;34m38 \u001b[0m\u001b[38;2;248;248;242;48;2;39;40;34m            \u001b[0m\u001b[38;2;102;217;239;48;2;39;40;34mfor\u001b[0m\u001b[38;2;248;248;242;48;2;39;40;34m \u001b[0m\u001b[38;2;248;248;242;48;2;39;40;34mitem\u001b[0m\u001b[38;2;248;248;242;48;2;39;40;34m \u001b[0m\u001b[38;2;255;70;137;48;2;39;40;34min\u001b[0m\u001b[38;2;248;248;242;48;2;39;40;34m \u001b[0m\u001b[38;2;248;248;242;48;2;39;40;34mcontext\u001b[0m\u001b[48;2;39;40;34m                                                                               \u001b[0m\n",
       "\u001b[1;38;2;227;227;221;48;2;39;40;34m  \u001b[0m\u001b[38;2;101;102;96;48;2;39;40;34m39 \u001b[0m\u001b[38;2;248;248;242;48;2;39;40;34m        \u001b[0m\u001b[38;2;248;248;242;48;2;39;40;34m]\u001b[0m\u001b[48;2;39;40;34m                                                                                                     \u001b[0m\n",
       "\u001b[1;38;2;227;227;221;48;2;39;40;34m  \u001b[0m\u001b[38;2;101;102;96;48;2;39;40;34m40 \u001b[0m\u001b[38;2;248;248;242;48;2;39;40;34m        \u001b[0m\u001b[38;2;102;217;239;48;2;39;40;34mreturn\u001b[0m\u001b[38;2;248;248;242;48;2;39;40;34m \u001b[0m\u001b[38;2;248;248;242;48;2;39;40;34mcontexts\u001b[0m\u001b[48;2;39;40;34m                                                                                       \u001b[0m\n",
       "\u001b[1;38;2;227;227;221;48;2;39;40;34m  \u001b[0m\u001b[38;2;101;102;96;48;2;39;40;34m41 \u001b[0m\u001b[48;2;39;40;34m                                                                                                              \u001b[0m\n",
       "\u001b[1;38;2;227;227;221;48;2;39;40;34m  \u001b[0m\u001b[38;2;101;102;96;48;2;39;40;34m42 \u001b[0m\u001b[38;2;248;248;242;48;2;39;40;34m    \u001b[0m\u001b[38;2;102;217;239;48;2;39;40;34mdef\u001b[0m\u001b[38;2;248;248;242;48;2;39;40;34m \u001b[0m\u001b[38;2;166;226;46;48;2;39;40;34mcreate_messages\u001b[0m\u001b[38;2;248;248;242;48;2;39;40;34m(\u001b[0m\u001b[38;2;248;248;242;48;2;39;40;34mself\u001b[0m\u001b[38;2;248;248;242;48;2;39;40;34m,\u001b[0m\u001b[38;2;248;248;242;48;2;39;40;34m \u001b[0m\u001b[38;2;248;248;242;48;2;39;40;34mquery\u001b[0m\u001b[38;2;248;248;242;48;2;39;40;34m:\u001b[0m\u001b[38;2;248;248;242;48;2;39;40;34m \u001b[0m\u001b[38;2;248;248;242;48;2;39;40;34mstr\u001b[0m\u001b[38;2;248;248;242;48;2;39;40;34m)\u001b[0m\u001b[38;2;248;248;242;48;2;39;40;34m:\u001b[0m\u001b[48;2;39;40;34m                                                                    \u001b[0m\n",
       "\u001b[1;38;2;227;227;221;48;2;39;40;34m  \u001b[0m\u001b[38;2;101;102;96;48;2;39;40;34m43 \u001b[0m\u001b[38;2;248;248;242;48;2;39;40;34m        \u001b[0m\u001b[38;2;230;219;116;48;2;39;40;34m\"\"\"\u001b[0m\u001b[48;2;39;40;34m                                                                                                   \u001b[0m\n",
       "\u001b[1;38;2;227;227;221;48;2;39;40;34m  \u001b[0m\u001b[38;2;101;102;96;48;2;39;40;34m44 \u001b[0m\u001b[38;2;230;219;116;48;2;39;40;34m        Create a list of messages for the chat model based on the query.\u001b[0m\u001b[48;2;39;40;34m                                      \u001b[0m\n",
       "\u001b[1;38;2;227;227;221;48;2;39;40;34m  \u001b[0m\u001b[38;2;101;102;96;48;2;39;40;34m45 \u001b[0m\u001b[48;2;39;40;34m                                                                                                              \u001b[0m\n",
       "\u001b[1;38;2;227;227;221;48;2;39;40;34m  \u001b[0m\u001b[38;2;101;102;96;48;2;39;40;34m46 \u001b[0m\u001b[38;2;230;219;116;48;2;39;40;34m        Args:\u001b[0m\u001b[48;2;39;40;34m                                                                                                 \u001b[0m\n",
       "\u001b[1;38;2;227;227;221;48;2;39;40;34m  \u001b[0m\u001b[38;2;101;102;96;48;2;39;40;34m47 \u001b[0m\u001b[38;2;230;219;116;48;2;39;40;34m            query (str): The user's query.\u001b[0m\u001b[48;2;39;40;34m                                                                    \u001b[0m\n",
       "\u001b[1;38;2;227;227;221;48;2;39;40;34m  \u001b[0m\u001b[38;2;101;102;96;48;2;39;40;34m48 \u001b[0m\u001b[48;2;39;40;34m                                                                                                              \u001b[0m\n",
       "\u001b[1;38;2;227;227;221;48;2;39;40;34m  \u001b[0m\u001b[38;2;101;102;96;48;2;39;40;34m49 \u001b[0m\u001b[38;2;230;219;116;48;2;39;40;34m        Returns:\u001b[0m\u001b[48;2;39;40;34m                                                                                              \u001b[0m\n",
       "\u001b[1;38;2;227;227;221;48;2;39;40;34m  \u001b[0m\u001b[38;2;101;102;96;48;2;39;40;34m50 \u001b[0m\u001b[38;2;230;219;116;48;2;39;40;34m            List[Dict[str, any]]: A list of messages formatted for the chat model.\u001b[0m\u001b[48;2;39;40;34m                            \u001b[0m\n",
       "\u001b[1;38;2;227;227;221;48;2;39;40;34m  \u001b[0m\u001b[38;2;101;102;96;48;2;39;40;34m51 \u001b[0m\u001b[38;2;230;219;116;48;2;39;40;34m        \"\"\"\u001b[0m\u001b[48;2;39;40;34m                                                                                                   \u001b[0m\n",
       "\u001b[1;38;2;227;227;221;48;2;39;40;34m  \u001b[0m\u001b[38;2;101;102;96;48;2;39;40;34m52 \u001b[0m\u001b[38;2;248;248;242;48;2;39;40;34m        \u001b[0m\u001b[38;2;248;248;242;48;2;39;40;34mmessages\u001b[0m\u001b[38;2;248;248;242;48;2;39;40;34m \u001b[0m\u001b[38;2;255;70;137;48;2;39;40;34m=\u001b[0m\u001b[38;2;248;248;242;48;2;39;40;34m \u001b[0m\u001b[38;2;248;248;242;48;2;39;40;34m[\u001b[0m\u001b[48;2;39;40;34m                                                                                          \u001b[0m\n",
       "\u001b[1;38;2;227;227;221;48;2;39;40;34m  \u001b[0m\u001b[38;2;101;102;96;48;2;39;40;34m53 \u001b[0m\u001b[38;2;248;248;242;48;2;39;40;34m            \u001b[0m\u001b[38;2;248;248;242;48;2;39;40;34m{\u001b[0m\u001b[38;2;230;219;116;48;2;39;40;34m\"\u001b[0m\u001b[38;2;230;219;116;48;2;39;40;34mrole\u001b[0m\u001b[38;2;230;219;116;48;2;39;40;34m\"\u001b[0m\u001b[38;2;248;248;242;48;2;39;40;34m:\u001b[0m\u001b[38;2;248;248;242;48;2;39;40;34m \u001b[0m\u001b[38;2;230;219;116;48;2;39;40;34m\"\u001b[0m\u001b[38;2;230;219;116;48;2;39;40;34msystem\u001b[0m\u001b[38;2;230;219;116;48;2;39;40;34m\"\u001b[0m\u001b[38;2;248;248;242;48;2;39;40;34m,\u001b[0m\u001b[38;2;248;248;242;48;2;39;40;34m \u001b[0m\u001b[38;2;230;219;116;48;2;39;40;34m\"\u001b[0m\u001b[38;2;230;219;116;48;2;39;40;34mcontent\u001b[0m\u001b[38;2;230;219;116;48;2;39;40;34m\"\u001b[0m\u001b[38;2;248;248;242;48;2;39;40;34m:\u001b[0m\u001b[38;2;248;248;242;48;2;39;40;34m \u001b[0m\u001b[38;2;248;248;242;48;2;39;40;34mself\u001b[0m\u001b[38;2;255;70;137;48;2;39;40;34m.\u001b[0m\u001b[38;2;248;248;242;48;2;39;40;34mprompt\u001b[0m\u001b[38;2;248;248;242;48;2;39;40;34m}\u001b[0m\u001b[38;2;248;248;242;48;2;39;40;34m,\u001b[0m\u001b[48;2;39;40;34m                                                       \u001b[0m\n",
       "\u001b[1;38;2;227;227;221;48;2;39;40;34m  \u001b[0m\u001b[38;2;101;102;96;48;2;39;40;34m54 \u001b[0m\u001b[38;2;248;248;242;48;2;39;40;34m            \u001b[0m\u001b[38;2;248;248;242;48;2;39;40;34m{\u001b[0m\u001b[38;2;230;219;116;48;2;39;40;34m\"\u001b[0m\u001b[38;2;230;219;116;48;2;39;40;34mrole\u001b[0m\u001b[38;2;230;219;116;48;2;39;40;34m\"\u001b[0m\u001b[38;2;248;248;242;48;2;39;40;34m:\u001b[0m\u001b[38;2;248;248;242;48;2;39;40;34m \u001b[0m\u001b[38;2;230;219;116;48;2;39;40;34m\"\u001b[0m\u001b[38;2;230;219;116;48;2;39;40;34muser\u001b[0m\u001b[38;2;230;219;116;48;2;39;40;34m\"\u001b[0m\u001b[38;2;248;248;242;48;2;39;40;34m,\u001b[0m\u001b[38;2;248;248;242;48;2;39;40;34m \u001b[0m\u001b[38;2;230;219;116;48;2;39;40;34m\"\u001b[0m\u001b[38;2;230;219;116;48;2;39;40;34mcontent\u001b[0m\u001b[38;2;230;219;116;48;2;39;40;34m\"\u001b[0m\u001b[38;2;248;248;242;48;2;39;40;34m:\u001b[0m\u001b[38;2;248;248;242;48;2;39;40;34m \u001b[0m\u001b[38;2;248;248;242;48;2;39;40;34mquery\u001b[0m\u001b[38;2;248;248;242;48;2;39;40;34m}\u001b[0m\u001b[38;2;248;248;242;48;2;39;40;34m,\u001b[0m\u001b[48;2;39;40;34m                                                               \u001b[0m\n",
       "\u001b[1;38;2;227;227;221;48;2;39;40;34m  \u001b[0m\u001b[38;2;101;102;96;48;2;39;40;34m55 \u001b[0m\u001b[38;2;248;248;242;48;2;39;40;34m        \u001b[0m\u001b[38;2;248;248;242;48;2;39;40;34m]\u001b[0m\u001b[48;2;39;40;34m                                                                                                     \u001b[0m\n",
       "\u001b[1;38;2;227;227;221;48;2;39;40;34m  \u001b[0m\u001b[38;2;101;102;96;48;2;39;40;34m56 \u001b[0m\u001b[38;2;248;248;242;48;2;39;40;34m        \u001b[0m\u001b[38;2;102;217;239;48;2;39;40;34mreturn\u001b[0m\u001b[38;2;248;248;242;48;2;39;40;34m \u001b[0m\u001b[38;2;248;248;242;48;2;39;40;34mmessages\u001b[0m\u001b[48;2;39;40;34m                                                                                       \u001b[0m\n",
       "\u001b[1;38;2;227;227;221;48;2;39;40;34m  \u001b[0m\u001b[38;2;101;102;96;48;2;39;40;34m57 \u001b[0m\u001b[48;2;39;40;34m                                                                                                              \u001b[0m\n",
       "\u001b[1;38;2;227;227;221;48;2;39;40;34m  \u001b[0m\u001b[38;2;101;102;96;48;2;39;40;34m58 \u001b[0m\u001b[38;2;248;248;242;48;2;39;40;34m    \u001b[0m\u001b[38;2;166;226;46;48;2;39;40;34m@weave\u001b[0m\u001b[38;2;255;70;137;48;2;39;40;34m.\u001b[0m\u001b[38;2;248;248;242;48;2;39;40;34mop\u001b[0m\u001b[38;2;248;248;242;48;2;39;40;34m(\u001b[0m\u001b[38;2;248;248;242;48;2;39;40;34m)\u001b[0m\u001b[48;2;39;40;34m                                                                                               \u001b[0m\n",
       "\u001b[1;38;2;227;227;221;48;2;39;40;34m  \u001b[0m\u001b[38;2;101;102;96;48;2;39;40;34m59 \u001b[0m\u001b[38;2;248;248;242;48;2;39;40;34m    \u001b[0m\u001b[38;2;102;217;239;48;2;39;40;34mdef\u001b[0m\u001b[38;2;248;248;242;48;2;39;40;34m \u001b[0m\u001b[38;2;166;226;46;48;2;39;40;34mgenerate_response\u001b[0m\u001b[38;2;248;248;242;48;2;39;40;34m(\u001b[0m\u001b[38;2;248;248;242;48;2;39;40;34mself\u001b[0m\u001b[38;2;248;248;242;48;2;39;40;34m,\u001b[0m\u001b[38;2;248;248;242;48;2;39;40;34m \u001b[0m\u001b[38;2;248;248;242;48;2;39;40;34mquery\u001b[0m\u001b[38;2;248;248;242;48;2;39;40;34m:\u001b[0m\u001b[38;2;248;248;242;48;2;39;40;34m \u001b[0m\u001b[38;2;248;248;242;48;2;39;40;34mstr\u001b[0m\u001b[38;2;248;248;242;48;2;39;40;34m,\u001b[0m\u001b[38;2;248;248;242;48;2;39;40;34m \u001b[0m\u001b[38;2;248;248;242;48;2;39;40;34mcontext\u001b[0m\u001b[38;2;248;248;242;48;2;39;40;34m:\u001b[0m\u001b[38;2;248;248;242;48;2;39;40;34m \u001b[0m\u001b[38;2;248;248;242;48;2;39;40;34mList\u001b[0m\u001b[38;2;248;248;242;48;2;39;40;34m[\u001b[0m\u001b[38;2;248;248;242;48;2;39;40;34mDict\u001b[0m\u001b[38;2;248;248;242;48;2;39;40;34m[\u001b[0m\u001b[38;2;248;248;242;48;2;39;40;34mstr\u001b[0m\u001b[38;2;248;248;242;48;2;39;40;34m,\u001b[0m\u001b[38;2;248;248;242;48;2;39;40;34m \u001b[0m\u001b[38;2;248;248;242;48;2;39;40;34many\u001b[0m\u001b[38;2;248;248;242;48;2;39;40;34m]\u001b[0m\u001b[38;2;248;248;242;48;2;39;40;34m]\u001b[0m\u001b[38;2;248;248;242;48;2;39;40;34m)\u001b[0m\u001b[38;2;248;248;242;48;2;39;40;34m \u001b[0m\u001b[38;2;255;70;137;48;2;39;40;34m-\u001b[0m\u001b[38;2;255;70;137;48;2;39;40;34m>\u001b[0m\u001b[38;2;248;248;242;48;2;39;40;34m \u001b[0m\u001b[38;2;248;248;242;48;2;39;40;34mstr\u001b[0m\u001b[38;2;248;248;242;48;2;39;40;34m:\u001b[0m\u001b[48;2;39;40;34m                            \u001b[0m\n",
       "\u001b[1;38;2;227;227;221;48;2;39;40;34m  \u001b[0m\u001b[38;2;101;102;96;48;2;39;40;34m60 \u001b[0m\u001b[38;2;248;248;242;48;2;39;40;34m        \u001b[0m\u001b[38;2;230;219;116;48;2;39;40;34m\"\"\"\u001b[0m\u001b[48;2;39;40;34m                                                                                                   \u001b[0m\n",
       "\u001b[1;38;2;227;227;221;48;2;39;40;34m  \u001b[0m\u001b[38;2;101;102;96;48;2;39;40;34m61 \u001b[0m\u001b[38;2;230;219;116;48;2;39;40;34m        Generate a response from the chat model based on the query and context.\u001b[0m\u001b[48;2;39;40;34m                               \u001b[0m\n",
       "\u001b[1;38;2;227;227;221;48;2;39;40;34m  \u001b[0m\u001b[38;2;101;102;96;48;2;39;40;34m62 \u001b[0m\u001b[48;2;39;40;34m                                                                                                              \u001b[0m\n",
       "\u001b[1;38;2;227;227;221;48;2;39;40;34m  \u001b[0m\u001b[38;2;101;102;96;48;2;39;40;34m63 \u001b[0m\u001b[38;2;230;219;116;48;2;39;40;34m        Args:\u001b[0m\u001b[48;2;39;40;34m                                                                                                 \u001b[0m\n",
       "\u001b[1;38;2;227;227;221;48;2;39;40;34m  \u001b[0m\u001b[38;2;101;102;96;48;2;39;40;34m64 \u001b[0m\u001b[38;2;230;219;116;48;2;39;40;34m            query (str): The user's query.\u001b[0m\u001b[48;2;39;40;34m                                                                    \u001b[0m\n",
       "\u001b[1;38;2;227;227;221;48;2;39;40;34m  \u001b[0m\u001b[38;2;101;102;96;48;2;39;40;34m65 \u001b[0m\u001b[38;2;230;219;116;48;2;39;40;34m            context (List[Dict[str, any]]): A list of dictionaries containing context data.\u001b[0m\u001b[48;2;39;40;34m                   \u001b[0m\n",
       "\u001b[1;38;2;227;227;221;48;2;39;40;34m  \u001b[0m\u001b[38;2;101;102;96;48;2;39;40;34m66 \u001b[0m\u001b[48;2;39;40;34m                                                                                                              \u001b[0m\n",
       "\u001b[1;38;2;227;227;221;48;2;39;40;34m  \u001b[0m\u001b[38;2;101;102;96;48;2;39;40;34m67 \u001b[0m\u001b[38;2;230;219;116;48;2;39;40;34m        Returns:\u001b[0m\u001b[48;2;39;40;34m                                                                                              \u001b[0m\n",
       "\u001b[1;38;2;227;227;221;48;2;39;40;34m  \u001b[0m\u001b[38;2;101;102;96;48;2;39;40;34m68 \u001b[0m\u001b[38;2;230;219;116;48;2;39;40;34m            str: The generated response from the chat model.\u001b[0m\u001b[48;2;39;40;34m                                                  \u001b[0m\n",
       "\u001b[1;38;2;227;227;221;48;2;39;40;34m  \u001b[0m\u001b[38;2;101;102;96;48;2;39;40;34m69 \u001b[0m\u001b[38;2;230;219;116;48;2;39;40;34m        \"\"\"\u001b[0m\u001b[48;2;39;40;34m                                                                                                   \u001b[0m\n",
       "\u001b[1;38;2;227;227;221;48;2;39;40;34m  \u001b[0m\u001b[38;2;101;102;96;48;2;39;40;34m70 \u001b[0m\u001b[38;2;248;248;242;48;2;39;40;34m        \u001b[0m\u001b[38;2;248;248;242;48;2;39;40;34mdocuments\u001b[0m\u001b[38;2;248;248;242;48;2;39;40;34m \u001b[0m\u001b[38;2;255;70;137;48;2;39;40;34m=\u001b[0m\u001b[38;2;248;248;242;48;2;39;40;34m \u001b[0m\u001b[38;2;248;248;242;48;2;39;40;34mself\u001b[0m\u001b[38;2;255;70;137;48;2;39;40;34m.\u001b[0m\u001b[38;2;248;248;242;48;2;39;40;34mgenerate_context\u001b[0m\u001b[38;2;248;248;242;48;2;39;40;34m(\u001b[0m\u001b[38;2;248;248;242;48;2;39;40;34mcontext\u001b[0m\u001b[38;2;248;248;242;48;2;39;40;34m)\u001b[0m\u001b[48;2;39;40;34m                                                            \u001b[0m\n",
       "\u001b[1;38;2;227;227;221;48;2;39;40;34m  \u001b[0m\u001b[38;2;101;102;96;48;2;39;40;34m71 \u001b[0m\u001b[38;2;248;248;242;48;2;39;40;34m        \u001b[0m\u001b[38;2;248;248;242;48;2;39;40;34mmessages\u001b[0m\u001b[38;2;248;248;242;48;2;39;40;34m \u001b[0m\u001b[38;2;255;70;137;48;2;39;40;34m=\u001b[0m\u001b[38;2;248;248;242;48;2;39;40;34m \u001b[0m\u001b[38;2;248;248;242;48;2;39;40;34mself\u001b[0m\u001b[38;2;255;70;137;48;2;39;40;34m.\u001b[0m\u001b[38;2;248;248;242;48;2;39;40;34mcreate_messages\u001b[0m\u001b[38;2;248;248;242;48;2;39;40;34m(\u001b[0m\u001b[38;2;248;248;242;48;2;39;40;34mquery\u001b[0m\u001b[38;2;248;248;242;48;2;39;40;34m)\u001b[0m\u001b[48;2;39;40;34m                                                                \u001b[0m\n",
       "\u001b[1;38;2;227;227;221;48;2;39;40;34m  \u001b[0m\u001b[38;2;101;102;96;48;2;39;40;34m72 \u001b[0m\u001b[38;2;248;248;242;48;2;39;40;34m        \u001b[0m\u001b[38;2;248;248;242;48;2;39;40;34mresponse\u001b[0m\u001b[38;2;248;248;242;48;2;39;40;34m \u001b[0m\u001b[38;2;255;70;137;48;2;39;40;34m=\u001b[0m\u001b[38;2;248;248;242;48;2;39;40;34m \u001b[0m\u001b[38;2;248;248;242;48;2;39;40;34mself\u001b[0m\u001b[38;2;255;70;137;48;2;39;40;34m.\u001b[0m\u001b[38;2;248;248;242;48;2;39;40;34mclient\u001b[0m\u001b[38;2;255;70;137;48;2;39;40;34m.\u001b[0m\u001b[38;2;248;248;242;48;2;39;40;34mchat\u001b[0m\u001b[38;2;248;248;242;48;2;39;40;34m(\u001b[0m\u001b[48;2;39;40;34m                                                                          \u001b[0m\n",
       "\u001b[1;38;2;227;227;221;48;2;39;40;34m  \u001b[0m\u001b[38;2;101;102;96;48;2;39;40;34m73 \u001b[0m\u001b[38;2;248;248;242;48;2;39;40;34m            \u001b[0m\u001b[38;2;248;248;242;48;2;39;40;34mmessages\u001b[0m\u001b[38;2;255;70;137;48;2;39;40;34m=\u001b[0m\u001b[38;2;248;248;242;48;2;39;40;34mmessages\u001b[0m\u001b[38;2;248;248;242;48;2;39;40;34m,\u001b[0m\u001b[48;2;39;40;34m                                                                                \u001b[0m\n",
       "\u001b[1;38;2;227;227;221;48;2;39;40;34m  \u001b[0m\u001b[38;2;101;102;96;48;2;39;40;34m74 \u001b[0m\u001b[38;2;248;248;242;48;2;39;40;34m            \u001b[0m\u001b[38;2;248;248;242;48;2;39;40;34mmodel\u001b[0m\u001b[38;2;255;70;137;48;2;39;40;34m=\u001b[0m\u001b[38;2;248;248;242;48;2;39;40;34mself\u001b[0m\u001b[38;2;255;70;137;48;2;39;40;34m.\u001b[0m\u001b[38;2;248;248;242;48;2;39;40;34mmodel\u001b[0m\u001b[38;2;248;248;242;48;2;39;40;34m,\u001b[0m\u001b[48;2;39;40;34m                                                                                 \u001b[0m\n",
       "\u001b[1;38;2;227;227;221;48;2;39;40;34m  \u001b[0m\u001b[38;2;101;102;96;48;2;39;40;34m75 \u001b[0m\u001b[38;2;248;248;242;48;2;39;40;34m            \u001b[0m\u001b[38;2;248;248;242;48;2;39;40;34mtemperature\u001b[0m\u001b[38;2;255;70;137;48;2;39;40;34m=\u001b[0m\u001b[38;2;174;129;255;48;2;39;40;34m0.1\u001b[0m\u001b[38;2;248;248;242;48;2;39;40;34m,\u001b[0m\u001b[48;2;39;40;34m                                                                                  \u001b[0m\n",
       "\u001b[1;38;2;227;227;221;48;2;39;40;34m  \u001b[0m\u001b[38;2;101;102;96;48;2;39;40;34m76 \u001b[0m\u001b[38;2;248;248;242;48;2;39;40;34m            \u001b[0m\u001b[38;2;248;248;242;48;2;39;40;34mmax_tokens\u001b[0m\u001b[38;2;255;70;137;48;2;39;40;34m=\u001b[0m\u001b[38;2;174;129;255;48;2;39;40;34m2000\u001b[0m\u001b[38;2;248;248;242;48;2;39;40;34m,\u001b[0m\u001b[48;2;39;40;34m                                                                                  \u001b[0m\n",
       "\u001b[1;38;2;227;227;221;48;2;39;40;34m  \u001b[0m\u001b[38;2;101;102;96;48;2;39;40;34m77 \u001b[0m\u001b[38;2;248;248;242;48;2;39;40;34m            \u001b[0m\u001b[38;2;248;248;242;48;2;39;40;34mdocuments\u001b[0m\u001b[38;2;255;70;137;48;2;39;40;34m=\u001b[0m\u001b[38;2;248;248;242;48;2;39;40;34mdocuments\u001b[0m\u001b[38;2;248;248;242;48;2;39;40;34m,\u001b[0m\u001b[48;2;39;40;34m                                                                              \u001b[0m\n",
       "\u001b[1;38;2;227;227;221;48;2;39;40;34m  \u001b[0m\u001b[38;2;101;102;96;48;2;39;40;34m78 \u001b[0m\u001b[38;2;248;248;242;48;2;39;40;34m        \u001b[0m\u001b[38;2;248;248;242;48;2;39;40;34m)\u001b[0m\u001b[48;2;39;40;34m                                                                                                     \u001b[0m\n",
       "\u001b[1;38;2;227;227;221;48;2;39;40;34m  \u001b[0m\u001b[38;2;101;102;96;48;2;39;40;34m79 \u001b[0m\u001b[38;2;248;248;242;48;2;39;40;34m        \u001b[0m\u001b[38;2;102;217;239;48;2;39;40;34mreturn\u001b[0m\u001b[38;2;248;248;242;48;2;39;40;34m \u001b[0m\u001b[38;2;248;248;242;48;2;39;40;34mresponse\u001b[0m\u001b[38;2;255;70;137;48;2;39;40;34m.\u001b[0m\u001b[38;2;248;248;242;48;2;39;40;34mmessage\u001b[0m\u001b[38;2;255;70;137;48;2;39;40;34m.\u001b[0m\u001b[38;2;248;248;242;48;2;39;40;34mcontent\u001b[0m\u001b[38;2;248;248;242;48;2;39;40;34m[\u001b[0m\u001b[38;2;174;129;255;48;2;39;40;34m0\u001b[0m\u001b[38;2;248;248;242;48;2;39;40;34m]\u001b[0m\u001b[38;2;255;70;137;48;2;39;40;34m.\u001b[0m\u001b[38;2;248;248;242;48;2;39;40;34mtext\u001b[0m\u001b[48;2;39;40;34m                                                               \u001b[0m\n",
       "\u001b[1;38;2;227;227;221;48;2;39;40;34m  \u001b[0m\u001b[38;2;101;102;96;48;2;39;40;34m80 \u001b[0m\u001b[48;2;39;40;34m                                                                                                              \u001b[0m\n",
       "\u001b[1;38;2;227;227;221;48;2;39;40;34m  \u001b[0m\u001b[38;2;101;102;96;48;2;39;40;34m81 \u001b[0m\u001b[38;2;248;248;242;48;2;39;40;34m    \u001b[0m\u001b[38;2;166;226;46;48;2;39;40;34m@weave\u001b[0m\u001b[38;2;255;70;137;48;2;39;40;34m.\u001b[0m\u001b[38;2;248;248;242;48;2;39;40;34mop\u001b[0m\u001b[38;2;248;248;242;48;2;39;40;34m(\u001b[0m\u001b[38;2;248;248;242;48;2;39;40;34m)\u001b[0m\u001b[48;2;39;40;34m                                                                                               \u001b[0m\n",
       "\u001b[1;38;2;227;227;221;48;2;39;40;34m  \u001b[0m\u001b[38;2;101;102;96;48;2;39;40;34m82 \u001b[0m\u001b[38;2;248;248;242;48;2;39;40;34m    \u001b[0m\u001b[38;2;102;217;239;48;2;39;40;34mdef\u001b[0m\u001b[38;2;248;248;242;48;2;39;40;34m \u001b[0m\u001b[38;2;166;226;46;48;2;39;40;34mpredict\u001b[0m\u001b[38;2;248;248;242;48;2;39;40;34m(\u001b[0m\u001b[38;2;248;248;242;48;2;39;40;34mself\u001b[0m\u001b[38;2;248;248;242;48;2;39;40;34m,\u001b[0m\u001b[38;2;248;248;242;48;2;39;40;34m \u001b[0m\u001b[38;2;248;248;242;48;2;39;40;34mquery\u001b[0m\u001b[38;2;248;248;242;48;2;39;40;34m:\u001b[0m\u001b[38;2;248;248;242;48;2;39;40;34m \u001b[0m\u001b[38;2;248;248;242;48;2;39;40;34mstr\u001b[0m\u001b[38;2;248;248;242;48;2;39;40;34m,\u001b[0m\u001b[38;2;248;248;242;48;2;39;40;34m \u001b[0m\u001b[38;2;248;248;242;48;2;39;40;34mcontext\u001b[0m\u001b[38;2;248;248;242;48;2;39;40;34m:\u001b[0m\u001b[38;2;248;248;242;48;2;39;40;34m \u001b[0m\u001b[38;2;248;248;242;48;2;39;40;34mList\u001b[0m\u001b[38;2;248;248;242;48;2;39;40;34m[\u001b[0m\u001b[38;2;248;248;242;48;2;39;40;34mDict\u001b[0m\u001b[38;2;248;248;242;48;2;39;40;34m[\u001b[0m\u001b[38;2;248;248;242;48;2;39;40;34mstr\u001b[0m\u001b[38;2;248;248;242;48;2;39;40;34m,\u001b[0m\u001b[38;2;248;248;242;48;2;39;40;34m \u001b[0m\u001b[38;2;248;248;242;48;2;39;40;34many\u001b[0m\u001b[38;2;248;248;242;48;2;39;40;34m]\u001b[0m\u001b[38;2;248;248;242;48;2;39;40;34m]\u001b[0m\u001b[38;2;248;248;242;48;2;39;40;34m)\u001b[0m\u001b[38;2;248;248;242;48;2;39;40;34m:\u001b[0m\u001b[48;2;39;40;34m                                             \u001b[0m\n",
       "\u001b[1;38;2;227;227;221;48;2;39;40;34m  \u001b[0m\u001b[38;2;101;102;96;48;2;39;40;34m83 \u001b[0m\u001b[38;2;248;248;242;48;2;39;40;34m        \u001b[0m\u001b[38;2;230;219;116;48;2;39;40;34m\"\"\"\u001b[0m\u001b[48;2;39;40;34m                                                                                                   \u001b[0m\n",
       "\u001b[1;38;2;227;227;221;48;2;39;40;34m  \u001b[0m\u001b[38;2;101;102;96;48;2;39;40;34m84 \u001b[0m\u001b[38;2;230;219;116;48;2;39;40;34m        Predict the response for the given query and context.\u001b[0m\u001b[48;2;39;40;34m                                                 \u001b[0m\n",
       "\u001b[1;38;2;227;227;221;48;2;39;40;34m  \u001b[0m\u001b[38;2;101;102;96;48;2;39;40;34m85 \u001b[0m\u001b[48;2;39;40;34m                                                                                                              \u001b[0m\n",
       "\u001b[1;38;2;227;227;221;48;2;39;40;34m  \u001b[0m\u001b[38;2;101;102;96;48;2;39;40;34m86 \u001b[0m\u001b[38;2;230;219;116;48;2;39;40;34m        Args:\u001b[0m\u001b[48;2;39;40;34m                                                                                                 \u001b[0m\n",
       "\u001b[1;38;2;227;227;221;48;2;39;40;34m  \u001b[0m\u001b[38;2;101;102;96;48;2;39;40;34m87 \u001b[0m\u001b[38;2;230;219;116;48;2;39;40;34m            query (str): The user's query.\u001b[0m\u001b[48;2;39;40;34m                                                                    \u001b[0m\n",
       "\u001b[1;38;2;227;227;221;48;2;39;40;34m  \u001b[0m\u001b[38;2;101;102;96;48;2;39;40;34m88 \u001b[0m\u001b[38;2;230;219;116;48;2;39;40;34m            context (List[Dict[str, any]]): A list of dictionaries containing context data.\u001b[0m\u001b[48;2;39;40;34m                   \u001b[0m\n",
       "\u001b[1;38;2;227;227;221;48;2;39;40;34m  \u001b[0m\u001b[38;2;101;102;96;48;2;39;40;34m89 \u001b[0m\u001b[48;2;39;40;34m                                                                                                              \u001b[0m\n",
       "\u001b[1;38;2;227;227;221;48;2;39;40;34m  \u001b[0m\u001b[38;2;101;102;96;48;2;39;40;34m90 \u001b[0m\u001b[38;2;230;219;116;48;2;39;40;34m        Returns:\u001b[0m\u001b[48;2;39;40;34m                                                                                              \u001b[0m\n",
       "\u001b[1;38;2;227;227;221;48;2;39;40;34m  \u001b[0m\u001b[38;2;101;102;96;48;2;39;40;34m91 \u001b[0m\u001b[38;2;230;219;116;48;2;39;40;34m            str: The predicted response from the chat model.\u001b[0m\u001b[48;2;39;40;34m                                                  \u001b[0m\n",
       "\u001b[1;38;2;227;227;221;48;2;39;40;34m  \u001b[0m\u001b[38;2;101;102;96;48;2;39;40;34m92 \u001b[0m\u001b[38;2;230;219;116;48;2;39;40;34m        \"\"\"\u001b[0m\u001b[48;2;39;40;34m                                                                                                   \u001b[0m\n",
       "\u001b[1;38;2;227;227;221;48;2;39;40;34m  \u001b[0m\u001b[38;2;101;102;96;48;2;39;40;34m93 \u001b[0m\u001b[38;2;248;248;242;48;2;39;40;34m        \u001b[0m\u001b[38;2;102;217;239;48;2;39;40;34mreturn\u001b[0m\u001b[38;2;248;248;242;48;2;39;40;34m \u001b[0m\u001b[38;2;248;248;242;48;2;39;40;34mself\u001b[0m\u001b[38;2;255;70;137;48;2;39;40;34m.\u001b[0m\u001b[38;2;248;248;242;48;2;39;40;34mgenerate_response\u001b[0m\u001b[38;2;248;248;242;48;2;39;40;34m(\u001b[0m\u001b[38;2;248;248;242;48;2;39;40;34mquery\u001b[0m\u001b[38;2;248;248;242;48;2;39;40;34m,\u001b[0m\u001b[38;2;248;248;242;48;2;39;40;34m \u001b[0m\u001b[38;2;248;248;242;48;2;39;40;34mcontext\u001b[0m\u001b[38;2;248;248;242;48;2;39;40;34m)\u001b[0m\u001b[48;2;39;40;34m                                                         \u001b[0m\n",
       "\u001b[1;38;2;227;227;221;48;2;39;40;34m  \u001b[0m\u001b[38;2;101;102;96;48;2;39;40;34m94 \u001b[0m\u001b[48;2;39;40;34m                                                                                                              \u001b[0m\n"
      ]
     },
     "metadata": {},
     "output_type": "display_data"
    }
   ],
   "source": [
    "from scripts.response_generator import SimpleResponseGenerator\n",
    "\n",
    "display_source(SimpleResponseGenerator)"
   ]
  },
  {
   "cell_type": "markdown",
   "metadata": {},
   "source": [
    "Below is the system prompt. Consider this to be set of instructions on what to do with the user question and the retrieved contexts. In practice, the system prompt can be very detailed and involved (depending on the usecase) but we are showing a simple prompt. Later we will iterate on it and show how improving the system prompt improves the quality of the generated response."
   ]
  },
  {
   "cell_type": "code",
   "execution_count": 24,
   "metadata": {},
   "outputs": [
    {
     "data": {
      "text/html": [
       "<pre style=\"white-space:pre;overflow-x:auto;line-height:normal;font-family:Menlo,'DejaVu Sans Mono',consolas,'Courier New',monospace\">Answer to the following question about W&amp;B. Provide an helful and complete answer based only on the provided \n",
       "documents.\n",
       "\n",
       "</pre>\n"
      ],
      "text/plain": [
       "Answer to the following question about W&B. Provide an helful and complete answer based only on the provided \n",
       "documents.\n",
       "\n"
      ]
     },
     "metadata": {},
     "output_type": "display_data"
    }
   ],
   "source": [
    "INITIAL_PROMPT = open(\"prompts/initial_system.txt\", \"r\").read()\n",
    "print(INITIAL_PROMPT)"
   ]
  },
  {
   "cell_type": "markdown",
   "metadata": {},
   "source": [
    "Let's generate the response for the question \"How do I use Weights & Biases to log metrics in my training script?\". We have already retrieved the context in the previous section and passing both the question and the context to the `generate_response` method."
   ]
  },
  {
   "cell_type": "code",
   "execution_count": 26,
   "metadata": {},
   "outputs": [
    {
     "name": "stdout",
     "output_type": "stream",
     "text": [
      "🍩 https://wandb.ai/elshehawy/rag-course/r/call/0192cfa9-7dcd-7092-ae99-8d501122ef3c\n"
     ]
    },
    {
     "data": {
      "text/html": [
       "<pre style=\"white-space:pre;overflow-x:auto;line-height:normal;font-family:Menlo,'DejaVu Sans Mono',consolas,'Courier New',monospace\">You can use the W&amp;B API in your training script by doing the following:\n",
       "<span style=\"color: #008080; text-decoration-color: #008080; font-weight: bold\">1</span>. Import the necessary modules, including `Tabs` and `TabItem`, into your training script.\n",
       "<span style=\"color: #008080; text-decoration-color: #008080; font-weight: bold\">2</span>. Call `<span style=\"color: #800080; text-decoration-color: #800080; font-weight: bold\">wandb.init</span><span style=\"font-weight: bold\">()</span>` at the beginning of your script. This creates a run object on W&amp;B servers and starts a \n",
       "separate process to stream and collect metrics.\n",
       "<span style=\"color: #008080; text-decoration-color: #008080; font-weight: bold\">3</span>. Write your script as normal. When you want to log metrics, call `<span style=\"color: #800080; text-decoration-color: #800080; font-weight: bold\">wandb.log</span><span style=\"font-weight: bold\">()</span>` with the metrics you want to log \n",
       "as keys and their values. For example, `<span style=\"color: #800080; text-decoration-color: #800080; font-weight: bold\">wandb.log</span><span style=\"font-weight: bold\">({</span><span style=\"color: #008000; text-decoration-color: #008000\">\"epoch\"</span>: epoch, <span style=\"color: #008000; text-decoration-color: #008000\">\"val_acc\"</span>: <span style=\"color: #008080; text-decoration-color: #008080; font-weight: bold\">0.94</span><span style=\"font-weight: bold\">})</span>`.\n",
       "<span style=\"color: #008080; text-decoration-color: #008080; font-weight: bold\">4</span>. If you want to turn off streaming to W&amp;B servers, run `wandb off` in your training directory or set the \n",
       "`WANDB_MODE` environment variable to `offline`.\n",
       "</pre>\n"
      ],
      "text/plain": [
       "You can use the W&B API in your training script by doing the following:\n",
       "\u001b[1;36m1\u001b[0m. Import the necessary modules, including `Tabs` and `TabItem`, into your training script.\n",
       "\u001b[1;36m2\u001b[0m. Call `\u001b[1;35mwandb.init\u001b[0m\u001b[1m(\u001b[0m\u001b[1m)\u001b[0m` at the beginning of your script. This creates a run object on W&B servers and starts a \n",
       "separate process to stream and collect metrics.\n",
       "\u001b[1;36m3\u001b[0m. Write your script as normal. When you want to log metrics, call `\u001b[1;35mwandb.log\u001b[0m\u001b[1m(\u001b[0m\u001b[1m)\u001b[0m` with the metrics you want to log \n",
       "as keys and their values. For example, `\u001b[1;35mwandb.log\u001b[0m\u001b[1m(\u001b[0m\u001b[1m{\u001b[0m\u001b[32m\"epoch\"\u001b[0m: epoch, \u001b[32m\"val_acc\"\u001b[0m: \u001b[1;36m0.94\u001b[0m\u001b[1m}\u001b[0m\u001b[1m)\u001b[0m`.\n",
       "\u001b[1;36m4\u001b[0m. If you want to turn off streaming to W&B servers, run `wandb off` in your training directory or set the \n",
       "`WANDB_MODE` environment variable to `offline`.\n"
      ]
     },
     "metadata": {},
     "output_type": "display_data"
    }
   ],
   "source": [
    "response_generator = SimpleResponseGenerator(model=\"command-r\", prompt=INITIAL_PROMPT)\n",
    "answer = response_generator.generate_response(query, search_results)\n",
    "print(answer)"
   ]
  },
  {
   "cell_type": "markdown",
   "metadata": {},
   "source": [
    "## Simple Retrieval Augmented Generation (RAG) Pipeline\n",
    "\n",
    "Finally, we will bring everything together. As stated earlier, a RAG pipeline primarily consists of a retriever and a response generator.\n",
    "\n",
    "We define a class `SimpleRAGPipeline` which combines the steps of retrieval and response generation.\n",
    "\n",
    "We'll define a `predict` method that takes the user query, retrieves relevant context using the retriever and finally synthesizes a response using the response generator.\n",
    "\n",
    "We'll also define a few convinence methods to format the documents retrieved from the retriever and create a system prompt for the response generator."
   ]
  },
  {
   "cell_type": "code",
   "execution_count": 27,
   "metadata": {},
   "outputs": [
    {
     "data": {
      "text/html": [
       "<pre style=\"white-space:pre;overflow-x:auto;line-height:normal;font-family:Menlo,'DejaVu Sans Mono',consolas,'Courier New',monospace\"><span style=\"color: #e3e3dd; text-decoration-color: #e3e3dd; background-color: #272822; font-weight: bold\">  </span><span style=\"color: #656660; text-decoration-color: #656660; background-color: #272822\"> 1 </span><span style=\"color: #66d9ef; text-decoration-color: #66d9ef; background-color: #272822\">class</span><span style=\"color: #f8f8f2; text-decoration-color: #f8f8f2; background-color: #272822\"> </span><span style=\"color: #a6e22e; text-decoration-color: #a6e22e; background-color: #272822\">SimpleRAGPipeline</span><span style=\"color: #f8f8f2; text-decoration-color: #f8f8f2; background-color: #272822\">(weave</span><span style=\"color: #ff4689; text-decoration-color: #ff4689; background-color: #272822\">.</span><span style=\"color: #f8f8f2; text-decoration-color: #f8f8f2; background-color: #272822\">Model):</span><span style=\"background-color: #272822\">                                                                         </span>\n",
       "<span style=\"color: #e3e3dd; text-decoration-color: #e3e3dd; background-color: #272822; font-weight: bold\">  </span><span style=\"color: #656660; text-decoration-color: #656660; background-color: #272822\"> 2 </span><span style=\"color: #f8f8f2; text-decoration-color: #f8f8f2; background-color: #272822\">    </span><span style=\"color: #e6db74; text-decoration-color: #e6db74; background-color: #272822\">\"\"\"</span><span style=\"background-color: #272822\">                                                                                                       </span>\n",
       "<span style=\"color: #e3e3dd; text-decoration-color: #e3e3dd; background-color: #272822; font-weight: bold\">  </span><span style=\"color: #656660; text-decoration-color: #656660; background-color: #272822\"> 3 </span><span style=\"color: #e6db74; text-decoration-color: #e6db74; background-color: #272822\">    A simple RAG (Retrieval-Augmented Generation) pipeline.</span><span style=\"background-color: #272822\">                                                   </span>\n",
       "<span style=\"color: #e3e3dd; text-decoration-color: #e3e3dd; background-color: #272822; font-weight: bold\">  </span><span style=\"color: #656660; text-decoration-color: #656660; background-color: #272822\"> 4 </span><span style=\"background-color: #272822\">                                                                                                              </span>\n",
       "<span style=\"color: #e3e3dd; text-decoration-color: #e3e3dd; background-color: #272822; font-weight: bold\">  </span><span style=\"color: #656660; text-decoration-color: #656660; background-color: #272822\"> 5 </span><span style=\"color: #e6db74; text-decoration-color: #e6db74; background-color: #272822\">    Attributes:</span><span style=\"background-color: #272822\">                                                                                               </span>\n",
       "<span style=\"color: #e3e3dd; text-decoration-color: #e3e3dd; background-color: #272822; font-weight: bold\">  </span><span style=\"color: #656660; text-decoration-color: #656660; background-color: #272822\"> 6 </span><span style=\"color: #e6db74; text-decoration-color: #e6db74; background-color: #272822\">        retriever (weave.Model): The model used for retrieving relevant documents.</span><span style=\"background-color: #272822\">                            </span>\n",
       "<span style=\"color: #e3e3dd; text-decoration-color: #e3e3dd; background-color: #272822; font-weight: bold\">  </span><span style=\"color: #656660; text-decoration-color: #656660; background-color: #272822\"> 7 </span><span style=\"color: #e6db74; text-decoration-color: #e6db74; background-color: #272822\">        response_generator (weave.Model): The model used for generating responses.</span><span style=\"background-color: #272822\">                            </span>\n",
       "<span style=\"color: #e3e3dd; text-decoration-color: #e3e3dd; background-color: #272822; font-weight: bold\">  </span><span style=\"color: #656660; text-decoration-color: #656660; background-color: #272822\"> 8 </span><span style=\"color: #e6db74; text-decoration-color: #e6db74; background-color: #272822\">        top_k (int): The number of top documents to retrieve.</span><span style=\"background-color: #272822\">                                                 </span>\n",
       "<span style=\"color: #e3e3dd; text-decoration-color: #e3e3dd; background-color: #272822; font-weight: bold\">  </span><span style=\"color: #656660; text-decoration-color: #656660; background-color: #272822\"> 9 </span><span style=\"color: #e6db74; text-decoration-color: #e6db74; background-color: #272822\">    \"\"\"</span><span style=\"background-color: #272822\">                                                                                                       </span>\n",
       "<span style=\"color: #e3e3dd; text-decoration-color: #e3e3dd; background-color: #272822; font-weight: bold\">  </span><span style=\"color: #656660; text-decoration-color: #656660; background-color: #272822\">10 </span><span style=\"background-color: #272822\">                                                                                                              </span>\n",
       "<span style=\"color: #e3e3dd; text-decoration-color: #e3e3dd; background-color: #272822; font-weight: bold\">  </span><span style=\"color: #656660; text-decoration-color: #656660; background-color: #272822\">11 </span><span style=\"color: #f8f8f2; text-decoration-color: #f8f8f2; background-color: #272822\">    retriever: weave</span><span style=\"color: #ff4689; text-decoration-color: #ff4689; background-color: #272822\">.</span><span style=\"color: #f8f8f2; text-decoration-color: #f8f8f2; background-color: #272822\">Model </span><span style=\"color: #ff4689; text-decoration-color: #ff4689; background-color: #272822\">=</span><span style=\"color: #f8f8f2; text-decoration-color: #f8f8f2; background-color: #272822\"> </span><span style=\"color: #66d9ef; text-decoration-color: #66d9ef; background-color: #272822\">None</span><span style=\"background-color: #272822\">                                                                             </span>\n",
       "<span style=\"color: #e3e3dd; text-decoration-color: #e3e3dd; background-color: #272822; font-weight: bold\">  </span><span style=\"color: #656660; text-decoration-color: #656660; background-color: #272822\">12 </span><span style=\"color: #f8f8f2; text-decoration-color: #f8f8f2; background-color: #272822\">    response_generator: weave</span><span style=\"color: #ff4689; text-decoration-color: #ff4689; background-color: #272822\">.</span><span style=\"color: #f8f8f2; text-decoration-color: #f8f8f2; background-color: #272822\">Model </span><span style=\"color: #ff4689; text-decoration-color: #ff4689; background-color: #272822\">=</span><span style=\"color: #f8f8f2; text-decoration-color: #f8f8f2; background-color: #272822\"> </span><span style=\"color: #66d9ef; text-decoration-color: #66d9ef; background-color: #272822\">None</span><span style=\"background-color: #272822\">                                                                    </span>\n",
       "<span style=\"color: #e3e3dd; text-decoration-color: #e3e3dd; background-color: #272822; font-weight: bold\">  </span><span style=\"color: #656660; text-decoration-color: #656660; background-color: #272822\">13 </span><span style=\"color: #f8f8f2; text-decoration-color: #f8f8f2; background-color: #272822\">    top_k: int </span><span style=\"color: #ff4689; text-decoration-color: #ff4689; background-color: #272822\">=</span><span style=\"color: #f8f8f2; text-decoration-color: #f8f8f2; background-color: #272822\"> </span><span style=\"color: #ae81ff; text-decoration-color: #ae81ff; background-color: #272822\">5</span><span style=\"background-color: #272822\">                                                                                            </span>\n",
       "<span style=\"color: #e3e3dd; text-decoration-color: #e3e3dd; background-color: #272822; font-weight: bold\">  </span><span style=\"color: #656660; text-decoration-color: #656660; background-color: #272822\">14 </span><span style=\"background-color: #272822\">                                                                                                              </span>\n",
       "<span style=\"color: #e3e3dd; text-decoration-color: #e3e3dd; background-color: #272822; font-weight: bold\">  </span><span style=\"color: #656660; text-decoration-color: #656660; background-color: #272822\">15 </span><span style=\"color: #f8f8f2; text-decoration-color: #f8f8f2; background-color: #272822\">    </span><span style=\"color: #a6e22e; text-decoration-color: #a6e22e; background-color: #272822\">@weave</span><span style=\"color: #ff4689; text-decoration-color: #ff4689; background-color: #272822\">.</span><span style=\"color: #f8f8f2; text-decoration-color: #f8f8f2; background-color: #272822\">op()</span><span style=\"background-color: #272822\">                                                                                               </span>\n",
       "<span style=\"color: #e3e3dd; text-decoration-color: #e3e3dd; background-color: #272822; font-weight: bold\">  </span><span style=\"color: #656660; text-decoration-color: #656660; background-color: #272822\">16 </span><span style=\"color: #f8f8f2; text-decoration-color: #f8f8f2; background-color: #272822\">    </span><span style=\"color: #66d9ef; text-decoration-color: #66d9ef; background-color: #272822\">def</span><span style=\"color: #f8f8f2; text-decoration-color: #f8f8f2; background-color: #272822\"> </span><span style=\"color: #a6e22e; text-decoration-color: #a6e22e; background-color: #272822\">predict</span><span style=\"color: #f8f8f2; text-decoration-color: #f8f8f2; background-color: #272822\">(self, query: str):</span><span style=\"background-color: #272822\">                                                                            </span>\n",
       "<span style=\"color: #e3e3dd; text-decoration-color: #e3e3dd; background-color: #272822; font-weight: bold\">  </span><span style=\"color: #656660; text-decoration-color: #656660; background-color: #272822\">17 </span><span style=\"color: #f8f8f2; text-decoration-color: #f8f8f2; background-color: #272822\">        </span><span style=\"color: #e6db74; text-decoration-color: #e6db74; background-color: #272822\">\"\"\"</span><span style=\"background-color: #272822\">                                                                                                   </span>\n",
       "<span style=\"color: #e3e3dd; text-decoration-color: #e3e3dd; background-color: #272822; font-weight: bold\">  </span><span style=\"color: #656660; text-decoration-color: #656660; background-color: #272822\">18 </span><span style=\"color: #e6db74; text-decoration-color: #e6db74; background-color: #272822\">        Predicts a response based on the input query.</span><span style=\"background-color: #272822\">                                                         </span>\n",
       "<span style=\"color: #e3e3dd; text-decoration-color: #e3e3dd; background-color: #272822; font-weight: bold\">  </span><span style=\"color: #656660; text-decoration-color: #656660; background-color: #272822\">19 </span><span style=\"background-color: #272822\">                                                                                                              </span>\n",
       "<span style=\"color: #e3e3dd; text-decoration-color: #e3e3dd; background-color: #272822; font-weight: bold\">  </span><span style=\"color: #656660; text-decoration-color: #656660; background-color: #272822\">20 </span><span style=\"color: #e6db74; text-decoration-color: #e6db74; background-color: #272822\">        Args:</span><span style=\"background-color: #272822\">                                                                                                 </span>\n",
       "<span style=\"color: #e3e3dd; text-decoration-color: #e3e3dd; background-color: #272822; font-weight: bold\">  </span><span style=\"color: #656660; text-decoration-color: #656660; background-color: #272822\">21 </span><span style=\"color: #e6db74; text-decoration-color: #e6db74; background-color: #272822\">            query (str): The input query string.</span><span style=\"background-color: #272822\">                                                              </span>\n",
       "<span style=\"color: #e3e3dd; text-decoration-color: #e3e3dd; background-color: #272822; font-weight: bold\">  </span><span style=\"color: #656660; text-decoration-color: #656660; background-color: #272822\">22 </span><span style=\"background-color: #272822\">                                                                                                              </span>\n",
       "<span style=\"color: #e3e3dd; text-decoration-color: #e3e3dd; background-color: #272822; font-weight: bold\">  </span><span style=\"color: #656660; text-decoration-color: #656660; background-color: #272822\">23 </span><span style=\"color: #e6db74; text-decoration-color: #e6db74; background-color: #272822\">        Returns:</span><span style=\"background-color: #272822\">                                                                                              </span>\n",
       "<span style=\"color: #e3e3dd; text-decoration-color: #e3e3dd; background-color: #272822; font-weight: bold\">  </span><span style=\"color: #656660; text-decoration-color: #656660; background-color: #272822\">24 </span><span style=\"color: #e6db74; text-decoration-color: #e6db74; background-color: #272822\">            The generated response based on the retrieved context.</span><span style=\"background-color: #272822\">                                            </span>\n",
       "<span style=\"color: #e3e3dd; text-decoration-color: #e3e3dd; background-color: #272822; font-weight: bold\">  </span><span style=\"color: #656660; text-decoration-color: #656660; background-color: #272822\">25 </span><span style=\"color: #e6db74; text-decoration-color: #e6db74; background-color: #272822\">        \"\"\"</span><span style=\"background-color: #272822\">                                                                                                   </span>\n",
       "<span style=\"color: #e3e3dd; text-decoration-color: #e3e3dd; background-color: #272822; font-weight: bold\">  </span><span style=\"color: #656660; text-decoration-color: #656660; background-color: #272822\">26 </span><span style=\"color: #f8f8f2; text-decoration-color: #f8f8f2; background-color: #272822\">        context </span><span style=\"color: #ff4689; text-decoration-color: #ff4689; background-color: #272822\">=</span><span style=\"color: #f8f8f2; text-decoration-color: #f8f8f2; background-color: #272822\"> self</span><span style=\"color: #ff4689; text-decoration-color: #ff4689; background-color: #272822\">.</span><span style=\"color: #f8f8f2; text-decoration-color: #f8f8f2; background-color: #272822\">retriever</span><span style=\"color: #ff4689; text-decoration-color: #ff4689; background-color: #272822\">.</span><span style=\"color: #f8f8f2; text-decoration-color: #f8f8f2; background-color: #272822\">predict(query, self</span><span style=\"color: #ff4689; text-decoration-color: #ff4689; background-color: #272822\">.</span><span style=\"color: #f8f8f2; text-decoration-color: #f8f8f2; background-color: #272822\">top_k)</span><span style=\"background-color: #272822\">                                                   </span>\n",
       "<span style=\"color: #e3e3dd; text-decoration-color: #e3e3dd; background-color: #272822; font-weight: bold\">  </span><span style=\"color: #656660; text-decoration-color: #656660; background-color: #272822\">27 </span><span style=\"color: #f8f8f2; text-decoration-color: #f8f8f2; background-color: #272822\">        </span><span style=\"color: #66d9ef; text-decoration-color: #66d9ef; background-color: #272822\">return</span><span style=\"color: #f8f8f2; text-decoration-color: #f8f8f2; background-color: #272822\"> self</span><span style=\"color: #ff4689; text-decoration-color: #ff4689; background-color: #272822\">.</span><span style=\"color: #f8f8f2; text-decoration-color: #f8f8f2; background-color: #272822\">response_generator</span><span style=\"color: #ff4689; text-decoration-color: #ff4689; background-color: #272822\">.</span><span style=\"color: #f8f8f2; text-decoration-color: #f8f8f2; background-color: #272822\">predict(query, context)</span><span style=\"background-color: #272822\">                                                </span>\n",
       "<span style=\"color: #e3e3dd; text-decoration-color: #e3e3dd; background-color: #272822; font-weight: bold\">  </span><span style=\"color: #656660; text-decoration-color: #656660; background-color: #272822\">28 </span><span style=\"background-color: #272822\">                                                                                                              </span>\n",
       "</pre>\n"
      ],
      "text/plain": [
       "\u001b[1;38;2;227;227;221;48;2;39;40;34m  \u001b[0m\u001b[38;2;101;102;96;48;2;39;40;34m 1 \u001b[0m\u001b[38;2;102;217;239;48;2;39;40;34mclass\u001b[0m\u001b[38;2;248;248;242;48;2;39;40;34m \u001b[0m\u001b[38;2;166;226;46;48;2;39;40;34mSimpleRAGPipeline\u001b[0m\u001b[38;2;248;248;242;48;2;39;40;34m(\u001b[0m\u001b[38;2;248;248;242;48;2;39;40;34mweave\u001b[0m\u001b[38;2;255;70;137;48;2;39;40;34m.\u001b[0m\u001b[38;2;248;248;242;48;2;39;40;34mModel\u001b[0m\u001b[38;2;248;248;242;48;2;39;40;34m)\u001b[0m\u001b[38;2;248;248;242;48;2;39;40;34m:\u001b[0m\u001b[48;2;39;40;34m                                                                         \u001b[0m\n",
       "\u001b[1;38;2;227;227;221;48;2;39;40;34m  \u001b[0m\u001b[38;2;101;102;96;48;2;39;40;34m 2 \u001b[0m\u001b[38;2;248;248;242;48;2;39;40;34m    \u001b[0m\u001b[38;2;230;219;116;48;2;39;40;34m\"\"\"\u001b[0m\u001b[48;2;39;40;34m                                                                                                       \u001b[0m\n",
       "\u001b[1;38;2;227;227;221;48;2;39;40;34m  \u001b[0m\u001b[38;2;101;102;96;48;2;39;40;34m 3 \u001b[0m\u001b[38;2;230;219;116;48;2;39;40;34m    A simple RAG (Retrieval-Augmented Generation) pipeline.\u001b[0m\u001b[48;2;39;40;34m                                                   \u001b[0m\n",
       "\u001b[1;38;2;227;227;221;48;2;39;40;34m  \u001b[0m\u001b[38;2;101;102;96;48;2;39;40;34m 4 \u001b[0m\u001b[48;2;39;40;34m                                                                                                              \u001b[0m\n",
       "\u001b[1;38;2;227;227;221;48;2;39;40;34m  \u001b[0m\u001b[38;2;101;102;96;48;2;39;40;34m 5 \u001b[0m\u001b[38;2;230;219;116;48;2;39;40;34m    Attributes:\u001b[0m\u001b[48;2;39;40;34m                                                                                               \u001b[0m\n",
       "\u001b[1;38;2;227;227;221;48;2;39;40;34m  \u001b[0m\u001b[38;2;101;102;96;48;2;39;40;34m 6 \u001b[0m\u001b[38;2;230;219;116;48;2;39;40;34m        retriever (weave.Model): The model used for retrieving relevant documents.\u001b[0m\u001b[48;2;39;40;34m                            \u001b[0m\n",
       "\u001b[1;38;2;227;227;221;48;2;39;40;34m  \u001b[0m\u001b[38;2;101;102;96;48;2;39;40;34m 7 \u001b[0m\u001b[38;2;230;219;116;48;2;39;40;34m        response_generator (weave.Model): The model used for generating responses.\u001b[0m\u001b[48;2;39;40;34m                            \u001b[0m\n",
       "\u001b[1;38;2;227;227;221;48;2;39;40;34m  \u001b[0m\u001b[38;2;101;102;96;48;2;39;40;34m 8 \u001b[0m\u001b[38;2;230;219;116;48;2;39;40;34m        top_k (int): The number of top documents to retrieve.\u001b[0m\u001b[48;2;39;40;34m                                                 \u001b[0m\n",
       "\u001b[1;38;2;227;227;221;48;2;39;40;34m  \u001b[0m\u001b[38;2;101;102;96;48;2;39;40;34m 9 \u001b[0m\u001b[38;2;230;219;116;48;2;39;40;34m    \"\"\"\u001b[0m\u001b[48;2;39;40;34m                                                                                                       \u001b[0m\n",
       "\u001b[1;38;2;227;227;221;48;2;39;40;34m  \u001b[0m\u001b[38;2;101;102;96;48;2;39;40;34m10 \u001b[0m\u001b[48;2;39;40;34m                                                                                                              \u001b[0m\n",
       "\u001b[1;38;2;227;227;221;48;2;39;40;34m  \u001b[0m\u001b[38;2;101;102;96;48;2;39;40;34m11 \u001b[0m\u001b[38;2;248;248;242;48;2;39;40;34m    \u001b[0m\u001b[38;2;248;248;242;48;2;39;40;34mretriever\u001b[0m\u001b[38;2;248;248;242;48;2;39;40;34m:\u001b[0m\u001b[38;2;248;248;242;48;2;39;40;34m \u001b[0m\u001b[38;2;248;248;242;48;2;39;40;34mweave\u001b[0m\u001b[38;2;255;70;137;48;2;39;40;34m.\u001b[0m\u001b[38;2;248;248;242;48;2;39;40;34mModel\u001b[0m\u001b[38;2;248;248;242;48;2;39;40;34m \u001b[0m\u001b[38;2;255;70;137;48;2;39;40;34m=\u001b[0m\u001b[38;2;248;248;242;48;2;39;40;34m \u001b[0m\u001b[38;2;102;217;239;48;2;39;40;34mNone\u001b[0m\u001b[48;2;39;40;34m                                                                             \u001b[0m\n",
       "\u001b[1;38;2;227;227;221;48;2;39;40;34m  \u001b[0m\u001b[38;2;101;102;96;48;2;39;40;34m12 \u001b[0m\u001b[38;2;248;248;242;48;2;39;40;34m    \u001b[0m\u001b[38;2;248;248;242;48;2;39;40;34mresponse_generator\u001b[0m\u001b[38;2;248;248;242;48;2;39;40;34m:\u001b[0m\u001b[38;2;248;248;242;48;2;39;40;34m \u001b[0m\u001b[38;2;248;248;242;48;2;39;40;34mweave\u001b[0m\u001b[38;2;255;70;137;48;2;39;40;34m.\u001b[0m\u001b[38;2;248;248;242;48;2;39;40;34mModel\u001b[0m\u001b[38;2;248;248;242;48;2;39;40;34m \u001b[0m\u001b[38;2;255;70;137;48;2;39;40;34m=\u001b[0m\u001b[38;2;248;248;242;48;2;39;40;34m \u001b[0m\u001b[38;2;102;217;239;48;2;39;40;34mNone\u001b[0m\u001b[48;2;39;40;34m                                                                    \u001b[0m\n",
       "\u001b[1;38;2;227;227;221;48;2;39;40;34m  \u001b[0m\u001b[38;2;101;102;96;48;2;39;40;34m13 \u001b[0m\u001b[38;2;248;248;242;48;2;39;40;34m    \u001b[0m\u001b[38;2;248;248;242;48;2;39;40;34mtop_k\u001b[0m\u001b[38;2;248;248;242;48;2;39;40;34m:\u001b[0m\u001b[38;2;248;248;242;48;2;39;40;34m \u001b[0m\u001b[38;2;248;248;242;48;2;39;40;34mint\u001b[0m\u001b[38;2;248;248;242;48;2;39;40;34m \u001b[0m\u001b[38;2;255;70;137;48;2;39;40;34m=\u001b[0m\u001b[38;2;248;248;242;48;2;39;40;34m \u001b[0m\u001b[38;2;174;129;255;48;2;39;40;34m5\u001b[0m\u001b[48;2;39;40;34m                                                                                            \u001b[0m\n",
       "\u001b[1;38;2;227;227;221;48;2;39;40;34m  \u001b[0m\u001b[38;2;101;102;96;48;2;39;40;34m14 \u001b[0m\u001b[48;2;39;40;34m                                                                                                              \u001b[0m\n",
       "\u001b[1;38;2;227;227;221;48;2;39;40;34m  \u001b[0m\u001b[38;2;101;102;96;48;2;39;40;34m15 \u001b[0m\u001b[38;2;248;248;242;48;2;39;40;34m    \u001b[0m\u001b[38;2;166;226;46;48;2;39;40;34m@weave\u001b[0m\u001b[38;2;255;70;137;48;2;39;40;34m.\u001b[0m\u001b[38;2;248;248;242;48;2;39;40;34mop\u001b[0m\u001b[38;2;248;248;242;48;2;39;40;34m(\u001b[0m\u001b[38;2;248;248;242;48;2;39;40;34m)\u001b[0m\u001b[48;2;39;40;34m                                                                                               \u001b[0m\n",
       "\u001b[1;38;2;227;227;221;48;2;39;40;34m  \u001b[0m\u001b[38;2;101;102;96;48;2;39;40;34m16 \u001b[0m\u001b[38;2;248;248;242;48;2;39;40;34m    \u001b[0m\u001b[38;2;102;217;239;48;2;39;40;34mdef\u001b[0m\u001b[38;2;248;248;242;48;2;39;40;34m \u001b[0m\u001b[38;2;166;226;46;48;2;39;40;34mpredict\u001b[0m\u001b[38;2;248;248;242;48;2;39;40;34m(\u001b[0m\u001b[38;2;248;248;242;48;2;39;40;34mself\u001b[0m\u001b[38;2;248;248;242;48;2;39;40;34m,\u001b[0m\u001b[38;2;248;248;242;48;2;39;40;34m \u001b[0m\u001b[38;2;248;248;242;48;2;39;40;34mquery\u001b[0m\u001b[38;2;248;248;242;48;2;39;40;34m:\u001b[0m\u001b[38;2;248;248;242;48;2;39;40;34m \u001b[0m\u001b[38;2;248;248;242;48;2;39;40;34mstr\u001b[0m\u001b[38;2;248;248;242;48;2;39;40;34m)\u001b[0m\u001b[38;2;248;248;242;48;2;39;40;34m:\u001b[0m\u001b[48;2;39;40;34m                                                                            \u001b[0m\n",
       "\u001b[1;38;2;227;227;221;48;2;39;40;34m  \u001b[0m\u001b[38;2;101;102;96;48;2;39;40;34m17 \u001b[0m\u001b[38;2;248;248;242;48;2;39;40;34m        \u001b[0m\u001b[38;2;230;219;116;48;2;39;40;34m\"\"\"\u001b[0m\u001b[48;2;39;40;34m                                                                                                   \u001b[0m\n",
       "\u001b[1;38;2;227;227;221;48;2;39;40;34m  \u001b[0m\u001b[38;2;101;102;96;48;2;39;40;34m18 \u001b[0m\u001b[38;2;230;219;116;48;2;39;40;34m        Predicts a response based on the input query.\u001b[0m\u001b[48;2;39;40;34m                                                         \u001b[0m\n",
       "\u001b[1;38;2;227;227;221;48;2;39;40;34m  \u001b[0m\u001b[38;2;101;102;96;48;2;39;40;34m19 \u001b[0m\u001b[48;2;39;40;34m                                                                                                              \u001b[0m\n",
       "\u001b[1;38;2;227;227;221;48;2;39;40;34m  \u001b[0m\u001b[38;2;101;102;96;48;2;39;40;34m20 \u001b[0m\u001b[38;2;230;219;116;48;2;39;40;34m        Args:\u001b[0m\u001b[48;2;39;40;34m                                                                                                 \u001b[0m\n",
       "\u001b[1;38;2;227;227;221;48;2;39;40;34m  \u001b[0m\u001b[38;2;101;102;96;48;2;39;40;34m21 \u001b[0m\u001b[38;2;230;219;116;48;2;39;40;34m            query (str): The input query string.\u001b[0m\u001b[48;2;39;40;34m                                                              \u001b[0m\n",
       "\u001b[1;38;2;227;227;221;48;2;39;40;34m  \u001b[0m\u001b[38;2;101;102;96;48;2;39;40;34m22 \u001b[0m\u001b[48;2;39;40;34m                                                                                                              \u001b[0m\n",
       "\u001b[1;38;2;227;227;221;48;2;39;40;34m  \u001b[0m\u001b[38;2;101;102;96;48;2;39;40;34m23 \u001b[0m\u001b[38;2;230;219;116;48;2;39;40;34m        Returns:\u001b[0m\u001b[48;2;39;40;34m                                                                                              \u001b[0m\n",
       "\u001b[1;38;2;227;227;221;48;2;39;40;34m  \u001b[0m\u001b[38;2;101;102;96;48;2;39;40;34m24 \u001b[0m\u001b[38;2;230;219;116;48;2;39;40;34m            The generated response based on the retrieved context.\u001b[0m\u001b[48;2;39;40;34m                                            \u001b[0m\n",
       "\u001b[1;38;2;227;227;221;48;2;39;40;34m  \u001b[0m\u001b[38;2;101;102;96;48;2;39;40;34m25 \u001b[0m\u001b[38;2;230;219;116;48;2;39;40;34m        \"\"\"\u001b[0m\u001b[48;2;39;40;34m                                                                                                   \u001b[0m\n",
       "\u001b[1;38;2;227;227;221;48;2;39;40;34m  \u001b[0m\u001b[38;2;101;102;96;48;2;39;40;34m26 \u001b[0m\u001b[38;2;248;248;242;48;2;39;40;34m        \u001b[0m\u001b[38;2;248;248;242;48;2;39;40;34mcontext\u001b[0m\u001b[38;2;248;248;242;48;2;39;40;34m \u001b[0m\u001b[38;2;255;70;137;48;2;39;40;34m=\u001b[0m\u001b[38;2;248;248;242;48;2;39;40;34m \u001b[0m\u001b[38;2;248;248;242;48;2;39;40;34mself\u001b[0m\u001b[38;2;255;70;137;48;2;39;40;34m.\u001b[0m\u001b[38;2;248;248;242;48;2;39;40;34mretriever\u001b[0m\u001b[38;2;255;70;137;48;2;39;40;34m.\u001b[0m\u001b[38;2;248;248;242;48;2;39;40;34mpredict\u001b[0m\u001b[38;2;248;248;242;48;2;39;40;34m(\u001b[0m\u001b[38;2;248;248;242;48;2;39;40;34mquery\u001b[0m\u001b[38;2;248;248;242;48;2;39;40;34m,\u001b[0m\u001b[38;2;248;248;242;48;2;39;40;34m \u001b[0m\u001b[38;2;248;248;242;48;2;39;40;34mself\u001b[0m\u001b[38;2;255;70;137;48;2;39;40;34m.\u001b[0m\u001b[38;2;248;248;242;48;2;39;40;34mtop_k\u001b[0m\u001b[38;2;248;248;242;48;2;39;40;34m)\u001b[0m\u001b[48;2;39;40;34m                                                   \u001b[0m\n",
       "\u001b[1;38;2;227;227;221;48;2;39;40;34m  \u001b[0m\u001b[38;2;101;102;96;48;2;39;40;34m27 \u001b[0m\u001b[38;2;248;248;242;48;2;39;40;34m        \u001b[0m\u001b[38;2;102;217;239;48;2;39;40;34mreturn\u001b[0m\u001b[38;2;248;248;242;48;2;39;40;34m \u001b[0m\u001b[38;2;248;248;242;48;2;39;40;34mself\u001b[0m\u001b[38;2;255;70;137;48;2;39;40;34m.\u001b[0m\u001b[38;2;248;248;242;48;2;39;40;34mresponse_generator\u001b[0m\u001b[38;2;255;70;137;48;2;39;40;34m.\u001b[0m\u001b[38;2;248;248;242;48;2;39;40;34mpredict\u001b[0m\u001b[38;2;248;248;242;48;2;39;40;34m(\u001b[0m\u001b[38;2;248;248;242;48;2;39;40;34mquery\u001b[0m\u001b[38;2;248;248;242;48;2;39;40;34m,\u001b[0m\u001b[38;2;248;248;242;48;2;39;40;34m \u001b[0m\u001b[38;2;248;248;242;48;2;39;40;34mcontext\u001b[0m\u001b[38;2;248;248;242;48;2;39;40;34m)\u001b[0m\u001b[48;2;39;40;34m                                                \u001b[0m\n",
       "\u001b[1;38;2;227;227;221;48;2;39;40;34m  \u001b[0m\u001b[38;2;101;102;96;48;2;39;40;34m28 \u001b[0m\u001b[48;2;39;40;34m                                                                                                              \u001b[0m\n"
      ]
     },
     "metadata": {},
     "output_type": "display_data"
    }
   ],
   "source": [
    "from scripts.rag_pipeline import SimpleRAGPipeline\n",
    "\n",
    "display_source(SimpleRAGPipeline)"
   ]
  },
  {
   "cell_type": "markdown",
   "metadata": {},
   "source": [
    "Let us initialize the `RAGPipeline`."
   ]
  },
  {
   "cell_type": "code",
   "execution_count": 28,
   "metadata": {},
   "outputs": [],
   "source": [
    "# Initialize the response generator\n",
    "response_generator = SimpleResponseGenerator(model=\"command-r\", prompt=INITIAL_PROMPT)\n",
    "\n",
    "# Bring them together as a RAG pipeline\n",
    "rag_pipeline = SimpleRAGPipeline(\n",
    "    retriever=retriever, response_generator=response_generator, top_k=5\n",
    ")"
   ]
  },
  {
   "cell_type": "code",
   "execution_count": 29,
   "metadata": {},
   "outputs": [
    {
     "name": "stdout",
     "output_type": "stream",
     "text": [
      "🍩 https://wandb.ai/elshehawy/rag-course/r/call/0192cfab-8064-7013-8313-db233a5528a3\n"
     ]
    },
    {
     "data": {
      "text/html": [
       "<pre style=\"white-space:pre;overflow-x:auto;line-height:normal;font-family:Menlo,'DejaVu Sans Mono',consolas,'Courier New',monospace\">To get started with W&amp;B, you can use the following code snippet to install W&amp;B and link your account:\n",
       "```\n",
       "!pip install wandb -qqq import wandb <span style=\"color: #800080; text-decoration-color: #800080; font-weight: bold\">wandb.login</span><span style=\"font-weight: bold\">()</span>\n",
       "```\n",
       "This code can be run in a Jupyter notebook to get interactive visualizations without leaving the notebook. After \n",
       "running `<span style=\"color: #800080; text-decoration-color: #800080; font-weight: bold\">wandb.init</span><span style=\"font-weight: bold\">()</span>', start a new cell with `%%wandb` to see live graphs.\n",
       "\n",
       "You can also call `<span style=\"color: #800080; text-decoration-color: #800080; font-weight: bold\">wandb.init</span><span style=\"font-weight: bold\">()</span>' from your training script to create a run object on W&amp;B servers. A separate \n",
       "process is started to stream and collect metrics, which keeps all threads and logic out of your primary process.\n",
       "</pre>\n"
      ],
      "text/plain": [
       "To get started with W&B, you can use the following code snippet to install W&B and link your account:\n",
       "```\n",
       "!pip install wandb -qqq import wandb \u001b[1;35mwandb.login\u001b[0m\u001b[1m(\u001b[0m\u001b[1m)\u001b[0m\n",
       "```\n",
       "This code can be run in a Jupyter notebook to get interactive visualizations without leaving the notebook. After \n",
       "running `\u001b[1;35mwandb.init\u001b[0m\u001b[1m(\u001b[0m\u001b[1m)\u001b[0m', start a new cell with `%%wandb` to see live graphs.\n",
       "\n",
       "You can also call `\u001b[1;35mwandb.init\u001b[0m\u001b[1m(\u001b[0m\u001b[1m)\u001b[0m' from your training script to create a run object on W&B servers. A separate \n",
       "process is started to stream and collect metrics, which keeps all threads and logic out of your primary process.\n"
      ]
     },
     "metadata": {},
     "output_type": "display_data"
    }
   ],
   "source": [
    "response = rag_pipeline.predict(\"How do I get get started with wandb?\")\n",
    "print(response, sep=\"\\n\")"
   ]
  },
  {
   "cell_type": "markdown",
   "metadata": {},
   "source": [
    "Click on the link starting with a 🍩. This is the trace timeline for all the executions that happened in our simple RAG application. Go to the link and drill down to find everything that got tracked.\n",
    "\n",
    "![weave trace timeline](../images/01_weave_trace_timeline.png)"
   ]
  },
  {
   "cell_type": "markdown",
   "metadata": {},
   "source": [
    "## Key Takeaways\n",
    "\n",
    "In this chapter, we've built a simple RAG pipeline from scratch. Here's what we've learned:\n",
    "\n",
    "- **Data Processing**: How to ingest, chunk, and clean data using W&B Artifacts and Weave\n",
    "- **Retrieval**: Implementing a basic TF-IDF based retriever\n",
    "- **Response Generation**: Using Cohere's API and `command-r` model to generate responses based on retrieved context\n",
    "- **RAG Pipeline**: Combining retrieval and generation into a cohesive system\n",
    "- **Logging and Tracking**: Utilizing W&B Weave for efficient experiment tracking"
   ]
  }
 ],
 "metadata": {
  "colab": {
   "provenance": []
  },
  "kernelspec": {
   "display_name": "ragpp",
   "language": "python",
   "name": "python3"
  },
  "language_info": {
   "codemirror_mode": {
    "name": "ipython",
    "version": 3
   },
   "file_extension": ".py",
   "mimetype": "text/x-python",
   "name": "python",
   "nbconvert_exporter": "python",
   "pygments_lexer": "ipython3",
   "version": "3.10.15"
  }
 },
 "nbformat": 4,
 "nbformat_minor": 0
}
